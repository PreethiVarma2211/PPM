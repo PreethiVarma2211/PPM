{
 "cells": [
  {
   "cell_type": "code",
   "execution_count": 247,
   "id": "071de52e",
   "metadata": {},
   "outputs": [],
   "source": [
    "import pandas as pd\n",
    "df=pd.read_excel(\"C:/Users/preet/Downloads/ppm data.xlsx\")"
   ]
  },
  {
   "cell_type": "code",
   "execution_count": 248,
   "id": "97722d48",
   "metadata": {},
   "outputs": [
    {
     "data": {
      "text/html": [
       "<div>\n",
       "<style scoped>\n",
       "    .dataframe tbody tr th:only-of-type {\n",
       "        vertical-align: middle;\n",
       "    }\n",
       "\n",
       "    .dataframe tbody tr th {\n",
       "        vertical-align: top;\n",
       "    }\n",
       "\n",
       "    .dataframe thead th {\n",
       "        text-align: right;\n",
       "    }\n",
       "</style>\n",
       "<table border=\"1\" class=\"dataframe\">\n",
       "  <thead>\n",
       "    <tr style=\"text-align: right;\">\n",
       "      <th></th>\n",
       "      <th>Material</th>\n",
       "      <th>Supplier</th>\n",
       "      <th>MvT</th>\n",
       "      <th>Quantity</th>\n",
       "      <th>Pstng Date</th>\n",
       "      <th>Region</th>\n",
       "      <th>Team</th>\n",
       "    </tr>\n",
       "  </thead>\n",
       "  <tbody>\n",
       "    <tr>\n",
       "      <th>0</th>\n",
       "      <td>A1</td>\n",
       "      <td>S1</td>\n",
       "      <td>1</td>\n",
       "      <td>1000</td>\n",
       "      <td>January</td>\n",
       "      <td>South</td>\n",
       "      <td>alpha</td>\n",
       "    </tr>\n",
       "    <tr>\n",
       "      <th>1</th>\n",
       "      <td>A2</td>\n",
       "      <td>S2</td>\n",
       "      <td>1</td>\n",
       "      <td>1050</td>\n",
       "      <td>February</td>\n",
       "      <td>South</td>\n",
       "      <td>alpha</td>\n",
       "    </tr>\n",
       "    <tr>\n",
       "      <th>2</th>\n",
       "      <td>A3</td>\n",
       "      <td>S3</td>\n",
       "      <td>1</td>\n",
       "      <td>1100</td>\n",
       "      <td>March</td>\n",
       "      <td>North</td>\n",
       "      <td>alpha</td>\n",
       "    </tr>\n",
       "    <tr>\n",
       "      <th>3</th>\n",
       "      <td>A4</td>\n",
       "      <td>S4</td>\n",
       "      <td>1</td>\n",
       "      <td>1150</td>\n",
       "      <td>April</td>\n",
       "      <td>North</td>\n",
       "      <td>alpha</td>\n",
       "    </tr>\n",
       "    <tr>\n",
       "      <th>4</th>\n",
       "      <td>A5</td>\n",
       "      <td>S5</td>\n",
       "      <td>1</td>\n",
       "      <td>1200</td>\n",
       "      <td>May</td>\n",
       "      <td>North</td>\n",
       "      <td>beta</td>\n",
       "    </tr>\n",
       "    <tr>\n",
       "      <th>...</th>\n",
       "      <td>...</td>\n",
       "      <td>...</td>\n",
       "      <td>...</td>\n",
       "      <td>...</td>\n",
       "      <td>...</td>\n",
       "      <td>...</td>\n",
       "      <td>...</td>\n",
       "    </tr>\n",
       "    <tr>\n",
       "      <th>1315</th>\n",
       "      <td>A16</td>\n",
       "      <td>S6</td>\n",
       "      <td>5</td>\n",
       "      <td>14</td>\n",
       "      <td>April</td>\n",
       "      <td>West</td>\n",
       "      <td>beta</td>\n",
       "    </tr>\n",
       "    <tr>\n",
       "      <th>1316</th>\n",
       "      <td>A17</td>\n",
       "      <td>S7</td>\n",
       "      <td>5</td>\n",
       "      <td>15</td>\n",
       "      <td>May</td>\n",
       "      <td>West</td>\n",
       "      <td>beta</td>\n",
       "    </tr>\n",
       "    <tr>\n",
       "      <th>1317</th>\n",
       "      <td>A18</td>\n",
       "      <td>S8</td>\n",
       "      <td>5</td>\n",
       "      <td>16</td>\n",
       "      <td>June</td>\n",
       "      <td>East</td>\n",
       "      <td>gamma</td>\n",
       "    </tr>\n",
       "    <tr>\n",
       "      <th>1318</th>\n",
       "      <td>A19</td>\n",
       "      <td>S9</td>\n",
       "      <td>5</td>\n",
       "      <td>17</td>\n",
       "      <td>July</td>\n",
       "      <td>East</td>\n",
       "      <td>gamma</td>\n",
       "    </tr>\n",
       "    <tr>\n",
       "      <th>1319</th>\n",
       "      <td>A20</td>\n",
       "      <td>S10</td>\n",
       "      <td>5</td>\n",
       "      <td>18</td>\n",
       "      <td>August</td>\n",
       "      <td>South</td>\n",
       "      <td>gamma</td>\n",
       "    </tr>\n",
       "  </tbody>\n",
       "</table>\n",
       "<p>1320 rows × 7 columns</p>\n",
       "</div>"
      ],
      "text/plain": [
       "     Material Supplier  MvT  Quantity Pstng Date Region   Team\n",
       "0          A1       S1    1      1000    January  South  alpha\n",
       "1          A2       S2    1      1050   February  South  alpha\n",
       "2          A3       S3    1      1100      March  North  alpha\n",
       "3          A4       S4    1      1150      April  North  alpha\n",
       "4          A5       S5    1      1200        May  North   beta\n",
       "...       ...      ...  ...       ...        ...    ...    ...\n",
       "1315      A16       S6    5        14      April   West   beta\n",
       "1316      A17       S7    5        15        May   West   beta\n",
       "1317      A18       S8    5        16       June   East  gamma\n",
       "1318      A19       S9    5        17       July   East  gamma\n",
       "1319      A20      S10    5        18     August  South  gamma\n",
       "\n",
       "[1320 rows x 7 columns]"
      ]
     },
     "execution_count": 248,
     "metadata": {},
     "output_type": "execute_result"
    }
   ],
   "source": [
    "df"
   ]
  },
  {
   "cell_type": "code",
   "execution_count": 249,
   "id": "bce99125",
   "metadata": {
    "scrolled": true
   },
   "outputs": [
    {
     "name": "stdout",
     "output_type": "stream",
     "text": [
      "<class 'pandas.core.frame.DataFrame'>\n",
      "RangeIndex: 1320 entries, 0 to 1319\n",
      "Data columns (total 7 columns):\n",
      " #   Column      Non-Null Count  Dtype \n",
      "---  ------      --------------  ----- \n",
      " 0   Material    1320 non-null   object\n",
      " 1   Supplier    1320 non-null   object\n",
      " 2   MvT         1320 non-null   int64 \n",
      " 3   Quantity    1320 non-null   int64 \n",
      " 4   Pstng Date  1320 non-null   object\n",
      " 5   Region      1320 non-null   object\n",
      " 6   Team        1320 non-null   object\n",
      "dtypes: int64(2), object(5)\n",
      "memory usage: 72.3+ KB\n"
     ]
    }
   ],
   "source": [
    "df.info()"
   ]
  },
  {
   "cell_type": "code",
   "execution_count": 250,
   "id": "0928ca9e",
   "metadata": {},
   "outputs": [
    {
     "data": {
      "text/html": [
       "<div>\n",
       "<style scoped>\n",
       "    .dataframe tbody tr th:only-of-type {\n",
       "        vertical-align: middle;\n",
       "    }\n",
       "\n",
       "    .dataframe tbody tr th {\n",
       "        vertical-align: top;\n",
       "    }\n",
       "\n",
       "    .dataframe thead th {\n",
       "        text-align: right;\n",
       "    }\n",
       "</style>\n",
       "<table border=\"1\" class=\"dataframe\">\n",
       "  <thead>\n",
       "    <tr style=\"text-align: right;\">\n",
       "      <th>MvT</th>\n",
       "      <th>Material</th>\n",
       "      <th>1</th>\n",
       "      <th>2</th>\n",
       "      <th>3</th>\n",
       "      <th>4</th>\n",
       "      <th>5</th>\n",
       "      <th>Receipt</th>\n",
       "      <th>Rejection</th>\n",
       "      <th>Scrap</th>\n",
       "      <th>PPM</th>\n",
       "    </tr>\n",
       "  </thead>\n",
       "  <tbody>\n",
       "    <tr>\n",
       "      <th>6</th>\n",
       "      <td>A15</td>\n",
       "      <td>211800</td>\n",
       "      <td>-4798</td>\n",
       "      <td>1020</td>\n",
       "      <td>-575</td>\n",
       "      <td>65</td>\n",
       "      <td>216598</td>\n",
       "      <td>1595</td>\n",
       "      <td>65</td>\n",
       "      <td>7663.967350</td>\n",
       "    </tr>\n",
       "    <tr>\n",
       "      <th>5</th>\n",
       "      <td>A14</td>\n",
       "      <td>210140</td>\n",
       "      <td>-4198</td>\n",
       "      <td>970</td>\n",
       "      <td>-545</td>\n",
       "      <td>61</td>\n",
       "      <td>214338</td>\n",
       "      <td>1515</td>\n",
       "      <td>61</td>\n",
       "      <td>7352.872566</td>\n",
       "    </tr>\n",
       "    <tr>\n",
       "      <th>4</th>\n",
       "      <td>A13</td>\n",
       "      <td>208480</td>\n",
       "      <td>-3598</td>\n",
       "      <td>920</td>\n",
       "      <td>-515</td>\n",
       "      <td>57</td>\n",
       "      <td>212078</td>\n",
       "      <td>1435</td>\n",
       "      <td>57</td>\n",
       "      <td>7035.147446</td>\n",
       "    </tr>\n",
       "    <tr>\n",
       "      <th>3</th>\n",
       "      <td>A12</td>\n",
       "      <td>206820</td>\n",
       "      <td>-2998</td>\n",
       "      <td>870</td>\n",
       "      <td>-485</td>\n",
       "      <td>53</td>\n",
       "      <td>209818</td>\n",
       "      <td>1355</td>\n",
       "      <td>53</td>\n",
       "      <td>6710.577739</td>\n",
       "    </tr>\n",
       "    <tr>\n",
       "      <th>2</th>\n",
       "      <td>A11</td>\n",
       "      <td>204985</td>\n",
       "      <td>-2499</td>\n",
       "      <td>820</td>\n",
       "      <td>-455</td>\n",
       "      <td>81</td>\n",
       "      <td>207484</td>\n",
       "      <td>1275</td>\n",
       "      <td>81</td>\n",
       "      <td>6535.443697</td>\n",
       "    </tr>\n",
       "    <tr>\n",
       "      <th>17</th>\n",
       "      <td>A7</td>\n",
       "      <td>233440</td>\n",
       "      <td>-10298</td>\n",
       "      <td>655</td>\n",
       "      <td>-635</td>\n",
       "      <td>83</td>\n",
       "      <td>243738</td>\n",
       "      <td>1290</td>\n",
       "      <td>83</td>\n",
       "      <td>5633.097835</td>\n",
       "    </tr>\n",
       "    <tr>\n",
       "      <th>16</th>\n",
       "      <td>A6</td>\n",
       "      <td>231630</td>\n",
       "      <td>-9798</td>\n",
       "      <td>635</td>\n",
       "      <td>-600</td>\n",
       "      <td>79</td>\n",
       "      <td>241428</td>\n",
       "      <td>1235</td>\n",
       "      <td>79</td>\n",
       "      <td>5442.616432</td>\n",
       "    </tr>\n",
       "    <tr>\n",
       "      <th>15</th>\n",
       "      <td>A5</td>\n",
       "      <td>229820</td>\n",
       "      <td>-9298</td>\n",
       "      <td>615</td>\n",
       "      <td>-565</td>\n",
       "      <td>75</td>\n",
       "      <td>239118</td>\n",
       "      <td>1180</td>\n",
       "      <td>75</td>\n",
       "      <td>5248.454738</td>\n",
       "    </tr>\n",
       "    <tr>\n",
       "      <th>11</th>\n",
       "      <td>A2</td>\n",
       "      <td>224665</td>\n",
       "      <td>-7798</td>\n",
       "      <td>555</td>\n",
       "      <td>-595</td>\n",
       "      <td>63</td>\n",
       "      <td>232463</td>\n",
       "      <td>1150</td>\n",
       "      <td>63</td>\n",
       "      <td>5218.034698</td>\n",
       "    </tr>\n",
       "    <tr>\n",
       "      <th>0</th>\n",
       "      <td>A1</td>\n",
       "      <td>222965</td>\n",
       "      <td>-7298</td>\n",
       "      <td>535</td>\n",
       "      <td>-560</td>\n",
       "      <td>71</td>\n",
       "      <td>230263</td>\n",
       "      <td>1095</td>\n",
       "      <td>71</td>\n",
       "      <td>5063.774901</td>\n",
       "    </tr>\n",
       "    <tr>\n",
       "      <th>12</th>\n",
       "      <td>A20</td>\n",
       "      <td>220370</td>\n",
       "      <td>-7798</td>\n",
       "      <td>435</td>\n",
       "      <td>-635</td>\n",
       "      <td>85</td>\n",
       "      <td>228168</td>\n",
       "      <td>1070</td>\n",
       "      <td>85</td>\n",
       "      <td>5062.059535</td>\n",
       "    </tr>\n",
       "    <tr>\n",
       "      <th>14</th>\n",
       "      <td>A4</td>\n",
       "      <td>228065</td>\n",
       "      <td>-8798</td>\n",
       "      <td>595</td>\n",
       "      <td>-530</td>\n",
       "      <td>71</td>\n",
       "      <td>236863</td>\n",
       "      <td>1125</td>\n",
       "      <td>71</td>\n",
       "      <td>5049.332314</td>\n",
       "    </tr>\n",
       "    <tr>\n",
       "      <th>10</th>\n",
       "      <td>A19</td>\n",
       "      <td>218710</td>\n",
       "      <td>-7198</td>\n",
       "      <td>435</td>\n",
       "      <td>-590</td>\n",
       "      <td>81</td>\n",
       "      <td>225908</td>\n",
       "      <td>1025</td>\n",
       "      <td>81</td>\n",
       "      <td>4895.798290</td>\n",
       "    </tr>\n",
       "    <tr>\n",
       "      <th>19</th>\n",
       "      <td>A9</td>\n",
       "      <td>237060</td>\n",
       "      <td>-11298</td>\n",
       "      <td>415</td>\n",
       "      <td>-705</td>\n",
       "      <td>91</td>\n",
       "      <td>248358</td>\n",
       "      <td>1120</td>\n",
       "      <td>91</td>\n",
       "      <td>4876.025737</td>\n",
       "    </tr>\n",
       "    <tr>\n",
       "      <th>13</th>\n",
       "      <td>A3</td>\n",
       "      <td>226365</td>\n",
       "      <td>-8298</td>\n",
       "      <td>575</td>\n",
       "      <td>-495</td>\n",
       "      <td>67</td>\n",
       "      <td>234663</td>\n",
       "      <td>1070</td>\n",
       "      <td>67</td>\n",
       "      <td>4845.246162</td>\n",
       "    </tr>\n",
       "    <tr>\n",
       "      <th>9</th>\n",
       "      <td>A18</td>\n",
       "      <td>216915</td>\n",
       "      <td>-6598</td>\n",
       "      <td>435</td>\n",
       "      <td>-545</td>\n",
       "      <td>77</td>\n",
       "      <td>223513</td>\n",
       "      <td>980</td>\n",
       "      <td>77</td>\n",
       "      <td>4729.031421</td>\n",
       "    </tr>\n",
       "    <tr>\n",
       "      <th>1</th>\n",
       "      <td>A10</td>\n",
       "      <td>238870</td>\n",
       "      <td>-11798</td>\n",
       "      <td>435</td>\n",
       "      <td>-605</td>\n",
       "      <td>86</td>\n",
       "      <td>250668</td>\n",
       "      <td>1040</td>\n",
       "      <td>86</td>\n",
       "      <td>4491.997383</td>\n",
       "    </tr>\n",
       "    <tr>\n",
       "      <th>18</th>\n",
       "      <td>A8</td>\n",
       "      <td>235250</td>\n",
       "      <td>-10798</td>\n",
       "      <td>345</td>\n",
       "      <td>-670</td>\n",
       "      <td>87</td>\n",
       "      <td>246048</td>\n",
       "      <td>1015</td>\n",
       "      <td>87</td>\n",
       "      <td>4478.800884</td>\n",
       "    </tr>\n",
       "    <tr>\n",
       "      <th>7</th>\n",
       "      <td>A16</td>\n",
       "      <td>213460</td>\n",
       "      <td>-5398</td>\n",
       "      <td>310</td>\n",
       "      <td>-530</td>\n",
       "      <td>69</td>\n",
       "      <td>218858</td>\n",
       "      <td>840</td>\n",
       "      <td>69</td>\n",
       "      <td>4153.377989</td>\n",
       "    </tr>\n",
       "    <tr>\n",
       "      <th>8</th>\n",
       "      <td>A17</td>\n",
       "      <td>215120</td>\n",
       "      <td>-5998</td>\n",
       "      <td>300</td>\n",
       "      <td>-500</td>\n",
       "      <td>73</td>\n",
       "      <td>221118</td>\n",
       "      <td>800</td>\n",
       "      <td>73</td>\n",
       "      <td>3948.118199</td>\n",
       "    </tr>\n",
       "  </tbody>\n",
       "</table>\n",
       "</div>"
      ],
      "text/plain": [
       "MvT Material       1      2     3    4   5  Receipt  Rejection  Scrap  \\\n",
       "6        A15  211800  -4798  1020 -575  65   216598       1595     65   \n",
       "5        A14  210140  -4198   970 -545  61   214338       1515     61   \n",
       "4        A13  208480  -3598   920 -515  57   212078       1435     57   \n",
       "3        A12  206820  -2998   870 -485  53   209818       1355     53   \n",
       "2        A11  204985  -2499   820 -455  81   207484       1275     81   \n",
       "17        A7  233440 -10298   655 -635  83   243738       1290     83   \n",
       "16        A6  231630  -9798   635 -600  79   241428       1235     79   \n",
       "15        A5  229820  -9298   615 -565  75   239118       1180     75   \n",
       "11        A2  224665  -7798   555 -595  63   232463       1150     63   \n",
       "0         A1  222965  -7298   535 -560  71   230263       1095     71   \n",
       "12       A20  220370  -7798   435 -635  85   228168       1070     85   \n",
       "14        A4  228065  -8798   595 -530  71   236863       1125     71   \n",
       "10       A19  218710  -7198   435 -590  81   225908       1025     81   \n",
       "19        A9  237060 -11298   415 -705  91   248358       1120     91   \n",
       "13        A3  226365  -8298   575 -495  67   234663       1070     67   \n",
       "9        A18  216915  -6598   435 -545  77   223513        980     77   \n",
       "1        A10  238870 -11798   435 -605  86   250668       1040     86   \n",
       "18        A8  235250 -10798   345 -670  87   246048       1015     87   \n",
       "7        A16  213460  -5398   310 -530  69   218858        840     69   \n",
       "8        A17  215120  -5998   300 -500  73   221118        800     73   \n",
       "\n",
       "MvT          PPM  \n",
       "6    7663.967350  \n",
       "5    7352.872566  \n",
       "4    7035.147446  \n",
       "3    6710.577739  \n",
       "2    6535.443697  \n",
       "17   5633.097835  \n",
       "16   5442.616432  \n",
       "15   5248.454738  \n",
       "11   5218.034698  \n",
       "0    5063.774901  \n",
       "12   5062.059535  \n",
       "14   5049.332314  \n",
       "10   4895.798290  \n",
       "19   4876.025737  \n",
       "13   4845.246162  \n",
       "9    4729.031421  \n",
       "1    4491.997383  \n",
       "18   4478.800884  \n",
       "7    4153.377989  \n",
       "8    3948.118199  "
      ]
     },
     "execution_count": 250,
     "metadata": {},
     "output_type": "execute_result"
    }
   ],
   "source": [
    "mat_ppm = df.pivot_table(index='Material', columns='MvT', values='Quantity',aggfunc='sum',fill_value=0).reset_index()\n",
    "mat_ppm['Receipt'] = mat_ppm[1] - mat_ppm[2]\n",
    "mat_ppm['Rejection'] = mat_ppm[3] - mat_ppm[4]\n",
    "mat_ppm['Scrap'] = mat_ppm[5]\n",
    "mat_ppm['PPM'] = ((mat_ppm['Rejection'] + mat_ppm['Scrap']) / mat_ppm['Receipt'])*1000000\n",
    "mat_ppm = mat_ppm.sort_values(by='PPM', ascending=False)\n",
    "mat_ppm"
   ]
  },
  {
   "cell_type": "code",
   "execution_count": 256,
   "id": "93052af6",
   "metadata": {
    "scrolled": true
   },
   "outputs": [
    {
     "data": {
      "text/html": [
       "<div>\n",
       "<style scoped>\n",
       "    .dataframe tbody tr th:only-of-type {\n",
       "        vertical-align: middle;\n",
       "    }\n",
       "\n",
       "    .dataframe tbody tr th {\n",
       "        vertical-align: top;\n",
       "    }\n",
       "\n",
       "    .dataframe thead th {\n",
       "        text-align: right;\n",
       "    }\n",
       "</style>\n",
       "<table border=\"1\" class=\"dataframe\">\n",
       "  <thead>\n",
       "    <tr style=\"text-align: right;\">\n",
       "      <th>MvT</th>\n",
       "      <th>Supplier</th>\n",
       "      <th>1</th>\n",
       "      <th>2</th>\n",
       "      <th>3</th>\n",
       "      <th>4</th>\n",
       "      <th>5</th>\n",
       "      <th>Receipt</th>\n",
       "      <th>Rejection</th>\n",
       "      <th>Scrap</th>\n",
       "      <th>PPM</th>\n",
       "    </tr>\n",
       "  </thead>\n",
       "  <tbody>\n",
       "    <tr>\n",
       "      <th>5</th>\n",
       "      <td>S5</td>\n",
       "      <td>441620</td>\n",
       "      <td>-14096</td>\n",
       "      <td>1635</td>\n",
       "      <td>-1140</td>\n",
       "      <td>140</td>\n",
       "      <td>455716</td>\n",
       "      <td>2775</td>\n",
       "      <td>140</td>\n",
       "      <td>6396.527662</td>\n",
       "    </tr>\n",
       "    <tr>\n",
       "      <th>4</th>\n",
       "      <td>S4</td>\n",
       "      <td>438205</td>\n",
       "      <td>-12996</td>\n",
       "      <td>1565</td>\n",
       "      <td>-1075</td>\n",
       "      <td>132</td>\n",
       "      <td>451201</td>\n",
       "      <td>2640</td>\n",
       "      <td>132</td>\n",
       "      <td>6143.603405</td>\n",
       "    </tr>\n",
       "    <tr>\n",
       "      <th>2</th>\n",
       "      <td>S2</td>\n",
       "      <td>431485</td>\n",
       "      <td>-10796</td>\n",
       "      <td>1425</td>\n",
       "      <td>-1080</td>\n",
       "      <td>116</td>\n",
       "      <td>442281</td>\n",
       "      <td>2505</td>\n",
       "      <td>116</td>\n",
       "      <td>5926.096757</td>\n",
       "    </tr>\n",
       "    <tr>\n",
       "      <th>3</th>\n",
       "      <td>S3</td>\n",
       "      <td>434845</td>\n",
       "      <td>-11896</td>\n",
       "      <td>1495</td>\n",
       "      <td>-1010</td>\n",
       "      <td>124</td>\n",
       "      <td>446741</td>\n",
       "      <td>2505</td>\n",
       "      <td>124</td>\n",
       "      <td>5884.841552</td>\n",
       "    </tr>\n",
       "    <tr>\n",
       "      <th>0</th>\n",
       "      <td>S1</td>\n",
       "      <td>427950</td>\n",
       "      <td>-9797</td>\n",
       "      <td>1355</td>\n",
       "      <td>-1015</td>\n",
       "      <td>152</td>\n",
       "      <td>437747</td>\n",
       "      <td>2370</td>\n",
       "      <td>152</td>\n",
       "      <td>5761.318753</td>\n",
       "    </tr>\n",
       "    <tr>\n",
       "      <th>9</th>\n",
       "      <td>S9</td>\n",
       "      <td>455770</td>\n",
       "      <td>-18496</td>\n",
       "      <td>850</td>\n",
       "      <td>-1295</td>\n",
       "      <td>172</td>\n",
       "      <td>474266</td>\n",
       "      <td>2145</td>\n",
       "      <td>172</td>\n",
       "      <td>4885.444034</td>\n",
       "    </tr>\n",
       "    <tr>\n",
       "      <th>7</th>\n",
       "      <td>S7</td>\n",
       "      <td>448560</td>\n",
       "      <td>-16296</td>\n",
       "      <td>955</td>\n",
       "      <td>-1135</td>\n",
       "      <td>156</td>\n",
       "      <td>464856</td>\n",
       "      <td>2090</td>\n",
       "      <td>156</td>\n",
       "      <td>4831.603765</td>\n",
       "    </tr>\n",
       "    <tr>\n",
       "      <th>6</th>\n",
       "      <td>S6</td>\n",
       "      <td>445090</td>\n",
       "      <td>-15196</td>\n",
       "      <td>945</td>\n",
       "      <td>-1130</td>\n",
       "      <td>148</td>\n",
       "      <td>460286</td>\n",
       "      <td>2075</td>\n",
       "      <td>148</td>\n",
       "      <td>4829.605941</td>\n",
       "    </tr>\n",
       "    <tr>\n",
       "      <th>1</th>\n",
       "      <td>S10</td>\n",
       "      <td>459240</td>\n",
       "      <td>-19596</td>\n",
       "      <td>870</td>\n",
       "      <td>-1240</td>\n",
       "      <td>171</td>\n",
       "      <td>478836</td>\n",
       "      <td>2110</td>\n",
       "      <td>171</td>\n",
       "      <td>4763.635149</td>\n",
       "    </tr>\n",
       "    <tr>\n",
       "      <th>8</th>\n",
       "      <td>S8</td>\n",
       "      <td>452165</td>\n",
       "      <td>-17396</td>\n",
       "      <td>780</td>\n",
       "      <td>-1215</td>\n",
       "      <td>164</td>\n",
       "      <td>469561</td>\n",
       "      <td>1995</td>\n",
       "      <td>164</td>\n",
       "      <td>4597.911666</td>\n",
       "    </tr>\n",
       "  </tbody>\n",
       "</table>\n",
       "</div>"
      ],
      "text/plain": [
       "MvT Supplier       1      2     3     4    5  Receipt  Rejection  Scrap  \\\n",
       "5         S5  441620 -14096  1635 -1140  140   455716       2775    140   \n",
       "4         S4  438205 -12996  1565 -1075  132   451201       2640    132   \n",
       "2         S2  431485 -10796  1425 -1080  116   442281       2505    116   \n",
       "3         S3  434845 -11896  1495 -1010  124   446741       2505    124   \n",
       "0         S1  427950  -9797  1355 -1015  152   437747       2370    152   \n",
       "9         S9  455770 -18496   850 -1295  172   474266       2145    172   \n",
       "7         S7  448560 -16296   955 -1135  156   464856       2090    156   \n",
       "6         S6  445090 -15196   945 -1130  148   460286       2075    148   \n",
       "1        S10  459240 -19596   870 -1240  171   478836       2110    171   \n",
       "8         S8  452165 -17396   780 -1215  164   469561       1995    164   \n",
       "\n",
       "MvT          PPM  \n",
       "5    6396.527662  \n",
       "4    6143.603405  \n",
       "2    5926.096757  \n",
       "3    5884.841552  \n",
       "0    5761.318753  \n",
       "9    4885.444034  \n",
       "7    4831.603765  \n",
       "6    4829.605941  \n",
       "1    4763.635149  \n",
       "8    4597.911666  "
      ]
     },
     "execution_count": 256,
     "metadata": {},
     "output_type": "execute_result"
    }
   ],
   "source": [
    "supp_ppm = df.pivot_table(index='Supplier', columns='MvT', values='Quantity', aggfunc='sum', fill_value=0).reset_index()\n",
    "supp_ppm['Receipt'] = supp_ppm[1] - supp_ppm[2]\n",
    "supp_ppm['Rejection'] = supp_ppm[3] - supp_ppm[4]\n",
    "supp_ppm['Scrap'] = supp_ppm[5]\n",
    "supp_ppm['PPM'] = ((supp_ppm['Rejection'] + supp_ppm['Scrap']) / supp_ppm['Receipt'])*1000000\n",
    "supp_ppm = supp_ppm.sort_values(by='PPM', ascending=False)\n",
    "supp_ppm"
   ]
  },
  {
   "cell_type": "code",
   "execution_count": 252,
   "id": "3026c9d6",
   "metadata": {},
   "outputs": [
    {
     "data": {
      "text/html": [
       "<div>\n",
       "<style scoped>\n",
       "    .dataframe tbody tr th:only-of-type {\n",
       "        vertical-align: middle;\n",
       "    }\n",
       "\n",
       "    .dataframe tbody tr th {\n",
       "        vertical-align: top;\n",
       "    }\n",
       "\n",
       "    .dataframe thead th {\n",
       "        text-align: right;\n",
       "    }\n",
       "</style>\n",
       "<table border=\"1\" class=\"dataframe\">\n",
       "  <thead>\n",
       "    <tr style=\"text-align: right;\">\n",
       "      <th>MvT</th>\n",
       "      <th>Team</th>\n",
       "      <th>1</th>\n",
       "      <th>2</th>\n",
       "      <th>3</th>\n",
       "      <th>4</th>\n",
       "      <th>5</th>\n",
       "      <th>Receipt</th>\n",
       "      <th>Rejection</th>\n",
       "      <th>Scrap</th>\n",
       "      <th>PPM</th>\n",
       "    </tr>\n",
       "  </thead>\n",
       "  <tbody>\n",
       "    <tr>\n",
       "      <th>0</th>\n",
       "      <td>alpha</td>\n",
       "      <td>1732485</td>\n",
       "      <td>-45485</td>\n",
       "      <td>5840</td>\n",
       "      <td>-4180</td>\n",
       "      <td>524</td>\n",
       "      <td>1777970</td>\n",
       "      <td>10020</td>\n",
       "      <td>524</td>\n",
       "      <td>24086.972612</td>\n",
       "    </tr>\n",
       "    <tr>\n",
       "      <th>1</th>\n",
       "      <td>beta</td>\n",
       "      <td>1335270</td>\n",
       "      <td>-45588</td>\n",
       "      <td>3535</td>\n",
       "      <td>-3405</td>\n",
       "      <td>444</td>\n",
       "      <td>1380858</td>\n",
       "      <td>6940</td>\n",
       "      <td>444</td>\n",
       "      <td>15420.728600</td>\n",
       "    </tr>\n",
       "    <tr>\n",
       "      <th>2</th>\n",
       "      <td>gamma</td>\n",
       "      <td>1367175</td>\n",
       "      <td>-55488</td>\n",
       "      <td>2500</td>\n",
       "      <td>-3750</td>\n",
       "      <td>507</td>\n",
       "      <td>1422663</td>\n",
       "      <td>6250</td>\n",
       "      <td>507</td>\n",
       "      <td>15277.617623</td>\n",
       "    </tr>\n",
       "  </tbody>\n",
       "</table>\n",
       "</div>"
      ],
      "text/plain": [
       "MvT   Team        1      2     3     4    5  Receipt  Rejection  Scrap  \\\n",
       "0    alpha  1732485 -45485  5840 -4180  524  1777970      10020    524   \n",
       "1     beta  1335270 -45588  3535 -3405  444  1380858       6940    444   \n",
       "2    gamma  1367175 -55488  2500 -3750  507  1422663       6250    507   \n",
       "\n",
       "MvT           PPM  \n",
       "0    24086.972612  \n",
       "1    15420.728600  \n",
       "2    15277.617623  "
      ]
     },
     "execution_count": 252,
     "metadata": {},
     "output_type": "execute_result"
    }
   ],
   "source": [
    "team_ppm = df.pivot_table(index='Team', columns='MvT', values='Quantity', aggfunc='sum', fill_value=0).reset_index()\n",
    "team_ppm['Receipt'] = team_ppm[1] - team_ppm[2]\n",
    "team_ppm['Rejection'] = team_ppm[3] - team_ppm[4]\n",
    "team_ppm['Scrap'] = team_ppm[5]\n",
    "team_ppm['PPM'] = ((team_ppm['Rejection'] + team_ppm['Scrap']) / supp_ppm['Receipt'])*1000000\n",
    "team_ppm = team_ppm.sort_values(by='PPM', ascending=False)\n",
    "team_ppm"
   ]
  },
  {
   "cell_type": "code",
   "execution_count": 253,
   "id": "71de7a60",
   "metadata": {},
   "outputs": [
    {
     "data": {
      "text/html": [
       "<div>\n",
       "<style scoped>\n",
       "    .dataframe tbody tr th:only-of-type {\n",
       "        vertical-align: middle;\n",
       "    }\n",
       "\n",
       "    .dataframe tbody tr th {\n",
       "        vertical-align: top;\n",
       "    }\n",
       "\n",
       "    .dataframe thead th {\n",
       "        text-align: right;\n",
       "    }\n",
       "</style>\n",
       "<table border=\"1\" class=\"dataframe\">\n",
       "  <thead>\n",
       "    <tr style=\"text-align: right;\">\n",
       "      <th>MvT</th>\n",
       "      <th>Pstng Date</th>\n",
       "      <th>1</th>\n",
       "      <th>2</th>\n",
       "      <th>3</th>\n",
       "      <th>4</th>\n",
       "      <th>5</th>\n",
       "      <th>Receipt</th>\n",
       "      <th>Rejection</th>\n",
       "      <th>Scrap</th>\n",
       "      <th>PPM</th>\n",
       "    </tr>\n",
       "  </thead>\n",
       "  <tbody>\n",
       "    <tr>\n",
       "      <th>7</th>\n",
       "      <td>March</td>\n",
       "      <td>353515</td>\n",
       "      <td>-12296</td>\n",
       "      <td>1205</td>\n",
       "      <td>-1060</td>\n",
       "      <td>113</td>\n",
       "      <td>365811</td>\n",
       "      <td>2265</td>\n",
       "      <td>113</td>\n",
       "      <td>6500.624639</td>\n",
       "    </tr>\n",
       "    <tr>\n",
       "      <th>9</th>\n",
       "      <td>November</td>\n",
       "      <td>376775</td>\n",
       "      <td>-9197</td>\n",
       "      <td>1325</td>\n",
       "      <td>-815</td>\n",
       "      <td>136</td>\n",
       "      <td>385972</td>\n",
       "      <td>2140</td>\n",
       "      <td>136</td>\n",
       "      <td>5896.800804</td>\n",
       "    </tr>\n",
       "    <tr>\n",
       "      <th>6</th>\n",
       "      <td>June</td>\n",
       "      <td>362005</td>\n",
       "      <td>-14396</td>\n",
       "      <td>950</td>\n",
       "      <td>-1120</td>\n",
       "      <td>121</td>\n",
       "      <td>376401</td>\n",
       "      <td>2070</td>\n",
       "      <td>121</td>\n",
       "      <td>5820.919711</td>\n",
       "    </tr>\n",
       "    <tr>\n",
       "      <th>3</th>\n",
       "      <td>February</td>\n",
       "      <td>386405</td>\n",
       "      <td>-11196</td>\n",
       "      <td>1160</td>\n",
       "      <td>-1005</td>\n",
       "      <td>125</td>\n",
       "      <td>397601</td>\n",
       "      <td>2165</td>\n",
       "      <td>125</td>\n",
       "      <td>5759.542858</td>\n",
       "    </tr>\n",
       "    <tr>\n",
       "      <th>8</th>\n",
       "      <td>May</td>\n",
       "      <td>359175</td>\n",
       "      <td>-13396</td>\n",
       "      <td>915</td>\n",
       "      <td>-1045</td>\n",
       "      <td>135</td>\n",
       "      <td>372571</td>\n",
       "      <td>1960</td>\n",
       "      <td>135</td>\n",
       "      <td>5623.089290</td>\n",
       "    </tr>\n",
       "    <tr>\n",
       "      <th>4</th>\n",
       "      <td>January</td>\n",
       "      <td>383425</td>\n",
       "      <td>-10496</td>\n",
       "      <td>1115</td>\n",
       "      <td>-950</td>\n",
       "      <td>118</td>\n",
       "      <td>393921</td>\n",
       "      <td>2065</td>\n",
       "      <td>118</td>\n",
       "      <td>5541.720294</td>\n",
       "    </tr>\n",
       "    <tr>\n",
       "      <th>0</th>\n",
       "      <td>April</td>\n",
       "      <td>356345</td>\n",
       "      <td>-13396</td>\n",
       "      <td>800</td>\n",
       "      <td>-1040</td>\n",
       "      <td>119</td>\n",
       "      <td>369741</td>\n",
       "      <td>1840</td>\n",
       "      <td>119</td>\n",
       "      <td>5298.303407</td>\n",
       "    </tr>\n",
       "    <tr>\n",
       "      <th>2</th>\n",
       "      <td>December</td>\n",
       "      <td>379605</td>\n",
       "      <td>-9796</td>\n",
       "      <td>1080</td>\n",
       "      <td>-865</td>\n",
       "      <td>111</td>\n",
       "      <td>389401</td>\n",
       "      <td>1945</td>\n",
       "      <td>111</td>\n",
       "      <td>5279.904263</td>\n",
       "    </tr>\n",
       "    <tr>\n",
       "      <th>5</th>\n",
       "      <td>July</td>\n",
       "      <td>365010</td>\n",
       "      <td>-11598</td>\n",
       "      <td>975</td>\n",
       "      <td>-875</td>\n",
       "      <td>128</td>\n",
       "      <td>376608</td>\n",
       "      <td>1850</td>\n",
       "      <td>128</td>\n",
       "      <td>5252.145467</td>\n",
       "    </tr>\n",
       "    <tr>\n",
       "      <th>10</th>\n",
       "      <td>October</td>\n",
       "      <td>373810</td>\n",
       "      <td>-14598</td>\n",
       "      <td>920</td>\n",
       "      <td>-765</td>\n",
       "      <td>120</td>\n",
       "      <td>388408</td>\n",
       "      <td>1685</td>\n",
       "      <td>120</td>\n",
       "      <td>4647.175135</td>\n",
       "    </tr>\n",
       "    <tr>\n",
       "      <th>1</th>\n",
       "      <td>August</td>\n",
       "      <td>368015</td>\n",
       "      <td>-12598</td>\n",
       "      <td>675</td>\n",
       "      <td>-945</td>\n",
       "      <td>135</td>\n",
       "      <td>380613</td>\n",
       "      <td>1620</td>\n",
       "      <td>135</td>\n",
       "      <td>4610.982809</td>\n",
       "    </tr>\n",
       "    <tr>\n",
       "      <th>11</th>\n",
       "      <td>September</td>\n",
       "      <td>370845</td>\n",
       "      <td>-13598</td>\n",
       "      <td>755</td>\n",
       "      <td>-850</td>\n",
       "      <td>114</td>\n",
       "      <td>384443</td>\n",
       "      <td>1605</td>\n",
       "      <td>114</td>\n",
       "      <td>4471.404083</td>\n",
       "    </tr>\n",
       "  </tbody>\n",
       "</table>\n",
       "</div>"
      ],
      "text/plain": [
       "MvT Pstng Date       1      2     3     4    5  Receipt  Rejection  Scrap  \\\n",
       "7        March  353515 -12296  1205 -1060  113   365811       2265    113   \n",
       "9     November  376775  -9197  1325  -815  136   385972       2140    136   \n",
       "6         June  362005 -14396   950 -1120  121   376401       2070    121   \n",
       "3     February  386405 -11196  1160 -1005  125   397601       2165    125   \n",
       "8          May  359175 -13396   915 -1045  135   372571       1960    135   \n",
       "4      January  383425 -10496  1115  -950  118   393921       2065    118   \n",
       "0        April  356345 -13396   800 -1040  119   369741       1840    119   \n",
       "2     December  379605  -9796  1080  -865  111   389401       1945    111   \n",
       "5         July  365010 -11598   975  -875  128   376608       1850    128   \n",
       "10     October  373810 -14598   920  -765  120   388408       1685    120   \n",
       "1       August  368015 -12598   675  -945  135   380613       1620    135   \n",
       "11   September  370845 -13598   755  -850  114   384443       1605    114   \n",
       "\n",
       "MvT          PPM  \n",
       "7    6500.624639  \n",
       "9    5896.800804  \n",
       "6    5820.919711  \n",
       "3    5759.542858  \n",
       "8    5623.089290  \n",
       "4    5541.720294  \n",
       "0    5298.303407  \n",
       "2    5279.904263  \n",
       "5    5252.145467  \n",
       "10   4647.175135  \n",
       "1    4610.982809  \n",
       "11   4471.404083  "
      ]
     },
     "execution_count": 253,
     "metadata": {},
     "output_type": "execute_result"
    }
   ],
   "source": [
    "mat_ppm = df.pivot_table(index='Pstng Date', columns='MvT', values='Quantity',aggfunc='sum',fill_value=0).reset_index()\n",
    "mat_ppm['Receipt'] = mat_ppm[1] - mat_ppm[2]\n",
    "mat_ppm['Rejection'] = mat_ppm[3] - mat_ppm[4]\n",
    "mat_ppm['Scrap'] = mat_ppm[5]\n",
    "mat_ppm['PPM'] = ((mat_ppm['Rejection'] + mat_ppm['Scrap']) / mat_ppm['Receipt'])*1000000\n",
    "mat_ppm = mat_ppm.sort_values(by='PPM', ascending=False)\n",
    "mat_ppm"
   ]
  },
  {
   "cell_type": "code",
   "execution_count": 255,
   "id": "5c1e7aeb",
   "metadata": {
    "scrolled": true
   },
   "outputs": [
    {
     "data": {
      "text/html": [
       "<div>\n",
       "<style scoped>\n",
       "    .dataframe tbody tr th:only-of-type {\n",
       "        vertical-align: middle;\n",
       "    }\n",
       "\n",
       "    .dataframe tbody tr th {\n",
       "        vertical-align: top;\n",
       "    }\n",
       "\n",
       "    .dataframe thead th {\n",
       "        text-align: right;\n",
       "    }\n",
       "</style>\n",
       "<table border=\"1\" class=\"dataframe\">\n",
       "  <thead>\n",
       "    <tr style=\"text-align: right;\">\n",
       "      <th>MvT</th>\n",
       "      <th>Supplier</th>\n",
       "      <th>Pstng Date</th>\n",
       "      <th>1</th>\n",
       "      <th>2</th>\n",
       "      <th>3</th>\n",
       "      <th>4</th>\n",
       "      <th>5</th>\n",
       "      <th>Receipt</th>\n",
       "      <th>Rejection</th>\n",
       "      <th>Scrap</th>\n",
       "      <th>PPM</th>\n",
       "    </tr>\n",
       "  </thead>\n",
       "  <tbody>\n",
       "    <tr>\n",
       "      <th>32</th>\n",
       "      <td>S5</td>\n",
       "      <td>March</td>\n",
       "      <td>70420</td>\n",
       "      <td>-2298</td>\n",
       "      <td>580</td>\n",
       "      <td>-320</td>\n",
       "      <td>26</td>\n",
       "      <td>72718</td>\n",
       "      <td>900</td>\n",
       "      <td>26</td>\n",
       "      <td>12734.123601</td>\n",
       "    </tr>\n",
       "    <tr>\n",
       "      <th>27</th>\n",
       "      <td>S4</td>\n",
       "      <td>February</td>\n",
       "      <td>69890</td>\n",
       "      <td>-2198</td>\n",
       "      <td>540</td>\n",
       "      <td>-305</td>\n",
       "      <td>24</td>\n",
       "      <td>72088</td>\n",
       "      <td>845</td>\n",
       "      <td>24</td>\n",
       "      <td>12054.710909</td>\n",
       "    </tr>\n",
       "    <tr>\n",
       "      <th>18</th>\n",
       "      <td>S3</td>\n",
       "      <td>January</td>\n",
       "      <td>69360</td>\n",
       "      <td>-2098</td>\n",
       "      <td>500</td>\n",
       "      <td>-290</td>\n",
       "      <td>22</td>\n",
       "      <td>71458</td>\n",
       "      <td>790</td>\n",
       "      <td>22</td>\n",
       "      <td>11363.318313</td>\n",
       "    </tr>\n",
       "    <tr>\n",
       "      <th>14</th>\n",
       "      <td>S2</td>\n",
       "      <td>December</td>\n",
       "      <td>68830</td>\n",
       "      <td>-1998</td>\n",
       "      <td>460</td>\n",
       "      <td>-275</td>\n",
       "      <td>20</td>\n",
       "      <td>70828</td>\n",
       "      <td>735</td>\n",
       "      <td>20</td>\n",
       "      <td>10659.626137</td>\n",
       "    </tr>\n",
       "    <tr>\n",
       "      <th>4</th>\n",
       "      <td>S1</td>\n",
       "      <td>November</td>\n",
       "      <td>68300</td>\n",
       "      <td>-1999</td>\n",
       "      <td>420</td>\n",
       "      <td>-260</td>\n",
       "      <td>50</td>\n",
       "      <td>70299</td>\n",
       "      <td>680</td>\n",
       "      <td>50</td>\n",
       "      <td>10384.215992</td>\n",
       "    </tr>\n",
       "    <tr>\n",
       "      <th>43</th>\n",
       "      <td>S7</td>\n",
       "      <td>July</td>\n",
       "      <td>66180</td>\n",
       "      <td>-6800</td>\n",
       "      <td>305</td>\n",
       "      <td>-335</td>\n",
       "      <td>36</td>\n",
       "      <td>72980</td>\n",
       "      <td>640</td>\n",
       "      <td>36</td>\n",
       "      <td>9262.811729</td>\n",
       "    </tr>\n",
       "    <tr>\n",
       "      <th>40</th>\n",
       "      <td>S6</td>\n",
       "      <td>June</td>\n",
       "      <td>65650</td>\n",
       "      <td>-6400</td>\n",
       "      <td>300</td>\n",
       "      <td>-320</td>\n",
       "      <td>35</td>\n",
       "      <td>72050</td>\n",
       "      <td>620</td>\n",
       "      <td>35</td>\n",
       "      <td>9090.909091</td>\n",
       "    </tr>\n",
       "    <tr>\n",
       "      <th>33</th>\n",
       "      <td>S5</td>\n",
       "      <td>May</td>\n",
       "      <td>65120</td>\n",
       "      <td>-6000</td>\n",
       "      <td>295</td>\n",
       "      <td>-305</td>\n",
       "      <td>34</td>\n",
       "      <td>71120</td>\n",
       "      <td>600</td>\n",
       "      <td>34</td>\n",
       "      <td>8914.510686</td>\n",
       "    </tr>\n",
       "    <tr>\n",
       "      <th>24</th>\n",
       "      <td>S4</td>\n",
       "      <td>April</td>\n",
       "      <td>64590</td>\n",
       "      <td>-5600</td>\n",
       "      <td>290</td>\n",
       "      <td>-290</td>\n",
       "      <td>33</td>\n",
       "      <td>70190</td>\n",
       "      <td>580</td>\n",
       "      <td>33</td>\n",
       "      <td>8733.437812</td>\n",
       "    </tr>\n",
       "    <tr>\n",
       "      <th>20</th>\n",
       "      <td>S3</td>\n",
       "      <td>March</td>\n",
       "      <td>64060</td>\n",
       "      <td>-5200</td>\n",
       "      <td>285</td>\n",
       "      <td>-275</td>\n",
       "      <td>32</td>\n",
       "      <td>69260</td>\n",
       "      <td>560</td>\n",
       "      <td>32</td>\n",
       "      <td>8547.502166</td>\n",
       "    </tr>\n",
       "    <tr>\n",
       "      <th>15</th>\n",
       "      <td>S2</td>\n",
       "      <td>February</td>\n",
       "      <td>63530</td>\n",
       "      <td>-4800</td>\n",
       "      <td>280</td>\n",
       "      <td>-260</td>\n",
       "      <td>31</td>\n",
       "      <td>68330</td>\n",
       "      <td>540</td>\n",
       "      <td>31</td>\n",
       "      <td>8356.505195</td>\n",
       "    </tr>\n",
       "    <tr>\n",
       "      <th>0</th>\n",
       "      <td>S1</td>\n",
       "      <td>January</td>\n",
       "      <td>63000</td>\n",
       "      <td>-4400</td>\n",
       "      <td>275</td>\n",
       "      <td>-245</td>\n",
       "      <td>30</td>\n",
       "      <td>67400</td>\n",
       "      <td>520</td>\n",
       "      <td>30</td>\n",
       "      <td>8160.237389</td>\n",
       "    </tr>\n",
       "    <tr>\n",
       "      <th>8</th>\n",
       "      <td>S10</td>\n",
       "      <td>December</td>\n",
       "      <td>61575</td>\n",
       "      <td>-4000</td>\n",
       "      <td>270</td>\n",
       "      <td>-200</td>\n",
       "      <td>29</td>\n",
       "      <td>65575</td>\n",
       "      <td>470</td>\n",
       "      <td>29</td>\n",
       "      <td>7609.607320</td>\n",
       "    </tr>\n",
       "    <tr>\n",
       "      <th>58</th>\n",
       "      <td>S9</td>\n",
       "      <td>November</td>\n",
       "      <td>61085</td>\n",
       "      <td>-3600</td>\n",
       "      <td>265</td>\n",
       "      <td>-190</td>\n",
       "      <td>28</td>\n",
       "      <td>64685</td>\n",
       "      <td>455</td>\n",
       "      <td>28</td>\n",
       "      <td>7466.955245</td>\n",
       "    </tr>\n",
       "    <tr>\n",
       "      <th>53</th>\n",
       "      <td>S8</td>\n",
       "      <td>October</td>\n",
       "      <td>60460</td>\n",
       "      <td>-3200</td>\n",
       "      <td>260</td>\n",
       "      <td>-180</td>\n",
       "      <td>27</td>\n",
       "      <td>63660</td>\n",
       "      <td>440</td>\n",
       "      <td>27</td>\n",
       "      <td>7335.846686</td>\n",
       "    </tr>\n",
       "    <tr>\n",
       "      <th>7</th>\n",
       "      <td>S10</td>\n",
       "      <td>August</td>\n",
       "      <td>73070</td>\n",
       "      <td>-2798</td>\n",
       "      <td>210</td>\n",
       "      <td>-305</td>\n",
       "      <td>36</td>\n",
       "      <td>75868</td>\n",
       "      <td>515</td>\n",
       "      <td>36</td>\n",
       "      <td>7262.614014</td>\n",
       "    </tr>\n",
       "    <tr>\n",
       "      <th>10</th>\n",
       "      <td>S10</td>\n",
       "      <td>June</td>\n",
       "      <td>78975</td>\n",
       "      <td>-3798</td>\n",
       "      <td>310</td>\n",
       "      <td>-260</td>\n",
       "      <td>10</td>\n",
       "      <td>82773</td>\n",
       "      <td>570</td>\n",
       "      <td>10</td>\n",
       "      <td>7007.115847</td>\n",
       "    </tr>\n",
       "    <tr>\n",
       "      <th>57</th>\n",
       "      <td>S9</td>\n",
       "      <td>May</td>\n",
       "      <td>78335</td>\n",
       "      <td>-3698</td>\n",
       "      <td>300</td>\n",
       "      <td>-250</td>\n",
       "      <td>18</td>\n",
       "      <td>82033</td>\n",
       "      <td>550</td>\n",
       "      <td>18</td>\n",
       "      <td>6924.042763</td>\n",
       "    </tr>\n",
       "    <tr>\n",
       "      <th>55</th>\n",
       "      <td>S9</td>\n",
       "      <td>July</td>\n",
       "      <td>72540</td>\n",
       "      <td>-2698</td>\n",
       "      <td>200</td>\n",
       "      <td>-275</td>\n",
       "      <td>34</td>\n",
       "      <td>75238</td>\n",
       "      <td>475</td>\n",
       "      <td>34</td>\n",
       "      <td>6765.198437</td>\n",
       "    </tr>\n",
       "    <tr>\n",
       "      <th>48</th>\n",
       "      <td>S8</td>\n",
       "      <td>April</td>\n",
       "      <td>77695</td>\n",
       "      <td>-3598</td>\n",
       "      <td>290</td>\n",
       "      <td>-240</td>\n",
       "      <td>17</td>\n",
       "      <td>81293</td>\n",
       "      <td>530</td>\n",
       "      <td>17</td>\n",
       "      <td>6728.746633</td>\n",
       "    </tr>\n",
       "    <tr>\n",
       "      <th>44</th>\n",
       "      <td>S7</td>\n",
       "      <td>March</td>\n",
       "      <td>77055</td>\n",
       "      <td>-3498</td>\n",
       "      <td>280</td>\n",
       "      <td>-230</td>\n",
       "      <td>16</td>\n",
       "      <td>80553</td>\n",
       "      <td>510</td>\n",
       "      <td>16</td>\n",
       "      <td>6529.862327</td>\n",
       "    </tr>\n",
       "    <tr>\n",
       "      <th>39</th>\n",
       "      <td>S6</td>\n",
       "      <td>February</td>\n",
       "      <td>76415</td>\n",
       "      <td>-3398</td>\n",
       "      <td>270</td>\n",
       "      <td>-220</td>\n",
       "      <td>15</td>\n",
       "      <td>79813</td>\n",
       "      <td>490</td>\n",
       "      <td>15</td>\n",
       "      <td>6327.290040</td>\n",
       "    </tr>\n",
       "    <tr>\n",
       "      <th>52</th>\n",
       "      <td>S8</td>\n",
       "      <td>June</td>\n",
       "      <td>72010</td>\n",
       "      <td>-2598</td>\n",
       "      <td>190</td>\n",
       "      <td>-245</td>\n",
       "      <td>32</td>\n",
       "      <td>74608</td>\n",
       "      <td>435</td>\n",
       "      <td>32</td>\n",
       "      <td>6259.382372</td>\n",
       "    </tr>\n",
       "    <tr>\n",
       "      <th>36</th>\n",
       "      <td>S6</td>\n",
       "      <td>April</td>\n",
       "      <td>70950</td>\n",
       "      <td>-2398</td>\n",
       "      <td>170</td>\n",
       "      <td>-260</td>\n",
       "      <td>28</td>\n",
       "      <td>73348</td>\n",
       "      <td>430</td>\n",
       "      <td>28</td>\n",
       "      <td>6244.205704</td>\n",
       "    </tr>\n",
       "    <tr>\n",
       "      <th>30</th>\n",
       "      <td>S5</td>\n",
       "      <td>January</td>\n",
       "      <td>75775</td>\n",
       "      <td>-3298</td>\n",
       "      <td>260</td>\n",
       "      <td>-210</td>\n",
       "      <td>14</td>\n",
       "      <td>79073</td>\n",
       "      <td>470</td>\n",
       "      <td>14</td>\n",
       "      <td>6120.926233</td>\n",
       "    </tr>\n",
       "    <tr>\n",
       "      <th>26</th>\n",
       "      <td>S4</td>\n",
       "      <td>December</td>\n",
       "      <td>75190</td>\n",
       "      <td>-3198</td>\n",
       "      <td>250</td>\n",
       "      <td>-200</td>\n",
       "      <td>13</td>\n",
       "      <td>78388</td>\n",
       "      <td>450</td>\n",
       "      <td>13</td>\n",
       "      <td>5906.516304</td>\n",
       "    </tr>\n",
       "    <tr>\n",
       "      <th>59</th>\n",
       "      <td>S9</td>\n",
       "      <td>September</td>\n",
       "      <td>67240</td>\n",
       "      <td>-7600</td>\n",
       "      <td>35</td>\n",
       "      <td>-365</td>\n",
       "      <td>38</td>\n",
       "      <td>74840</td>\n",
       "      <td>400</td>\n",
       "      <td>38</td>\n",
       "      <td>5852.485302</td>\n",
       "    </tr>\n",
       "    <tr>\n",
       "      <th>45</th>\n",
       "      <td>S7</td>\n",
       "      <td>May</td>\n",
       "      <td>71480</td>\n",
       "      <td>-2498</td>\n",
       "      <td>180</td>\n",
       "      <td>-215</td>\n",
       "      <td>30</td>\n",
       "      <td>73978</td>\n",
       "      <td>395</td>\n",
       "      <td>30</td>\n",
       "      <td>5744.951202</td>\n",
       "    </tr>\n",
       "    <tr>\n",
       "      <th>22</th>\n",
       "      <td>S3</td>\n",
       "      <td>November</td>\n",
       "      <td>74660</td>\n",
       "      <td>-3098</td>\n",
       "      <td>240</td>\n",
       "      <td>-190</td>\n",
       "      <td>12</td>\n",
       "      <td>77758</td>\n",
       "      <td>430</td>\n",
       "      <td>12</td>\n",
       "      <td>5684.302580</td>\n",
       "    </tr>\n",
       "    <tr>\n",
       "      <th>17</th>\n",
       "      <td>S2</td>\n",
       "      <td>October</td>\n",
       "      <td>74130</td>\n",
       "      <td>-2998</td>\n",
       "      <td>230</td>\n",
       "      <td>-180</td>\n",
       "      <td>11</td>\n",
       "      <td>77128</td>\n",
       "      <td>410</td>\n",
       "      <td>11</td>\n",
       "      <td>5458.458666</td>\n",
       "    </tr>\n",
       "    <tr>\n",
       "      <th>34</th>\n",
       "      <td>S5</td>\n",
       "      <td>November</td>\n",
       "      <td>82525</td>\n",
       "      <td>-500</td>\n",
       "      <td>330</td>\n",
       "      <td>-105</td>\n",
       "      <td>15</td>\n",
       "      <td>83025</td>\n",
       "      <td>435</td>\n",
       "      <td>15</td>\n",
       "      <td>5420.054201</td>\n",
       "    </tr>\n",
       "    <tr>\n",
       "      <th>29</th>\n",
       "      <td>S4</td>\n",
       "      <td>October</td>\n",
       "      <td>81885</td>\n",
       "      <td>-400</td>\n",
       "      <td>325</td>\n",
       "      <td>-100</td>\n",
       "      <td>14</td>\n",
       "      <td>82285</td>\n",
       "      <td>425</td>\n",
       "      <td>14</td>\n",
       "      <td>5335.115756</td>\n",
       "    </tr>\n",
       "    <tr>\n",
       "      <th>23</th>\n",
       "      <td>S3</td>\n",
       "      <td>September</td>\n",
       "      <td>81245</td>\n",
       "      <td>-300</td>\n",
       "      <td>320</td>\n",
       "      <td>-95</td>\n",
       "      <td>13</td>\n",
       "      <td>81545</td>\n",
       "      <td>415</td>\n",
       "      <td>13</td>\n",
       "      <td>5248.635723</td>\n",
       "    </tr>\n",
       "    <tr>\n",
       "      <th>5</th>\n",
       "      <td>S1</td>\n",
       "      <td>September</td>\n",
       "      <td>73600</td>\n",
       "      <td>-2898</td>\n",
       "      <td>220</td>\n",
       "      <td>-170</td>\n",
       "      <td>10</td>\n",
       "      <td>76498</td>\n",
       "      <td>390</td>\n",
       "      <td>10</td>\n",
       "      <td>5228.894873</td>\n",
       "    </tr>\n",
       "    <tr>\n",
       "      <th>13</th>\n",
       "      <td>S2</td>\n",
       "      <td>August</td>\n",
       "      <td>80605</td>\n",
       "      <td>-200</td>\n",
       "      <td>315</td>\n",
       "      <td>-90</td>\n",
       "      <td>12</td>\n",
       "      <td>80805</td>\n",
       "      <td>405</td>\n",
       "      <td>12</td>\n",
       "      <td>5160.571747</td>\n",
       "    </tr>\n",
       "    <tr>\n",
       "      <th>1</th>\n",
       "      <td>S1</td>\n",
       "      <td>July</td>\n",
       "      <td>79790</td>\n",
       "      <td>-100</td>\n",
       "      <td>310</td>\n",
       "      <td>-85</td>\n",
       "      <td>11</td>\n",
       "      <td>79890</td>\n",
       "      <td>395</td>\n",
       "      <td>11</td>\n",
       "      <td>5081.987733</td>\n",
       "    </tr>\n",
       "    <tr>\n",
       "      <th>47</th>\n",
       "      <td>S7</td>\n",
       "      <td>September</td>\n",
       "      <td>59835</td>\n",
       "      <td>-2800</td>\n",
       "      <td>120</td>\n",
       "      <td>-170</td>\n",
       "      <td>26</td>\n",
       "      <td>62635</td>\n",
       "      <td>290</td>\n",
       "      <td>26</td>\n",
       "      <td>5045.102578</td>\n",
       "    </tr>\n",
       "    <tr>\n",
       "      <th>49</th>\n",
       "      <td>S8</td>\n",
       "      <td>August</td>\n",
       "      <td>66710</td>\n",
       "      <td>-7200</td>\n",
       "      <td>-20</td>\n",
       "      <td>-350</td>\n",
       "      <td>37</td>\n",
       "      <td>73910</td>\n",
       "      <td>330</td>\n",
       "      <td>37</td>\n",
       "      <td>4965.498579</td>\n",
       "    </tr>\n",
       "    <tr>\n",
       "      <th>37</th>\n",
       "      <td>S6</td>\n",
       "      <td>August</td>\n",
       "      <td>59345</td>\n",
       "      <td>-2400</td>\n",
       "      <td>115</td>\n",
       "      <td>-160</td>\n",
       "      <td>25</td>\n",
       "      <td>61745</td>\n",
       "      <td>275</td>\n",
       "      <td>25</td>\n",
       "      <td>4858.693012</td>\n",
       "    </tr>\n",
       "    <tr>\n",
       "      <th>31</th>\n",
       "      <td>S5</td>\n",
       "      <td>July</td>\n",
       "      <td>58855</td>\n",
       "      <td>-2000</td>\n",
       "      <td>110</td>\n",
       "      <td>-150</td>\n",
       "      <td>24</td>\n",
       "      <td>60855</td>\n",
       "      <td>260</td>\n",
       "      <td>24</td>\n",
       "      <td>4666.830992</td>\n",
       "    </tr>\n",
       "    <tr>\n",
       "      <th>28</th>\n",
       "      <td>S4</td>\n",
       "      <td>June</td>\n",
       "      <td>58365</td>\n",
       "      <td>-1600</td>\n",
       "      <td>105</td>\n",
       "      <td>-140</td>\n",
       "      <td>23</td>\n",
       "      <td>59965</td>\n",
       "      <td>245</td>\n",
       "      <td>23</td>\n",
       "      <td>4469.273743</td>\n",
       "    </tr>\n",
       "    <tr>\n",
       "      <th>11</th>\n",
       "      <td>S10</td>\n",
       "      <td>October</td>\n",
       "      <td>67770</td>\n",
       "      <td>-8000</td>\n",
       "      <td>40</td>\n",
       "      <td>-245</td>\n",
       "      <td>39</td>\n",
       "      <td>75770</td>\n",
       "      <td>285</td>\n",
       "      <td>39</td>\n",
       "      <td>4276.098720</td>\n",
       "    </tr>\n",
       "    <tr>\n",
       "      <th>21</th>\n",
       "      <td>S3</td>\n",
       "      <td>May</td>\n",
       "      <td>57875</td>\n",
       "      <td>-1200</td>\n",
       "      <td>100</td>\n",
       "      <td>-130</td>\n",
       "      <td>22</td>\n",
       "      <td>59075</td>\n",
       "      <td>230</td>\n",
       "      <td>22</td>\n",
       "      <td>4265.763860</td>\n",
       "    </tr>\n",
       "    <tr>\n",
       "      <th>12</th>\n",
       "      <td>S2</td>\n",
       "      <td>April</td>\n",
       "      <td>57385</td>\n",
       "      <td>-800</td>\n",
       "      <td>95</td>\n",
       "      <td>-120</td>\n",
       "      <td>21</td>\n",
       "      <td>58185</td>\n",
       "      <td>215</td>\n",
       "      <td>21</td>\n",
       "      <td>4056.028186</td>\n",
       "    </tr>\n",
       "    <tr>\n",
       "      <th>2</th>\n",
       "      <td>S1</td>\n",
       "      <td>March</td>\n",
       "      <td>56895</td>\n",
       "      <td>-400</td>\n",
       "      <td>90</td>\n",
       "      <td>-110</td>\n",
       "      <td>20</td>\n",
       "      <td>57295</td>\n",
       "      <td>200</td>\n",
       "      <td>20</td>\n",
       "      <td>3839.776595</td>\n",
       "    </tr>\n",
       "    <tr>\n",
       "      <th>16</th>\n",
       "      <td>S2</td>\n",
       "      <td>June</td>\n",
       "      <td>87005</td>\n",
       "      <td>0</td>\n",
       "      <td>45</td>\n",
       "      <td>-155</td>\n",
       "      <td>21</td>\n",
       "      <td>87005</td>\n",
       "      <td>200</td>\n",
       "      <td>21</td>\n",
       "      <td>2540.083903</td>\n",
       "    </tr>\n",
       "    <tr>\n",
       "      <th>3</th>\n",
       "      <td>S1</td>\n",
       "      <td>May</td>\n",
       "      <td>86365</td>\n",
       "      <td>0</td>\n",
       "      <td>40</td>\n",
       "      <td>-145</td>\n",
       "      <td>31</td>\n",
       "      <td>86365</td>\n",
       "      <td>185</td>\n",
       "      <td>31</td>\n",
       "      <td>2501.013142</td>\n",
       "    </tr>\n",
       "    <tr>\n",
       "      <th>9</th>\n",
       "      <td>S10</td>\n",
       "      <td>February</td>\n",
       "      <td>92125</td>\n",
       "      <td>0</td>\n",
       "      <td>85</td>\n",
       "      <td>-100</td>\n",
       "      <td>37</td>\n",
       "      <td>92125</td>\n",
       "      <td>185</td>\n",
       "      <td>37</td>\n",
       "      <td>2409.769335</td>\n",
       "    </tr>\n",
       "    <tr>\n",
       "      <th>54</th>\n",
       "      <td>S9</td>\n",
       "      <td>January</td>\n",
       "      <td>91485</td>\n",
       "      <td>0</td>\n",
       "      <td>80</td>\n",
       "      <td>-90</td>\n",
       "      <td>35</td>\n",
       "      <td>91485</td>\n",
       "      <td>170</td>\n",
       "      <td>35</td>\n",
       "      <td>2240.804503</td>\n",
       "    </tr>\n",
       "    <tr>\n",
       "      <th>50</th>\n",
       "      <td>S8</td>\n",
       "      <td>December</td>\n",
       "      <td>90845</td>\n",
       "      <td>0</td>\n",
       "      <td>75</td>\n",
       "      <td>-80</td>\n",
       "      <td>33</td>\n",
       "      <td>90845</td>\n",
       "      <td>155</td>\n",
       "      <td>33</td>\n",
       "      <td>2069.458969</td>\n",
       "    </tr>\n",
       "    <tr>\n",
       "      <th>46</th>\n",
       "      <td>S7</td>\n",
       "      <td>November</td>\n",
       "      <td>90205</td>\n",
       "      <td>0</td>\n",
       "      <td>70</td>\n",
       "      <td>-70</td>\n",
       "      <td>31</td>\n",
       "      <td>90205</td>\n",
       "      <td>140</td>\n",
       "      <td>31</td>\n",
       "      <td>1895.682058</td>\n",
       "    </tr>\n",
       "    <tr>\n",
       "      <th>38</th>\n",
       "      <td>S6</td>\n",
       "      <td>December</td>\n",
       "      <td>83165</td>\n",
       "      <td>-600</td>\n",
       "      <td>25</td>\n",
       "      <td>-110</td>\n",
       "      <td>16</td>\n",
       "      <td>83765</td>\n",
       "      <td>135</td>\n",
       "      <td>16</td>\n",
       "      <td>1802.662210</td>\n",
       "    </tr>\n",
       "    <tr>\n",
       "      <th>41</th>\n",
       "      <td>S6</td>\n",
       "      <td>October</td>\n",
       "      <td>89565</td>\n",
       "      <td>0</td>\n",
       "      <td>65</td>\n",
       "      <td>-60</td>\n",
       "      <td>29</td>\n",
       "      <td>89565</td>\n",
       "      <td>125</td>\n",
       "      <td>29</td>\n",
       "      <td>1719.421649</td>\n",
       "    </tr>\n",
       "    <tr>\n",
       "      <th>42</th>\n",
       "      <td>S7</td>\n",
       "      <td>January</td>\n",
       "      <td>83805</td>\n",
       "      <td>-700</td>\n",
       "      <td>0</td>\n",
       "      <td>-115</td>\n",
       "      <td>17</td>\n",
       "      <td>84505</td>\n",
       "      <td>115</td>\n",
       "      <td>17</td>\n",
       "      <td>1562.037749</td>\n",
       "    </tr>\n",
       "    <tr>\n",
       "      <th>35</th>\n",
       "      <td>S5</td>\n",
       "      <td>September</td>\n",
       "      <td>88925</td>\n",
       "      <td>0</td>\n",
       "      <td>60</td>\n",
       "      <td>-50</td>\n",
       "      <td>27</td>\n",
       "      <td>88925</td>\n",
       "      <td>110</td>\n",
       "      <td>27</td>\n",
       "      <td>1540.624121</td>\n",
       "    </tr>\n",
       "    <tr>\n",
       "      <th>51</th>\n",
       "      <td>S8</td>\n",
       "      <td>February</td>\n",
       "      <td>84445</td>\n",
       "      <td>-800</td>\n",
       "      <td>-15</td>\n",
       "      <td>-120</td>\n",
       "      <td>18</td>\n",
       "      <td>85245</td>\n",
       "      <td>105</td>\n",
       "      <td>18</td>\n",
       "      <td>1442.899877</td>\n",
       "    </tr>\n",
       "    <tr>\n",
       "      <th>25</th>\n",
       "      <td>S4</td>\n",
       "      <td>August</td>\n",
       "      <td>88285</td>\n",
       "      <td>0</td>\n",
       "      <td>55</td>\n",
       "      <td>-40</td>\n",
       "      <td>25</td>\n",
       "      <td>88285</td>\n",
       "      <td>95</td>\n",
       "      <td>25</td>\n",
       "      <td>1359.234298</td>\n",
       "    </tr>\n",
       "    <tr>\n",
       "      <th>56</th>\n",
       "      <td>S9</td>\n",
       "      <td>March</td>\n",
       "      <td>85085</td>\n",
       "      <td>-900</td>\n",
       "      <td>-30</td>\n",
       "      <td>-125</td>\n",
       "      <td>19</td>\n",
       "      <td>85985</td>\n",
       "      <td>95</td>\n",
       "      <td>19</td>\n",
       "      <td>1325.812642</td>\n",
       "    </tr>\n",
       "    <tr>\n",
       "      <th>6</th>\n",
       "      <td>S10</td>\n",
       "      <td>April</td>\n",
       "      <td>85725</td>\n",
       "      <td>-1000</td>\n",
       "      <td>-45</td>\n",
       "      <td>-130</td>\n",
       "      <td>20</td>\n",
       "      <td>86725</td>\n",
       "      <td>85</td>\n",
       "      <td>20</td>\n",
       "      <td>1210.723551</td>\n",
       "    </tr>\n",
       "    <tr>\n",
       "      <th>19</th>\n",
       "      <td>S3</td>\n",
       "      <td>July</td>\n",
       "      <td>87645</td>\n",
       "      <td>0</td>\n",
       "      <td>50</td>\n",
       "      <td>-30</td>\n",
       "      <td>23</td>\n",
       "      <td>87645</td>\n",
       "      <td>80</td>\n",
       "      <td>23</td>\n",
       "      <td>1175.195390</td>\n",
       "    </tr>\n",
       "  </tbody>\n",
       "</table>\n",
       "</div>"
      ],
      "text/plain": [
       "MvT Supplier Pstng Date      1     2    3    4   5  Receipt  Rejection  Scrap  \\\n",
       "32        S5      March  70420 -2298  580 -320  26    72718        900     26   \n",
       "27        S4   February  69890 -2198  540 -305  24    72088        845     24   \n",
       "18        S3    January  69360 -2098  500 -290  22    71458        790     22   \n",
       "14        S2   December  68830 -1998  460 -275  20    70828        735     20   \n",
       "4         S1   November  68300 -1999  420 -260  50    70299        680     50   \n",
       "43        S7       July  66180 -6800  305 -335  36    72980        640     36   \n",
       "40        S6       June  65650 -6400  300 -320  35    72050        620     35   \n",
       "33        S5        May  65120 -6000  295 -305  34    71120        600     34   \n",
       "24        S4      April  64590 -5600  290 -290  33    70190        580     33   \n",
       "20        S3      March  64060 -5200  285 -275  32    69260        560     32   \n",
       "15        S2   February  63530 -4800  280 -260  31    68330        540     31   \n",
       "0         S1    January  63000 -4400  275 -245  30    67400        520     30   \n",
       "8        S10   December  61575 -4000  270 -200  29    65575        470     29   \n",
       "58        S9   November  61085 -3600  265 -190  28    64685        455     28   \n",
       "53        S8    October  60460 -3200  260 -180  27    63660        440     27   \n",
       "7        S10     August  73070 -2798  210 -305  36    75868        515     36   \n",
       "10       S10       June  78975 -3798  310 -260  10    82773        570     10   \n",
       "57        S9        May  78335 -3698  300 -250  18    82033        550     18   \n",
       "55        S9       July  72540 -2698  200 -275  34    75238        475     34   \n",
       "48        S8      April  77695 -3598  290 -240  17    81293        530     17   \n",
       "44        S7      March  77055 -3498  280 -230  16    80553        510     16   \n",
       "39        S6   February  76415 -3398  270 -220  15    79813        490     15   \n",
       "52        S8       June  72010 -2598  190 -245  32    74608        435     32   \n",
       "36        S6      April  70950 -2398  170 -260  28    73348        430     28   \n",
       "30        S5    January  75775 -3298  260 -210  14    79073        470     14   \n",
       "26        S4   December  75190 -3198  250 -200  13    78388        450     13   \n",
       "59        S9  September  67240 -7600   35 -365  38    74840        400     38   \n",
       "45        S7        May  71480 -2498  180 -215  30    73978        395     30   \n",
       "22        S3   November  74660 -3098  240 -190  12    77758        430     12   \n",
       "17        S2    October  74130 -2998  230 -180  11    77128        410     11   \n",
       "34        S5   November  82525  -500  330 -105  15    83025        435     15   \n",
       "29        S4    October  81885  -400  325 -100  14    82285        425     14   \n",
       "23        S3  September  81245  -300  320  -95  13    81545        415     13   \n",
       "5         S1  September  73600 -2898  220 -170  10    76498        390     10   \n",
       "13        S2     August  80605  -200  315  -90  12    80805        405     12   \n",
       "1         S1       July  79790  -100  310  -85  11    79890        395     11   \n",
       "47        S7  September  59835 -2800  120 -170  26    62635        290     26   \n",
       "49        S8     August  66710 -7200  -20 -350  37    73910        330     37   \n",
       "37        S6     August  59345 -2400  115 -160  25    61745        275     25   \n",
       "31        S5       July  58855 -2000  110 -150  24    60855        260     24   \n",
       "28        S4       June  58365 -1600  105 -140  23    59965        245     23   \n",
       "11       S10    October  67770 -8000   40 -245  39    75770        285     39   \n",
       "21        S3        May  57875 -1200  100 -130  22    59075        230     22   \n",
       "12        S2      April  57385  -800   95 -120  21    58185        215     21   \n",
       "2         S1      March  56895  -400   90 -110  20    57295        200     20   \n",
       "16        S2       June  87005     0   45 -155  21    87005        200     21   \n",
       "3         S1        May  86365     0   40 -145  31    86365        185     31   \n",
       "9        S10   February  92125     0   85 -100  37    92125        185     37   \n",
       "54        S9    January  91485     0   80  -90  35    91485        170     35   \n",
       "50        S8   December  90845     0   75  -80  33    90845        155     33   \n",
       "46        S7   November  90205     0   70  -70  31    90205        140     31   \n",
       "38        S6   December  83165  -600   25 -110  16    83765        135     16   \n",
       "41        S6    October  89565     0   65  -60  29    89565        125     29   \n",
       "42        S7    January  83805  -700    0 -115  17    84505        115     17   \n",
       "35        S5  September  88925     0   60  -50  27    88925        110     27   \n",
       "51        S8   February  84445  -800  -15 -120  18    85245        105     18   \n",
       "25        S4     August  88285     0   55  -40  25    88285         95     25   \n",
       "56        S9      March  85085  -900  -30 -125  19    85985         95     19   \n",
       "6        S10      April  85725 -1000  -45 -130  20    86725         85     20   \n",
       "19        S3       July  87645     0   50  -30  23    87645         80     23   \n",
       "\n",
       "MvT           PPM  \n",
       "32   12734.123601  \n",
       "27   12054.710909  \n",
       "18   11363.318313  \n",
       "14   10659.626137  \n",
       "4    10384.215992  \n",
       "43    9262.811729  \n",
       "40    9090.909091  \n",
       "33    8914.510686  \n",
       "24    8733.437812  \n",
       "20    8547.502166  \n",
       "15    8356.505195  \n",
       "0     8160.237389  \n",
       "8     7609.607320  \n",
       "58    7466.955245  \n",
       "53    7335.846686  \n",
       "7     7262.614014  \n",
       "10    7007.115847  \n",
       "57    6924.042763  \n",
       "55    6765.198437  \n",
       "48    6728.746633  \n",
       "44    6529.862327  \n",
       "39    6327.290040  \n",
       "52    6259.382372  \n",
       "36    6244.205704  \n",
       "30    6120.926233  \n",
       "26    5906.516304  \n",
       "59    5852.485302  \n",
       "45    5744.951202  \n",
       "22    5684.302580  \n",
       "17    5458.458666  \n",
       "34    5420.054201  \n",
       "29    5335.115756  \n",
       "23    5248.635723  \n",
       "5     5228.894873  \n",
       "13    5160.571747  \n",
       "1     5081.987733  \n",
       "47    5045.102578  \n",
       "49    4965.498579  \n",
       "37    4858.693012  \n",
       "31    4666.830992  \n",
       "28    4469.273743  \n",
       "11    4276.098720  \n",
       "21    4265.763860  \n",
       "12    4056.028186  \n",
       "2     3839.776595  \n",
       "16    2540.083903  \n",
       "3     2501.013142  \n",
       "9     2409.769335  \n",
       "54    2240.804503  \n",
       "50    2069.458969  \n",
       "46    1895.682058  \n",
       "38    1802.662210  \n",
       "41    1719.421649  \n",
       "42    1562.037749  \n",
       "35    1540.624121  \n",
       "51    1442.899877  \n",
       "25    1359.234298  \n",
       "56    1325.812642  \n",
       "6     1210.723551  \n",
       "19    1175.195390  "
      ]
     },
     "execution_count": 255,
     "metadata": {},
     "output_type": "execute_result"
    }
   ],
   "source": [
    "supp_ppm = df.pivot_table(index=['Supplier','Pstng Date'], columns='MvT', values='Quantity', aggfunc='sum', fill_value=0).reset_index()\n",
    "supp_ppm['Receipt'] = supp_ppm[1] - supp_ppm[2]\n",
    "supp_ppm['Rejection'] = supp_ppm[3] - supp_ppm[4]\n",
    "supp_ppm['Scrap'] = supp_ppm[5]\n",
    "supp_ppm['PPM'] = ((supp_ppm['Rejection'] + supp_ppm['Scrap']) / supp_ppm['Receipt'])*1000000\n",
    "supp_ppm = supp_ppm.sort_values(by='PPM', ascending=False)\n",
    "supp_ppm"
   ]
  },
  {
   "cell_type": "code",
   "execution_count": null,
   "id": "215bee6d",
   "metadata": {},
   "outputs": [],
   "source": []
  },
  {
   "cell_type": "code",
   "execution_count": null,
   "id": "477a3a13",
   "metadata": {},
   "outputs": [],
   "source": []
  },
  {
   "cell_type": "code",
   "execution_count": null,
   "id": "010a3e4c",
   "metadata": {},
   "outputs": [],
   "source": []
  },
  {
   "cell_type": "code",
   "execution_count": null,
   "id": "6b25422c",
   "metadata": {},
   "outputs": [],
   "source": []
  },
  {
   "cell_type": "code",
   "execution_count": 259,
   "id": "f4afc921",
   "metadata": {},
   "outputs": [],
   "source": [
    "import pandas as pd\n",
    "import numpy as np\n",
    "\n",
    "# Define the date range for 6 years, month by month\n",
    "date_range = pd.date_range(start='2018-01-01', end='2023-12-31', freq='MS')\n",
    "\n",
    "# Generate PPM values with a pattern\n",
    "ppm_values = []\n",
    "for date in date_range:\n",
    "    if date.month in [3, 9]:\n",
    "        ppm = np.random.uniform(500, 1000)  # Higher PPM values for March and September\n",
    "    elif date.month in [11, 12]:\n",
    "        ppm = np.random.uniform(80, 100)    # Lower PPM values for November and December\n",
    "    else:\n",
    "        ppm = np.random.uniform(200, 400)   # Intermediate values for other months\n",
    "    ppm_values.append(ppm)\n",
    "\n",
    "# Create DataFrame\n",
    "data = {\n",
    "    'Date': date_range,\n",
    "    'ppm': ppm_values\n",
    "}\n",
    "df = pd.DataFrame(data)"
   ]
  },
  {
   "cell_type": "code",
   "execution_count": 260,
   "id": "92c59674",
   "metadata": {},
   "outputs": [
    {
     "data": {
      "text/html": [
       "<div>\n",
       "<style scoped>\n",
       "    .dataframe tbody tr th:only-of-type {\n",
       "        vertical-align: middle;\n",
       "    }\n",
       "\n",
       "    .dataframe tbody tr th {\n",
       "        vertical-align: top;\n",
       "    }\n",
       "\n",
       "    .dataframe thead th {\n",
       "        text-align: right;\n",
       "    }\n",
       "</style>\n",
       "<table border=\"1\" class=\"dataframe\">\n",
       "  <thead>\n",
       "    <tr style=\"text-align: right;\">\n",
       "      <th></th>\n",
       "      <th>Date</th>\n",
       "      <th>ppm</th>\n",
       "    </tr>\n",
       "  </thead>\n",
       "  <tbody>\n",
       "    <tr>\n",
       "      <th>0</th>\n",
       "      <td>2018-01-01</td>\n",
       "      <td>274.908024</td>\n",
       "    </tr>\n",
       "    <tr>\n",
       "      <th>1</th>\n",
       "      <td>2018-02-01</td>\n",
       "      <td>390.142861</td>\n",
       "    </tr>\n",
       "    <tr>\n",
       "      <th>2</th>\n",
       "      <td>2018-03-01</td>\n",
       "      <td>865.996971</td>\n",
       "    </tr>\n",
       "    <tr>\n",
       "      <th>3</th>\n",
       "      <td>2018-04-01</td>\n",
       "      <td>319.731697</td>\n",
       "    </tr>\n",
       "    <tr>\n",
       "      <th>4</th>\n",
       "      <td>2018-05-01</td>\n",
       "      <td>231.203728</td>\n",
       "    </tr>\n",
       "    <tr>\n",
       "      <th>...</th>\n",
       "      <td>...</td>\n",
       "      <td>...</td>\n",
       "    </tr>\n",
       "    <tr>\n",
       "      <th>67</th>\n",
       "      <td>2023-08-01</td>\n",
       "      <td>360.439396</td>\n",
       "    </tr>\n",
       "    <tr>\n",
       "      <th>68</th>\n",
       "      <td>2023-09-01</td>\n",
       "      <td>537.275322</td>\n",
       "    </tr>\n",
       "    <tr>\n",
       "      <th>69</th>\n",
       "      <td>2023-10-01</td>\n",
       "      <td>397.377387</td>\n",
       "    </tr>\n",
       "    <tr>\n",
       "      <th>70</th>\n",
       "      <td>2023-11-01</td>\n",
       "      <td>95.444895</td>\n",
       "    </tr>\n",
       "    <tr>\n",
       "      <th>71</th>\n",
       "      <td>2023-12-01</td>\n",
       "      <td>83.974314</td>\n",
       "    </tr>\n",
       "  </tbody>\n",
       "</table>\n",
       "<p>72 rows × 2 columns</p>\n",
       "</div>"
      ],
      "text/plain": [
       "         Date         ppm\n",
       "0  2018-01-01  274.908024\n",
       "1  2018-02-01  390.142861\n",
       "2  2018-03-01  865.996971\n",
       "3  2018-04-01  319.731697\n",
       "4  2018-05-01  231.203728\n",
       "..        ...         ...\n",
       "67 2023-08-01  360.439396\n",
       "68 2023-09-01  537.275322\n",
       "69 2023-10-01  397.377387\n",
       "70 2023-11-01   95.444895\n",
       "71 2023-12-01   83.974314\n",
       "\n",
       "[72 rows x 2 columns]"
      ]
     },
     "execution_count": 260,
     "metadata": {},
     "output_type": "execute_result"
    }
   ],
   "source": [
    "df"
   ]
  },
  {
   "cell_type": "code",
   "execution_count": 261,
   "id": "4f670b5f",
   "metadata": {
    "scrolled": true
   },
   "outputs": [
    {
     "data": {
      "image/png": "[encoded data removed]",
      "text/plain": [
       "<Figure size 720x432 with 1 Axes>"
      ]
     },
     "metadata": {
      "needs_background": "light"
     },
     "output_type": "display_data"
    }
   ],
   "source": [
    "df['Date'] = pd.to_datetime(df['Date'])\n",
    "\n",
    "# Ensure correct indexing and plotting\n",
    "plt.figure(figsize=(10, 6))\n",
    "plt.plot(df['Date'].values, df['ppm'].values, marker='o', linestyle='-', color='b')\n",
    "plt.title('PPM over Time')\n",
    "plt.xlabel('Date')\n",
    "plt.ylabel('PPM')\n",
    "plt.grid(True)\n",
    "plt.xticks(rotation=45)  # Rotate date labels for better readability\n",
    "plt.tight_layout()  # Adjust layout to fit everything\n",
    "plt.show()"
   ]
  },
  {
   "cell_type": "code",
   "execution_count": 265,
   "id": "721577f7",
   "metadata": {},
   "outputs": [
    {
     "data": {
      "image/png": "[encoded data removed]",
      "text/plain": [
       "<Figure size 576x432 with 1 Axes>"
      ]
     },
     "metadata": {
      "needs_background": "light"
     },
     "output_type": "display_data"
    }
   ],
   "source": [
    "import pandas as pd\n",
    "import matplotlib.pyplot as plt\n",
    "import seaborn as sns\n",
    "\n",
    "# Convert 'Date' to datetime format if not already done\n",
    "df['Date'] = pd.to_datetime(df['Date'])\n",
    "\n",
    "# Plotting the box plot (single box plot for all years)\n",
    "plt.figure(figsize=(8, 6))\n",
    "sns.boxplot(y='ppm', data=df)\n",
    "plt.title('Box Plot of PPM')\n",
    "plt.ylabel('PPM')\n",
    "plt.grid(True)\n",
    "plt.show()\n"
   ]
  },
  {
   "cell_type": "code",
   "execution_count": 266,
   "id": "4ff3374d",
   "metadata": {
    "scrolled": true
   },
   "outputs": [
    {
     "data": {
      "text/html": [
       "<div>\n",
       "<style scoped>\n",
       "    .dataframe tbody tr th:only-of-type {\n",
       "        vertical-align: middle;\n",
       "    }\n",
       "\n",
       "    .dataframe tbody tr th {\n",
       "        vertical-align: top;\n",
       "    }\n",
       "\n",
       "    .dataframe thead th {\n",
       "        text-align: right;\n",
       "    }\n",
       "</style>\n",
       "<table border=\"1\" class=\"dataframe\">\n",
       "  <thead>\n",
       "    <tr style=\"text-align: right;\">\n",
       "      <th></th>\n",
       "      <th>Date</th>\n",
       "      <th>ppm</th>\n",
       "      <th>Year</th>\n",
       "    </tr>\n",
       "  </thead>\n",
       "  <tbody>\n",
       "    <tr>\n",
       "      <th>0</th>\n",
       "      <td>2018-01-01</td>\n",
       "      <td>274.908024</td>\n",
       "      <td>2018</td>\n",
       "    </tr>\n",
       "    <tr>\n",
       "      <th>1</th>\n",
       "      <td>2018-02-01</td>\n",
       "      <td>390.142861</td>\n",
       "      <td>2018</td>\n",
       "    </tr>\n",
       "    <tr>\n",
       "      <th>3</th>\n",
       "      <td>2018-04-01</td>\n",
       "      <td>319.731697</td>\n",
       "      <td>2018</td>\n",
       "    </tr>\n",
       "    <tr>\n",
       "      <th>4</th>\n",
       "      <td>2018-05-01</td>\n",
       "      <td>231.203728</td>\n",
       "      <td>2018</td>\n",
       "    </tr>\n",
       "    <tr>\n",
       "      <th>5</th>\n",
       "      <td>2018-06-01</td>\n",
       "      <td>231.198904</td>\n",
       "      <td>2018</td>\n",
       "    </tr>\n",
       "    <tr>\n",
       "      <th>...</th>\n",
       "      <td>...</td>\n",
       "      <td>...</td>\n",
       "      <td>...</td>\n",
       "    </tr>\n",
       "    <tr>\n",
       "      <th>67</th>\n",
       "      <td>2023-08-01</td>\n",
       "      <td>360.439396</td>\n",
       "      <td>2023</td>\n",
       "    </tr>\n",
       "    <tr>\n",
       "      <th>68</th>\n",
       "      <td>2023-09-01</td>\n",
       "      <td>537.275322</td>\n",
       "      <td>2023</td>\n",
       "    </tr>\n",
       "    <tr>\n",
       "      <th>69</th>\n",
       "      <td>2023-10-01</td>\n",
       "      <td>397.377387</td>\n",
       "      <td>2023</td>\n",
       "    </tr>\n",
       "    <tr>\n",
       "      <th>70</th>\n",
       "      <td>2023-11-01</td>\n",
       "      <td>95.444895</td>\n",
       "      <td>2023</td>\n",
       "    </tr>\n",
       "    <tr>\n",
       "      <th>71</th>\n",
       "      <td>2023-12-01</td>\n",
       "      <td>83.974314</td>\n",
       "      <td>2023</td>\n",
       "    </tr>\n",
       "  </tbody>\n",
       "</table>\n",
       "<p>65 rows × 3 columns</p>\n",
       "</div>"
      ],
      "text/plain": [
       "         Date         ppm  Year\n",
       "0  2018-01-01  274.908024  2018\n",
       "1  2018-02-01  390.142861  2018\n",
       "3  2018-04-01  319.731697  2018\n",
       "4  2018-05-01  231.203728  2018\n",
       "5  2018-06-01  231.198904  2018\n",
       "..        ...         ...   ...\n",
       "67 2023-08-01  360.439396  2023\n",
       "68 2023-09-01  537.275322  2023\n",
       "69 2023-10-01  397.377387  2023\n",
       "70 2023-11-01   95.444895  2023\n",
       "71 2023-12-01   83.974314  2023\n",
       "\n",
       "[65 rows x 3 columns]"
      ]
     },
     "execution_count": 266,
     "metadata": {},
     "output_type": "execute_result"
    }
   ],
   "source": [
    "Q1 = df['ppm'].quantile(0.25)\n",
    "Q3 = df['ppm'].quantile(0.75)\n",
    "IQR = Q3 - Q1\n",
    "\n",
    "# Define bounds for detecting outliers\n",
    "lower_bound = Q1 - 1.5 * IQR\n",
    "upper_bound = Q3 + 1.5 * IQR\n",
    "\n",
    "# Filter out the outliers\n",
    "mon_fore = df[(df['ppm'] >= lower_bound) & (df['ppm'] <= upper_bound)]\n",
    "mon_fore"
   ]
  },
  {
   "cell_type": "code",
   "execution_count": 267,
   "id": "3a803356",
   "metadata": {},
   "outputs": [
    {
     "data": {
      "text/html": [
       "<div>\n",
       "<style scoped>\n",
       "    .dataframe tbody tr th:only-of-type {\n",
       "        vertical-align: middle;\n",
       "    }\n",
       "\n",
       "    .dataframe tbody tr th {\n",
       "        vertical-align: top;\n",
       "    }\n",
       "\n",
       "    .dataframe thead th {\n",
       "        text-align: right;\n",
       "    }\n",
       "</style>\n",
       "<table border=\"1\" class=\"dataframe\">\n",
       "  <thead>\n",
       "    <tr style=\"text-align: right;\">\n",
       "      <th></th>\n",
       "      <th>Date</th>\n",
       "      <th>ppm</th>\n",
       "      <th>Year</th>\n",
       "    </tr>\n",
       "  </thead>\n",
       "  <tbody>\n",
       "    <tr>\n",
       "      <th>2</th>\n",
       "      <td>2018-03-01</td>\n",
       "      <td>865.996971</td>\n",
       "      <td>2018</td>\n",
       "    </tr>\n",
       "    <tr>\n",
       "      <th>8</th>\n",
       "      <td>2018-09-01</td>\n",
       "      <td>800.557506</td>\n",
       "      <td>2018</td>\n",
       "    </tr>\n",
       "    <tr>\n",
       "      <th>20</th>\n",
       "      <td>2019-09-01</td>\n",
       "      <td>805.926447</td>\n",
       "      <td>2019</td>\n",
       "    </tr>\n",
       "    <tr>\n",
       "      <th>38</th>\n",
       "      <td>2021-03-01</td>\n",
       "      <td>842.116513</td>\n",
       "      <td>2021</td>\n",
       "    </tr>\n",
       "    <tr>\n",
       "      <th>44</th>\n",
       "      <td>2021-09-01</td>\n",
       "      <td>629.389991</td>\n",
       "      <td>2021</td>\n",
       "    </tr>\n",
       "    <tr>\n",
       "      <th>50</th>\n",
       "      <td>2022-03-01</td>\n",
       "      <td>984.792314</td>\n",
       "      <td>2022</td>\n",
       "    </tr>\n",
       "    <tr>\n",
       "      <th>62</th>\n",
       "      <td>2023-03-01</td>\n",
       "      <td>914.368755</td>\n",
       "      <td>2023</td>\n",
       "    </tr>\n",
       "  </tbody>\n",
       "</table>\n",
       "</div>"
      ],
      "text/plain": [
       "         Date         ppm  Year\n",
       "2  2018-03-01  865.996971  2018\n",
       "8  2018-09-01  800.557506  2018\n",
       "20 2019-09-01  805.926447  2019\n",
       "38 2021-03-01  842.116513  2021\n",
       "44 2021-09-01  629.389991  2021\n",
       "50 2022-03-01  984.792314  2022\n",
       "62 2023-03-01  914.368755  2023"
      ]
     },
     "execution_count": 267,
     "metadata": {},
     "output_type": "execute_result"
    }
   ],
   "source": [
    "outliers = df[(df['ppm'] < lower_bound) | (df['ppm'] > upper_bound)]\n",
    "outliers\n"
   ]
  },
  {
   "cell_type": "code",
   "execution_count": 268,
   "id": "40b89deb",
   "metadata": {},
   "outputs": [
    {
     "name": "stderr",
     "output_type": "stream",
     "text": [
      "C:\\Users\\preet\\AppData\\Local\\Temp\\ipykernel_3400\\620061708.py:6: SettingWithCopyWarning: \n",
      "A value is trying to be set on a copy of a slice from a DataFrame.\n",
      "Try using .loc[row_indexer,col_indexer] = value instead\n",
      "\n",
      "See the caveats in the documentation: https://pandas.pydata.org/pandas-docs/stable/user_guide/indexing.html#returning-a-view-versus-a-copy\n",
      "  mon_fore['Date'] = pd.to_datetime(mon_fore['Date'])\n"
     ]
    },
    {
     "data": {
      "image/png": "[encoded data removed]",
      "text/plain": [
       "<Figure size 1008x864 with 3 Axes>"
      ]
     },
     "metadata": {
      "needs_background": "light"
     },
     "output_type": "display_data"
    }
   ],
   "source": [
    "import matplotlib.pyplot as plt\n",
    "import pandas as pd\n",
    "from statsmodels.tsa.seasonal import STL\n",
    "\n",
    "# Ensure 'Date' column is datetime\n",
    "mon_fore['Date'] = pd.to_datetime(mon_fore['Date'])\n",
    "\n",
    "# Define the seasonal period (adjust as needed)\n",
    "seasonal_period = 12  # Example: monthly data with yearly seasonality\n",
    "\n",
    "# STL decomposition\n",
    "decomposition = STL(mon_fore['ppm'], period=seasonal_period).fit()\n",
    "\n",
    "# Extract components\n",
    "trend = decomposition.trend.values\n",
    "seasonal = decomposition.seasonal.values\n",
    "residual = decomposition.resid.values\n",
    "\n",
    "# Plot each component\n",
    "plt.figure(figsize=(14, 12))\n",
    "\n",
    "# Original and Trend\n",
    "plt.subplot(3, 1, 1)\n",
    "plt.plot(mon_fore['Date'].values, mon_fore['ppm'].values, label='Original', color='blue')\n",
    "plt.plot(mon_fore['Date'].values, trend, label='Trend', color='red')\n",
    "plt.title('Trend Component')\n",
    "plt.xlabel('Date')\n",
    "plt.ylabel('Value')\n",
    "plt.legend()\n",
    "\n",
    "# Seasonal\n",
    "plt.subplot(3, 1, 2)\n",
    "plt.plot(mon_fore['Date'].values, seasonal, label='Seasonal', color='green')\n",
    "plt.title('Seasonal Component')\n",
    "plt.xlabel('Date')\n",
    "plt.ylabel('Value')\n",
    "plt.legend()\n",
    "\n",
    "# Residual\n",
    "plt.subplot(3, 1, 3)\n",
    "plt.plot(mon_fore['Date'].values, residual, label='Residual', color='orange')\n",
    "plt.title('Residual Component')\n",
    "plt.xlabel('Date')\n",
    "plt.ylabel('Value')\n",
    "plt.legend()\n",
    "\n",
    "plt.tight_layout()\n",
    "plt.show()\n"
   ]
  },
  {
   "cell_type": "code",
   "execution_count": 269,
   "id": "eb2f9c56",
   "metadata": {
    "scrolled": true
   },
   "outputs": [
    {
     "name": "stderr",
     "output_type": "stream",
     "text": [
      "C:\\Users\\preet\\AppData\\Local\\Temp\\ipykernel_3400\\1503937282.py:8: SettingWithCopyWarning: \n",
      "A value is trying to be set on a copy of a slice from a DataFrame.\n",
      "Try using .loc[row_indexer,col_indexer] = value instead\n",
      "\n",
      "See the caveats in the documentation: https://pandas.pydata.org/pandas-docs/stable/user_guide/indexing.html#returning-a-view-versus-a-copy\n",
      "  mon_fore.loc[:, 'year'] = mon_fore['Date'].dt.year\n",
      "C:\\Users\\preet\\AppData\\Local\\Temp\\ipykernel_3400\\1503937282.py:9: SettingWithCopyWarning: \n",
      "A value is trying to be set on a copy of a slice from a DataFrame.\n",
      "Try using .loc[row_indexer,col_indexer] = value instead\n",
      "\n",
      "See the caveats in the documentation: https://pandas.pydata.org/pandas-docs/stable/user_guide/indexing.html#returning-a-view-versus-a-copy\n",
      "  mon_fore.loc[:, 'month'] = mon_fore['Date'].dt.month\n",
      "C:\\Users\\preet\\AppData\\Local\\Temp\\ipykernel_3400\\1503937282.py:10: SettingWithCopyWarning: \n",
      "A value is trying to be set on a copy of a slice from a DataFrame.\n",
      "Try using .loc[row_indexer,col_indexer] = value instead\n",
      "\n",
      "See the caveats in the documentation: https://pandas.pydata.org/pandas-docs/stable/user_guide/indexing.html#returning-a-view-versus-a-copy\n",
      "  mon_fore.loc[:, 'quarter'] = mon_fore['Date'].dt.quarter\n",
      "C:\\Users\\preet\\AppData\\Local\\Temp\\ipykernel_3400\\1503937282.py:11: SettingWithCopyWarning: \n",
      "A value is trying to be set on a copy of a slice from a DataFrame.\n",
      "Try using .loc[row_indexer,col_indexer] = value instead\n",
      "\n",
      "See the caveats in the documentation: https://pandas.pydata.org/pandas-docs/stable/user_guide/indexing.html#returning-a-view-versus-a-copy\n",
      "  mon_fore.loc[:, 'day_of_month'] = mon_fore['Date'].dt.day\n",
      "C:\\Users\\preet\\AppData\\Local\\Temp\\ipykernel_3400\\1503937282.py:12: SettingWithCopyWarning: \n",
      "A value is trying to be set on a copy of a slice from a DataFrame.\n",
      "Try using .loc[row_indexer,col_indexer] = value instead\n",
      "\n",
      "See the caveats in the documentation: https://pandas.pydata.org/pandas-docs/stable/user_guide/indexing.html#returning-a-view-versus-a-copy\n",
      "  mon_fore.loc[:, 'day_of_week'] = mon_fore['Date'].dt.dayofweek\n",
      "C:\\Users\\preet\\AppData\\Local\\Temp\\ipykernel_3400\\1503937282.py:13: SettingWithCopyWarning: \n",
      "A value is trying to be set on a copy of a slice from a DataFrame.\n",
      "Try using .loc[row_indexer,col_indexer] = value instead\n",
      "\n",
      "See the caveats in the documentation: https://pandas.pydata.org/pandas-docs/stable/user_guide/indexing.html#returning-a-view-versus-a-copy\n",
      "  mon_fore.loc[:, 'week_of_year'] = mon_fore['Date'].dt.isocalendar().week\n",
      "C:\\Users\\preet\\AppData\\Local\\Temp\\ipykernel_3400\\1503937282.py:14: SettingWithCopyWarning: \n",
      "A value is trying to be set on a copy of a slice from a DataFrame.\n",
      "Try using .loc[row_indexer,col_indexer] = value instead\n",
      "\n",
      "See the caveats in the documentation: https://pandas.pydata.org/pandas-docs/stable/user_guide/indexing.html#returning-a-view-versus-a-copy\n",
      "  mon_fore.loc[:, 'is_month_start'] = mon_fore['Date'].dt.is_month_start\n",
      "C:\\Users\\preet\\AppData\\Local\\Temp\\ipykernel_3400\\1503937282.py:15: SettingWithCopyWarning: \n",
      "A value is trying to be set on a copy of a slice from a DataFrame.\n",
      "Try using .loc[row_indexer,col_indexer] = value instead\n",
      "\n",
      "See the caveats in the documentation: https://pandas.pydata.org/pandas-docs/stable/user_guide/indexing.html#returning-a-view-versus-a-copy\n",
      "  mon_fore.loc[:, 'is_month_end'] = mon_fore['Date'].dt.is_month_end\n",
      "C:\\Users\\preet\\AppData\\Local\\Temp\\ipykernel_3400\\1503937282.py:18: SettingWithCopyWarning: \n",
      "A value is trying to be set on a copy of a slice from a DataFrame.\n",
      "Try using .loc[row_indexer,col_indexer] = value instead\n",
      "\n",
      "See the caveats in the documentation: https://pandas.pydata.org/pandas-docs/stable/user_guide/indexing.html#returning-a-view-versus-a-copy\n",
      "  mon_fore.loc[:, 'ppm_lag1'] = mon_fore['ppm'].shift(1)\n",
      "C:\\Users\\preet\\AppData\\Local\\Temp\\ipykernel_3400\\1503937282.py:19: SettingWithCopyWarning: \n",
      "A value is trying to be set on a copy of a slice from a DataFrame.\n",
      "Try using .loc[row_indexer,col_indexer] = value instead\n",
      "\n",
      "See the caveats in the documentation: https://pandas.pydata.org/pandas-docs/stable/user_guide/indexing.html#returning-a-view-versus-a-copy\n",
      "  mon_fore.loc[:, 'ppm_lag2'] = mon_fore['ppm'].shift(2)\n",
      "C:\\Users\\preet\\AppData\\Local\\Temp\\ipykernel_3400\\1503937282.py:22: SettingWithCopyWarning: \n",
      "A value is trying to be set on a copy of a slice from a DataFrame.\n",
      "Try using .loc[row_indexer,col_indexer] = value instead\n",
      "\n",
      "See the caveats in the documentation: https://pandas.pydata.org/pandas-docs/stable/user_guide/indexing.html#returning-a-view-versus-a-copy\n",
      "  mon_fore.loc[:, 'ppm_rolling_mean_3'] = mon_fore['ppm'].rolling(window=3).mean()\n",
      "C:\\Users\\preet\\AppData\\Local\\Temp\\ipykernel_3400\\1503937282.py:23: SettingWithCopyWarning: \n",
      "A value is trying to be set on a copy of a slice from a DataFrame.\n",
      "Try using .loc[row_indexer,col_indexer] = value instead\n",
      "\n",
      "See the caveats in the documentation: https://pandas.pydata.org/pandas-docs/stable/user_guide/indexing.html#returning-a-view-versus-a-copy\n",
      "  mon_fore.loc[:, 'ppm_rolling_std_3'] = mon_fore['ppm'].rolling(window=3).std()\n",
      "C:\\Users\\preet\\AppData\\Local\\Temp\\ipykernel_3400\\1503937282.py:26: SettingWithCopyWarning: \n",
      "A value is trying to be set on a copy of a slice from a DataFrame.\n",
      "Try using .loc[row_indexer,col_indexer] = value instead\n",
      "\n",
      "See the caveats in the documentation: https://pandas.pydata.org/pandas-docs/stable/user_guide/indexing.html#returning-a-view-versus-a-copy\n",
      "  mon_fore.loc[:, 'month_sin'] = np.sin(2 * np.pi * mon_fore['month'] / 12)\n",
      "C:\\Users\\preet\\AppData\\Local\\Temp\\ipykernel_3400\\1503937282.py:27: SettingWithCopyWarning: \n",
      "A value is trying to be set on a copy of a slice from a DataFrame.\n",
      "Try using .loc[row_indexer,col_indexer] = value instead\n",
      "\n",
      "See the caveats in the documentation: https://pandas.pydata.org/pandas-docs/stable/user_guide/indexing.html#returning-a-view-versus-a-copy\n",
      "  mon_fore.loc[:, 'month_cos'] = np.cos(2 * np.pi * mon_fore['month'] / 12)\n",
      "C:\\Users\\preet\\AppData\\Local\\Temp\\ipykernel_3400\\1503937282.py:30: SettingWithCopyWarning: \n",
      "A value is trying to be set on a copy of a slice from a DataFrame.\n",
      "Try using .loc[row_indexer,col_indexer] = value instead\n",
      "\n",
      "See the caveats in the documentation: https://pandas.pydata.org/pandas-docs/stable/user_guide/indexing.html#returning-a-view-versus-a-copy\n",
      "  mon_fore.loc[:, 'time_elapsed'] = (mon_fore['Date'] - mon_fore['Date'].min()).dt.days\n",
      "C:\\Users\\preet\\AppData\\Local\\Temp\\ipykernel_3400\\1503937282.py:33: SettingWithCopyWarning: \n",
      "A value is trying to be set on a copy of a slice from a DataFrame.\n",
      "Try using .loc[row_indexer,col_indexer] = value instead\n",
      "\n",
      "See the caveats in the documentation: https://pandas.pydata.org/pandas-docs/stable/user_guide/indexing.html#returning-a-view-versus-a-copy\n",
      "  mon_fore.loc[:, 'fourier_sin'] = np.sin(2 * np.pi * mon_fore['time_elapsed'] / 365)\n",
      "C:\\Users\\preet\\AppData\\Local\\Temp\\ipykernel_3400\\1503937282.py:34: SettingWithCopyWarning: \n",
      "A value is trying to be set on a copy of a slice from a DataFrame.\n",
      "Try using .loc[row_indexer,col_indexer] = value instead\n",
      "\n",
      "See the caveats in the documentation: https://pandas.pydata.org/pandas-docs/stable/user_guide/indexing.html#returning-a-view-versus-a-copy\n",
      "  mon_fore.loc[:, 'fourier_cos'] = np.cos(2 * np.pi * mon_fore['time_elapsed'] / 365)\n",
      "C:\\Users\\preet\\AppData\\Local\\Temp\\ipykernel_3400\\1503937282.py:37: SettingWithCopyWarning: \n",
      "A value is trying to be set on a copy of a slice from a DataFrame\n",
      "\n",
      "See the caveats in the documentation: https://pandas.pydata.org/pandas-docs/stable/user_guide/indexing.html#returning-a-view-versus-a-copy\n",
      "  mon_fore.fillna(0, inplace=True)\n",
      "C:\\Users\\preet\\AppData\\Local\\Temp\\ipykernel_3400\\1503937282.py:39: SettingWithCopyWarning: \n",
      "A value is trying to be set on a copy of a slice from a DataFrame.\n",
      "Try using .loc[row_indexer,col_indexer] = value instead\n",
      "\n",
      "See the caveats in the documentation: https://pandas.pydata.org/pandas-docs/stable/user_guide/indexing.html#returning-a-view-versus-a-copy\n",
      "  mon_fore['transformed_ppm'], lambda_bc = boxcox(ppm_positive)\n"
     ]
    },
    {
     "data": {
      "text/html": [
       "<div>\n",
       "<style scoped>\n",
       "    .dataframe tbody tr th:only-of-type {\n",
       "        vertical-align: middle;\n",
       "    }\n",
       "\n",
       "    .dataframe tbody tr th {\n",
       "        vertical-align: top;\n",
       "    }\n",
       "\n",
       "    .dataframe thead th {\n",
       "        text-align: right;\n",
       "    }\n",
       "</style>\n",
       "<table border=\"1\" class=\"dataframe\">\n",
       "  <thead>\n",
       "    <tr style=\"text-align: right;\">\n",
       "      <th></th>\n",
       "      <th>Date</th>\n",
       "      <th>ppm</th>\n",
       "      <th>Year</th>\n",
       "      <th>year</th>\n",
       "      <th>month</th>\n",
       "      <th>quarter</th>\n",
       "      <th>day_of_month</th>\n",
       "      <th>day_of_week</th>\n",
       "      <th>week_of_year</th>\n",
       "      <th>is_month_start</th>\n",
       "      <th>...</th>\n",
       "      <th>ppm_lag1</th>\n",
       "      <th>ppm_lag2</th>\n",
       "      <th>ppm_rolling_mean_3</th>\n",
       "      <th>ppm_rolling_std_3</th>\n",
       "      <th>month_sin</th>\n",
       "      <th>month_cos</th>\n",
       "      <th>time_elapsed</th>\n",
       "      <th>fourier_sin</th>\n",
       "      <th>fourier_cos</th>\n",
       "      <th>transformed_ppm</th>\n",
       "    </tr>\n",
       "  </thead>\n",
       "  <tbody>\n",
       "    <tr>\n",
       "      <th>0</th>\n",
       "      <td>2018-01-01</td>\n",
       "      <td>274.908024</td>\n",
       "      <td>2018</td>\n",
       "      <td>2018</td>\n",
       "      <td>1</td>\n",
       "      <td>1</td>\n",
       "      <td>1</td>\n",
       "      <td>0</td>\n",
       "      <td>1</td>\n",
       "      <td>True</td>\n",
       "      <td>...</td>\n",
       "      <td>0.000000</td>\n",
       "      <td>0.000000</td>\n",
       "      <td>0.000000</td>\n",
       "      <td>0.000000</td>\n",
       "      <td>5.000000e-01</td>\n",
       "      <td>0.866025</td>\n",
       "      <td>0</td>\n",
       "      <td>0.000000</td>\n",
       "      <td>1.000000</td>\n",
       "      <td>65.081000</td>\n",
       "    </tr>\n",
       "    <tr>\n",
       "      <th>1</th>\n",
       "      <td>2018-02-01</td>\n",
       "      <td>390.142861</td>\n",
       "      <td>2018</td>\n",
       "      <td>2018</td>\n",
       "      <td>2</td>\n",
       "      <td>1</td>\n",
       "      <td>1</td>\n",
       "      <td>3</td>\n",
       "      <td>5</td>\n",
       "      <td>True</td>\n",
       "      <td>...</td>\n",
       "      <td>274.908024</td>\n",
       "      <td>0.000000</td>\n",
       "      <td>0.000000</td>\n",
       "      <td>0.000000</td>\n",
       "      <td>8.660254e-01</td>\n",
       "      <td>0.500000</td>\n",
       "      <td>31</td>\n",
       "      <td>0.508671</td>\n",
       "      <td>0.860961</td>\n",
       "      <td>82.920813</td>\n",
       "    </tr>\n",
       "    <tr>\n",
       "      <th>3</th>\n",
       "      <td>2018-04-01</td>\n",
       "      <td>319.731697</td>\n",
       "      <td>2018</td>\n",
       "      <td>2018</td>\n",
       "      <td>4</td>\n",
       "      <td>2</td>\n",
       "      <td>1</td>\n",
       "      <td>6</td>\n",
       "      <td>13</td>\n",
       "      <td>True</td>\n",
       "      <td>...</td>\n",
       "      <td>390.142861</td>\n",
       "      <td>274.908024</td>\n",
       "      <td>328.260861</td>\n",
       "      <td>58.088957</td>\n",
       "      <td>8.660254e-01</td>\n",
       "      <td>-0.500000</td>\n",
       "      <td>90</td>\n",
       "      <td>0.999769</td>\n",
       "      <td>0.021516</td>\n",
       "      <td>72.262044</td>\n",
       "    </tr>\n",
       "    <tr>\n",
       "      <th>4</th>\n",
       "      <td>2018-05-01</td>\n",
       "      <td>231.203728</td>\n",
       "      <td>2018</td>\n",
       "      <td>2018</td>\n",
       "      <td>5</td>\n",
       "      <td>2</td>\n",
       "      <td>1</td>\n",
       "      <td>1</td>\n",
       "      <td>18</td>\n",
       "      <td>True</td>\n",
       "      <td>...</td>\n",
       "      <td>319.731697</td>\n",
       "      <td>390.142861</td>\n",
       "      <td>313.692762</td>\n",
       "      <td>79.641469</td>\n",
       "      <td>5.000000e-01</td>\n",
       "      <td>-0.866025</td>\n",
       "      <td>120</td>\n",
       "      <td>0.880012</td>\n",
       "      <td>-0.474951</td>\n",
       "      <td>57.705752</td>\n",
       "    </tr>\n",
       "    <tr>\n",
       "      <th>5</th>\n",
       "      <td>2018-06-01</td>\n",
       "      <td>231.198904</td>\n",
       "      <td>2018</td>\n",
       "      <td>2018</td>\n",
       "      <td>6</td>\n",
       "      <td>2</td>\n",
       "      <td>1</td>\n",
       "      <td>4</td>\n",
       "      <td>22</td>\n",
       "      <td>True</td>\n",
       "      <td>...</td>\n",
       "      <td>231.203728</td>\n",
       "      <td>319.731697</td>\n",
       "      <td>260.711443</td>\n",
       "      <td>51.113039</td>\n",
       "      <td>1.224647e-16</td>\n",
       "      <td>-1.000000</td>\n",
       "      <td>151</td>\n",
       "      <td>0.516062</td>\n",
       "      <td>-0.856551</td>\n",
       "      <td>57.704915</td>\n",
       "    </tr>\n",
       "  </tbody>\n",
       "</table>\n",
       "<p>5 rows × 21 columns</p>\n",
       "</div>"
      ],
      "text/plain": [
       "        Date         ppm  Year  year  month  quarter  day_of_month  \\\n",
       "0 2018-01-01  274.908024  2018  2018      1        1             1   \n",
       "1 2018-02-01  390.142861  2018  2018      2        1             1   \n",
       "3 2018-04-01  319.731697  2018  2018      4        2             1   \n",
       "4 2018-05-01  231.203728  2018  2018      5        2             1   \n",
       "5 2018-06-01  231.198904  2018  2018      6        2             1   \n",
       "\n",
       "   day_of_week  week_of_year  is_month_start  ...    ppm_lag1    ppm_lag2  \\\n",
       "0            0             1            True  ...    0.000000    0.000000   \n",
       "1            3             5            True  ...  274.908024    0.000000   \n",
       "3            6            13            True  ...  390.142861  274.908024   \n",
       "4            1            18            True  ...  319.731697  390.142861   \n",
       "5            4            22            True  ...  231.203728  319.731697   \n",
       "\n",
       "   ppm_rolling_mean_3  ppm_rolling_std_3     month_sin  month_cos  \\\n",
       "0            0.000000           0.000000  5.000000e-01   0.866025   \n",
       "1            0.000000           0.000000  8.660254e-01   0.500000   \n",
       "3          328.260861          58.088957  8.660254e-01  -0.500000   \n",
       "4          313.692762          79.641469  5.000000e-01  -0.866025   \n",
       "5          260.711443          51.113039  1.224647e-16  -1.000000   \n",
       "\n",
       "   time_elapsed  fourier_sin  fourier_cos  transformed_ppm  \n",
       "0             0     0.000000     1.000000        65.081000  \n",
       "1            31     0.508671     0.860961        82.920813  \n",
       "3            90     0.999769     0.021516        72.262044  \n",
       "4           120     0.880012    -0.474951        57.705752  \n",
       "5           151     0.516062    -0.856551        57.704915  \n",
       "\n",
       "[5 rows x 21 columns]"
      ]
     },
     "execution_count": 269,
     "metadata": {},
     "output_type": "execute_result"
    }
   ],
   "source": [
    "import numpy as np\n",
    "import pandas as pd\n",
    "from scipy.stats import boxcox\n",
    "# Ensure Date column is in datetime format\n",
    "mon_fore.loc[:, 'Date'] = pd.to_datetime(mon_fore['Date'])\n",
    "\n",
    "# Extract time-based features using .loc to avoid the warning\n",
    "mon_fore.loc[:, 'year'] = mon_fore['Date'].dt.year\n",
    "mon_fore.loc[:, 'month'] = mon_fore['Date'].dt.month\n",
    "mon_fore.loc[:, 'quarter'] = mon_fore['Date'].dt.quarter\n",
    "mon_fore.loc[:, 'day_of_month'] = mon_fore['Date'].dt.day\n",
    "mon_fore.loc[:, 'day_of_week'] = mon_fore['Date'].dt.dayofweek\n",
    "mon_fore.loc[:, 'week_of_year'] = mon_fore['Date'].dt.isocalendar().week\n",
    "mon_fore.loc[:, 'is_month_start'] = mon_fore['Date'].dt.is_month_start\n",
    "mon_fore.loc[:, 'is_month_end'] = mon_fore['Date'].dt.is_month_end\n",
    "\n",
    "# Lagged features\n",
    "mon_fore.loc[:, 'ppm_lag1'] = mon_fore['ppm'].shift(1)\n",
    "mon_fore.loc[:, 'ppm_lag2'] = mon_fore['ppm'].shift(2)\n",
    "\n",
    "# Rolling features\n",
    "mon_fore.loc[:, 'ppm_rolling_mean_3'] = mon_fore['ppm'].rolling(window=3).mean()\n",
    "mon_fore.loc[:, 'ppm_rolling_std_3'] = mon_fore['ppm'].rolling(window=3).std()\n",
    "\n",
    "# Sine/Cosine transformations for cyclic features (e.g., month)\n",
    "mon_fore.loc[:, 'month_sin'] = np.sin(2 * np.pi * mon_fore['month'] / 12)\n",
    "mon_fore.loc[:, 'month_cos'] = np.cos(2 * np.pi * mon_fore['month'] / 12)\n",
    "\n",
    "# Time elapsed since the first date\n",
    "mon_fore.loc[:, 'time_elapsed'] = (mon_fore['Date'] - mon_fore['Date'].min()).dt.days\n",
    "\n",
    "# Fourier terms to capture yearly seasonality\n",
    "mon_fore.loc[:, 'fourier_sin'] = np.sin(2 * np.pi * mon_fore['time_elapsed'] / 365)\n",
    "mon_fore.loc[:, 'fourier_cos'] = np.cos(2 * np.pi * mon_fore['time_elapsed'] / 365)\n",
    "\n",
    "# Fill any NaN values generated by lagging or rolling with 0\n",
    "mon_fore.fillna(0, inplace=True)\n",
    "ppm_positive = mon_fore['ppm'] + 1e-6  # Small shift to ensure positive values\n",
    "mon_fore['transformed_ppm'], lambda_bc = boxcox(ppm_positive)\n",
    "\n",
    "# Display the updated DataFrame\n",
    "mon_fore.head()\n"
   ]
  },
  {
   "cell_type": "code",
   "execution_count": 271,
   "id": "6ced8586",
   "metadata": {},
   "outputs": [
    {
     "name": "stdout",
     "output_type": "stream",
     "text": [
      "Feature: ppm_lag1, ADF p-value: 0.06017509625081009\n",
      "Feature: ppm_lag2, ADF p-value: 0.010379664679021246\n",
      "Feature: ppm_rolling_mean_3, ADF p-value: 0.010831123553781312\n",
      "Feature: ppm_rolling_std_3, ADF p-value: 0.00012826122849765999\n",
      "Feature: month_sin, ADF p-value: 0.24174616189315268\n",
      "Feature: month_cos, ADF p-value: 1.7990503484501694e-07\n",
      "Feature: time_elapsed, ADF p-value: 0.8738267703833869\n",
      "Feature: fourier_sin, ADF p-value: 1.226839617213615e-11\n",
      "Feature: fourier_cos, ADF p-value: 2.0723237081063173e-13\n",
      "Feature: transformed_ppm, ADF p-value: 0.03989422997287057\n"
     ]
    }
   ],
   "source": [
    "import pandas as pd\n",
    "from statsmodels.tsa.stattools import adfuller\n",
    "\n",
    "# Define a function to perform ADF test\n",
    "def adf_test(series):\n",
    "    result = adfuller(series.dropna(), autolag='AIC')\n",
    "    return result[1]  # p-value\n",
    "\n",
    "# Load your DataFrame\n",
    "# mon_fore = pd.read_csv('path_to_your_data.csv')\n",
    "\n",
    "# List of features to test\n",
    "features = ['ppm_lag1', 'ppm_lag2', 'ppm_rolling_mean_3', 'ppm_rolling_std_3', 'month_sin', 'month_cos',\n",
    "            'time_elapsed', 'fourier_sin', 'fourier_cos', 'transformed_ppm']\n",
    "\n",
    "# Perform ADF test and store results\n",
    "results = {}\n",
    "for feature in features:\n",
    "    p_value = adf_test(mon_fore[feature])\n",
    "    results[feature] = p_value\n",
    "\n",
    "# Print results\n",
    "for feature, p_value in results.items():\n",
    "    print(f'Feature: {feature}, ADF p-value: {p_value}')\n"
   ]
  },
  {
   "cell_type": "code",
   "execution_count": 272,
   "id": "9ec109ae",
   "metadata": {},
   "outputs": [
    {
     "name": "stdout",
     "output_type": "stream",
     "text": [
      "transformed_ppm       1.000000\n",
      "ppm_rolling_mean_3    0.431938\n",
      "ppm_lag1              0.258383\n",
      "fourier_sin           0.245646\n",
      "month_sin             0.045644\n",
      "time_elapsed         -0.024591\n",
      "ppm_rolling_std_3    -0.185562\n",
      "ppm_lag2             -0.221563\n",
      "fourier_cos          -0.324201\n",
      "month_cos            -0.389928\n",
      "Name: transformed_ppm, dtype: float64\n"
     ]
    }
   ],
   "source": [
    "import pandas as pd\n",
    "\n",
    "# Create a DataFrame with all features and transformed_ppm\n",
    "feature_df = mon_fore[['ppm_lag1', 'ppm_lag2', 'ppm_rolling_mean_3', 'ppm_rolling_std_3', 'month_sin', 'month_cos',\n",
    "                 'time_elapsed', 'fourier_sin', 'fourier_cos', 'transformed_ppm']]\n",
    "\n",
    "# Calculate the correlation matrix\n",
    "corr_matrix = feature_df.corr()\n",
    "\n",
    "# Check the correlation of each feature with the target variable\n",
    "corr_with_target = corr_matrix['transformed_ppm'].sort_values(ascending=False)\n",
    "print(corr_with_target)"
   ]
  },
  {
   "cell_type": "code",
   "execution_count": 185,
   "id": "13af0ae2",
   "metadata": {},
   "outputs": [],
   "source": [
    "mon_fore.reset_index(inplace=True)"
   ]
  },
  {
   "cell_type": "code",
   "execution_count": 177,
   "id": "bc15af5b",
   "metadata": {},
   "outputs": [
    {
     "name": "stderr",
     "output_type": "stream",
     "text": [
      "C:\\Users\\preet\\AppData\\Local\\Temp\\ipykernel_3400\\4061158102.py:15: SettingWithCopyWarning: \n",
      "A value is trying to be set on a copy of a slice from a DataFrame.\n",
      "Try using .loc[row_indexer,col_indexer] = value instead\n",
      "\n",
      "See the caveats in the documentation: https://pandas.pydata.org/pandas-docs/stable/user_guide/indexing.html#returning-a-view-versus-a-copy\n",
      "  mon_fore['Date'] = pd.to_datetime(mon_fore['Date'])\n",
      "C:\\Users\\preet\\AppData\\Local\\Temp\\ipykernel_3400\\4061158102.py:20: SettingWithCopyWarning: \n",
      "A value is trying to be set on a copy of a slice from a DataFrame.\n",
      "Try using .loc[row_indexer,col_indexer] = value instead\n",
      "\n",
      "See the caveats in the documentation: https://pandas.pydata.org/pandas-docs/stable/user_guide/indexing.html#returning-a-view-versus-a-copy\n",
      "  mon_fore['transformed_ppm'], lambda_bc = boxcox(ppm_positive)\n",
      "C:\\Users\\preet\\anaconda3\\lib\\site-packages\\statsmodels\\tsa\\base\\tsa_model.py:471: ValueWarning: A date index has been provided, but it has no associated frequency information and so will be ignored when e.g. forecasting.\n",
      "  self._init_dates(dates, freq)\n",
      "C:\\Users\\preet\\anaconda3\\lib\\site-packages\\statsmodels\\tsa\\base\\tsa_model.py:471: ValueWarning: A date index has been provided, but it has no associated frequency information and so will be ignored when e.g. forecasting.\n",
      "  self._init_dates(dates, freq)\n",
      "C:\\Users\\preet\\anaconda3\\lib\\site-packages\\statsmodels\\tsa\\statespace\\sarimax.py:966: UserWarning: Non-stationary starting autoregressive parameters found. Using zeros as starting parameters.\n",
      "  warn('Non-stationary starting autoregressive parameters'\n",
      "C:\\Users\\preet\\anaconda3\\lib\\site-packages\\statsmodels\\tsa\\statespace\\sarimax.py:978: UserWarning: Non-invertible starting MA parameters found. Using zeros as starting parameters.\n",
      "  warn('Non-invertible starting MA parameters found.'\n",
      "C:\\Users\\preet\\anaconda3\\lib\\site-packages\\statsmodels\\tsa\\statespace\\sarimax.py:1009: UserWarning: Non-invertible starting seasonal moving average Using zeros as starting parameters.\n",
      "  warn('Non-invertible starting seasonal moving average'\n",
      "C:\\Users\\preet\\anaconda3\\lib\\site-packages\\statsmodels\\base\\model.py:604: ConvergenceWarning: Maximum Likelihood optimization failed to converge. Check mle_retvals\n",
      "  warnings.warn(\"Maximum Likelihood optimization failed to \"\n",
      "C:\\Users\\preet\\anaconda3\\lib\\site-packages\\statsmodels\\tsa\\base\\tsa_model.py:834: ValueWarning: No supported index is available. Prediction results will be given with an integer index beginning at `start`.\n",
      "  return get_prediction_index(\n"
     ]
    },
    {
     "name": "stdout",
     "output_type": "stream",
     "text": [
      "Train MSE: 1895.0792393493819\n",
      "Test MSE: 5481.881534021194\n",
      "Train R^2: 0.6268792769111435\n",
      "Test R^2: 0.46160903939136133\n"
     ]
    },
    {
     "data": {
      "image/png": "[encoded data removed]",
      "text/plain": [
       "<Figure size 720x432 with 1 Axes>"
      ]
     },
     "metadata": {
      "needs_background": "light"
     },
     "output_type": "display_data"
    }
   ],
   "source": [
    "import numpy as np\n",
    "import pandas as pd\n",
    "import matplotlib.pyplot as plt\n",
    "from sklearn.model_selection import train_test_split\n",
    "from sklearn.metrics import mean_squared_error, r2_score\n",
    "from statsmodels.tsa.statespace.sarimax import SARIMAX\n",
    "from statsmodels.tsa.stattools import adfuller\n",
    "from scipy.special import inv_boxcox\n",
    "from scipy.stats import boxcox\n",
    "\n",
    "# Set the random seed for reproducibility\n",
    "np.random.seed(42)\n",
    "\n",
    "# Convert 'Date' to DateTimeIndex and set as index\n",
    "mon_fore['Date'] = pd.to_datetime(mon_fore['Date'])\n",
    "mon_fore.set_index('Date', inplace=True)\n",
    "\n",
    "# Perform Box-Cox transformation on 'ppm' and get lambda\n",
    "ppm_positive = mon_fore['ppm'] + 1e-6  # Small shift to ensure positive values\n",
    "mon_fore['transformed_ppm'], lambda_bc = boxcox(ppm_positive)\n",
    "\n",
    "# Define features and target variable\n",
    "X = mon_fore[['ppm_rolling_std_3', 'ppm_lag2', 'ppm_rolling_mean_3']]\n",
    "y = mon_fore['transformed_ppm']\n",
    "\n",
    "# Split the data into training and testing sets, preserving the index\n",
    "X_train, X_test, y_train, y_test = train_test_split(X, y, test_size=0.2, shuffle=False)\n",
    "\n",
    "# Preserve the original DateTimeIndex for y_train and y_test\n",
    "y_train.index = X_train.index\n",
    "y_test.index = X_test.index\n",
    "\n",
    "# Perform ADF test on the non-stationary variable\n",
    "# Define and fit the SARIMAX model with differenced exogenous variable\n",
    "model = SARIMAX(y_train, exog=X_train, order=(1, 0, 1), seasonal_order=(1, 0, 1, 12))\n",
    "sarimax_model = model.fit()\n",
    "\n",
    "# Make predictions\n",
    "train_pred = sarimax_model.predict(start=0, end=len(y_train)-1, exog=X_train)\n",
    "test_pred = sarimax_model.predict(start=len(y_train), end=len(y)-1, exog=X_test)\n",
    "\n",
    "# Evaluate the model\n",
    "train_mse = mean_squared_error(y_train, train_pred)\n",
    "test_mse = mean_squared_error(y_test, test_pred)\n",
    "train_r2 = r2_score(y_train, train_pred)\n",
    "test_r2 = r2_score(y_test, test_pred)\n",
    "\n",
    "print(f\"Train MSE: {train_mse}\")\n",
    "print(f\"Test MSE: {test_mse}\")\n",
    "print(f\"Train R^2: {train_r2}\")\n",
    "print(f\"Test R^2: {test_r2}\")\n",
    "\n",
    "# Inverse Box-Cox transformation for original and predicted values\n",
    "y_train_original = inv_boxcox(y_train, lambda_bc)\n",
    "y_test_original = inv_boxcox(y_test, lambda_bc)\n",
    "train_pred_inv = inv_boxcox(train_pred, lambda_bc)\n",
    "test_pred_inv = inv_boxcox(test_pred, lambda_bc)\n",
    "\n",
    "# Calculate upper and lower intervals based on the confidence level (e.g., 95%)\n",
    "ci_multiplier = 3  # for 95% confidence level, you may adjust based on actual confidence interval\n",
    "test_ci_upper = test_pred_inv + ci_multiplier * np.sqrt(test_mse)\n",
    "test_ci_lower = test_pred_inv - ci_multiplier * np.sqrt(test_mse)\n",
    "\n",
    "# Convert indices and data to numpy arrays for plotting\n",
    "y_train_index = y_train.index.to_numpy()\n",
    "y_train_original = y_train_original.to_numpy()\n",
    "y_test_index = y_test.index.to_numpy()\n",
    "y_test_original = y_test_original.to_numpy()\n",
    "test_pred_inv = test_pred_inv.to_numpy()\n",
    "test_ci_upper = test_ci_upper.to_numpy()\n",
    "test_ci_lower = test_ci_lower.to_numpy()\n",
    "\n",
    "# Plot the results\n",
    "plt.figure(figsize=(10, 6))\n",
    "plt.plot(y_train_index, y_train_original, label='Train')\n",
    "plt.plot(y_test_index, y_test_original, label='Test')\n",
    "plt.plot(y_test_index, test_pred_inv, label='Predictions', color='red')\n",
    "plt.fill_between(y_test_index, test_ci_lower, test_ci_upper, color='red', alpha=0.2)\n",
    "plt.legend()\n",
    "plt.show()\n"
   ]
  },
  {
   "cell_type": "code",
   "execution_count": 211,
   "id": "44fec1ea",
   "metadata": {},
   "outputs": [
    {
     "ename": "KeyError",
     "evalue": "'Date'",
     "output_type": "error",
     "traceback": [
      "\u001b[1;31m---------------------------------------------------------------------------\u001b[0m",
      "\u001b[1;31mKeyError\u001b[0m                                  Traceback (most recent call last)",
      "File \u001b[1;32m~\\anaconda3\\lib\\site-packages\\pandas\\core\\indexes\\base.py:3652\u001b[0m, in \u001b[0;36mIndex.get_loc\u001b[1;34m(self, key)\u001b[0m\n\u001b[0;32m   3651\u001b[0m \u001b[38;5;28;01mtry\u001b[39;00m:\n\u001b[1;32m-> 3652\u001b[0m     \u001b[38;5;28;01mreturn\u001b[39;00m \u001b[38;5;28;43mself\u001b[39;49m\u001b[38;5;241;43m.\u001b[39;49m\u001b[43m_engine\u001b[49m\u001b[38;5;241;43m.\u001b[39;49m\u001b[43mget_loc\u001b[49m\u001b[43m(\u001b[49m\u001b[43mcasted_key\u001b[49m\u001b[43m)\u001b[49m\n\u001b[0;32m   3653\u001b[0m \u001b[38;5;28;01mexcept\u001b[39;00m \u001b[38;5;167;01mKeyError\u001b[39;00m \u001b[38;5;28;01mas\u001b[39;00m err:\n",
      "File \u001b[1;32m~\\anaconda3\\lib\\site-packages\\pandas\\_libs\\index.pyx:147\u001b[0m, in \u001b[0;36mpandas._libs.index.IndexEngine.get_loc\u001b[1;34m()\u001b[0m\n",
      "File \u001b[1;32m~\\anaconda3\\lib\\site-packages\\pandas\\_libs\\index.pyx:176\u001b[0m, in \u001b[0;36mpandas._libs.index.IndexEngine.get_loc\u001b[1;34m()\u001b[0m\n",
      "File \u001b[1;32mpandas\\_libs\\hashtable_class_helper.pxi:7080\u001b[0m, in \u001b[0;36mpandas._libs.hashtable.PyObjectHashTable.get_item\u001b[1;34m()\u001b[0m\n",
      "File \u001b[1;32mpandas\\_libs\\hashtable_class_helper.pxi:7088\u001b[0m, in \u001b[0;36mpandas._libs.hashtable.PyObjectHashTable.get_item\u001b[1;34m()\u001b[0m\n",
      "\u001b[1;31mKeyError\u001b[0m: 'Date'",
      "\nThe above exception was the direct cause of the following exception:\n",
      "\u001b[1;31mKeyError\u001b[0m                                  Traceback (most recent call last)",
      "Input \u001b[1;32mIn [211]\u001b[0m, in \u001b[0;36m<cell line: 14>\u001b[1;34m()\u001b[0m\n\u001b[0;32m     11\u001b[0m np\u001b[38;5;241m.\u001b[39mrandom\u001b[38;5;241m.\u001b[39mseed(\u001b[38;5;241m42\u001b[39m)\n\u001b[0;32m     13\u001b[0m \u001b[38;5;66;03m# Convert 'Date' to DateTimeIndex and set as index\u001b[39;00m\n\u001b[1;32m---> 14\u001b[0m mon_fore[\u001b[38;5;124m'\u001b[39m\u001b[38;5;124mDate\u001b[39m\u001b[38;5;124m'\u001b[39m] \u001b[38;5;241m=\u001b[39m pd\u001b[38;5;241m.\u001b[39mto_datetime(\u001b[43mmon_fore\u001b[49m\u001b[43m[\u001b[49m\u001b[38;5;124;43m'\u001b[39;49m\u001b[38;5;124;43mDate\u001b[39;49m\u001b[38;5;124;43m'\u001b[39;49m\u001b[43m]\u001b[49m)\n\u001b[0;32m     15\u001b[0m mon_fore\u001b[38;5;241m.\u001b[39mset_index(\u001b[38;5;124m'\u001b[39m\u001b[38;5;124mDate\u001b[39m\u001b[38;5;124m'\u001b[39m, inplace\u001b[38;5;241m=\u001b[39m\u001b[38;5;28;01mTrue\u001b[39;00m)\n\u001b[0;32m     17\u001b[0m \u001b[38;5;66;03m# Define features and target variable\u001b[39;00m\n",
      "File \u001b[1;32m~\\anaconda3\\lib\\site-packages\\pandas\\core\\frame.py:3761\u001b[0m, in \u001b[0;36mDataFrame.__getitem__\u001b[1;34m(self, key)\u001b[0m\n\u001b[0;32m   3759\u001b[0m \u001b[38;5;28;01mif\u001b[39;00m \u001b[38;5;28mself\u001b[39m\u001b[38;5;241m.\u001b[39mcolumns\u001b[38;5;241m.\u001b[39mnlevels \u001b[38;5;241m>\u001b[39m \u001b[38;5;241m1\u001b[39m:\n\u001b[0;32m   3760\u001b[0m     \u001b[38;5;28;01mreturn\u001b[39;00m \u001b[38;5;28mself\u001b[39m\u001b[38;5;241m.\u001b[39m_getitem_multilevel(key)\n\u001b[1;32m-> 3761\u001b[0m indexer \u001b[38;5;241m=\u001b[39m \u001b[38;5;28;43mself\u001b[39;49m\u001b[38;5;241;43m.\u001b[39;49m\u001b[43mcolumns\u001b[49m\u001b[38;5;241;43m.\u001b[39;49m\u001b[43mget_loc\u001b[49m\u001b[43m(\u001b[49m\u001b[43mkey\u001b[49m\u001b[43m)\u001b[49m\n\u001b[0;32m   3762\u001b[0m \u001b[38;5;28;01mif\u001b[39;00m is_integer(indexer):\n\u001b[0;32m   3763\u001b[0m     indexer \u001b[38;5;241m=\u001b[39m [indexer]\n",
      "File \u001b[1;32m~\\anaconda3\\lib\\site-packages\\pandas\\core\\indexes\\base.py:3654\u001b[0m, in \u001b[0;36mIndex.get_loc\u001b[1;34m(self, key)\u001b[0m\n\u001b[0;32m   3652\u001b[0m     \u001b[38;5;28;01mreturn\u001b[39;00m \u001b[38;5;28mself\u001b[39m\u001b[38;5;241m.\u001b[39m_engine\u001b[38;5;241m.\u001b[39mget_loc(casted_key)\n\u001b[0;32m   3653\u001b[0m \u001b[38;5;28;01mexcept\u001b[39;00m \u001b[38;5;167;01mKeyError\u001b[39;00m \u001b[38;5;28;01mas\u001b[39;00m err:\n\u001b[1;32m-> 3654\u001b[0m     \u001b[38;5;28;01mraise\u001b[39;00m \u001b[38;5;167;01mKeyError\u001b[39;00m(key) \u001b[38;5;28;01mfrom\u001b[39;00m \u001b[38;5;21;01merr\u001b[39;00m\n\u001b[0;32m   3655\u001b[0m \u001b[38;5;28;01mexcept\u001b[39;00m \u001b[38;5;167;01mTypeError\u001b[39;00m:\n\u001b[0;32m   3656\u001b[0m     \u001b[38;5;66;03m# If we have a listlike key, _check_indexing_error will raise\u001b[39;00m\n\u001b[0;32m   3657\u001b[0m     \u001b[38;5;66;03m#  InvalidIndexError. Otherwise we fall through and re-raise\u001b[39;00m\n\u001b[0;32m   3658\u001b[0m     \u001b[38;5;66;03m#  the TypeError.\u001b[39;00m\n\u001b[0;32m   3659\u001b[0m     \u001b[38;5;28mself\u001b[39m\u001b[38;5;241m.\u001b[39m_check_indexing_error(key)\n",
      "\u001b[1;31mKeyError\u001b[0m: 'Date'"
     ]
    }
   ],
   "source": [
    "import numpy as np\n",
    "import pandas as pd\n",
    "import matplotlib.pyplot as plt\n",
    "from sklearn.model_selection import train_test_split\n",
    "from sklearn.metrics import mean_squared_error, r2_score\n",
    "from statsmodels.tsa.statespace.sarimax import SARIMAX\n",
    "from statsmodels.tsa.stattools import adfuller\n",
    "from scipy.special import inv_boxcox\n",
    "\n",
    "# Set the random seed for reproducibility\n",
    "np.random.seed(42)\n",
    "\n",
    "# Convert 'Date' to DateTimeIndex and set as index\n",
    "mon_fore['Date'] = pd.to_datetime(mon_fore['Date'])\n",
    "mon_fore.set_index('Date', inplace=True)\n",
    "\n",
    "# Define features and target variable\n",
    "X = mon_fore[[\"ppm_rolling_mean_3\", \"ppm_lag1\", \"fourier_sin\"]]\n",
    "y = mon_fore['transformed_ppm']\n",
    "\n",
    "# Check stationarity of features\n",
    "def check_stationarity(series):\n",
    "    result = adfuller(series)\n",
    "    return result[1]  # p-value\n",
    "\n",
    "# Apply differencing if necessary\n",
    "X_diff = X.diff().dropna()\n",
    "X_diff.columns = [col + '_diff' for col in X.columns]\n",
    "\n",
    "# Update features with differenced data\n",
    "X = X_diff\n",
    "\n",
    "# Split the data into training and testing sets, preserving the index\n",
    "X_train, X_test, y_train, y_test = train_test_split(X, y, test_size=0.2, shuffle=False)\n",
    "\n",
    "# Preserve the original DateTimeIndex for y_train and y_test\n",
    "y_train.index = X_train.index\n",
    "y_test.index = X_test.index\n",
    "\n",
    "# Define and fit the SARIMAX model with differenced exogenous variable\n",
    "model = SARIMAX(y_train, exog=X_train, order=(1, 1, 1), seasonal_order=(1, 1, 1, 12))\n",
    "sarimax_model = model.fit()\n",
    "\n",
    "# Make predictions\n",
    "train_pred = sarimax_model.predict(start=0, end=len(y_train)-1, exog=X_train)\n",
    "test_pred = sarimax_model.predict(start=len(y_train), end=len(y)-1, exog=X_test)\n",
    "\n",
    "# Evaluate the model\n",
    "train_mse = mean_squared_error(y_train, train_pred)\n",
    "test_mse = mean_squared_error(y_test, test_pred)\n",
    "train_r2 = r2_score(y_train, train_pred)\n",
    "test_r2 = r2_score(y_test, test_pred)\n",
    "\n",
    "print(f\"Train MSE: {train_mse}\")\n",
    "print(f\"Test MSE: {test_mse}\")\n",
    "print(f\"Train R^2: {train_r2}\")\n",
    "print(f\"Test R^2: {test_r2}\")\n",
    "\n",
    "# Inverse Box-Cox transformation for original and predicted values\n",
    "lambda_value = 0.5  # Replace this with the actual lambda value used in your Box-Cox transformation\n",
    "y_train_original = inv_boxcox(y_train, lambda_value)\n",
    "y_test_original = inv_boxcox(y_test, lambda_value)\n",
    "train_pred_inv = inv_boxcox(train_pred, lambda_value)\n",
    "test_pred_inv = inv_boxcox(test_pred, lambda_value)\n",
    "\n",
    "# Calculate upper and lower intervals based on the confidence level (e.g., 95%)\n",
    "ci_multiplier = 4  # for 95% confidence level, you may adjust based on actual confidence interval\n",
    "test_ci_upper = test_pred_inv + ci_multiplier * np.sqrt(test_mse)\n",
    "test_ci_lower = test_pred_inv - ci_multiplier * np.sqrt(test_mse)\n",
    "\n",
    "# Debugging: Print shapes and types of variables\n",
    "print(f\"y_train.index type: {type(y_train.index)}\")\n",
    "print(f\"y_train_original shape: {y_train_original.shape}\")\n",
    "print(f\"test_pred_inv shape: {test_pred_inv.shape}\")\n",
    "\n",
    "# Convert indices and data to numpy arrays for plotting\n",
    "y_train_index = y_train.index.to_numpy()\n",
    "y_train_original = y_train_original.to_numpy()\n",
    "y_test_index = y_test.index.to_numpy()\n",
    "y_test_original = y_test_original.to_numpy()\n",
    "test_pred_inv = test_pred_inv.to_numpy()\n",
    "test_ci_upper = test_ci_upper.to_numpy()\n",
    "test_ci_lower = test_ci_lower.to_numpy()\n",
    "\n",
    "# Plot the results\n",
    "plt.figure(figsize=(10, 6))\n",
    "plt.plot(y_train_index, y_train_original, label='Train')\n",
    "plt.plot(y_test_index, y_test_original, label='Test')\n",
    "plt.plot(y_test_index, test_pred_inv, label='Predictions', color='red')\n",
    "plt.fill_between(y_test_index, test_ci_lower, test_ci_upper, color='red', alpha=0.2)\n",
    "plt.legend()\n",
    "plt.show()\n"
   ]
  },
  {
   "cell_type": "code",
   "execution_count": 273,
   "id": "67fb58c6",
   "metadata": {},
   "outputs": [
    {
     "name": "stderr",
     "output_type": "stream",
     "text": [
      "C:\\Users\\preet\\AppData\\Local\\Temp\\ipykernel_3400\\3454773489.py:14: SettingWithCopyWarning: \n",
      "A value is trying to be set on a copy of a slice from a DataFrame.\n",
      "Try using .loc[row_indexer,col_indexer] = value instead\n",
      "\n",
      "See the caveats in the documentation: https://pandas.pydata.org/pandas-docs/stable/user_guide/indexing.html#returning-a-view-versus-a-copy\n",
      "  mon_fore['Date'] = pd.to_datetime(mon_fore['Date'])\n",
      "C:\\Users\\preet\\anaconda3\\lib\\site-packages\\statsmodels\\tsa\\base\\tsa_model.py:471: ValueWarning: A date index has been provided, but it has no associated frequency information and so will be ignored when e.g. forecasting.\n",
      "  self._init_dates(dates, freq)\n",
      "C:\\Users\\preet\\anaconda3\\lib\\site-packages\\statsmodels\\tsa\\base\\tsa_model.py:471: ValueWarning: A date index has been provided, but it has no associated frequency information and so will be ignored when e.g. forecasting.\n",
      "  self._init_dates(dates, freq)\n",
      "C:\\Users\\preet\\anaconda3\\lib\\site-packages\\statsmodels\\tsa\\statespace\\sarimax.py:966: UserWarning: Non-stationary starting autoregressive parameters found. Using zeros as starting parameters.\n",
      "  warn('Non-stationary starting autoregressive parameters'\n",
      "C:\\Users\\preet\\anaconda3\\lib\\site-packages\\statsmodels\\tsa\\statespace\\sarimax.py:1009: UserWarning: Non-invertible starting seasonal moving average Using zeros as starting parameters.\n",
      "  warn('Non-invertible starting seasonal moving average'\n",
      "C:\\Users\\preet\\anaconda3\\lib\\site-packages\\statsmodels\\base\\model.py:604: ConvergenceWarning: Maximum Likelihood optimization failed to converge. Check mle_retvals\n",
      "  warnings.warn(\"Maximum Likelihood optimization failed to \"\n",
      "C:\\Users\\preet\\anaconda3\\lib\\site-packages\\statsmodels\\tsa\\base\\tsa_model.py:834: ValueWarning: No supported index is available. Prediction results will be given with an integer index beginning at `start`.\n",
      "  return get_prediction_index(\n"
     ]
    },
    {
     "name": "stdout",
     "output_type": "stream",
     "text": [
      "Train MSE: 382.72385953662507\n",
      "Test MSE: 81.12829816671936\n",
      "Train R^2: 0.07386547923811526\n",
      "Test R^2: 0.8453275429893348\n",
      "y_train.index type: <class 'pandas.core.indexes.datetimes.DatetimeIndex'>\n",
      "y_train_original shape: (51,)\n",
      "test_pred_inv shape: (13,)\n"
     ]
    },
    {
     "data": {
      "image/png": "[encoded data removed]",
      "text/plain": [
       "<Figure size 720x432 with 1 Axes>"
      ]
     },
     "metadata": {
      "needs_background": "light"
     },
     "output_type": "display_data"
    }
   ],
   "source": [
    "import numpy as np\n",
    "import pandas as pd\n",
    "import matplotlib.pyplot as plt\n",
    "from sklearn.model_selection import train_test_split\n",
    "from sklearn.metrics import mean_squared_error, r2_score\n",
    "from statsmodels.tsa.statespace.sarimax import SARIMAX\n",
    "from statsmodels.tsa.stattools import adfuller\n",
    "from scipy.special import inv_boxcox\n",
    "\n",
    "# Set the random seed for reproducibility\n",
    "np.random.seed(42)\n",
    "\n",
    "# Convert 'Date' to DateTimeIndex and set as index\n",
    "mon_fore['Date'] = pd.to_datetime(mon_fore['Date'])\n",
    "mon_fore.set_index('Date', inplace=True)\n",
    "\n",
    "# Define features and target variable\n",
    "X = mon_fore[[\"ppm_rolling_mean_3\", \"ppm_lag1\", \"fourier_sin\"]]\n",
    "y = mon_fore['transformed_ppm']\n",
    "\n",
    "# Check stationarity of features\n",
    "def check_stationarity(series):\n",
    "    result = adfuller(series)\n",
    "    return result[1]  # p-value\n",
    "\n",
    "# Apply differencing if necessary\n",
    "X_diff = X.diff().dropna()\n",
    "X_diff.columns = [col + '_diff' for col in X.columns]\n",
    "\n",
    "# Ensure y is aligned with X_diff\n",
    "y_aligned = y[X_diff.index]\n",
    "\n",
    "# Update features with differenced data\n",
    "X = X_diff\n",
    "\n",
    "# Split the data into training and testing sets, preserving the index\n",
    "X_train, X_test, y_train, y_test = train_test_split(X, y_aligned, test_size=0.2, shuffle=False)\n",
    "\n",
    "# Preserve the original DateTimeIndex for y_train and y_test\n",
    "y_train.index = X_train.index\n",
    "y_test.index = X_test.index\n",
    "\n",
    "# Define and fit the SARIMAX model with differenced exogenous variable\n",
    "model = SARIMAX(y_train, exog=X_train, order=(1, 0, 1), seasonal_order=(1, 0, 1, 12))\n",
    "sarimax_model = model.fit()\n",
    "\n",
    "# Make predictions\n",
    "train_pred = sarimax_model.predict(start=0, end=len(y_train)-1, exog=X_train)\n",
    "test_pred = sarimax_model.predict(start=len(y_train), end=len(y_aligned)-1, exog=X_test)\n",
    "\n",
    "# Evaluate the model\n",
    "train_mse = mean_squared_error(y_train, train_pred)\n",
    "test_mse = mean_squared_error(y_test, test_pred)\n",
    "train_r2 = r2_score(y_train, train_pred)\n",
    "test_r2 = r2_score(y_test, test_pred)\n",
    "\n",
    "print(f\"Train MSE: {train_mse}\")\n",
    "print(f\"Test MSE: {test_mse}\")\n",
    "print(f\"Train R^2: {train_r2}\")\n",
    "print(f\"Test R^2: {test_r2}\")\n",
    "\n",
    "# Inverse Box-Cox transformation for original and predicted values\n",
    "lambda_value = 0.5  # Replace this with the actual lambda value used in your Box-Cox transformation\n",
    "y_train_original = inv_boxcox(y_train, lambda_value)\n",
    "y_test_original = inv_boxcox(y_test, lambda_value)\n",
    "train_pred_inv = inv_boxcox(train_pred, lambda_value)\n",
    "test_pred_inv = inv_boxcox(test_pred, lambda_value)\n",
    "\n",
    "# Calculate upper and lower intervals based on the confidence level (e.g., 95%)\n",
    "ci_multiplier = 4  # for 95% confidence level, you may adjust based on actual confidence interval\n",
    "test_ci_upper = test_pred_inv + ci_multiplier * np.sqrt(test_mse)\n",
    "test_ci_lower = test_pred_inv - ci_multiplier * np.sqrt(test_mse)\n",
    "\n",
    "# Debugging: Print shapes and types of variables\n",
    "print(f\"y_train.index type: {type(y_train.index)}\")\n",
    "print(f\"y_train_original shape: {y_train_original.shape}\")\n",
    "print(f\"test_pred_inv shape: {test_pred_inv.shape}\")\n",
    "\n",
    "# Convert indices and data to numpy arrays for plotting\n",
    "y_train_index = y_train.index.to_numpy()\n",
    "y_train_original = y_train_original.to_numpy()\n",
    "y_test_index = y_test.index.to_numpy()\n",
    "y_test_original = y_test_original.to_numpy()\n",
    "test_pred_inv = test_pred_inv.to_numpy()\n",
    "test_ci_upper = test_ci_upper.to_numpy()\n",
    "test_ci_lower = test_ci_lower.to_numpy()\n",
    "\n",
    "# Plot the results\n",
    "plt.figure(figsize=(10, 6))\n",
    "plt.plot(y_train_index, y_train_original, label='Train')\n",
    "plt.plot(y_test_index, y_test_original, label='Test')\n",
    "plt.plot(y_test_index, test_pred_inv, label='Predictions', color='red')\n",
    "plt.fill_between(y_test_index, test_ci_lower, test_ci_upper, color='red', alpha=0.2)\n",
    "plt.legend()\n",
    "plt.show()\n"
   ]
  },
  {
   "cell_type": "code",
   "execution_count": 187,
   "id": "3d65d19b",
   "metadata": {},
   "outputs": [
    {
     "data": {
      "text/html": [
       "<div>\n",
       "<style scoped>\n",
       "    .dataframe tbody tr th:only-of-type {\n",
       "        vertical-align: middle;\n",
       "    }\n",
       "\n",
       "    .dataframe tbody tr th {\n",
       "        vertical-align: top;\n",
       "    }\n",
       "\n",
       "    .dataframe thead th {\n",
       "        text-align: right;\n",
       "    }\n",
       "</style>\n",
       "<table border=\"1\" class=\"dataframe\">\n",
       "  <thead>\n",
       "    <tr style=\"text-align: right;\">\n",
       "      <th></th>\n",
       "      <th>ppm</th>\n",
       "      <th>Year</th>\n",
       "      <th>ppm_lag1</th>\n",
       "      <th>ppm_lag2</th>\n",
       "      <th>ppm_rolling_mean_3</th>\n",
       "      <th>ppm_rolling_std_3</th>\n",
       "      <th>year</th>\n",
       "      <th>month</th>\n",
       "      <th>quarter</th>\n",
       "      <th>day_of_month</th>\n",
       "      <th>day_of_week</th>\n",
       "      <th>week_of_year</th>\n",
       "      <th>is_month_start</th>\n",
       "      <th>is_month_end</th>\n",
       "      <th>month_sin</th>\n",
       "      <th>month_cos</th>\n",
       "      <th>time_elapsed</th>\n",
       "      <th>fourier_sin</th>\n",
       "      <th>fourier_cos</th>\n",
       "      <th>transformed_ppm</th>\n",
       "    </tr>\n",
       "    <tr>\n",
       "      <th>Date</th>\n",
       "      <th></th>\n",
       "      <th></th>\n",
       "      <th></th>\n",
       "      <th></th>\n",
       "      <th></th>\n",
       "      <th></th>\n",
       "      <th></th>\n",
       "      <th></th>\n",
       "      <th></th>\n",
       "      <th></th>\n",
       "      <th></th>\n",
       "      <th></th>\n",
       "      <th></th>\n",
       "      <th></th>\n",
       "      <th></th>\n",
       "      <th></th>\n",
       "      <th></th>\n",
       "      <th></th>\n",
       "      <th></th>\n",
       "      <th></th>\n",
       "    </tr>\n",
       "  </thead>\n",
       "  <tbody>\n",
       "    <tr>\n",
       "      <th>2018-01-01</th>\n",
       "      <td>254.472658</td>\n",
       "      <td>2018</td>\n",
       "      <td>0.000000</td>\n",
       "      <td>0.000000</td>\n",
       "      <td>0.000000</td>\n",
       "      <td>0.000000</td>\n",
       "      <td>2018</td>\n",
       "      <td>1970-01-01 00:00:00.000000001</td>\n",
       "      <td>1</td>\n",
       "      <td>1</td>\n",
       "      <td>0</td>\n",
       "      <td>1</td>\n",
       "      <td>True</td>\n",
       "      <td>False</td>\n",
       "      <td>5.000000e-01</td>\n",
       "      <td>0.866025</td>\n",
       "      <td>0</td>\n",
       "      <td>0.000000</td>\n",
       "      <td>1.000000</td>\n",
       "      <td>204.933312</td>\n",
       "    </tr>\n",
       "    <tr>\n",
       "      <th>2018-02-01</th>\n",
       "      <td>240.169016</td>\n",
       "      <td>2018</td>\n",
       "      <td>254.472658</td>\n",
       "      <td>0.000000</td>\n",
       "      <td>0.000000</td>\n",
       "      <td>0.000000</td>\n",
       "      <td>2018</td>\n",
       "      <td>1970-01-01 00:00:00.000000002</td>\n",
       "      <td>1</td>\n",
       "      <td>1</td>\n",
       "      <td>3</td>\n",
       "      <td>5</td>\n",
       "      <td>True</td>\n",
       "      <td>False</td>\n",
       "      <td>8.660254e-01</td>\n",
       "      <td>0.500000</td>\n",
       "      <td>31</td>\n",
       "      <td>0.508671</td>\n",
       "      <td>0.860961</td>\n",
       "      <td>193.882547</td>\n",
       "    </tr>\n",
       "    <tr>\n",
       "      <th>2018-04-01</th>\n",
       "      <td>378.443133</td>\n",
       "      <td>2018</td>\n",
       "      <td>240.169016</td>\n",
       "      <td>254.472658</td>\n",
       "      <td>291.028269</td>\n",
       "      <td>76.040564</td>\n",
       "      <td>2018</td>\n",
       "      <td>1970-01-01 00:00:00.000000004</td>\n",
       "      <td>2</td>\n",
       "      <td>1</td>\n",
       "      <td>6</td>\n",
       "      <td>13</td>\n",
       "      <td>True</td>\n",
       "      <td>False</td>\n",
       "      <td>8.660254e-01</td>\n",
       "      <td>-0.500000</td>\n",
       "      <td>90</td>\n",
       "      <td>0.999769</td>\n",
       "      <td>0.021516</td>\n",
       "      <td>299.641215</td>\n",
       "    </tr>\n",
       "    <tr>\n",
       "      <th>2018-05-01</th>\n",
       "      <td>327.167409</td>\n",
       "      <td>2018</td>\n",
       "      <td>378.443133</td>\n",
       "      <td>240.169016</td>\n",
       "      <td>315.259853</td>\n",
       "      <td>69.901898</td>\n",
       "      <td>2018</td>\n",
       "      <td>1970-01-01 00:00:00.000000005</td>\n",
       "      <td>2</td>\n",
       "      <td>1</td>\n",
       "      <td>1</td>\n",
       "      <td>18</td>\n",
       "      <td>True</td>\n",
       "      <td>False</td>\n",
       "      <td>5.000000e-01</td>\n",
       "      <td>-0.866025</td>\n",
       "      <td>120</td>\n",
       "      <td>0.880012</td>\n",
       "      <td>-0.474951</td>\n",
       "      <td>260.678440</td>\n",
       "    </tr>\n",
       "    <tr>\n",
       "      <th>2018-06-01</th>\n",
       "      <td>398.539710</td>\n",
       "      <td>2018</td>\n",
       "      <td>327.167409</td>\n",
       "      <td>378.443133</td>\n",
       "      <td>368.050084</td>\n",
       "      <td>36.803708</td>\n",
       "      <td>2018</td>\n",
       "      <td>1970-01-01 00:00:00.000000006</td>\n",
       "      <td>2</td>\n",
       "      <td>1</td>\n",
       "      <td>4</td>\n",
       "      <td>22</td>\n",
       "      <td>True</td>\n",
       "      <td>False</td>\n",
       "      <td>1.224647e-16</td>\n",
       "      <td>-1.000000</td>\n",
       "      <td>151</td>\n",
       "      <td>0.516062</td>\n",
       "      <td>-0.856551</td>\n",
       "      <td>314.842645</td>\n",
       "    </tr>\n",
       "    <tr>\n",
       "      <th>...</th>\n",
       "      <td>...</td>\n",
       "      <td>...</td>\n",
       "      <td>...</td>\n",
       "      <td>...</td>\n",
       "      <td>...</td>\n",
       "      <td>...</td>\n",
       "      <td>...</td>\n",
       "      <td>...</td>\n",
       "      <td>...</td>\n",
       "      <td>...</td>\n",
       "      <td>...</td>\n",
       "      <td>...</td>\n",
       "      <td>...</td>\n",
       "      <td>...</td>\n",
       "      <td>...</td>\n",
       "      <td>...</td>\n",
       "      <td>...</td>\n",
       "      <td>...</td>\n",
       "      <td>...</td>\n",
       "      <td>...</td>\n",
       "    </tr>\n",
       "    <tr>\n",
       "      <th>2023-07-01</th>\n",
       "      <td>314.602641</td>\n",
       "      <td>2023</td>\n",
       "      <td>204.179574</td>\n",
       "      <td>311.200380</td>\n",
       "      <td>276.660865</td>\n",
       "      <td>62.793686</td>\n",
       "      <td>2023</td>\n",
       "      <td>1970-01-01 00:00:00.000000007</td>\n",
       "      <td>3</td>\n",
       "      <td>1</td>\n",
       "      <td>5</td>\n",
       "      <td>26</td>\n",
       "      <td>True</td>\n",
       "      <td>False</td>\n",
       "      <td>-5.000000e-01</td>\n",
       "      <td>-0.866025</td>\n",
       "      <td>2007</td>\n",
       "      <td>0.008607</td>\n",
       "      <td>-0.999963</td>\n",
       "      <td>251.088773</td>\n",
       "    </tr>\n",
       "    <tr>\n",
       "      <th>2023-08-01</th>\n",
       "      <td>212.681706</td>\n",
       "      <td>2023</td>\n",
       "      <td>314.602641</td>\n",
       "      <td>204.179574</td>\n",
       "      <td>243.821307</td>\n",
       "      <td>61.445663</td>\n",
       "      <td>2023</td>\n",
       "      <td>1970-01-01 00:00:00.000000008</td>\n",
       "      <td>3</td>\n",
       "      <td>1</td>\n",
       "      <td>1</td>\n",
       "      <td>31</td>\n",
       "      <td>True</td>\n",
       "      <td>False</td>\n",
       "      <td>-8.660254e-01</td>\n",
       "      <td>-0.500000</td>\n",
       "      <td>2038</td>\n",
       "      <td>-0.501242</td>\n",
       "      <td>-0.865307</td>\n",
       "      <td>172.557843</td>\n",
       "    </tr>\n",
       "    <tr>\n",
       "      <th>2023-10-01</th>\n",
       "      <td>214.852754</td>\n",
       "      <td>2023</td>\n",
       "      <td>212.681706</td>\n",
       "      <td>314.602641</td>\n",
       "      <td>247.379034</td>\n",
       "      <td>58.227471</td>\n",
       "      <td>2023</td>\n",
       "      <td>1970-01-01 00:00:00.000000010</td>\n",
       "      <td>4</td>\n",
       "      <td>1</td>\n",
       "      <td>6</td>\n",
       "      <td>39</td>\n",
       "      <td>True</td>\n",
       "      <td>False</td>\n",
       "      <td>-8.660254e-01</td>\n",
       "      <td>0.500000</td>\n",
       "      <td>2099</td>\n",
       "      <td>-0.999991</td>\n",
       "      <td>0.004304</td>\n",
       "      <td>174.246638</td>\n",
       "    </tr>\n",
       "    <tr>\n",
       "      <th>2023-11-01</th>\n",
       "      <td>91.739694</td>\n",
       "      <td>2023</td>\n",
       "      <td>214.852754</td>\n",
       "      <td>212.681706</td>\n",
       "      <td>173.091385</td>\n",
       "      <td>70.460993</td>\n",
       "      <td>2023</td>\n",
       "      <td>1970-01-01 00:00:00.000000011</td>\n",
       "      <td>4</td>\n",
       "      <td>1</td>\n",
       "      <td>2</td>\n",
       "      <td>44</td>\n",
       "      <td>True</td>\n",
       "      <td>False</td>\n",
       "      <td>-5.000000e-01</td>\n",
       "      <td>0.866025</td>\n",
       "      <td>2130</td>\n",
       "      <td>-0.858764</td>\n",
       "      <td>0.512371</td>\n",
       "      <td>76.842800</td>\n",
       "    </tr>\n",
       "    <tr>\n",
       "      <th>2023-12-01</th>\n",
       "      <td>97.047053</td>\n",
       "      <td>2023</td>\n",
       "      <td>91.739694</td>\n",
       "      <td>214.852754</td>\n",
       "      <td>134.546500</td>\n",
       "      <td>69.597865</td>\n",
       "      <td>2023</td>\n",
       "      <td>1970-01-01 00:00:00.000000012</td>\n",
       "      <td>4</td>\n",
       "      <td>1</td>\n",
       "      <td>4</td>\n",
       "      <td>48</td>\n",
       "      <td>True</td>\n",
       "      <td>False</td>\n",
       "      <td>-2.449294e-16</td>\n",
       "      <td>1.000000</td>\n",
       "      <td>2160</td>\n",
       "      <td>-0.493776</td>\n",
       "      <td>0.869589</td>\n",
       "      <td>81.132339</td>\n",
       "    </tr>\n",
       "  </tbody>\n",
       "</table>\n",
       "<p>61 rows × 20 columns</p>\n",
       "</div>"
      ],
      "text/plain": [
       "                   ppm  Year    ppm_lag1    ppm_lag2  ppm_rolling_mean_3  \\\n",
       "Date                                                                       \n",
       "2018-01-01  254.472658  2018    0.000000    0.000000            0.000000   \n",
       "2018-02-01  240.169016  2018  254.472658    0.000000            0.000000   \n",
       "2018-04-01  378.443133  2018  240.169016  254.472658          291.028269   \n",
       "2018-05-01  327.167409  2018  378.443133  240.169016          315.259853   \n",
       "2018-06-01  398.539710  2018  327.167409  378.443133          368.050084   \n",
       "...                ...   ...         ...         ...                 ...   \n",
       "2023-07-01  314.602641  2023  204.179574  311.200380          276.660865   \n",
       "2023-08-01  212.681706  2023  314.602641  204.179574          243.821307   \n",
       "2023-10-01  214.852754  2023  212.681706  314.602641          247.379034   \n",
       "2023-11-01   91.739694  2023  214.852754  212.681706          173.091385   \n",
       "2023-12-01   97.047053  2023   91.739694  214.852754          134.546500   \n",
       "\n",
       "            ppm_rolling_std_3  year                         month  quarter  \\\n",
       "Date                                                                         \n",
       "2018-01-01           0.000000  2018 1970-01-01 00:00:00.000000001        1   \n",
       "2018-02-01           0.000000  2018 1970-01-01 00:00:00.000000002        1   \n",
       "2018-04-01          76.040564  2018 1970-01-01 00:00:00.000000004        2   \n",
       "2018-05-01          69.901898  2018 1970-01-01 00:00:00.000000005        2   \n",
       "2018-06-01          36.803708  2018 1970-01-01 00:00:00.000000006        2   \n",
       "...                       ...   ...                           ...      ...   \n",
       "2023-07-01          62.793686  2023 1970-01-01 00:00:00.000000007        3   \n",
       "2023-08-01          61.445663  2023 1970-01-01 00:00:00.000000008        3   \n",
       "2023-10-01          58.227471  2023 1970-01-01 00:00:00.000000010        4   \n",
       "2023-11-01          70.460993  2023 1970-01-01 00:00:00.000000011        4   \n",
       "2023-12-01          69.597865  2023 1970-01-01 00:00:00.000000012        4   \n",
       "\n",
       "            day_of_month  day_of_week  week_of_year  is_month_start  \\\n",
       "Date                                                                  \n",
       "2018-01-01             1            0             1            True   \n",
       "2018-02-01             1            3             5            True   \n",
       "2018-04-01             1            6            13            True   \n",
       "2018-05-01             1            1            18            True   \n",
       "2018-06-01             1            4            22            True   \n",
       "...                  ...          ...           ...             ...   \n",
       "2023-07-01             1            5            26            True   \n",
       "2023-08-01             1            1            31            True   \n",
       "2023-10-01             1            6            39            True   \n",
       "2023-11-01             1            2            44            True   \n",
       "2023-12-01             1            4            48            True   \n",
       "\n",
       "            is_month_end     month_sin  month_cos  time_elapsed  fourier_sin  \\\n",
       "Date                                                                           \n",
       "2018-01-01         False  5.000000e-01   0.866025             0     0.000000   \n",
       "2018-02-01         False  8.660254e-01   0.500000            31     0.508671   \n",
       "2018-04-01         False  8.660254e-01  -0.500000            90     0.999769   \n",
       "2018-05-01         False  5.000000e-01  -0.866025           120     0.880012   \n",
       "2018-06-01         False  1.224647e-16  -1.000000           151     0.516062   \n",
       "...                  ...           ...        ...           ...          ...   \n",
       "2023-07-01         False -5.000000e-01  -0.866025          2007     0.008607   \n",
       "2023-08-01         False -8.660254e-01  -0.500000          2038    -0.501242   \n",
       "2023-10-01         False -8.660254e-01   0.500000          2099    -0.999991   \n",
       "2023-11-01         False -5.000000e-01   0.866025          2130    -0.858764   \n",
       "2023-12-01         False -2.449294e-16   1.000000          2160    -0.493776   \n",
       "\n",
       "            fourier_cos  transformed_ppm  \n",
       "Date                                      \n",
       "2018-01-01     1.000000       204.933312  \n",
       "2018-02-01     0.860961       193.882547  \n",
       "2018-04-01     0.021516       299.641215  \n",
       "2018-05-01    -0.474951       260.678440  \n",
       "2018-06-01    -0.856551       314.842645  \n",
       "...                 ...              ...  \n",
       "2023-07-01    -0.999963       251.088773  \n",
       "2023-08-01    -0.865307       172.557843  \n",
       "2023-10-01     0.004304       174.246638  \n",
       "2023-11-01     0.512371        76.842800  \n",
       "2023-12-01     0.869589        81.132339  \n",
       "\n",
       "[61 rows x 20 columns]"
      ]
     },
     "execution_count": 187,
     "metadata": {},
     "output_type": "execute_result"
    }
   ],
   "source": [
    "mon_fore"
   ]
  },
  {
   "cell_type": "code",
   "execution_count": 276,
   "id": "24459307",
   "metadata": {},
   "outputs": [
    {
     "name": "stderr",
     "output_type": "stream",
     "text": [
      "C:\\Users\\preet\\AppData\\Local\\Temp\\ipykernel_3400\\3447451966.py:14: SettingWithCopyWarning: \n",
      "A value is trying to be set on a copy of a slice from a DataFrame.\n",
      "Try using .loc[row_indexer,col_indexer] = value instead\n",
      "\n",
      "See the caveats in the documentation: https://pandas.pydata.org/pandas-docs/stable/user_guide/indexing.html#returning-a-view-versus-a-copy\n",
      "  mon_fore['Date'] = pd.to_datetime(mon_fore['Date'])\n",
      "C:\\Users\\preet\\anaconda3\\lib\\site-packages\\statsmodels\\tsa\\base\\tsa_model.py:471: ValueWarning: A date index has been provided, but it has no associated frequency information and so will be ignored when e.g. forecasting.\n",
      "  self._init_dates(dates, freq)\n",
      "C:\\Users\\preet\\anaconda3\\lib\\site-packages\\statsmodels\\tsa\\base\\tsa_model.py:471: ValueWarning: A date index has been provided, but it has no associated frequency information and so will be ignored when e.g. forecasting.\n",
      "  self._init_dates(dates, freq)\n",
      "C:\\Users\\preet\\anaconda3\\lib\\site-packages\\statsmodels\\tsa\\statespace\\sarimax.py:966: UserWarning: Non-stationary starting autoregressive parameters found. Using zeros as starting parameters.\n",
      "  warn('Non-stationary starting autoregressive parameters'\n",
      "C:\\Users\\preet\\anaconda3\\lib\\site-packages\\statsmodels\\tsa\\statespace\\sarimax.py:1009: UserWarning: Non-invertible starting seasonal moving average Using zeros as starting parameters.\n",
      "  warn('Non-invertible starting seasonal moving average'\n",
      "C:\\Users\\preet\\anaconda3\\lib\\site-packages\\statsmodels\\base\\model.py:604: ConvergenceWarning: Maximum Likelihood optimization failed to converge. Check mle_retvals\n",
      "  warnings.warn(\"Maximum Likelihood optimization failed to \"\n",
      "C:\\Users\\preet\\anaconda3\\lib\\site-packages\\statsmodels\\tsa\\base\\tsa_model.py:834: ValueWarning: No supported index is available. Prediction results will be given with an integer index beginning at `start`.\n",
      "  return get_prediction_index(\n"
     ]
    },
    {
     "name": "stdout",
     "output_type": "stream",
     "text": [
      "Train MSE: 382.72385953662507\n",
      "Test MSE: 81.12829816671936\n",
      "Train R^2: 0.07386547923811526\n",
      "Test R^2: 0.8453275429893348\n",
      "y_train.index type: <class 'pandas.core.indexes.datetimes.DatetimeIndex'>\n",
      "y_train_original shape: (51,)\n",
      "test_pred_inv shape: (13,)\n"
     ]
    },
    {
     "data": {
      "image/png": "[encoded data removed]",
      "text/plain": [
       "<Figure size 720x432 with 1 Axes>"
      ]
     },
     "metadata": {
      "needs_background": "light"
     },
     "output_type": "display_data"
    },
    {
     "name": "stderr",
     "output_type": "stream",
     "text": [
      "C:\\Users\\preet\\anaconda3\\lib\\site-packages\\statsmodels\\tsa\\base\\tsa_model.py:834: ValueWarning: No supported index is available. Prediction results will be given with an integer index beginning at `start`.\n",
      "  return get_prediction_index(\n"
     ]
    },
    {
     "data": {
      "image/png": "[encoded data removed]",
      "text/plain": [
       "<Figure size 720x432 with 1 Axes>"
      ]
     },
     "metadata": {
      "needs_background": "light"
     },
     "output_type": "display_data"
    }
   ],
   "source": [
    "import numpy as np\n",
    "import pandas as pd\n",
    "import matplotlib.pyplot as plt\n",
    "from sklearn.model_selection import train_test_split\n",
    "from sklearn.metrics import mean_squared_error, r2_score\n",
    "from statsmodels.tsa.statespace.sarimax import SARIMAX\n",
    "from statsmodels.tsa.stattools import adfuller\n",
    "from scipy.special import inv_boxcox\n",
    "\n",
    "# Set the random seed for reproducibility\n",
    "np.random.seed(42)\n",
    "\n",
    "# Convert 'Date' to DateTimeIndex and set as index\n",
    "mon_fore['Date'] = pd.to_datetime(mon_fore['Date'])\n",
    "mon_fore.set_index('Date', inplace=True)\n",
    "\n",
    "# Define features and target variable\n",
    "X = mon_fore[[\"ppm_rolling_mean_3\", \"ppm_lag1\", \"fourier_sin\"]]\n",
    "y = mon_fore['transformed_ppm']\n",
    "\n",
    "# Check stationarity of features\n",
    "def check_stationarity(series):\n",
    "    result = adfuller(series)\n",
    "    return result[1]  # p-value\n",
    "\n",
    "# Apply differencing if necessary\n",
    "X_diff = X.diff().dropna()\n",
    "X_diff.columns = [col + '_diff' for col in X.columns]\n",
    "\n",
    "# Ensure y is aligned with X_diff\n",
    "y_aligned = y[X_diff.index]\n",
    "\n",
    "# Update features with differenced data\n",
    "X = X_diff\n",
    "\n",
    "# Split the data into training and testing sets, preserving the index\n",
    "X_train, X_test, y_train, y_test = train_test_split(X, y_aligned, test_size=0.2, shuffle=False)\n",
    "\n",
    "# Preserve the original DateTimeIndex for y_train and y_test\n",
    "y_train.index = X_train.index\n",
    "y_test.index = X_test.index\n",
    "\n",
    "# Define and fit the SARIMAX model with differenced exogenous variable\n",
    "model = SARIMAX(y_train, exog=X_train, order=(1, 0, 1), seasonal_order=(1, 0, 1, 12))\n",
    "sarimax_model = model.fit()\n",
    "\n",
    "# Make predictions\n",
    "train_pred = sarimax_model.predict(start=0, end=len(y_train)-1, exog=X_train)\n",
    "test_pred = sarimax_model.predict(start=len(y_train), end=len(y_aligned)-1, exog=X_test)\n",
    "\n",
    "# Evaluate the model\n",
    "train_mse = mean_squared_error(y_train, train_pred)\n",
    "test_mse = mean_squared_error(y_test, test_pred)\n",
    "train_r2 = r2_score(y_train, train_pred)\n",
    "test_r2 = r2_score(y_test, test_pred)\n",
    "\n",
    "print(f\"Train MSE: {train_mse}\")\n",
    "print(f\"Test MSE: {test_mse}\")\n",
    "print(f\"Train R^2: {train_r2}\")\n",
    "print(f\"Test R^2: {test_r2}\")\n",
    "\n",
    "# Inverse Box-Cox transformation for original and predicted values\n",
    "lambda_value = 0.5  # Replace this with the actual lambda value used in your Box-Cox transformation\n",
    "y_train_original = inv_boxcox(y_train, lambda_value)\n",
    "y_test_original = inv_boxcox(y_test, lambda_value)\n",
    "train_pred_inv = inv_boxcox(train_pred, lambda_value)\n",
    "test_pred_inv = inv_boxcox(test_pred, lambda_value)\n",
    "\n",
    "# Calculate upper and lower intervals based on the confidence level (e.g., 95%)\n",
    "ci_multiplier = 4  # for 95% confidence level, you may adjust based on actual confidence interval\n",
    "test_ci_upper = test_pred_inv + ci_multiplier * np.sqrt(test_mse)\n",
    "test_ci_lower = test_pred_inv - ci_multiplier * np.sqrt(test_mse)\n",
    "\n",
    "# Debugging: Print shapes and types of variables\n",
    "print(f\"y_train.index type: {type(y_train.index)}\")\n",
    "print(f\"y_train_original shape: {y_train_original.shape}\")\n",
    "print(f\"test_pred_inv shape: {test_pred_inv.shape}\")\n",
    "\n",
    "# Convert indices and data to numpy arrays for plotting\n",
    "y_train_index = y_train.index.to_numpy()\n",
    "y_train_original = y_train_original.to_numpy()\n",
    "y_test_index = y_test.index.to_numpy()\n",
    "y_test_original = y_test_original.to_numpy()\n",
    "test_pred_inv = test_pred_inv.to_numpy()\n",
    "test_ci_upper = test_ci_upper.to_numpy()\n",
    "test_ci_lower = test_ci_lower.to_numpy()\n",
    "\n",
    "# Plot the actual vs predicted values\n",
    "plt.figure(figsize=(10, 6))\n",
    "plt.plot(y_train_index, y_train_original, label='Train')\n",
    "plt.plot(y_test_index, y_test_original, label='Test')\n",
    "plt.plot(y_test_index, test_pred_inv, label='Predictions', color='red')\n",
    "plt.fill_between(y_test_index, test_ci_lower, test_ci_upper, color='red', alpha=0.2)\n",
    "plt.legend()\n",
    "plt.title('Actual vs Predicted PPM')\n",
    "plt.show()\n",
    "\n",
    "# ======================== Future Forecasting ========================\n",
    "\n",
    "# Forecasting for 12 future steps\n",
    "forecast_steps = 12\n",
    "future_pred = sarimax_model.get_forecast(steps=forecast_steps, exog=X_test[-forecast_steps:])\n",
    "\n",
    "# Get forecasted mean and confidence intervals\n",
    "forecast_mean = future_pred.predicted_mean\n",
    "forecast_ci = future_pred.conf_int()\n",
    "\n",
    "# Create future dates for the next 12 steps\n",
    "last_date = y_test.index[-1]\n",
    "future_dates = pd.date_range(last_date, periods=forecast_steps + 1, freq='M')[1:]\n",
    "\n",
    "# Inverse Box-Cox transformation for forecasted values\n",
    "future_pred_inv = inv_boxcox(forecast_mean, lambda_value)\n",
    "future_ci_upper = inv_boxcox(forecast_ci.iloc[:, 1], lambda_value)\n",
    "future_ci_lower = inv_boxcox(forecast_ci.iloc[:, 0], lambda_value)\n",
    "\n",
    "# Convert future indices and predictions to numpy arrays for plotting\n",
    "future_dates = future_dates.to_numpy()\n",
    "future_pred_inv = future_pred_inv.to_numpy()\n",
    "future_ci_upper = future_ci_upper.to_numpy()\n",
    "future_ci_lower = future_ci_lower.to_numpy()\n",
    "\n",
    "# Plot the future forecast\n",
    "plt.figure(figsize=(10, 6))\n",
    "plt.plot(future_dates, future_pred_inv, label='Future Predictions', color='green')\n",
    "plt.fill_between(future_dates, future_ci_lower, future_ci_upper, color='green', alpha=0.2)\n",
    "plt.legend()\n",
    "plt.title('Future 12-Month Forecast')\n",
    "plt.show()\n"
   ]
  },
  {
   "cell_type": "code",
   "execution_count": 275,
   "id": "cd41b559",
   "metadata": {},
   "outputs": [],
   "source": [
    "mon_fore.reset_index(inplace=True)"
   ]
  },
  {
   "cell_type": "code",
   "execution_count": 203,
   "id": "dd3d3d01",
   "metadata": {
    "scrolled": false
   },
   "outputs": [
    {
     "name": "stdout",
     "output_type": "stream",
     "text": [
      "              Feature    F-Value   P-Value  Mutual Information\n",
      "3   ppm_rolling_std_3   4.747721  0.033343            0.350961\n",
      "5           month_cos  22.178830  0.000016            0.317888\n",
      "2  ppm_rolling_mean_3  28.048178  0.000002            0.264988\n",
      "8         fourier_cos  10.085098  0.002377            0.264669\n",
      "7         fourier_sin  16.508397  0.000145            0.239207\n",
      "4           month_sin   2.611091  0.111454            0.219881\n",
      "1            ppm_lag2   0.002011  0.964384            0.019682\n",
      "0            ppm_lag1  11.780281  0.001100            0.000000\n",
      "6        time_elapsed   0.820374  0.368755            0.000000\n"
     ]
    }
   ],
   "source": [
    "import pandas as pd\n",
    "from sklearn.feature_selection import f_regression, mutual_info_regression\n",
    "\n",
    "# Assuming mon_fore is your DataFrame\n",
    "# Drop 'ppm' and 'transformed_ppm' as these are not features, 'transformed_ppm' is the target\n",
    "X = mon_fore.drop(columns=['ppm', 'transformed_ppm'])\n",
    "\n",
    "# Drop non-numeric columns (e.g., date columns)\n",
    "X_numeric = X.select_dtypes(include=['float64', 'int64'])  # Keep only numeric columns\n",
    "\n",
    "# Define target variable\n",
    "y = mon_fore['transformed_ppm']\n",
    "\n",
    "# f-regression\n",
    "f_values, p_values = f_regression(X_numeric, y)\n",
    "\n",
    "# Mutual Information\n",
    "mi = mutual_info_regression(X_numeric, y)\n",
    "\n",
    "# Create a DataFrame for better visualization\n",
    "feature_stats_df = pd.DataFrame({\n",
    "    'Feature': X_numeric.columns,\n",
    "    'F-Value': f_values,\n",
    "    'P-Value': p_values,\n",
    "    'Mutual Information': mi\n",
    "})\n",
    "\n",
    "# Sort by Mutual Information\n",
    "feature_stats_df = feature_stats_df.sort_values(by='Mutual Information', ascending=False)\n",
    "\n",
    "# Print the DataFrame\n",
    "print(feature_stats_df)\n"
   ]
  },
  {
   "cell_type": "code",
   "execution_count": 218,
   "id": "d06bfb22",
   "metadata": {},
   "outputs": [
    {
     "name": "stderr",
     "output_type": "stream",
     "text": [
      "C:\\Users\\preet\\anaconda3\\lib\\site-packages\\statsmodels\\tsa\\base\\tsa_model.py:471: ValueWarning: A date index has been provided, but it has no associated frequency information and so will be ignored when e.g. forecasting.\n",
      "  self._init_dates(dates, freq)\n",
      "C:\\Users\\preet\\anaconda3\\lib\\site-packages\\statsmodels\\tsa\\base\\tsa_model.py:471: ValueWarning: A date index has been provided, but it has no associated frequency information and so will be ignored when e.g. forecasting.\n",
      "  self._init_dates(dates, freq)\n",
      "C:\\Users\\preet\\anaconda3\\lib\\site-packages\\statsmodels\\tsa\\statespace\\sarimax.py:1009: UserWarning: Non-invertible starting seasonal moving average Using zeros as starting parameters.\n",
      "  warn('Non-invertible starting seasonal moving average'\n"
     ]
    },
    {
     "name": "stdout",
     "output_type": "stream",
     "text": [
      "                                     SARIMAX Results                                      \n",
      "==========================================================================================\n",
      "Dep. Variable:                    transformed_ppm   No. Observations:                   61\n",
      "Model:             SARIMAX(1, 1, 1)x(1, 1, 1, 12)   Log Likelihood                -266.981\n",
      "Date:                            Sun, 15 Sep 2024   AIC                            553.962\n",
      "Time:                                    10:13:53   BIC                            572.674\n",
      "Sample:                                         0   HQIC                           561.034\n",
      "                                             - 61                                         \n",
      "Covariance Type:                              opg                                         \n",
      "======================================================================================\n",
      "                         coef    std err          z      P>|z|      [0.025      0.975]\n",
      "--------------------------------------------------------------------------------------\n",
      "ppm_rolling_std_3     -0.9526      0.284     -3.352      0.001      -1.510      -0.396\n",
      "month_cos           3021.6986   1440.292      2.098      0.036     198.778    5844.619\n",
      "ppm_rolling_mean_3     0.8685      0.174      4.978      0.000       0.526       1.210\n",
      "fourier_cos        -2562.9761   1245.307     -2.058      0.040   -5003.733    -122.219\n",
      "fourier_sin         1549.5123    723.071      2.143      0.032     132.319    2966.705\n",
      "ar.L1                  0.0020      0.193      0.010      0.992      -0.377       0.381\n",
      "ma.L1                 -0.8620      0.143     -6.027      0.000      -1.142      -0.582\n",
      "ar.S.L12              -0.3970      0.301     -1.318      0.188      -0.987       0.193\n",
      "ma.S.L12              -0.5569      0.439     -1.268      0.205      -1.418       0.304\n",
      "sigma2              2564.9951    766.836      3.345      0.001    1062.025    4067.965\n",
      "===================================================================================\n",
      "Ljung-Box (L1) (Q):                   0.05   Jarque-Bera (JB):                 5.10\n",
      "Prob(Q):                              0.83   Prob(JB):                         0.08\n",
      "Heteroskedasticity (H):               1.84   Skew:                             0.68\n",
      "Prob(H) (two-sided):                  0.23   Kurtosis:                         3.85\n",
      "===================================================================================\n",
      "\n",
      "Warnings:\n",
      "[1] Covariance matrix calculated using the outer product of gradients (complex-step).\n"
     ]
    },
    {
     "name": "stderr",
     "output_type": "stream",
     "text": [
      "C:\\Users\\preet\\anaconda3\\lib\\site-packages\\statsmodels\\base\\model.py:604: ConvergenceWarning: Maximum Likelihood optimization failed to converge. Check mle_retvals\n",
      "  warnings.warn(\"Maximum Likelihood optimization failed to \"\n"
     ]
    }
   ],
   "source": [
    "import statsmodels.api as sm\n",
    "\n",
    "# Define the endogenous variable (target) as transformed_ppm\n",
    "endog = mon_fore['transformed_ppm']\n",
    "\n",
    "# Define the exogenous variables (features)\n",
    "exog = mon_fore[['ppm_rolling_std_3', 'month_cos', 'ppm_rolling_mean_3', 'fourier_cos', 'fourier_sin']]\n",
    "\n",
    "# Fit the SARIMAX model\n",
    "# Adjust the order and seasonal_order parameters based on your data's properties\n",
    "model = sm.tsa.SARIMAX(endog, exog=exog, order=(1, 1, 1), seasonal_order=(1, 1, 1, 12))\n",
    "sarimax_results = model.fit()\n",
    "\n",
    "# Print the model summary\n",
    "print(sarimax_results.summary())"
   ]
  },
  {
   "cell_type": "code",
   "execution_count": 219,
   "id": "90bd8211",
   "metadata": {},
   "outputs": [
    {
     "name": "stderr",
     "output_type": "stream",
     "text": [
      "C:\\Users\\preet\\anaconda3\\lib\\site-packages\\statsmodels\\tsa\\base\\tsa_model.py:471: ValueWarning: A date index has been provided, but it has no associated frequency information and so will be ignored when e.g. forecasting.\n",
      "  self._init_dates(dates, freq)\n",
      "C:\\Users\\preet\\anaconda3\\lib\\site-packages\\statsmodels\\tsa\\base\\tsa_model.py:471: ValueWarning: A date index has been provided, but it has no associated frequency information and so will be ignored when e.g. forecasting.\n",
      "  self._init_dates(dates, freq)\n"
     ]
    },
    {
     "name": "stdout",
     "output_type": "stream",
     "text": [
      "                                     SARIMAX Results                                      \n",
      "==========================================================================================\n",
      "Dep. Variable:                    transformed_ppm   No. Observations:                   61\n",
      "Model:             SARIMAX(1, 0, 1)x(1, 0, 1, 12)   Log Likelihood                -326.851\n",
      "Date:                            Sun, 15 Sep 2024   AIC                            673.701\n",
      "Time:                                    10:14:48   BIC                            694.810\n",
      "Sample:                                         0   HQIC                           681.974\n",
      "                                             - 61                                         \n",
      "Covariance Type:                              opg                                         \n",
      "======================================================================================\n",
      "                         coef    std err          z      P>|z|      [0.025      0.975]\n",
      "--------------------------------------------------------------------------------------\n",
      "ppm_rolling_std_3     -0.8118      0.266     -3.048      0.002      -1.334      -0.290\n",
      "month_cos           2098.6380   1114.233      1.883      0.060     -85.219    4282.494\n",
      "ppm_rolling_mean_3     1.0284      0.106      9.665      0.000       0.820       1.237\n",
      "fourier_cos        -1753.9814    966.520     -1.815      0.070   -3648.325     140.362\n",
      "fourier_sin         1090.8126    558.758      1.952      0.051      -4.334    2185.959\n",
      "ar.L1                 -0.0047      0.573     -0.008      0.993      -1.127       1.118\n",
      "ma.L1                  0.2787      0.555      0.502      0.615      -0.808       1.366\n",
      "ar.S.L12              -0.4355      0.972     -0.448      0.654      -2.341       1.470\n",
      "ma.S.L12               0.3038      1.086      0.280      0.780      -1.824       2.431\n",
      "sigma2              2624.3138    606.199      4.329      0.000    1436.185    3812.443\n",
      "===================================================================================\n",
      "Ljung-Box (L1) (Q):                   0.02   Jarque-Bera (JB):                 6.75\n",
      "Prob(Q):                              0.88   Prob(JB):                         0.03\n",
      "Heteroskedasticity (H):               1.82   Skew:                             0.79\n",
      "Prob(H) (two-sided):                  0.19   Kurtosis:                         3.39\n",
      "===================================================================================\n",
      "\n",
      "Warnings:\n",
      "[1] Covariance matrix calculated using the outer product of gradients (complex-step).\n"
     ]
    },
    {
     "name": "stderr",
     "output_type": "stream",
     "text": [
      "C:\\Users\\preet\\anaconda3\\lib\\site-packages\\statsmodels\\base\\model.py:604: ConvergenceWarning: Maximum Likelihood optimization failed to converge. Check mle_retvals\n",
      "  warnings.warn(\"Maximum Likelihood optimization failed to \"\n"
     ]
    }
   ],
   "source": [
    "import statsmodels.api as sm\n",
    "\n",
    "# Define the endogenous variable (target) as transformed_ppm\n",
    "endog = mon_fore['transformed_ppm']\n",
    "\n",
    "# Define the exogenous variables (features)\n",
    "exog = mon_fore[['ppm_rolling_std_3', 'month_cos', 'ppm_rolling_mean_3', 'fourier_cos', 'fourier_sin']]\n",
    "\n",
    "# Fit the SARIMAX model\n",
    "# Adjust the order and seasonal_order parameters based on your data's properties\n",
    "model = sm.tsa.SARIMAX(endog, exog=exog, order=(1, 0, 1), seasonal_order=(1, 0, 1, 12))\n",
    "sarimax_results = model.fit()\n",
    "\n",
    "# Print the model summary\n",
    "print(sarimax_results.summary())"
   ]
  },
  {
   "cell_type": "code",
   "execution_count": 245,
   "id": "d37f6a22",
   "metadata": {},
   "outputs": [
    {
     "name": "stderr",
     "output_type": "stream",
     "text": [
      "C:\\Users\\preet\\AppData\\Local\\Temp\\ipykernel_3400\\3149798888.py:15: SettingWithCopyWarning: \n",
      "A value is trying to be set on a copy of a slice from a DataFrame.\n",
      "Try using .loc[row_indexer,col_indexer] = value instead\n",
      "\n",
      "See the caveats in the documentation: https://pandas.pydata.org/pandas-docs/stable/user_guide/indexing.html#returning-a-view-versus-a-copy\n",
      "  mon_fore['Date'] = pd.to_datetime(mon_fore['Date'])\n",
      "C:\\Users\\preet\\AppData\\Local\\Temp\\ipykernel_3400\\3149798888.py:20: SettingWithCopyWarning: \n",
      "A value is trying to be set on a copy of a slice from a DataFrame.\n",
      "Try using .loc[row_indexer,col_indexer] = value instead\n",
      "\n",
      "See the caveats in the documentation: https://pandas.pydata.org/pandas-docs/stable/user_guide/indexing.html#returning-a-view-versus-a-copy\n",
      "  mon_fore['transformed_ppm'], lambda_bc = boxcox(ppm_positive)\n",
      "C:\\Users\\preet\\anaconda3\\lib\\site-packages\\statsmodels\\tsa\\base\\tsa_model.py:471: ValueWarning: A date index has been provided, but it has no associated frequency information and so will be ignored when e.g. forecasting.\n",
      "  self._init_dates(dates, freq)\n",
      "C:\\Users\\preet\\anaconda3\\lib\\site-packages\\statsmodels\\tsa\\base\\tsa_model.py:471: ValueWarning: A date index has been provided, but it has no associated frequency information and so will be ignored when e.g. forecasting.\n",
      "  self._init_dates(dates, freq)\n",
      "C:\\Users\\preet\\anaconda3\\lib\\site-packages\\statsmodels\\tsa\\statespace\\sarimax.py:1009: UserWarning: Non-invertible starting seasonal moving average Using zeros as starting parameters.\n",
      "  warn('Non-invertible starting seasonal moving average'\n",
      "C:\\Users\\preet\\anaconda3\\lib\\site-packages\\statsmodels\\base\\model.py:604: ConvergenceWarning: Maximum Likelihood optimization failed to converge. Check mle_retvals\n",
      "  warnings.warn(\"Maximum Likelihood optimization failed to \"\n",
      "C:\\Users\\preet\\anaconda3\\lib\\site-packages\\statsmodels\\tsa\\base\\tsa_model.py:834: ValueWarning: No supported index is available. Prediction results will be given with an integer index beginning at `start`.\n",
      "  return get_prediction_index(\n"
     ]
    },
    {
     "name": "stdout",
     "output_type": "stream",
     "text": [
      "Train MSE: 2983.414644959505\n",
      "Test MSE: 3276.145299356305\n",
      "Train R^2: 0.44708661916044645\n",
      "Test R^2: 0.668477567115052\n",
      "y_train.index type: <class 'pandas.core.indexes.datetimes.DatetimeIndex'>\n",
      "y_train_original shape: (48,)\n",
      "test_pred_inv shape: (12,)\n"
     ]
    },
    {
     "data": {
      "image/png": "[encoded data removed]",
      "text/plain": [
       "<Figure size 864x432 with 1 Axes>"
      ]
     },
     "metadata": {
      "needs_background": "light"
     },
     "output_type": "display_data"
    },
    {
     "name": "stderr",
     "output_type": "stream",
     "text": [
      "C:\\Users\\preet\\anaconda3\\lib\\site-packages\\statsmodels\\tsa\\base\\tsa_model.py:834: ValueWarning: No supported index is available. Prediction results will be given with an integer index beginning at `start`.\n",
      "  return get_prediction_index(\n"
     ]
    },
    {
     "data": {
      "image/png": "[encoded data removed]",
      "text/plain": [
       "<Figure size 864x432 with 1 Axes>"
      ]
     },
     "metadata": {
      "needs_background": "light"
     },
     "output_type": "display_data"
    }
   ],
   "source": [
    "import numpy as np\n",
    "import pandas as pd\n",
    "import matplotlib.pyplot as plt\n",
    "from sklearn.model_selection import train_test_split\n",
    "from sklearn.metrics import mean_squared_error, r2_score\n",
    "from statsmodels.tsa.statespace.sarimax import SARIMAX\n",
    "from statsmodels.tsa.stattools import adfuller\n",
    "from scipy.special import inv_boxcox\n",
    "from scipy.stats import boxcox\n",
    "\n",
    "# Set the random seed for reproducibility\n",
    "np.random.seed(42)\n",
    "\n",
    "# Convert 'Date' to DateTimeIndex and set as index\n",
    "mon_fore['Date'] = pd.to_datetime(mon_fore['Date'])\n",
    "mon_fore.set_index('Date', inplace=True)\n",
    "\n",
    "# Perform Box-Cox transformation on 'ppm' and get lambda\n",
    "ppm_positive = mon_fore['ppm'] + 1e-6  # Small shift to ensure positive values\n",
    "mon_fore['transformed_ppm'], lambda_bc = boxcox(ppm_positive)\n",
    "\n",
    "# Define features and target variable\n",
    "X = mon_fore[[\"ppm_rolling_mean_3\",\"ppm_rolling_std_3\",\"ppm_lag1\"]]\n",
    "y = mon_fore['transformed_ppm']\n",
    "\n",
    "# Check stationarity of features\n",
    "def check_stationarity(series):\n",
    "    result = adfuller(series)\n",
    "    return result[1]  # p-value\n",
    "\n",
    "# Apply differencing if necessary\n",
    "X_diff = X.diff().dropna()\n",
    "X_diff.columns = [col + '_diff' for col in X.columns]\n",
    "\n",
    "# Ensure y is aligned with X_diff\n",
    "y_aligned = y[X_diff.index]\n",
    "\n",
    "# Update features with differenced data\n",
    "X = X_diff\n",
    "\n",
    "# Split the data into training and testing sets, preserving the index\n",
    "X_train, X_test, y_train, y_test = train_test_split(X, y_aligned, test_size=0.2, shuffle=False)\n",
    "\n",
    "# Preserve the original DateTimeIndex for y_train and y_test\n",
    "y_train.index = X_train.index\n",
    "y_test.index = X_test.index\n",
    "\n",
    "# Define and fit the SARIMAX model with differenced exogenous variable\n",
    "model = SARIMAX(y_train, exog=X_train, order=(1, 0, 1), seasonal_order=(1, 0, 1, 12))\n",
    "sarimax_model = model.fit()\n",
    "\n",
    "# Make predictions\n",
    "train_pred = sarimax_model.predict(start=0, end=len(y_train)-1, exog=X_train)\n",
    "test_pred = sarimax_model.predict(start=len(y_train), end=len(y_aligned)-1, exog=X_test)\n",
    "\n",
    "# Evaluate the model\n",
    "train_mse = mean_squared_error(y_train, train_pred)\n",
    "test_mse = mean_squared_error(y_test, test_pred)\n",
    "train_r2 = r2_score(y_train, train_pred)\n",
    "test_r2 = r2_score(y_test, test_pred)\n",
    "\n",
    "print(f\"Train MSE: {train_mse}\")\n",
    "print(f\"Test MSE: {test_mse}\")\n",
    "print(f\"Train R^2: {train_r2}\")\n",
    "print(f\"Test R^2: {test_r2}\")\n",
    "\n",
    "# Inverse Box-Cox transformation for original and predicted values\n",
    "y_train_original = inv_boxcox(y_train, lambda_bc)\n",
    "y_test_original = inv_boxcox(y_test, lambda_bc)\n",
    "train_pred_inv = inv_boxcox(train_pred, lambda_bc)\n",
    "test_pred_inv = inv_boxcox(test_pred, lambda_bc)\n",
    "\n",
    "# Calculate upper and lower intervals based on the confidence level (e.g., 95%)\n",
    "ci_multiplier = 1.96  # for 95% confidence level\n",
    "test_ci_upper = test_pred_inv + ci_multiplier * np.sqrt(test_mse)\n",
    "test_ci_lower = test_pred_inv - ci_multiplier * np.sqrt(test_mse)\n",
    "\n",
    "# Debugging: Print shapes and types of variables\n",
    "print(f\"y_train.index type: {type(y_train.index)}\")\n",
    "print(f\"y_train_original shape: {y_train_original.shape}\")\n",
    "print(f\"test_pred_inv shape: {test_pred_inv.shape}\")\n",
    "\n",
    "# Convert indices and data to numpy arrays for plotting\n",
    "y_train_index = y_train.index.to_numpy()\n",
    "y_train_original = y_train_original.to_numpy()\n",
    "y_test_index = y_test.index.to_numpy()\n",
    "y_test_original = y_test_original.to_numpy()\n",
    "test_pred_inv = test_pred_inv.to_numpy()\n",
    "test_ci_upper = test_ci_upper.to_numpy()\n",
    "test_ci_lower = test_ci_lower.to_numpy()\n",
    "\n",
    "# Plot the actual vs predicted values\n",
    "plt.figure(figsize=(12, 6))\n",
    "plt.plot(y_train_index, y_train_original, label='Train', color='blue')\n",
    "plt.plot(y_test_index, y_test_original, label='Test', color='orange')\n",
    "plt.plot(y_test_index, test_pred_inv, label='Predictions', color='red')\n",
    "plt.fill_between(y_test_index, test_ci_lower, test_ci_upper, color='red', alpha=0.2)\n",
    "plt.legend()\n",
    "plt.title('Actual vs Predicted PPM')\n",
    "plt.xlabel('Date')\n",
    "plt.ylabel('PPM')\n",
    "plt.show()\n",
    "\n",
    "# ======================== Future Forecasting ========================\n",
    "\n",
    "# Forecasting for 12 future steps\n",
    "forecast_steps = 12\n",
    "future_pred = sarimax_model.get_forecast(steps=forecast_steps, exog=X_test[-forecast_steps:])\n",
    "\n",
    "# Get forecasted mean and confidence intervals\n",
    "forecast_mean = future_pred.predicted_mean\n",
    "forecast_ci = future_pred.conf_int()\n",
    "\n",
    "# Create future dates for the next 12 steps\n",
    "last_date = y_test.index[-1]\n",
    "future_dates = pd.date_range(last_date, periods=forecast_steps + 1, freq='M')[1:]\n",
    "\n",
    "# Inverse Box-Cox transformation for forecasted values\n",
    "future_pred_inv = inv_boxcox(forecast_mean, lambda_bc)\n",
    "future_ci_upper = inv_boxcox(forecast_ci.iloc[:, 1], lambda_bc)\n",
    "future_ci_lower = inv_boxcox(forecast_ci.iloc[:, 0], lambda_bc)\n",
    "\n",
    "# Convert future indices and predictions to numpy arrays for plotting\n",
    "future_dates = future_dates.to_numpy()\n",
    "future_pred_inv = future_pred_inv.to_numpy()\n",
    "future_ci_upper = future_ci_upper.to_numpy()\n",
    "future_ci_lower = future_ci_lower.to_numpy()\n",
    "\n",
    "# Plot the future forecast\n",
    "plt.figure(figsize=(12, 6))\n",
    "plt.plot(future_dates, future_pred_inv, label='Future Predictions', color='green')\n",
    "plt.fill_between(future_dates, future_ci_lower, future_ci_upper, color='green', alpha=0.2)\n",
    "plt.legend()\n",
    "plt.title('Future 12-Month Forecast')\n",
    "plt.xlabel('Date')\n",
    "plt.ylabel('PPM')\n",
    "plt.show()\n"
   ]
  },
  {
   "cell_type": "code",
   "execution_count": 244,
   "id": "a6bdc05c",
   "metadata": {},
   "outputs": [],
   "source": [
    "mon_fore.reset_index(inplace=True)"
   ]
  },
  {
   "cell_type": "code",
   "execution_count": 246,
   "id": "e36d11fe",
   "metadata": {
    "scrolled": true
   },
   "outputs": [
    {
     "name": "stderr",
     "output_type": "stream",
     "text": [
      "C:\\Users\\preet\\anaconda3\\lib\\site-packages\\statsmodels\\tsa\\base\\tsa_model.py:471: ValueWarning: A date index has been provided, but it has no associated frequency information and so will be ignored when e.g. forecasting.\n",
      "  self._init_dates(dates, freq)\n",
      "C:\\Users\\preet\\anaconda3\\lib\\site-packages\\statsmodels\\tsa\\base\\tsa_model.py:471: ValueWarning: A date index has been provided, but it has no associated frequency information and so will be ignored when e.g. forecasting.\n",
      "  self._init_dates(dates, freq)\n"
     ]
    },
    {
     "name": "stdout",
     "output_type": "stream",
     "text": [
      "SARIMAX(0, 0, 0)x(0, 0, 0, 12) - AIC:654.1073166153064\n"
     ]
    },
    {
     "name": "stderr",
     "output_type": "stream",
     "text": [
      "C:\\Users\\preet\\anaconda3\\lib\\site-packages\\statsmodels\\tsa\\base\\tsa_model.py:471: ValueWarning: A date index has been provided, but it has no associated frequency information and so will be ignored when e.g. forecasting.\n",
      "  self._init_dates(dates, freq)\n",
      "C:\\Users\\preet\\anaconda3\\lib\\site-packages\\statsmodels\\tsa\\base\\tsa_model.py:471: ValueWarning: A date index has been provided, but it has no associated frequency information and so will be ignored when e.g. forecasting.\n",
      "  self._init_dates(dates, freq)\n",
      "C:\\Users\\preet\\anaconda3\\lib\\site-packages\\statsmodels\\tsa\\statespace\\sarimax.py:1009: UserWarning: Non-invertible starting seasonal moving average Using zeros as starting parameters.\n",
      "  warn('Non-invertible starting seasonal moving average'\n"
     ]
    },
    {
     "name": "stdout",
     "output_type": "stream",
     "text": [
      "SARIMAX(0, 0, 0)x(0, 0, 1, 12) - AIC:623.6694771357056\n",
      "SARIMAX(0, 0, 0)x(0, 1, 0, 12) - AIC:416.13535331887795\n"
     ]
    },
    {
     "name": "stderr",
     "output_type": "stream",
     "text": [
      "C:\\Users\\preet\\anaconda3\\lib\\site-packages\\statsmodels\\tsa\\base\\tsa_model.py:471: ValueWarning: A date index has been provided, but it has no associated frequency information and so will be ignored when e.g. forecasting.\n",
      "  self._init_dates(dates, freq)\n",
      "C:\\Users\\preet\\anaconda3\\lib\\site-packages\\statsmodels\\tsa\\base\\tsa_model.py:471: ValueWarning: A date index has been provided, but it has no associated frequency information and so will be ignored when e.g. forecasting.\n",
      "  self._init_dates(dates, freq)\n",
      "C:\\Users\\preet\\anaconda3\\lib\\site-packages\\statsmodels\\tsa\\base\\tsa_model.py:471: ValueWarning: A date index has been provided, but it has no associated frequency information and so will be ignored when e.g. forecasting.\n",
      "  self._init_dates(dates, freq)\n",
      "C:\\Users\\preet\\anaconda3\\lib\\site-packages\\statsmodels\\tsa\\base\\tsa_model.py:471: ValueWarning: A date index has been provided, but it has no associated frequency information and so will be ignored when e.g. forecasting.\n",
      "  self._init_dates(dates, freq)\n",
      "C:\\Users\\preet\\anaconda3\\lib\\site-packages\\statsmodels\\tsa\\statespace\\sarimax.py:866: UserWarning: Too few observations to estimate starting parameters for seasonal ARMA. All parameters except for variances will be set to zeros.\n",
      "  warn('Too few observations to estimate starting parameters%s.'\n"
     ]
    },
    {
     "name": "stdout",
     "output_type": "stream",
     "text": [
      "SARIMAX(0, 0, 0)x(0, 1, 1, 12) - AIC:415.12425526658296\n"
     ]
    },
    {
     "name": "stderr",
     "output_type": "stream",
     "text": [
      "C:\\Users\\preet\\anaconda3\\lib\\site-packages\\statsmodels\\tsa\\base\\tsa_model.py:471: ValueWarning: A date index has been provided, but it has no associated frequency information and so will be ignored when e.g. forecasting.\n",
      "  self._init_dates(dates, freq)\n",
      "C:\\Users\\preet\\anaconda3\\lib\\site-packages\\statsmodels\\tsa\\base\\tsa_model.py:471: ValueWarning: A date index has been provided, but it has no associated frequency information and so will be ignored when e.g. forecasting.\n",
      "  self._init_dates(dates, freq)\n"
     ]
    },
    {
     "name": "stdout",
     "output_type": "stream",
     "text": [
      "SARIMAX(0, 0, 0)x(1, 0, 0, 12) - AIC:579.3079093131796\n"
     ]
    },
    {
     "name": "stderr",
     "output_type": "stream",
     "text": [
      "C:\\Users\\preet\\anaconda3\\lib\\site-packages\\statsmodels\\tsa\\base\\tsa_model.py:471: ValueWarning: A date index has been provided, but it has no associated frequency information and so will be ignored when e.g. forecasting.\n",
      "  self._init_dates(dates, freq)\n",
      "C:\\Users\\preet\\anaconda3\\lib\\site-packages\\statsmodels\\tsa\\base\\tsa_model.py:471: ValueWarning: A date index has been provided, but it has no associated frequency information and so will be ignored when e.g. forecasting.\n",
      "  self._init_dates(dates, freq)\n",
      "C:\\Users\\preet\\anaconda3\\lib\\site-packages\\statsmodels\\tsa\\statespace\\sarimax.py:1009: UserWarning: Non-invertible starting seasonal moving average Using zeros as starting parameters.\n",
      "  warn('Non-invertible starting seasonal moving average'\n"
     ]
    },
    {
     "name": "stdout",
     "output_type": "stream",
     "text": [
      "SARIMAX(0, 0, 0)x(1, 0, 1, 12) - AIC:578.7240851480453\n"
     ]
    },
    {
     "name": "stderr",
     "output_type": "stream",
     "text": [
      "C:\\Users\\preet\\anaconda3\\lib\\site-packages\\statsmodels\\tsa\\base\\tsa_model.py:471: ValueWarning: A date index has been provided, but it has no associated frequency information and so will be ignored when e.g. forecasting.\n",
      "  self._init_dates(dates, freq)\n",
      "C:\\Users\\preet\\anaconda3\\lib\\site-packages\\statsmodels\\tsa\\base\\tsa_model.py:471: ValueWarning: A date index has been provided, but it has no associated frequency information and so will be ignored when e.g. forecasting.\n",
      "  self._init_dates(dates, freq)\n"
     ]
    },
    {
     "name": "stdout",
     "output_type": "stream",
     "text": [
      "SARIMAX(0, 0, 0)x(1, 1, 0, 12) - AIC:416.57986602666574\n"
     ]
    },
    {
     "name": "stderr",
     "output_type": "stream",
     "text": [
      "C:\\Users\\preet\\anaconda3\\lib\\site-packages\\statsmodels\\tsa\\base\\tsa_model.py:471: ValueWarning: A date index has been provided, but it has no associated frequency information and so will be ignored when e.g. forecasting.\n",
      "  self._init_dates(dates, freq)\n",
      "C:\\Users\\preet\\anaconda3\\lib\\site-packages\\statsmodels\\tsa\\base\\tsa_model.py:471: ValueWarning: A date index has been provided, but it has no associated frequency information and so will be ignored when e.g. forecasting.\n",
      "  self._init_dates(dates, freq)\n",
      "C:\\Users\\preet\\anaconda3\\lib\\site-packages\\statsmodels\\tsa\\statespace\\sarimax.py:866: UserWarning: Too few observations to estimate starting parameters for seasonal ARMA. All parameters except for variances will be set to zeros.\n",
      "  warn('Too few observations to estimate starting parameters%s.'\n",
      "C:\\Users\\preet\\anaconda3\\lib\\site-packages\\statsmodels\\base\\model.py:604: ConvergenceWarning: Maximum Likelihood optimization failed to converge. Check mle_retvals\n",
      "  warnings.warn(\"Maximum Likelihood optimization failed to \"\n",
      "C:\\Users\\preet\\anaconda3\\lib\\site-packages\\statsmodels\\tsa\\base\\tsa_model.py:471: ValueWarning: A date index has been provided, but it has no associated frequency information and so will be ignored when e.g. forecasting.\n",
      "  self._init_dates(dates, freq)\n",
      "C:\\Users\\preet\\anaconda3\\lib\\site-packages\\statsmodels\\tsa\\base\\tsa_model.py:471: ValueWarning: A date index has been provided, but it has no associated frequency information and so will be ignored when e.g. forecasting.\n",
      "  self._init_dates(dates, freq)\n"
     ]
    },
    {
     "name": "stdout",
     "output_type": "stream",
     "text": [
      "SARIMAX(0, 0, 0)x(1, 1, 1, 12) - AIC:416.32689882511664\n"
     ]
    },
    {
     "name": "stderr",
     "output_type": "stream",
     "text": [
      "C:\\Users\\preet\\anaconda3\\lib\\site-packages\\statsmodels\\base\\model.py:604: ConvergenceWarning: Maximum Likelihood optimization failed to converge. Check mle_retvals\n",
      "  warnings.warn(\"Maximum Likelihood optimization failed to \"\n",
      "C:\\Users\\preet\\anaconda3\\lib\\site-packages\\statsmodels\\tsa\\base\\tsa_model.py:471: ValueWarning: A date index has been provided, but it has no associated frequency information and so will be ignored when e.g. forecasting.\n",
      "  self._init_dates(dates, freq)\n",
      "C:\\Users\\preet\\anaconda3\\lib\\site-packages\\statsmodels\\tsa\\base\\tsa_model.py:471: ValueWarning: A date index has been provided, but it has no associated frequency information and so will be ignored when e.g. forecasting.\n",
      "  self._init_dates(dates, freq)\n",
      "C:\\Users\\preet\\anaconda3\\lib\\site-packages\\statsmodels\\tsa\\statespace\\sarimax.py:1009: UserWarning: Non-invertible starting seasonal moving average Using zeros as starting parameters.\n",
      "  warn('Non-invertible starting seasonal moving average'\n"
     ]
    },
    {
     "name": "stdout",
     "output_type": "stream",
     "text": [
      "SARIMAX(0, 0, 1)x(0, 0, 0, 12) - AIC:606.706693038288\n"
     ]
    },
    {
     "name": "stderr",
     "output_type": "stream",
     "text": [
      "C:\\Users\\preet\\anaconda3\\lib\\site-packages\\statsmodels\\base\\model.py:604: ConvergenceWarning: Maximum Likelihood optimization failed to converge. Check mle_retvals\n",
      "  warnings.warn(\"Maximum Likelihood optimization failed to \"\n",
      "C:\\Users\\preet\\anaconda3\\lib\\site-packages\\statsmodels\\tsa\\base\\tsa_model.py:471: ValueWarning: A date index has been provided, but it has no associated frequency information and so will be ignored when e.g. forecasting.\n",
      "  self._init_dates(dates, freq)\n",
      "C:\\Users\\preet\\anaconda3\\lib\\site-packages\\statsmodels\\tsa\\base\\tsa_model.py:471: ValueWarning: A date index has been provided, but it has no associated frequency information and so will be ignored when e.g. forecasting.\n",
      "  self._init_dates(dates, freq)\n"
     ]
    },
    {
     "name": "stdout",
     "output_type": "stream",
     "text": [
      "SARIMAX(0, 0, 1)x(0, 0, 1, 12) - AIC:581.4058276718866\n",
      "SARIMAX(0, 0, 1)x(0, 1, 0, 12) - AIC:410.09030137898975\n"
     ]
    },
    {
     "name": "stderr",
     "output_type": "stream",
     "text": [
      "C:\\Users\\preet\\anaconda3\\lib\\site-packages\\statsmodels\\tsa\\base\\tsa_model.py:471: ValueWarning: A date index has been provided, but it has no associated frequency information and so will be ignored when e.g. forecasting.\n",
      "  self._init_dates(dates, freq)\n",
      "C:\\Users\\preet\\anaconda3\\lib\\site-packages\\statsmodels\\tsa\\base\\tsa_model.py:471: ValueWarning: A date index has been provided, but it has no associated frequency information and so will be ignored when e.g. forecasting.\n",
      "  self._init_dates(dates, freq)\n",
      "C:\\Users\\preet\\anaconda3\\lib\\site-packages\\statsmodels\\tsa\\statespace\\sarimax.py:866: UserWarning: Too few observations to estimate starting parameters for seasonal ARMA. All parameters except for variances will be set to zeros.\n",
      "  warn('Too few observations to estimate starting parameters%s.'\n"
     ]
    },
    {
     "name": "stdout",
     "output_type": "stream",
     "text": [
      "SARIMAX(0, 0, 1)x(0, 1, 1, 12) - AIC:409.57178770470455\n"
     ]
    },
    {
     "name": "stderr",
     "output_type": "stream",
     "text": [
      "C:\\Users\\preet\\anaconda3\\lib\\site-packages\\statsmodels\\tsa\\base\\tsa_model.py:471: ValueWarning: A date index has been provided, but it has no associated frequency information and so will be ignored when e.g. forecasting.\n",
      "  self._init_dates(dates, freq)\n",
      "C:\\Users\\preet\\anaconda3\\lib\\site-packages\\statsmodels\\tsa\\base\\tsa_model.py:471: ValueWarning: A date index has been provided, but it has no associated frequency information and so will be ignored when e.g. forecasting.\n",
      "  self._init_dates(dates, freq)\n"
     ]
    },
    {
     "name": "stdout",
     "output_type": "stream",
     "text": [
      "SARIMAX(0, 0, 1)x(1, 0, 0, 12) - AIC:560.18392602403\n"
     ]
    },
    {
     "name": "stderr",
     "output_type": "stream",
     "text": [
      "C:\\Users\\preet\\anaconda3\\lib\\site-packages\\statsmodels\\tsa\\base\\tsa_model.py:471: ValueWarning: A date index has been provided, but it has no associated frequency information and so will be ignored when e.g. forecasting.\n",
      "  self._init_dates(dates, freq)\n",
      "C:\\Users\\preet\\anaconda3\\lib\\site-packages\\statsmodels\\tsa\\base\\tsa_model.py:471: ValueWarning: A date index has been provided, but it has no associated frequency information and so will be ignored when e.g. forecasting.\n",
      "  self._init_dates(dates, freq)\n",
      "C:\\Users\\preet\\anaconda3\\lib\\site-packages\\statsmodels\\tsa\\statespace\\sarimax.py:1009: UserWarning: Non-invertible starting seasonal moving average Using zeros as starting parameters.\n",
      "  warn('Non-invertible starting seasonal moving average'\n",
      "C:\\Users\\preet\\anaconda3\\lib\\site-packages\\statsmodels\\base\\model.py:604: ConvergenceWarning: Maximum Likelihood optimization failed to converge. Check mle_retvals\n",
      "  warnings.warn(\"Maximum Likelihood optimization failed to \"\n",
      "C:\\Users\\preet\\anaconda3\\lib\\site-packages\\statsmodels\\tsa\\base\\tsa_model.py:471: ValueWarning: A date index has been provided, but it has no associated frequency information and so will be ignored when e.g. forecasting.\n",
      "  self._init_dates(dates, freq)\n",
      "C:\\Users\\preet\\anaconda3\\lib\\site-packages\\statsmodels\\tsa\\base\\tsa_model.py:471: ValueWarning: A date index has been provided, but it has no associated frequency information and so will be ignored when e.g. forecasting.\n",
      "  self._init_dates(dates, freq)\n"
     ]
    },
    {
     "name": "stdout",
     "output_type": "stream",
     "text": [
      "SARIMAX(0, 0, 1)x(1, 0, 1, 12) - AIC:561.200878610283\n",
      "SARIMAX(0, 0, 1)x(1, 1, 0, 12) - AIC:410.802981796216\n"
     ]
    },
    {
     "name": "stderr",
     "output_type": "stream",
     "text": [
      "C:\\Users\\preet\\anaconda3\\lib\\site-packages\\statsmodels\\tsa\\base\\tsa_model.py:471: ValueWarning: A date index has been provided, but it has no associated frequency information and so will be ignored when e.g. forecasting.\n",
      "  self._init_dates(dates, freq)\n",
      "C:\\Users\\preet\\anaconda3\\lib\\site-packages\\statsmodels\\tsa\\base\\tsa_model.py:471: ValueWarning: A date index has been provided, but it has no associated frequency information and so will be ignored when e.g. forecasting.\n",
      "  self._init_dates(dates, freq)\n",
      "C:\\Users\\preet\\anaconda3\\lib\\site-packages\\statsmodels\\tsa\\statespace\\sarimax.py:866: UserWarning: Too few observations to estimate starting parameters for seasonal ARMA. All parameters except for variances will be set to zeros.\n",
      "  warn('Too few observations to estimate starting parameters%s.'\n",
      "C:\\Users\\preet\\anaconda3\\lib\\site-packages\\statsmodels\\base\\model.py:604: ConvergenceWarning: Maximum Likelihood optimization failed to converge. Check mle_retvals\n",
      "  warnings.warn(\"Maximum Likelihood optimization failed to \"\n",
      "C:\\Users\\preet\\anaconda3\\lib\\site-packages\\statsmodels\\tsa\\base\\tsa_model.py:471: ValueWarning: A date index has been provided, but it has no associated frequency information and so will be ignored when e.g. forecasting.\n",
      "  self._init_dates(dates, freq)\n",
      "C:\\Users\\preet\\anaconda3\\lib\\site-packages\\statsmodels\\tsa\\base\\tsa_model.py:471: ValueWarning: A date index has been provided, but it has no associated frequency information and so will be ignored when e.g. forecasting.\n",
      "  self._init_dates(dates, freq)\n"
     ]
    },
    {
     "name": "stdout",
     "output_type": "stream",
     "text": [
      "SARIMAX(0, 0, 1)x(1, 1, 1, 12) - AIC:410.90358401180504\n",
      "SARIMAX(0, 0, 2)x(0, 0, 0, 12) - AIC:591.0735494063022\n"
     ]
    },
    {
     "name": "stderr",
     "output_type": "stream",
     "text": [
      "C:\\Users\\preet\\anaconda3\\lib\\site-packages\\statsmodels\\tsa\\base\\tsa_model.py:471: ValueWarning: A date index has been provided, but it has no associated frequency information and so will be ignored when e.g. forecasting.\n",
      "  self._init_dates(dates, freq)\n",
      "C:\\Users\\preet\\anaconda3\\lib\\site-packages\\statsmodels\\tsa\\base\\tsa_model.py:471: ValueWarning: A date index has been provided, but it has no associated frequency information and so will be ignored when e.g. forecasting.\n",
      "  self._init_dates(dates, freq)\n",
      "C:\\Users\\preet\\anaconda3\\lib\\site-packages\\statsmodels\\tsa\\statespace\\sarimax.py:1009: UserWarning: Non-invertible starting seasonal moving average Using zeros as starting parameters.\n",
      "  warn('Non-invertible starting seasonal moving average'\n"
     ]
    },
    {
     "name": "stdout",
     "output_type": "stream",
     "text": [
      "SARIMAX(0, 0, 2)x(0, 0, 1, 12) - AIC:569.6958268280632\n",
      "SARIMAX(0, 0, 2)x(0, 1, 0, 12) - AIC:411.8051326776166\n"
     ]
    },
    {
     "name": "stderr",
     "output_type": "stream",
     "text": [
      "C:\\Users\\preet\\anaconda3\\lib\\site-packages\\statsmodels\\tsa\\base\\tsa_model.py:471: ValueWarning: A date index has been provided, but it has no associated frequency information and so will be ignored when e.g. forecasting.\n",
      "  self._init_dates(dates, freq)\n",
      "C:\\Users\\preet\\anaconda3\\lib\\site-packages\\statsmodels\\tsa\\base\\tsa_model.py:471: ValueWarning: A date index has been provided, but it has no associated frequency information and so will be ignored when e.g. forecasting.\n",
      "  self._init_dates(dates, freq)\n",
      "C:\\Users\\preet\\anaconda3\\lib\\site-packages\\statsmodels\\tsa\\base\\tsa_model.py:471: ValueWarning: A date index has been provided, but it has no associated frequency information and so will be ignored when e.g. forecasting.\n",
      "  self._init_dates(dates, freq)\n",
      "C:\\Users\\preet\\anaconda3\\lib\\site-packages\\statsmodels\\tsa\\base\\tsa_model.py:471: ValueWarning: A date index has been provided, but it has no associated frequency information and so will be ignored when e.g. forecasting.\n",
      "  self._init_dates(dates, freq)\n",
      "C:\\Users\\preet\\anaconda3\\lib\\site-packages\\statsmodels\\tsa\\statespace\\sarimax.py:866: UserWarning: Too few observations to estimate starting parameters for seasonal ARMA. All parameters except for variances will be set to zeros.\n",
      "  warn('Too few observations to estimate starting parameters%s.'\n"
     ]
    },
    {
     "name": "stdout",
     "output_type": "stream",
     "text": [
      "SARIMAX(0, 0, 2)x(0, 1, 1, 12) - AIC:411.545706091702\n"
     ]
    },
    {
     "name": "stderr",
     "output_type": "stream",
     "text": [
      "C:\\Users\\preet\\anaconda3\\lib\\site-packages\\statsmodels\\tsa\\base\\tsa_model.py:471: ValueWarning: A date index has been provided, but it has no associated frequency information and so will be ignored when e.g. forecasting.\n",
      "  self._init_dates(dates, freq)\n",
      "C:\\Users\\preet\\anaconda3\\lib\\site-packages\\statsmodels\\tsa\\base\\tsa_model.py:471: ValueWarning: A date index has been provided, but it has no associated frequency information and so will be ignored when e.g. forecasting.\n",
      "  self._init_dates(dates, freq)\n"
     ]
    },
    {
     "name": "stdout",
     "output_type": "stream",
     "text": [
      "SARIMAX(0, 0, 2)x(1, 0, 0, 12) - AIC:573.3133715605177\n"
     ]
    },
    {
     "name": "stderr",
     "output_type": "stream",
     "text": [
      "C:\\Users\\preet\\anaconda3\\lib\\site-packages\\statsmodels\\tsa\\base\\tsa_model.py:471: ValueWarning: A date index has been provided, but it has no associated frequency information and so will be ignored when e.g. forecasting.\n",
      "  self._init_dates(dates, freq)\n",
      "C:\\Users\\preet\\anaconda3\\lib\\site-packages\\statsmodels\\tsa\\base\\tsa_model.py:471: ValueWarning: A date index has been provided, but it has no associated frequency information and so will be ignored when e.g. forecasting.\n",
      "  self._init_dates(dates, freq)\n",
      "C:\\Users\\preet\\anaconda3\\lib\\site-packages\\statsmodels\\tsa\\statespace\\sarimax.py:1009: UserWarning: Non-invertible starting seasonal moving average Using zeros as starting parameters.\n",
      "  warn('Non-invertible starting seasonal moving average'\n",
      "C:\\Users\\preet\\anaconda3\\lib\\site-packages\\statsmodels\\base\\model.py:604: ConvergenceWarning: Maximum Likelihood optimization failed to converge. Check mle_retvals\n",
      "  warnings.warn(\"Maximum Likelihood optimization failed to \"\n",
      "C:\\Users\\preet\\anaconda3\\lib\\site-packages\\statsmodels\\tsa\\base\\tsa_model.py:471: ValueWarning: A date index has been provided, but it has no associated frequency information and so will be ignored when e.g. forecasting.\n",
      "  self._init_dates(dates, freq)\n",
      "C:\\Users\\preet\\anaconda3\\lib\\site-packages\\statsmodels\\tsa\\base\\tsa_model.py:471: ValueWarning: A date index has been provided, but it has no associated frequency information and so will be ignored when e.g. forecasting.\n",
      "  self._init_dates(dates, freq)\n"
     ]
    },
    {
     "name": "stdout",
     "output_type": "stream",
     "text": [
      "SARIMAX(0, 0, 2)x(1, 0, 1, 12) - AIC:574.6821498288934\n",
      "SARIMAX(0, 0, 2)x(1, 1, 0, 12) - AIC:412.5738134216444\n"
     ]
    },
    {
     "name": "stderr",
     "output_type": "stream",
     "text": [
      "C:\\Users\\preet\\anaconda3\\lib\\site-packages\\statsmodels\\tsa\\base\\tsa_model.py:471: ValueWarning: A date index has been provided, but it has no associated frequency information and so will be ignored when e.g. forecasting.\n",
      "  self._init_dates(dates, freq)\n",
      "C:\\Users\\preet\\anaconda3\\lib\\site-packages\\statsmodels\\tsa\\base\\tsa_model.py:471: ValueWarning: A date index has been provided, but it has no associated frequency information and so will be ignored when e.g. forecasting.\n",
      "  self._init_dates(dates, freq)\n",
      "C:\\Users\\preet\\anaconda3\\lib\\site-packages\\statsmodels\\tsa\\statespace\\sarimax.py:866: UserWarning: Too few observations to estimate starting parameters for seasonal ARMA. All parameters except for variances will be set to zeros.\n",
      "  warn('Too few observations to estimate starting parameters%s.'\n",
      "C:\\Users\\preet\\anaconda3\\lib\\site-packages\\statsmodels\\base\\model.py:604: ConvergenceWarning: Maximum Likelihood optimization failed to converge. Check mle_retvals\n",
      "  warnings.warn(\"Maximum Likelihood optimization failed to \"\n",
      "C:\\Users\\preet\\anaconda3\\lib\\site-packages\\statsmodels\\tsa\\base\\tsa_model.py:471: ValueWarning: A date index has been provided, but it has no associated frequency information and so will be ignored when e.g. forecasting.\n",
      "  self._init_dates(dates, freq)\n",
      "C:\\Users\\preet\\anaconda3\\lib\\site-packages\\statsmodels\\tsa\\base\\tsa_model.py:471: ValueWarning: A date index has been provided, but it has no associated frequency information and so will be ignored when e.g. forecasting.\n",
      "  self._init_dates(dates, freq)\n",
      "C:\\Users\\preet\\anaconda3\\lib\\site-packages\\statsmodels\\tsa\\base\\tsa_model.py:471: ValueWarning: A date index has been provided, but it has no associated frequency information and so will be ignored when e.g. forecasting.\n",
      "  self._init_dates(dates, freq)\n"
     ]
    },
    {
     "name": "stdout",
     "output_type": "stream",
     "text": [
      "SARIMAX(0, 0, 2)x(1, 1, 1, 12) - AIC:412.8741324601934\n",
      "SARIMAX(0, 1, 0)x(0, 0, 0, 12) - AIC:516.543708679713\n"
     ]
    },
    {
     "name": "stderr",
     "output_type": "stream",
     "text": [
      "C:\\Users\\preet\\anaconda3\\lib\\site-packages\\statsmodels\\tsa\\base\\tsa_model.py:471: ValueWarning: A date index has been provided, but it has no associated frequency information and so will be ignored when e.g. forecasting.\n",
      "  self._init_dates(dates, freq)\n",
      "C:\\Users\\preet\\anaconda3\\lib\\site-packages\\statsmodels\\tsa\\statespace\\sarimax.py:1009: UserWarning: Non-invertible starting seasonal moving average Using zeros as starting parameters.\n",
      "  warn('Non-invertible starting seasonal moving average'\n",
      "C:\\Users\\preet\\anaconda3\\lib\\site-packages\\statsmodels\\tsa\\base\\tsa_model.py:471: ValueWarning: A date index has been provided, but it has no associated frequency information and so will be ignored when e.g. forecasting.\n",
      "  self._init_dates(dates, freq)\n"
     ]
    },
    {
     "name": "stdout",
     "output_type": "stream",
     "text": [
      "SARIMAX(0, 1, 0)x(0, 0, 1, 12) - AIC:517.5965596804818\n",
      "SARIMAX(0, 1, 0)x(0, 1, 0, 12) - AIC:409.9027840121158\n"
     ]
    },
    {
     "name": "stderr",
     "output_type": "stream",
     "text": [
      "C:\\Users\\preet\\anaconda3\\lib\\site-packages\\statsmodels\\tsa\\base\\tsa_model.py:471: ValueWarning: A date index has been provided, but it has no associated frequency information and so will be ignored when e.g. forecasting.\n",
      "  self._init_dates(dates, freq)\n",
      "C:\\Users\\preet\\anaconda3\\lib\\site-packages\\statsmodels\\tsa\\base\\tsa_model.py:471: ValueWarning: A date index has been provided, but it has no associated frequency information and so will be ignored when e.g. forecasting.\n",
      "  self._init_dates(dates, freq)\n",
      "C:\\Users\\preet\\anaconda3\\lib\\site-packages\\statsmodels\\tsa\\base\\tsa_model.py:471: ValueWarning: A date index has been provided, but it has no associated frequency information and so will be ignored when e.g. forecasting.\n",
      "  self._init_dates(dates, freq)\n",
      "C:\\Users\\preet\\anaconda3\\lib\\site-packages\\statsmodels\\tsa\\statespace\\sarimax.py:866: UserWarning: Too few observations to estimate starting parameters for seasonal ARMA. All parameters except for variances will be set to zeros.\n",
      "  warn('Too few observations to estimate starting parameters%s.'\n"
     ]
    },
    {
     "name": "stdout",
     "output_type": "stream",
     "text": [
      "SARIMAX(0, 1, 0)x(0, 1, 1, 12) - AIC:408.82602648092455\n",
      "SARIMAX(0, 1, 0)x(1, 0, 0, 12) - AIC:518.0599645766413\n"
     ]
    },
    {
     "name": "stderr",
     "output_type": "stream",
     "text": [
      "C:\\Users\\preet\\anaconda3\\lib\\site-packages\\statsmodels\\tsa\\base\\tsa_model.py:471: ValueWarning: A date index has been provided, but it has no associated frequency information and so will be ignored when e.g. forecasting.\n",
      "  self._init_dates(dates, freq)\n",
      "C:\\Users\\preet\\anaconda3\\lib\\site-packages\\statsmodels\\tsa\\base\\tsa_model.py:471: ValueWarning: A date index has been provided, but it has no associated frequency information and so will be ignored when e.g. forecasting.\n",
      "  self._init_dates(dates, freq)\n",
      "C:\\Users\\preet\\anaconda3\\lib\\site-packages\\statsmodels\\tsa\\base\\tsa_model.py:471: ValueWarning: A date index has been provided, but it has no associated frequency information and so will be ignored when e.g. forecasting.\n",
      "  self._init_dates(dates, freq)\n",
      "C:\\Users\\preet\\anaconda3\\lib\\site-packages\\statsmodels\\tsa\\base\\tsa_model.py:471: ValueWarning: A date index has been provided, but it has no associated frequency information and so will be ignored when e.g. forecasting.\n",
      "  self._init_dates(dates, freq)\n",
      "C:\\Users\\preet\\anaconda3\\lib\\site-packages\\statsmodels\\tsa\\statespace\\sarimax.py:1009: UserWarning: Non-invertible starting seasonal moving average Using zeros as starting parameters.\n",
      "  warn('Non-invertible starting seasonal moving average'\n"
     ]
    },
    {
     "name": "stdout",
     "output_type": "stream",
     "text": [
      "SARIMAX(0, 1, 0)x(1, 0, 1, 12) - AIC:518.891588469744\n"
     ]
    },
    {
     "name": "stderr",
     "output_type": "stream",
     "text": [
      "C:\\Users\\preet\\anaconda3\\lib\\site-packages\\statsmodels\\tsa\\base\\tsa_model.py:471: ValueWarning: A date index has been provided, but it has no associated frequency information and so will be ignored when e.g. forecasting.\n",
      "  self._init_dates(dates, freq)\n",
      "C:\\Users\\preet\\anaconda3\\lib\\site-packages\\statsmodels\\tsa\\base\\tsa_model.py:471: ValueWarning: A date index has been provided, but it has no associated frequency information and so will be ignored when e.g. forecasting.\n",
      "  self._init_dates(dates, freq)\n"
     ]
    },
    {
     "name": "stdout",
     "output_type": "stream",
     "text": [
      "SARIMAX(0, 1, 0)x(1, 1, 0, 12) - AIC:410.75917186864433\n"
     ]
    },
    {
     "name": "stderr",
     "output_type": "stream",
     "text": [
      "C:\\Users\\preet\\anaconda3\\lib\\site-packages\\statsmodels\\tsa\\base\\tsa_model.py:471: ValueWarning: A date index has been provided, but it has no associated frequency information and so will be ignored when e.g. forecasting.\n",
      "  self._init_dates(dates, freq)\n",
      "C:\\Users\\preet\\anaconda3\\lib\\site-packages\\statsmodels\\tsa\\base\\tsa_model.py:471: ValueWarning: A date index has been provided, but it has no associated frequency information and so will be ignored when e.g. forecasting.\n",
      "  self._init_dates(dates, freq)\n",
      "C:\\Users\\preet\\anaconda3\\lib\\site-packages\\statsmodels\\tsa\\statespace\\sarimax.py:866: UserWarning: Too few observations to estimate starting parameters for seasonal ARMA. All parameters except for variances will be set to zeros.\n",
      "  warn('Too few observations to estimate starting parameters%s.'\n",
      "C:\\Users\\preet\\anaconda3\\lib\\site-packages\\statsmodels\\base\\model.py:604: ConvergenceWarning: Maximum Likelihood optimization failed to converge. Check mle_retvals\n",
      "  warnings.warn(\"Maximum Likelihood optimization failed to \"\n",
      "C:\\Users\\preet\\anaconda3\\lib\\site-packages\\statsmodels\\tsa\\base\\tsa_model.py:471: ValueWarning: A date index has been provided, but it has no associated frequency information and so will be ignored when e.g. forecasting.\n",
      "  self._init_dates(dates, freq)\n",
      "C:\\Users\\preet\\anaconda3\\lib\\site-packages\\statsmodels\\tsa\\base\\tsa_model.py:471: ValueWarning: A date index has been provided, but it has no associated frequency information and so will be ignored when e.g. forecasting.\n",
      "  self._init_dates(dates, freq)\n"
     ]
    },
    {
     "name": "stdout",
     "output_type": "stream",
     "text": [
      "SARIMAX(0, 1, 0)x(1, 1, 1, 12) - AIC:410.22360598216716\n",
      "SARIMAX(0, 1, 1)x(0, 0, 0, 12) - AIC:513.2403886432563\n"
     ]
    },
    {
     "name": "stderr",
     "output_type": "stream",
     "text": [
      "C:\\Users\\preet\\anaconda3\\lib\\site-packages\\statsmodels\\tsa\\base\\tsa_model.py:471: ValueWarning: A date index has been provided, but it has no associated frequency information and so will be ignored when e.g. forecasting.\n",
      "  self._init_dates(dates, freq)\n",
      "C:\\Users\\preet\\anaconda3\\lib\\site-packages\\statsmodels\\tsa\\base\\tsa_model.py:471: ValueWarning: A date index has been provided, but it has no associated frequency information and so will be ignored when e.g. forecasting.\n",
      "  self._init_dates(dates, freq)\n",
      "C:\\Users\\preet\\anaconda3\\lib\\site-packages\\statsmodels\\tsa\\statespace\\sarimax.py:1009: UserWarning: Non-invertible starting seasonal moving average Using zeros as starting parameters.\n",
      "  warn('Non-invertible starting seasonal moving average'\n"
     ]
    },
    {
     "name": "stdout",
     "output_type": "stream",
     "text": [
      "SARIMAX(0, 1, 1)x(0, 0, 1, 12) - AIC:514.3463076517519\n",
      "SARIMAX(0, 1, 1)x(0, 1, 0, 12) - AIC:407.33852182308533\n"
     ]
    },
    {
     "name": "stderr",
     "output_type": "stream",
     "text": [
      "C:\\Users\\preet\\anaconda3\\lib\\site-packages\\statsmodels\\tsa\\base\\tsa_model.py:471: ValueWarning: A date index has been provided, but it has no associated frequency information and so will be ignored when e.g. forecasting.\n",
      "  self._init_dates(dates, freq)\n",
      "C:\\Users\\preet\\anaconda3\\lib\\site-packages\\statsmodels\\tsa\\base\\tsa_model.py:471: ValueWarning: A date index has been provided, but it has no associated frequency information and so will be ignored when e.g. forecasting.\n",
      "  self._init_dates(dates, freq)\n",
      "C:\\Users\\preet\\anaconda3\\lib\\site-packages\\statsmodels\\tsa\\base\\tsa_model.py:471: ValueWarning: A date index has been provided, but it has no associated frequency information and so will be ignored when e.g. forecasting.\n",
      "  self._init_dates(dates, freq)\n",
      "C:\\Users\\preet\\anaconda3\\lib\\site-packages\\statsmodels\\tsa\\base\\tsa_model.py:471: ValueWarning: A date index has been provided, but it has no associated frequency information and so will be ignored when e.g. forecasting.\n",
      "  self._init_dates(dates, freq)\n",
      "C:\\Users\\preet\\anaconda3\\lib\\site-packages\\statsmodels\\tsa\\statespace\\sarimax.py:866: UserWarning: Too few observations to estimate starting parameters for seasonal ARMA. All parameters except for variances will be set to zeros.\n",
      "  warn('Too few observations to estimate starting parameters%s.'\n"
     ]
    },
    {
     "name": "stdout",
     "output_type": "stream",
     "text": [
      "SARIMAX(0, 1, 1)x(0, 1, 1, 12) - AIC:407.88029597514526\n"
     ]
    },
    {
     "name": "stderr",
     "output_type": "stream",
     "text": [
      "C:\\Users\\preet\\anaconda3\\lib\\site-packages\\statsmodels\\tsa\\base\\tsa_model.py:471: ValueWarning: A date index has been provided, but it has no associated frequency information and so will be ignored when e.g. forecasting.\n",
      "  self._init_dates(dates, freq)\n",
      "C:\\Users\\preet\\anaconda3\\lib\\site-packages\\statsmodels\\tsa\\base\\tsa_model.py:471: ValueWarning: A date index has been provided, but it has no associated frequency information and so will be ignored when e.g. forecasting.\n",
      "  self._init_dates(dates, freq)\n"
     ]
    },
    {
     "name": "stdout",
     "output_type": "stream",
     "text": [
      "SARIMAX(0, 1, 1)x(1, 0, 0, 12) - AIC:514.9609560246755\n"
     ]
    },
    {
     "name": "stderr",
     "output_type": "stream",
     "text": [
      "C:\\Users\\preet\\anaconda3\\lib\\site-packages\\statsmodels\\tsa\\base\\tsa_model.py:471: ValueWarning: A date index has been provided, but it has no associated frequency information and so will be ignored when e.g. forecasting.\n",
      "  self._init_dates(dates, freq)\n",
      "C:\\Users\\preet\\anaconda3\\lib\\site-packages\\statsmodels\\tsa\\base\\tsa_model.py:471: ValueWarning: A date index has been provided, but it has no associated frequency information and so will be ignored when e.g. forecasting.\n",
      "  self._init_dates(dates, freq)\n",
      "C:\\Users\\preet\\anaconda3\\lib\\site-packages\\statsmodels\\tsa\\statespace\\sarimax.py:1009: UserWarning: Non-invertible starting seasonal moving average Using zeros as starting parameters.\n",
      "  warn('Non-invertible starting seasonal moving average'\n"
     ]
    },
    {
     "name": "stdout",
     "output_type": "stream",
     "text": [
      "SARIMAX(0, 1, 1)x(1, 0, 1, 12) - AIC:513.3875385336551\n"
     ]
    },
    {
     "name": "stderr",
     "output_type": "stream",
     "text": [
      "C:\\Users\\preet\\anaconda3\\lib\\site-packages\\statsmodels\\tsa\\base\\tsa_model.py:471: ValueWarning: A date index has been provided, but it has no associated frequency information and so will be ignored when e.g. forecasting.\n",
      "  self._init_dates(dates, freq)\n",
      "C:\\Users\\preet\\anaconda3\\lib\\site-packages\\statsmodels\\tsa\\base\\tsa_model.py:471: ValueWarning: A date index has been provided, but it has no associated frequency information and so will be ignored when e.g. forecasting.\n",
      "  self._init_dates(dates, freq)\n"
     ]
    },
    {
     "name": "stdout",
     "output_type": "stream",
     "text": [
      "SARIMAX(0, 1, 1)x(1, 1, 0, 12) - AIC:408.9117899325243\n"
     ]
    },
    {
     "name": "stderr",
     "output_type": "stream",
     "text": [
      "C:\\Users\\preet\\anaconda3\\lib\\site-packages\\statsmodels\\tsa\\base\\tsa_model.py:471: ValueWarning: A date index has been provided, but it has no associated frequency information and so will be ignored when e.g. forecasting.\n",
      "  self._init_dates(dates, freq)\n",
      "C:\\Users\\preet\\anaconda3\\lib\\site-packages\\statsmodels\\tsa\\base\\tsa_model.py:471: ValueWarning: A date index has been provided, but it has no associated frequency information and so will be ignored when e.g. forecasting.\n",
      "  self._init_dates(dates, freq)\n",
      "C:\\Users\\preet\\anaconda3\\lib\\site-packages\\statsmodels\\tsa\\statespace\\sarimax.py:866: UserWarning: Too few observations to estimate starting parameters for seasonal ARMA. All parameters except for variances will be set to zeros.\n",
      "  warn('Too few observations to estimate starting parameters%s.'\n",
      "C:\\Users\\preet\\anaconda3\\lib\\site-packages\\statsmodels\\base\\model.py:604: ConvergenceWarning: Maximum Likelihood optimization failed to converge. Check mle_retvals\n",
      "  warnings.warn(\"Maximum Likelihood optimization failed to \"\n",
      "C:\\Users\\preet\\anaconda3\\lib\\site-packages\\statsmodels\\tsa\\base\\tsa_model.py:471: ValueWarning: A date index has been provided, but it has no associated frequency information and so will be ignored when e.g. forecasting.\n",
      "  self._init_dates(dates, freq)\n",
      "C:\\Users\\preet\\anaconda3\\lib\\site-packages\\statsmodels\\tsa\\base\\tsa_model.py:471: ValueWarning: A date index has been provided, but it has no associated frequency information and so will be ignored when e.g. forecasting.\n",
      "  self._init_dates(dates, freq)\n"
     ]
    },
    {
     "name": "stdout",
     "output_type": "stream",
     "text": [
      "SARIMAX(0, 1, 1)x(1, 1, 1, 12) - AIC:408.7989963534184\n",
      "SARIMAX(0, 1, 2)x(0, 0, 0, 12) - AIC:507.45267973021714\n"
     ]
    },
    {
     "name": "stderr",
     "output_type": "stream",
     "text": [
      "C:\\Users\\preet\\anaconda3\\lib\\site-packages\\statsmodels\\tsa\\base\\tsa_model.py:471: ValueWarning: A date index has been provided, but it has no associated frequency information and so will be ignored when e.g. forecasting.\n",
      "  self._init_dates(dates, freq)\n",
      "C:\\Users\\preet\\anaconda3\\lib\\site-packages\\statsmodels\\tsa\\base\\tsa_model.py:471: ValueWarning: A date index has been provided, but it has no associated frequency information and so will be ignored when e.g. forecasting.\n",
      "  self._init_dates(dates, freq)\n",
      "C:\\Users\\preet\\anaconda3\\lib\\site-packages\\statsmodels\\tsa\\statespace\\sarimax.py:1009: UserWarning: Non-invertible starting seasonal moving average Using zeros as starting parameters.\n",
      "  warn('Non-invertible starting seasonal moving average'\n"
     ]
    },
    {
     "name": "stdout",
     "output_type": "stream",
     "text": [
      "SARIMAX(0, 1, 2)x(0, 0, 1, 12) - AIC:508.9609113514049\n"
     ]
    },
    {
     "name": "stderr",
     "output_type": "stream",
     "text": [
      "C:\\Users\\preet\\anaconda3\\lib\\site-packages\\statsmodels\\tsa\\base\\tsa_model.py:471: ValueWarning: A date index has been provided, but it has no associated frequency information and so will be ignored when e.g. forecasting.\n",
      "  self._init_dates(dates, freq)\n",
      "C:\\Users\\preet\\anaconda3\\lib\\site-packages\\statsmodels\\tsa\\base\\tsa_model.py:471: ValueWarning: A date index has been provided, but it has no associated frequency information and so will be ignored when e.g. forecasting.\n",
      "  self._init_dates(dates, freq)\n"
     ]
    },
    {
     "name": "stdout",
     "output_type": "stream",
     "text": [
      "SARIMAX(0, 1, 2)x(0, 1, 0, 12) - AIC:404.2795340968297\n"
     ]
    },
    {
     "name": "stderr",
     "output_type": "stream",
     "text": [
      "C:\\Users\\preet\\anaconda3\\lib\\site-packages\\statsmodels\\tsa\\base\\tsa_model.py:471: ValueWarning: A date index has been provided, but it has no associated frequency information and so will be ignored when e.g. forecasting.\n",
      "  self._init_dates(dates, freq)\n",
      "C:\\Users\\preet\\anaconda3\\lib\\site-packages\\statsmodels\\tsa\\base\\tsa_model.py:471: ValueWarning: A date index has been provided, but it has no associated frequency information and so will be ignored when e.g. forecasting.\n",
      "  self._init_dates(dates, freq)\n",
      "C:\\Users\\preet\\anaconda3\\lib\\site-packages\\statsmodels\\tsa\\statespace\\sarimax.py:866: UserWarning: Too few observations to estimate starting parameters for seasonal ARMA. All parameters except for variances will be set to zeros.\n",
      "  warn('Too few observations to estimate starting parameters%s.'\n"
     ]
    },
    {
     "name": "stdout",
     "output_type": "stream",
     "text": [
      "SARIMAX(0, 1, 2)x(0, 1, 1, 12) - AIC:404.64544156389496\n"
     ]
    },
    {
     "name": "stderr",
     "output_type": "stream",
     "text": [
      "C:\\Users\\preet\\anaconda3\\lib\\site-packages\\statsmodels\\tsa\\base\\tsa_model.py:471: ValueWarning: A date index has been provided, but it has no associated frequency information and so will be ignored when e.g. forecasting.\n",
      "  self._init_dates(dates, freq)\n",
      "C:\\Users\\preet\\anaconda3\\lib\\site-packages\\statsmodels\\tsa\\base\\tsa_model.py:471: ValueWarning: A date index has been provided, but it has no associated frequency information and so will be ignored when e.g. forecasting.\n",
      "  self._init_dates(dates, freq)\n"
     ]
    },
    {
     "name": "stdout",
     "output_type": "stream",
     "text": [
      "SARIMAX(0, 1, 2)x(1, 0, 0, 12) - AIC:509.23961858215915\n"
     ]
    },
    {
     "name": "stderr",
     "output_type": "stream",
     "text": [
      "C:\\Users\\preet\\anaconda3\\lib\\site-packages\\statsmodels\\tsa\\base\\tsa_model.py:471: ValueWarning: A date index has been provided, but it has no associated frequency information and so will be ignored when e.g. forecasting.\n",
      "  self._init_dates(dates, freq)\n",
      "C:\\Users\\preet\\anaconda3\\lib\\site-packages\\statsmodels\\tsa\\base\\tsa_model.py:471: ValueWarning: A date index has been provided, but it has no associated frequency information and so will be ignored when e.g. forecasting.\n",
      "  self._init_dates(dates, freq)\n",
      "C:\\Users\\preet\\anaconda3\\lib\\site-packages\\statsmodels\\tsa\\statespace\\sarimax.py:1009: UserWarning: Non-invertible starting seasonal moving average Using zeros as starting parameters.\n",
      "  warn('Non-invertible starting seasonal moving average'\n",
      "C:\\Users\\preet\\anaconda3\\lib\\site-packages\\statsmodels\\base\\model.py:604: ConvergenceWarning: Maximum Likelihood optimization failed to converge. Check mle_retvals\n",
      "  warnings.warn(\"Maximum Likelihood optimization failed to \"\n",
      "C:\\Users\\preet\\anaconda3\\lib\\site-packages\\statsmodels\\tsa\\base\\tsa_model.py:471: ValueWarning: A date index has been provided, but it has no associated frequency information and so will be ignored when e.g. forecasting.\n",
      "  self._init_dates(dates, freq)\n",
      "C:\\Users\\preet\\anaconda3\\lib\\site-packages\\statsmodels\\tsa\\base\\tsa_model.py:471: ValueWarning: A date index has been provided, but it has no associated frequency information and so will be ignored when e.g. forecasting.\n",
      "  self._init_dates(dates, freq)\n"
     ]
    },
    {
     "name": "stdout",
     "output_type": "stream",
     "text": [
      "SARIMAX(0, 1, 2)x(1, 0, 1, 12) - AIC:509.27412670112864\n",
      "SARIMAX(0, 1, 2)x(1, 1, 0, 12) - AIC:405.4290737022835\n"
     ]
    },
    {
     "name": "stderr",
     "output_type": "stream",
     "text": [
      "C:\\Users\\preet\\anaconda3\\lib\\site-packages\\statsmodels\\tsa\\base\\tsa_model.py:471: ValueWarning: A date index has been provided, but it has no associated frequency information and so will be ignored when e.g. forecasting.\n",
      "  self._init_dates(dates, freq)\n",
      "C:\\Users\\preet\\anaconda3\\lib\\site-packages\\statsmodels\\tsa\\base\\tsa_model.py:471: ValueWarning: A date index has been provided, but it has no associated frequency information and so will be ignored when e.g. forecasting.\n",
      "  self._init_dates(dates, freq)\n",
      "C:\\Users\\preet\\anaconda3\\lib\\site-packages\\statsmodels\\tsa\\statespace\\sarimax.py:866: UserWarning: Too few observations to estimate starting parameters for seasonal ARMA. All parameters except for variances will be set to zeros.\n",
      "  warn('Too few observations to estimate starting parameters%s.'\n",
      "C:\\Users\\preet\\anaconda3\\lib\\site-packages\\statsmodels\\base\\model.py:604: ConvergenceWarning: Maximum Likelihood optimization failed to converge. Check mle_retvals\n",
      "  warnings.warn(\"Maximum Likelihood optimization failed to \"\n",
      "C:\\Users\\preet\\anaconda3\\lib\\site-packages\\statsmodels\\tsa\\base\\tsa_model.py:471: ValueWarning: A date index has been provided, but it has no associated frequency information and so will be ignored when e.g. forecasting.\n",
      "  self._init_dates(dates, freq)\n",
      "C:\\Users\\preet\\anaconda3\\lib\\site-packages\\statsmodels\\tsa\\base\\tsa_model.py:471: ValueWarning: A date index has been provided, but it has no associated frequency information and so will be ignored when e.g. forecasting.\n",
      "  self._init_dates(dates, freq)\n"
     ]
    },
    {
     "name": "stdout",
     "output_type": "stream",
     "text": [
      "SARIMAX(0, 1, 2)x(1, 1, 1, 12) - AIC:405.87483590125106\n",
      "SARIMAX(0, 2, 0)x(0, 0, 0, 12) - AIC:544.2009458514098\n"
     ]
    },
    {
     "name": "stderr",
     "output_type": "stream",
     "text": [
      "C:\\Users\\preet\\anaconda3\\lib\\site-packages\\statsmodels\\tsa\\base\\tsa_model.py:471: ValueWarning: A date index has been provided, but it has no associated frequency information and so will be ignored when e.g. forecasting.\n",
      "  self._init_dates(dates, freq)\n",
      "C:\\Users\\preet\\anaconda3\\lib\\site-packages\\statsmodels\\tsa\\base\\tsa_model.py:471: ValueWarning: A date index has been provided, but it has no associated frequency information and so will be ignored when e.g. forecasting.\n",
      "  self._init_dates(dates, freq)\n",
      "C:\\Users\\preet\\anaconda3\\lib\\site-packages\\statsmodels\\tsa\\statespace\\sarimax.py:1009: UserWarning: Non-invertible starting seasonal moving average Using zeros as starting parameters.\n",
      "  warn('Non-invertible starting seasonal moving average'\n"
     ]
    },
    {
     "name": "stdout",
     "output_type": "stream",
     "text": [
      "SARIMAX(0, 2, 0)x(0, 0, 1, 12) - AIC:544.3506678584623\n",
      "SARIMAX(0, 2, 0)x(0, 1, 0, 12) - AIC:428.61920228142964\n"
     ]
    },
    {
     "name": "stderr",
     "output_type": "stream",
     "text": [
      "C:\\Users\\preet\\anaconda3\\lib\\site-packages\\statsmodels\\tsa\\base\\tsa_model.py:471: ValueWarning: A date index has been provided, but it has no associated frequency information and so will be ignored when e.g. forecasting.\n",
      "  self._init_dates(dates, freq)\n",
      "C:\\Users\\preet\\anaconda3\\lib\\site-packages\\statsmodels\\tsa\\base\\tsa_model.py:471: ValueWarning: A date index has been provided, but it has no associated frequency information and so will be ignored when e.g. forecasting.\n",
      "  self._init_dates(dates, freq)\n",
      "C:\\Users\\preet\\anaconda3\\lib\\site-packages\\statsmodels\\tsa\\base\\tsa_model.py:471: ValueWarning: A date index has been provided, but it has no associated frequency information and so will be ignored when e.g. forecasting.\n",
      "  self._init_dates(dates, freq)\n",
      "C:\\Users\\preet\\anaconda3\\lib\\site-packages\\statsmodels\\tsa\\base\\tsa_model.py:471: ValueWarning: A date index has been provided, but it has no associated frequency information and so will be ignored when e.g. forecasting.\n",
      "  self._init_dates(dates, freq)\n",
      "C:\\Users\\preet\\anaconda3\\lib\\site-packages\\statsmodels\\tsa\\statespace\\sarimax.py:866: UserWarning: Too few observations to estimate starting parameters for seasonal ARMA. All parameters except for variances will be set to zeros.\n",
      "  warn('Too few observations to estimate starting parameters%s.'\n",
      "C:\\Users\\preet\\anaconda3\\lib\\site-packages\\statsmodels\\base\\model.py:604: ConvergenceWarning: Maximum Likelihood optimization failed to converge. Check mle_retvals\n",
      "  warnings.warn(\"Maximum Likelihood optimization failed to \"\n",
      "C:\\Users\\preet\\anaconda3\\lib\\site-packages\\statsmodels\\tsa\\base\\tsa_model.py:471: ValueWarning: A date index has been provided, but it has no associated frequency information and so will be ignored when e.g. forecasting.\n",
      "  self._init_dates(dates, freq)\n",
      "C:\\Users\\preet\\anaconda3\\lib\\site-packages\\statsmodels\\tsa\\base\\tsa_model.py:471: ValueWarning: A date index has been provided, but it has no associated frequency information and so will be ignored when e.g. forecasting.\n",
      "  self._init_dates(dates, freq)\n"
     ]
    },
    {
     "name": "stdout",
     "output_type": "stream",
     "text": [
      "SARIMAX(0, 2, 0)x(0, 1, 1, 12) - AIC:426.3902282030216\n",
      "SARIMAX(0, 2, 0)x(1, 0, 0, 12) - AIC:545.0578874833765\n"
     ]
    },
    {
     "name": "stderr",
     "output_type": "stream",
     "text": [
      "C:\\Users\\preet\\anaconda3\\lib\\site-packages\\statsmodels\\tsa\\base\\tsa_model.py:471: ValueWarning: A date index has been provided, but it has no associated frequency information and so will be ignored when e.g. forecasting.\n",
      "  self._init_dates(dates, freq)\n",
      "C:\\Users\\preet\\anaconda3\\lib\\site-packages\\statsmodels\\tsa\\base\\tsa_model.py:471: ValueWarning: A date index has been provided, but it has no associated frequency information and so will be ignored when e.g. forecasting.\n",
      "  self._init_dates(dates, freq)\n",
      "C:\\Users\\preet\\anaconda3\\lib\\site-packages\\statsmodels\\tsa\\statespace\\sarimax.py:1009: UserWarning: Non-invertible starting seasonal moving average Using zeros as starting parameters.\n",
      "  warn('Non-invertible starting seasonal moving average'\n"
     ]
    },
    {
     "name": "stdout",
     "output_type": "stream",
     "text": [
      "SARIMAX(0, 2, 0)x(1, 0, 1, 12) - AIC:546.0246005342065\n"
     ]
    },
    {
     "name": "stderr",
     "output_type": "stream",
     "text": [
      "C:\\Users\\preet\\anaconda3\\lib\\site-packages\\statsmodels\\tsa\\base\\tsa_model.py:471: ValueWarning: A date index has been provided, but it has no associated frequency information and so will be ignored when e.g. forecasting.\n",
      "  self._init_dates(dates, freq)\n",
      "C:\\Users\\preet\\anaconda3\\lib\\site-packages\\statsmodels\\tsa\\base\\tsa_model.py:471: ValueWarning: A date index has been provided, but it has no associated frequency information and so will be ignored when e.g. forecasting.\n",
      "  self._init_dates(dates, freq)\n"
     ]
    },
    {
     "name": "stdout",
     "output_type": "stream",
     "text": [
      "SARIMAX(0, 2, 0)x(1, 1, 0, 12) - AIC:428.5446087992638\n"
     ]
    },
    {
     "name": "stderr",
     "output_type": "stream",
     "text": [
      "C:\\Users\\preet\\anaconda3\\lib\\site-packages\\statsmodels\\tsa\\base\\tsa_model.py:471: ValueWarning: A date index has been provided, but it has no associated frequency information and so will be ignored when e.g. forecasting.\n",
      "  self._init_dates(dates, freq)\n",
      "C:\\Users\\preet\\anaconda3\\lib\\site-packages\\statsmodels\\tsa\\base\\tsa_model.py:471: ValueWarning: A date index has been provided, but it has no associated frequency information and so will be ignored when e.g. forecasting.\n",
      "  self._init_dates(dates, freq)\n",
      "C:\\Users\\preet\\anaconda3\\lib\\site-packages\\statsmodels\\tsa\\statespace\\sarimax.py:866: UserWarning: Too few observations to estimate starting parameters for seasonal ARMA. All parameters except for variances will be set to zeros.\n",
      "  warn('Too few observations to estimate starting parameters%s.'\n",
      "C:\\Users\\preet\\anaconda3\\lib\\site-packages\\statsmodels\\base\\model.py:604: ConvergenceWarning: Maximum Likelihood optimization failed to converge. Check mle_retvals\n",
      "  warnings.warn(\"Maximum Likelihood optimization failed to \"\n",
      "C:\\Users\\preet\\anaconda3\\lib\\site-packages\\statsmodels\\tsa\\base\\tsa_model.py:471: ValueWarning: A date index has been provided, but it has no associated frequency information and so will be ignored when e.g. forecasting.\n",
      "  self._init_dates(dates, freq)\n",
      "C:\\Users\\preet\\anaconda3\\lib\\site-packages\\statsmodels\\tsa\\base\\tsa_model.py:471: ValueWarning: A date index has been provided, but it has no associated frequency information and so will be ignored when e.g. forecasting.\n",
      "  self._init_dates(dates, freq)\n",
      "C:\\Users\\preet\\anaconda3\\lib\\site-packages\\statsmodels\\tsa\\base\\tsa_model.py:471: ValueWarning: A date index has been provided, but it has no associated frequency information and so will be ignored when e.g. forecasting.\n",
      "  self._init_dates(dates, freq)\n",
      "C:\\Users\\preet\\anaconda3\\lib\\site-packages\\statsmodels\\tsa\\base\\tsa_model.py:471: ValueWarning: A date index has been provided, but it has no associated frequency information and so will be ignored when e.g. forecasting.\n",
      "  self._init_dates(dates, freq)\n"
     ]
    },
    {
     "name": "stdout",
     "output_type": "stream",
     "text": [
      "SARIMAX(0, 2, 0)x(1, 1, 1, 12) - AIC:428.2217948581389\n",
      "SARIMAX(0, 2, 1)x(0, 0, 0, 12) - AIC:512.5273845282627\n"
     ]
    },
    {
     "name": "stderr",
     "output_type": "stream",
     "text": [
      "C:\\Users\\preet\\anaconda3\\lib\\site-packages\\statsmodels\\tsa\\statespace\\sarimax.py:1009: UserWarning: Non-invertible starting seasonal moving average Using zeros as starting parameters.\n",
      "  warn('Non-invertible starting seasonal moving average'\n"
     ]
    },
    {
     "name": "stdout",
     "output_type": "stream",
     "text": [
      "SARIMAX(0, 2, 1)x(0, 0, 1, 12) - AIC:513.9512287512166\n",
      "SARIMAX(0, 2, 1)x(0, 1, 0, 12) - AIC:404.6974080907781\n"
     ]
    },
    {
     "name": "stderr",
     "output_type": "stream",
     "text": [
      "C:\\Users\\preet\\anaconda3\\lib\\site-packages\\statsmodels\\tsa\\base\\tsa_model.py:471: ValueWarning: A date index has been provided, but it has no associated frequency information and so will be ignored when e.g. forecasting.\n",
      "  self._init_dates(dates, freq)\n",
      "C:\\Users\\preet\\anaconda3\\lib\\site-packages\\statsmodels\\tsa\\base\\tsa_model.py:471: ValueWarning: A date index has been provided, but it has no associated frequency information and so will be ignored when e.g. forecasting.\n",
      "  self._init_dates(dates, freq)\n",
      "C:\\Users\\preet\\anaconda3\\lib\\site-packages\\statsmodels\\tsa\\base\\tsa_model.py:471: ValueWarning: A date index has been provided, but it has no associated frequency information and so will be ignored when e.g. forecasting.\n",
      "  self._init_dates(dates, freq)\n",
      "C:\\Users\\preet\\anaconda3\\lib\\site-packages\\statsmodels\\tsa\\base\\tsa_model.py:471: ValueWarning: A date index has been provided, but it has no associated frequency information and so will be ignored when e.g. forecasting.\n",
      "  self._init_dates(dates, freq)\n",
      "C:\\Users\\preet\\anaconda3\\lib\\site-packages\\statsmodels\\tsa\\statespace\\sarimax.py:866: UserWarning: Too few observations to estimate starting parameters for seasonal ARMA. All parameters except for variances will be set to zeros.\n",
      "  warn('Too few observations to estimate starting parameters%s.'\n"
     ]
    },
    {
     "name": "stdout",
     "output_type": "stream",
     "text": [
      "SARIMAX(0, 2, 1)x(0, 1, 1, 12) - AIC:404.43966258211077\n"
     ]
    },
    {
     "name": "stderr",
     "output_type": "stream",
     "text": [
      "C:\\Users\\preet\\anaconda3\\lib\\site-packages\\statsmodels\\tsa\\base\\tsa_model.py:471: ValueWarning: A date index has been provided, but it has no associated frequency information and so will be ignored when e.g. forecasting.\n",
      "  self._init_dates(dates, freq)\n",
      "C:\\Users\\preet\\anaconda3\\lib\\site-packages\\statsmodels\\tsa\\base\\tsa_model.py:471: ValueWarning: A date index has been provided, but it has no associated frequency information and so will be ignored when e.g. forecasting.\n",
      "  self._init_dates(dates, freq)\n"
     ]
    },
    {
     "name": "stdout",
     "output_type": "stream",
     "text": [
      "SARIMAX(0, 2, 1)x(1, 0, 0, 12) - AIC:514.2275858553908\n"
     ]
    },
    {
     "name": "stderr",
     "output_type": "stream",
     "text": [
      "C:\\Users\\preet\\anaconda3\\lib\\site-packages\\statsmodels\\tsa\\base\\tsa_model.py:471: ValueWarning: A date index has been provided, but it has no associated frequency information and so will be ignored when e.g. forecasting.\n",
      "  self._init_dates(dates, freq)\n",
      "C:\\Users\\preet\\anaconda3\\lib\\site-packages\\statsmodels\\tsa\\base\\tsa_model.py:471: ValueWarning: A date index has been provided, but it has no associated frequency information and so will be ignored when e.g. forecasting.\n",
      "  self._init_dates(dates, freq)\n",
      "C:\\Users\\preet\\anaconda3\\lib\\site-packages\\statsmodels\\tsa\\statespace\\sarimax.py:1009: UserWarning: Non-invertible starting seasonal moving average Using zeros as starting parameters.\n",
      "  warn('Non-invertible starting seasonal moving average'\n"
     ]
    },
    {
     "name": "stdout",
     "output_type": "stream",
     "text": [
      "SARIMAX(0, 2, 1)x(1, 0, 1, 12) - AIC:515.4053402111949\n"
     ]
    },
    {
     "name": "stderr",
     "output_type": "stream",
     "text": [
      "C:\\Users\\preet\\anaconda3\\lib\\site-packages\\statsmodels\\tsa\\base\\tsa_model.py:471: ValueWarning: A date index has been provided, but it has no associated frequency information and so will be ignored when e.g. forecasting.\n",
      "  self._init_dates(dates, freq)\n",
      "C:\\Users\\preet\\anaconda3\\lib\\site-packages\\statsmodels\\tsa\\base\\tsa_model.py:471: ValueWarning: A date index has been provided, but it has no associated frequency information and so will be ignored when e.g. forecasting.\n",
      "  self._init_dates(dates, freq)\n"
     ]
    },
    {
     "name": "stdout",
     "output_type": "stream",
     "text": [
      "SARIMAX(0, 2, 1)x(1, 1, 0, 12) - AIC:405.8617920708844\n"
     ]
    },
    {
     "name": "stderr",
     "output_type": "stream",
     "text": [
      "C:\\Users\\preet\\anaconda3\\lib\\site-packages\\statsmodels\\tsa\\base\\tsa_model.py:471: ValueWarning: A date index has been provided, but it has no associated frequency information and so will be ignored when e.g. forecasting.\n",
      "  self._init_dates(dates, freq)\n",
      "C:\\Users\\preet\\anaconda3\\lib\\site-packages\\statsmodels\\tsa\\base\\tsa_model.py:471: ValueWarning: A date index has been provided, but it has no associated frequency information and so will be ignored when e.g. forecasting.\n",
      "  self._init_dates(dates, freq)\n",
      "C:\\Users\\preet\\anaconda3\\lib\\site-packages\\statsmodels\\tsa\\statespace\\sarimax.py:866: UserWarning: Too few observations to estimate starting parameters for seasonal ARMA. All parameters except for variances will be set to zeros.\n",
      "  warn('Too few observations to estimate starting parameters%s.'\n",
      "C:\\Users\\preet\\anaconda3\\lib\\site-packages\\statsmodels\\base\\model.py:604: ConvergenceWarning: Maximum Likelihood optimization failed to converge. Check mle_retvals\n",
      "  warnings.warn(\"Maximum Likelihood optimization failed to \"\n",
      "C:\\Users\\preet\\anaconda3\\lib\\site-packages\\statsmodels\\tsa\\base\\tsa_model.py:471: ValueWarning: A date index has been provided, but it has no associated frequency information and so will be ignored when e.g. forecasting.\n",
      "  self._init_dates(dates, freq)\n",
      "C:\\Users\\preet\\anaconda3\\lib\\site-packages\\statsmodels\\tsa\\base\\tsa_model.py:471: ValueWarning: A date index has been provided, but it has no associated frequency information and so will be ignored when e.g. forecasting.\n",
      "  self._init_dates(dates, freq)\n",
      "C:\\Users\\preet\\anaconda3\\lib\\site-packages\\statsmodels\\tsa\\statespace\\sarimax.py:978: UserWarning: Non-invertible starting MA parameters found. Using zeros as starting parameters.\n",
      "  warn('Non-invertible starting MA parameters found.'\n"
     ]
    },
    {
     "name": "stdout",
     "output_type": "stream",
     "text": [
      "SARIMAX(0, 2, 1)x(1, 1, 1, 12) - AIC:405.65812950722926\n",
      "SARIMAX(0, 2, 2)x(0, 0, 0, 12) - AIC:510.38919282141296\n"
     ]
    },
    {
     "name": "stderr",
     "output_type": "stream",
     "text": [
      "C:\\Users\\preet\\anaconda3\\lib\\site-packages\\statsmodels\\tsa\\base\\tsa_model.py:471: ValueWarning: A date index has been provided, but it has no associated frequency information and so will be ignored when e.g. forecasting.\n",
      "  self._init_dates(dates, freq)\n",
      "C:\\Users\\preet\\anaconda3\\lib\\site-packages\\statsmodels\\tsa\\base\\tsa_model.py:471: ValueWarning: A date index has been provided, but it has no associated frequency information and so will be ignored when e.g. forecasting.\n",
      "  self._init_dates(dates, freq)\n",
      "C:\\Users\\preet\\anaconda3\\lib\\site-packages\\statsmodels\\tsa\\statespace\\sarimax.py:978: UserWarning: Non-invertible starting MA parameters found. Using zeros as starting parameters.\n",
      "  warn('Non-invertible starting MA parameters found.'\n",
      "C:\\Users\\preet\\anaconda3\\lib\\site-packages\\statsmodels\\tsa\\statespace\\sarimax.py:1009: UserWarning: Non-invertible starting seasonal moving average Using zeros as starting parameters.\n",
      "  warn('Non-invertible starting seasonal moving average'\n"
     ]
    },
    {
     "name": "stdout",
     "output_type": "stream",
     "text": [
      "SARIMAX(0, 2, 2)x(0, 0, 1, 12) - AIC:511.92136762253597\n"
     ]
    },
    {
     "name": "stderr",
     "output_type": "stream",
     "text": [
      "C:\\Users\\preet\\anaconda3\\lib\\site-packages\\statsmodels\\tsa\\base\\tsa_model.py:471: ValueWarning: A date index has been provided, but it has no associated frequency information and so will be ignored when e.g. forecasting.\n",
      "  self._init_dates(dates, freq)\n",
      "C:\\Users\\preet\\anaconda3\\lib\\site-packages\\statsmodels\\tsa\\base\\tsa_model.py:471: ValueWarning: A date index has been provided, but it has no associated frequency information and so will be ignored when e.g. forecasting.\n",
      "  self._init_dates(dates, freq)\n",
      "C:\\Users\\preet\\anaconda3\\lib\\site-packages\\statsmodels\\tsa\\statespace\\sarimax.py:978: UserWarning: Non-invertible starting MA parameters found. Using zeros as starting parameters.\n",
      "  warn('Non-invertible starting MA parameters found.'\n"
     ]
    },
    {
     "name": "stdout",
     "output_type": "stream",
     "text": [
      "SARIMAX(0, 2, 2)x(0, 1, 0, 12) - AIC:403.06266085682677\n"
     ]
    },
    {
     "name": "stderr",
     "output_type": "stream",
     "text": [
      "C:\\Users\\preet\\anaconda3\\lib\\site-packages\\statsmodels\\tsa\\base\\tsa_model.py:471: ValueWarning: A date index has been provided, but it has no associated frequency information and so will be ignored when e.g. forecasting.\n",
      "  self._init_dates(dates, freq)\n",
      "C:\\Users\\preet\\anaconda3\\lib\\site-packages\\statsmodels\\tsa\\base\\tsa_model.py:471: ValueWarning: A date index has been provided, but it has no associated frequency information and so will be ignored when e.g. forecasting.\n",
      "  self._init_dates(dates, freq)\n",
      "C:\\Users\\preet\\anaconda3\\lib\\site-packages\\statsmodels\\tsa\\statespace\\sarimax.py:978: UserWarning: Non-invertible starting MA parameters found. Using zeros as starting parameters.\n",
      "  warn('Non-invertible starting MA parameters found.'\n",
      "C:\\Users\\preet\\anaconda3\\lib\\site-packages\\statsmodels\\tsa\\statespace\\sarimax.py:866: UserWarning: Too few observations to estimate starting parameters for seasonal ARMA. All parameters except for variances will be set to zeros.\n",
      "  warn('Too few observations to estimate starting parameters%s.'\n"
     ]
    },
    {
     "name": "stdout",
     "output_type": "stream",
     "text": [
      "SARIMAX(0, 2, 2)x(0, 1, 1, 12) - AIC:404.07071850291254\n"
     ]
    },
    {
     "name": "stderr",
     "output_type": "stream",
     "text": [
      "C:\\Users\\preet\\anaconda3\\lib\\site-packages\\statsmodels\\tsa\\base\\tsa_model.py:471: ValueWarning: A date index has been provided, but it has no associated frequency information and so will be ignored when e.g. forecasting.\n",
      "  self._init_dates(dates, freq)\n",
      "C:\\Users\\preet\\anaconda3\\lib\\site-packages\\statsmodels\\tsa\\base\\tsa_model.py:471: ValueWarning: A date index has been provided, but it has no associated frequency information and so will be ignored when e.g. forecasting.\n",
      "  self._init_dates(dates, freq)\n",
      "C:\\Users\\preet\\anaconda3\\lib\\site-packages\\statsmodels\\tsa\\statespace\\sarimax.py:978: UserWarning: Non-invertible starting MA parameters found. Using zeros as starting parameters.\n",
      "  warn('Non-invertible starting MA parameters found.'\n"
     ]
    },
    {
     "name": "stdout",
     "output_type": "stream",
     "text": [
      "SARIMAX(0, 2, 2)x(1, 0, 0, 12) - AIC:512.226798452341\n"
     ]
    },
    {
     "name": "stderr",
     "output_type": "stream",
     "text": [
      "C:\\Users\\preet\\anaconda3\\lib\\site-packages\\statsmodels\\tsa\\base\\tsa_model.py:471: ValueWarning: A date index has been provided, but it has no associated frequency information and so will be ignored when e.g. forecasting.\n",
      "  self._init_dates(dates, freq)\n",
      "C:\\Users\\preet\\anaconda3\\lib\\site-packages\\statsmodels\\tsa\\base\\tsa_model.py:471: ValueWarning: A date index has been provided, but it has no associated frequency information and so will be ignored when e.g. forecasting.\n",
      "  self._init_dates(dates, freq)\n",
      "C:\\Users\\preet\\anaconda3\\lib\\site-packages\\statsmodels\\tsa\\statespace\\sarimax.py:978: UserWarning: Non-invertible starting MA parameters found. Using zeros as starting parameters.\n",
      "  warn('Non-invertible starting MA parameters found.'\n",
      "C:\\Users\\preet\\anaconda3\\lib\\site-packages\\statsmodels\\tsa\\statespace\\sarimax.py:1009: UserWarning: Non-invertible starting seasonal moving average Using zeros as starting parameters.\n",
      "  warn('Non-invertible starting seasonal moving average'\n",
      "C:\\Users\\preet\\anaconda3\\lib\\site-packages\\statsmodels\\base\\model.py:604: ConvergenceWarning: Maximum Likelihood optimization failed to converge. Check mle_retvals\n",
      "  warnings.warn(\"Maximum Likelihood optimization failed to \"\n",
      "C:\\Users\\preet\\anaconda3\\lib\\site-packages\\statsmodels\\tsa\\base\\tsa_model.py:471: ValueWarning: A date index has been provided, but it has no associated frequency information and so will be ignored when e.g. forecasting.\n",
      "  self._init_dates(dates, freq)\n",
      "C:\\Users\\preet\\anaconda3\\lib\\site-packages\\statsmodels\\tsa\\base\\tsa_model.py:471: ValueWarning: A date index has been provided, but it has no associated frequency information and so will be ignored when e.g. forecasting.\n",
      "  self._init_dates(dates, freq)\n",
      "C:\\Users\\preet\\anaconda3\\lib\\site-packages\\statsmodels\\tsa\\statespace\\sarimax.py:978: UserWarning: Non-invertible starting MA parameters found. Using zeros as starting parameters.\n",
      "  warn('Non-invertible starting MA parameters found.'\n"
     ]
    },
    {
     "name": "stdout",
     "output_type": "stream",
     "text": [
      "SARIMAX(0, 2, 2)x(1, 0, 1, 12) - AIC:512.4501116675841\n",
      "SARIMAX(0, 2, 2)x(1, 1, 0, 12) - AIC:404.78931215582116\n"
     ]
    },
    {
     "name": "stderr",
     "output_type": "stream",
     "text": [
      "C:\\Users\\preet\\anaconda3\\lib\\site-packages\\statsmodels\\tsa\\base\\tsa_model.py:471: ValueWarning: A date index has been provided, but it has no associated frequency information and so will be ignored when e.g. forecasting.\n",
      "  self._init_dates(dates, freq)\n",
      "C:\\Users\\preet\\anaconda3\\lib\\site-packages\\statsmodels\\tsa\\base\\tsa_model.py:471: ValueWarning: A date index has been provided, but it has no associated frequency information and so will be ignored when e.g. forecasting.\n",
      "  self._init_dates(dates, freq)\n",
      "C:\\Users\\preet\\anaconda3\\lib\\site-packages\\statsmodels\\tsa\\statespace\\sarimax.py:978: UserWarning: Non-invertible starting MA parameters found. Using zeros as starting parameters.\n",
      "  warn('Non-invertible starting MA parameters found.'\n",
      "C:\\Users\\preet\\anaconda3\\lib\\site-packages\\statsmodels\\tsa\\statespace\\sarimax.py:866: UserWarning: Too few observations to estimate starting parameters for seasonal ARMA. All parameters except for variances will be set to zeros.\n",
      "  warn('Too few observations to estimate starting parameters%s.'\n",
      "C:\\Users\\preet\\anaconda3\\lib\\site-packages\\statsmodels\\base\\model.py:604: ConvergenceWarning: Maximum Likelihood optimization failed to converge. Check mle_retvals\n",
      "  warnings.warn(\"Maximum Likelihood optimization failed to \"\n",
      "C:\\Users\\preet\\anaconda3\\lib\\site-packages\\statsmodels\\tsa\\base\\tsa_model.py:471: ValueWarning: A date index has been provided, but it has no associated frequency information and so will be ignored when e.g. forecasting.\n",
      "  self._init_dates(dates, freq)\n",
      "C:\\Users\\preet\\anaconda3\\lib\\site-packages\\statsmodels\\tsa\\base\\tsa_model.py:471: ValueWarning: A date index has been provided, but it has no associated frequency information and so will be ignored when e.g. forecasting.\n",
      "  self._init_dates(dates, freq)\n"
     ]
    },
    {
     "name": "stdout",
     "output_type": "stream",
     "text": [
      "SARIMAX(0, 2, 2)x(1, 1, 1, 12) - AIC:404.91892289702474\n",
      "SARIMAX(1, 0, 0)x(0, 0, 0, 12) - AIC:530.6211952045929\n"
     ]
    },
    {
     "name": "stderr",
     "output_type": "stream",
     "text": [
      "C:\\Users\\preet\\anaconda3\\lib\\site-packages\\statsmodels\\tsa\\base\\tsa_model.py:471: ValueWarning: A date index has been provided, but it has no associated frequency information and so will be ignored when e.g. forecasting.\n",
      "  self._init_dates(dates, freq)\n",
      "C:\\Users\\preet\\anaconda3\\lib\\site-packages\\statsmodels\\tsa\\base\\tsa_model.py:471: ValueWarning: A date index has been provided, but it has no associated frequency information and so will be ignored when e.g. forecasting.\n",
      "  self._init_dates(dates, freq)\n",
      "C:\\Users\\preet\\anaconda3\\lib\\site-packages\\statsmodels\\tsa\\statespace\\sarimax.py:1009: UserWarning: Non-invertible starting seasonal moving average Using zeros as starting parameters.\n",
      "  warn('Non-invertible starting seasonal moving average'\n"
     ]
    },
    {
     "name": "stdout",
     "output_type": "stream",
     "text": [
      "SARIMAX(1, 0, 0)x(0, 0, 1, 12) - AIC:532.1950721278663\n",
      "SARIMAX(1, 0, 0)x(0, 1, 0, 12) - AIC:412.45003272758987\n"
     ]
    },
    {
     "name": "stderr",
     "output_type": "stream",
     "text": [
      "C:\\Users\\preet\\anaconda3\\lib\\site-packages\\statsmodels\\tsa\\base\\tsa_model.py:471: ValueWarning: A date index has been provided, but it has no associated frequency information and so will be ignored when e.g. forecasting.\n",
      "  self._init_dates(dates, freq)\n",
      "C:\\Users\\preet\\anaconda3\\lib\\site-packages\\statsmodels\\tsa\\base\\tsa_model.py:471: ValueWarning: A date index has been provided, but it has no associated frequency information and so will be ignored when e.g. forecasting.\n",
      "  self._init_dates(dates, freq)\n",
      "C:\\Users\\preet\\anaconda3\\lib\\site-packages\\statsmodels\\tsa\\base\\tsa_model.py:471: ValueWarning: A date index has been provided, but it has no associated frequency information and so will be ignored when e.g. forecasting.\n",
      "  self._init_dates(dates, freq)\n",
      "C:\\Users\\preet\\anaconda3\\lib\\site-packages\\statsmodels\\tsa\\base\\tsa_model.py:471: ValueWarning: A date index has been provided, but it has no associated frequency information and so will be ignored when e.g. forecasting.\n",
      "  self._init_dates(dates, freq)\n",
      "C:\\Users\\preet\\anaconda3\\lib\\site-packages\\statsmodels\\tsa\\statespace\\sarimax.py:866: UserWarning: Too few observations to estimate starting parameters for seasonal ARMA. All parameters except for variances will be set to zeros.\n",
      "  warn('Too few observations to estimate starting parameters%s.'\n"
     ]
    },
    {
     "name": "stdout",
     "output_type": "stream",
     "text": [
      "SARIMAX(1, 0, 0)x(0, 1, 1, 12) - AIC:410.2235671345663\n"
     ]
    },
    {
     "name": "stderr",
     "output_type": "stream",
     "text": [
      "C:\\Users\\preet\\anaconda3\\lib\\site-packages\\statsmodels\\tsa\\base\\tsa_model.py:471: ValueWarning: A date index has been provided, but it has no associated frequency information and so will be ignored when e.g. forecasting.\n",
      "  self._init_dates(dates, freq)\n",
      "C:\\Users\\preet\\anaconda3\\lib\\site-packages\\statsmodels\\tsa\\base\\tsa_model.py:471: ValueWarning: A date index has been provided, but it has no associated frequency information and so will be ignored when e.g. forecasting.\n",
      "  self._init_dates(dates, freq)\n"
     ]
    },
    {
     "name": "stdout",
     "output_type": "stream",
     "text": [
      "SARIMAX(1, 0, 0)x(1, 0, 0, 12) - AIC:532.4037982818411\n"
     ]
    },
    {
     "name": "stderr",
     "output_type": "stream",
     "text": [
      "C:\\Users\\preet\\anaconda3\\lib\\site-packages\\statsmodels\\tsa\\base\\tsa_model.py:471: ValueWarning: A date index has been provided, but it has no associated frequency information and so will be ignored when e.g. forecasting.\n",
      "  self._init_dates(dates, freq)\n",
      "C:\\Users\\preet\\anaconda3\\lib\\site-packages\\statsmodels\\tsa\\base\\tsa_model.py:471: ValueWarning: A date index has been provided, but it has no associated frequency information and so will be ignored when e.g. forecasting.\n",
      "  self._init_dates(dates, freq)\n",
      "C:\\Users\\preet\\anaconda3\\lib\\site-packages\\statsmodels\\tsa\\statespace\\sarimax.py:1009: UserWarning: Non-invertible starting seasonal moving average Using zeros as starting parameters.\n",
      "  warn('Non-invertible starting seasonal moving average'\n"
     ]
    },
    {
     "name": "stdout",
     "output_type": "stream",
     "text": [
      "SARIMAX(1, 0, 0)x(1, 0, 1, 12) - AIC:534.0027129702061\n"
     ]
    },
    {
     "name": "stderr",
     "output_type": "stream",
     "text": [
      "C:\\Users\\preet\\anaconda3\\lib\\site-packages\\statsmodels\\tsa\\base\\tsa_model.py:471: ValueWarning: A date index has been provided, but it has no associated frequency information and so will be ignored when e.g. forecasting.\n",
      "  self._init_dates(dates, freq)\n",
      "C:\\Users\\preet\\anaconda3\\lib\\site-packages\\statsmodels\\tsa\\base\\tsa_model.py:471: ValueWarning: A date index has been provided, but it has no associated frequency information and so will be ignored when e.g. forecasting.\n",
      "  self._init_dates(dates, freq)\n"
     ]
    },
    {
     "name": "stdout",
     "output_type": "stream",
     "text": [
      "SARIMAX(1, 0, 0)x(1, 1, 0, 12) - AIC:412.7005092053504\n"
     ]
    },
    {
     "name": "stderr",
     "output_type": "stream",
     "text": [
      "C:\\Users\\preet\\anaconda3\\lib\\site-packages\\statsmodels\\tsa\\base\\tsa_model.py:471: ValueWarning: A date index has been provided, but it has no associated frequency information and so will be ignored when e.g. forecasting.\n",
      "  self._init_dates(dates, freq)\n",
      "C:\\Users\\preet\\anaconda3\\lib\\site-packages\\statsmodels\\tsa\\base\\tsa_model.py:471: ValueWarning: A date index has been provided, but it has no associated frequency information and so will be ignored when e.g. forecasting.\n",
      "  self._init_dates(dates, freq)\n",
      "C:\\Users\\preet\\anaconda3\\lib\\site-packages\\statsmodels\\tsa\\statespace\\sarimax.py:866: UserWarning: Too few observations to estimate starting parameters for seasonal ARMA. All parameters except for variances will be set to zeros.\n",
      "  warn('Too few observations to estimate starting parameters%s.'\n",
      "C:\\Users\\preet\\anaconda3\\lib\\site-packages\\statsmodels\\base\\model.py:604: ConvergenceWarning: Maximum Likelihood optimization failed to converge. Check mle_retvals\n",
      "  warnings.warn(\"Maximum Likelihood optimization failed to \"\n",
      "C:\\Users\\preet\\anaconda3\\lib\\site-packages\\statsmodels\\tsa\\base\\tsa_model.py:471: ValueWarning: A date index has been provided, but it has no associated frequency information and so will be ignored when e.g. forecasting.\n",
      "  self._init_dates(dates, freq)\n",
      "C:\\Users\\preet\\anaconda3\\lib\\site-packages\\statsmodels\\tsa\\base\\tsa_model.py:471: ValueWarning: A date index has been provided, but it has no associated frequency information and so will be ignored when e.g. forecasting.\n",
      "  self._init_dates(dates, freq)\n"
     ]
    },
    {
     "name": "stdout",
     "output_type": "stream",
     "text": [
      "SARIMAX(1, 0, 0)x(1, 1, 1, 12) - AIC:411.6483657028091\n",
      "SARIMAX(1, 0, 1)x(0, 0, 0, 12) - AIC:528.1234565303306\n"
     ]
    },
    {
     "name": "stderr",
     "output_type": "stream",
     "text": [
      "C:\\Users\\preet\\anaconda3\\lib\\site-packages\\statsmodels\\tsa\\base\\tsa_model.py:471: ValueWarning: A date index has been provided, but it has no associated frequency information and so will be ignored when e.g. forecasting.\n",
      "  self._init_dates(dates, freq)\n",
      "C:\\Users\\preet\\anaconda3\\lib\\site-packages\\statsmodels\\tsa\\base\\tsa_model.py:471: ValueWarning: A date index has been provided, but it has no associated frequency information and so will be ignored when e.g. forecasting.\n",
      "  self._init_dates(dates, freq)\n",
      "C:\\Users\\preet\\anaconda3\\lib\\site-packages\\statsmodels\\tsa\\statespace\\sarimax.py:1009: UserWarning: Non-invertible starting seasonal moving average Using zeros as starting parameters.\n",
      "  warn('Non-invertible starting seasonal moving average'\n"
     ]
    },
    {
     "name": "stdout",
     "output_type": "stream",
     "text": [
      "SARIMAX(1, 0, 1)x(0, 0, 1, 12) - AIC:529.5408905361348\n"
     ]
    },
    {
     "name": "stderr",
     "output_type": "stream",
     "text": [
      "C:\\Users\\preet\\anaconda3\\lib\\site-packages\\statsmodels\\tsa\\base\\tsa_model.py:471: ValueWarning: A date index has been provided, but it has no associated frequency information and so will be ignored when e.g. forecasting.\n",
      "  self._init_dates(dates, freq)\n",
      "C:\\Users\\preet\\anaconda3\\lib\\site-packages\\statsmodels\\tsa\\base\\tsa_model.py:471: ValueWarning: A date index has been provided, but it has no associated frequency information and so will be ignored when e.g. forecasting.\n",
      "  self._init_dates(dates, freq)\n"
     ]
    },
    {
     "name": "stdout",
     "output_type": "stream",
     "text": [
      "SARIMAX(1, 0, 1)x(0, 1, 0, 12) - AIC:411.7741156264191\n"
     ]
    },
    {
     "name": "stderr",
     "output_type": "stream",
     "text": [
      "C:\\Users\\preet\\anaconda3\\lib\\site-packages\\statsmodels\\tsa\\base\\tsa_model.py:471: ValueWarning: A date index has been provided, but it has no associated frequency information and so will be ignored when e.g. forecasting.\n",
      "  self._init_dates(dates, freq)\n",
      "C:\\Users\\preet\\anaconda3\\lib\\site-packages\\statsmodels\\tsa\\base\\tsa_model.py:471: ValueWarning: A date index has been provided, but it has no associated frequency information and so will be ignored when e.g. forecasting.\n",
      "  self._init_dates(dates, freq)\n",
      "C:\\Users\\preet\\anaconda3\\lib\\site-packages\\statsmodels\\tsa\\statespace\\sarimax.py:866: UserWarning: Too few observations to estimate starting parameters for seasonal ARMA. All parameters except for variances will be set to zeros.\n",
      "  warn('Too few observations to estimate starting parameters%s.'\n"
     ]
    },
    {
     "name": "stdout",
     "output_type": "stream",
     "text": [
      "SARIMAX(1, 0, 1)x(0, 1, 1, 12) - AIC:411.5293516340394\n"
     ]
    },
    {
     "name": "stderr",
     "output_type": "stream",
     "text": [
      "C:\\Users\\preet\\anaconda3\\lib\\site-packages\\statsmodels\\tsa\\base\\tsa_model.py:471: ValueWarning: A date index has been provided, but it has no associated frequency information and so will be ignored when e.g. forecasting.\n",
      "  self._init_dates(dates, freq)\n",
      "C:\\Users\\preet\\anaconda3\\lib\\site-packages\\statsmodels\\tsa\\base\\tsa_model.py:471: ValueWarning: A date index has been provided, but it has no associated frequency information and so will be ignored when e.g. forecasting.\n",
      "  self._init_dates(dates, freq)\n"
     ]
    },
    {
     "name": "stdout",
     "output_type": "stream",
     "text": [
      "SARIMAX(1, 0, 1)x(1, 0, 0, 12) - AIC:529.9471392591652\n"
     ]
    },
    {
     "name": "stderr",
     "output_type": "stream",
     "text": [
      "C:\\Users\\preet\\anaconda3\\lib\\site-packages\\statsmodels\\tsa\\base\\tsa_model.py:471: ValueWarning: A date index has been provided, but it has no associated frequency information and so will be ignored when e.g. forecasting.\n",
      "  self._init_dates(dates, freq)\n",
      "C:\\Users\\preet\\anaconda3\\lib\\site-packages\\statsmodels\\tsa\\base\\tsa_model.py:471: ValueWarning: A date index has been provided, but it has no associated frequency information and so will be ignored when e.g. forecasting.\n",
      "  self._init_dates(dates, freq)\n",
      "C:\\Users\\preet\\anaconda3\\lib\\site-packages\\statsmodels\\tsa\\statespace\\sarimax.py:1009: UserWarning: Non-invertible starting seasonal moving average Using zeros as starting parameters.\n",
      "  warn('Non-invertible starting seasonal moving average'\n",
      "C:\\Users\\preet\\anaconda3\\lib\\site-packages\\statsmodels\\base\\model.py:604: ConvergenceWarning: Maximum Likelihood optimization failed to converge. Check mle_retvals\n",
      "  warnings.warn(\"Maximum Likelihood optimization failed to \"\n",
      "C:\\Users\\preet\\anaconda3\\lib\\site-packages\\statsmodels\\tsa\\base\\tsa_model.py:471: ValueWarning: A date index has been provided, but it has no associated frequency information and so will be ignored when e.g. forecasting.\n",
      "  self._init_dates(dates, freq)\n",
      "C:\\Users\\preet\\anaconda3\\lib\\site-packages\\statsmodels\\tsa\\base\\tsa_model.py:471: ValueWarning: A date index has been provided, but it has no associated frequency information and so will be ignored when e.g. forecasting.\n",
      "  self._init_dates(dates, freq)\n"
     ]
    },
    {
     "name": "stdout",
     "output_type": "stream",
     "text": [
      "SARIMAX(1, 0, 1)x(1, 0, 1, 12) - AIC:529.2773225614859\n",
      "SARIMAX(1, 0, 1)x(1, 1, 0, 12) - AIC:412.5411697197629\n"
     ]
    },
    {
     "name": "stderr",
     "output_type": "stream",
     "text": [
      "C:\\Users\\preet\\anaconda3\\lib\\site-packages\\statsmodels\\tsa\\base\\tsa_model.py:471: ValueWarning: A date index has been provided, but it has no associated frequency information and so will be ignored when e.g. forecasting.\n",
      "  self._init_dates(dates, freq)\n",
      "C:\\Users\\preet\\anaconda3\\lib\\site-packages\\statsmodels\\tsa\\base\\tsa_model.py:471: ValueWarning: A date index has been provided, but it has no associated frequency information and so will be ignored when e.g. forecasting.\n",
      "  self._init_dates(dates, freq)\n",
      "C:\\Users\\preet\\anaconda3\\lib\\site-packages\\statsmodels\\tsa\\statespace\\sarimax.py:866: UserWarning: Too few observations to estimate starting parameters for seasonal ARMA. All parameters except for variances will be set to zeros.\n",
      "  warn('Too few observations to estimate starting parameters%s.'\n",
      "C:\\Users\\preet\\anaconda3\\lib\\site-packages\\statsmodels\\base\\model.py:604: ConvergenceWarning: Maximum Likelihood optimization failed to converge. Check mle_retvals\n",
      "  warnings.warn(\"Maximum Likelihood optimization failed to \"\n",
      "C:\\Users\\preet\\anaconda3\\lib\\site-packages\\statsmodels\\tsa\\base\\tsa_model.py:471: ValueWarning: A date index has been provided, but it has no associated frequency information and so will be ignored when e.g. forecasting.\n",
      "  self._init_dates(dates, freq)\n",
      "C:\\Users\\preet\\anaconda3\\lib\\site-packages\\statsmodels\\tsa\\base\\tsa_model.py:471: ValueWarning: A date index has been provided, but it has no associated frequency information and so will be ignored when e.g. forecasting.\n",
      "  self._init_dates(dates, freq)\n"
     ]
    },
    {
     "name": "stdout",
     "output_type": "stream",
     "text": [
      "SARIMAX(1, 0, 1)x(1, 1, 1, 12) - AIC:412.85625910195233\n"
     ]
    },
    {
     "name": "stderr",
     "output_type": "stream",
     "text": [
      "C:\\Users\\preet\\anaconda3\\lib\\site-packages\\statsmodels\\base\\model.py:604: ConvergenceWarning: Maximum Likelihood optimization failed to converge. Check mle_retvals\n",
      "  warnings.warn(\"Maximum Likelihood optimization failed to \"\n",
      "C:\\Users\\preet\\anaconda3\\lib\\site-packages\\statsmodels\\tsa\\base\\tsa_model.py:471: ValueWarning: A date index has been provided, but it has no associated frequency information and so will be ignored when e.g. forecasting.\n",
      "  self._init_dates(dates, freq)\n",
      "C:\\Users\\preet\\anaconda3\\lib\\site-packages\\statsmodels\\tsa\\base\\tsa_model.py:471: ValueWarning: A date index has been provided, but it has no associated frequency information and so will be ignored when e.g. forecasting.\n",
      "  self._init_dates(dates, freq)\n",
      "C:\\Users\\preet\\anaconda3\\lib\\site-packages\\statsmodels\\tsa\\statespace\\sarimax.py:1009: UserWarning: Non-invertible starting seasonal moving average Using zeros as starting parameters.\n",
      "  warn('Non-invertible starting seasonal moving average'\n"
     ]
    },
    {
     "name": "stdout",
     "output_type": "stream",
     "text": [
      "SARIMAX(1, 0, 2)x(0, 0, 0, 12) - AIC:522.8600114968234\n"
     ]
    },
    {
     "name": "stderr",
     "output_type": "stream",
     "text": [
      "C:\\Users\\preet\\anaconda3\\lib\\site-packages\\statsmodels\\base\\model.py:604: ConvergenceWarning: Maximum Likelihood optimization failed to converge. Check mle_retvals\n",
      "  warnings.warn(\"Maximum Likelihood optimization failed to \"\n",
      "C:\\Users\\preet\\anaconda3\\lib\\site-packages\\statsmodels\\tsa\\base\\tsa_model.py:471: ValueWarning: A date index has been provided, but it has no associated frequency information and so will be ignored when e.g. forecasting.\n",
      "  self._init_dates(dates, freq)\n",
      "C:\\Users\\preet\\anaconda3\\lib\\site-packages\\statsmodels\\tsa\\base\\tsa_model.py:471: ValueWarning: A date index has been provided, but it has no associated frequency information and so will be ignored when e.g. forecasting.\n",
      "  self._init_dates(dates, freq)\n"
     ]
    },
    {
     "name": "stdout",
     "output_type": "stream",
     "text": [
      "SARIMAX(1, 0, 2)x(0, 0, 1, 12) - AIC:524.3921223449195\n"
     ]
    },
    {
     "name": "stderr",
     "output_type": "stream",
     "text": [
      "C:\\Users\\preet\\anaconda3\\lib\\site-packages\\statsmodels\\base\\model.py:604: ConvergenceWarning: Maximum Likelihood optimization failed to converge. Check mle_retvals\n",
      "  warnings.warn(\"Maximum Likelihood optimization failed to \"\n",
      "C:\\Users\\preet\\anaconda3\\lib\\site-packages\\statsmodels\\tsa\\base\\tsa_model.py:471: ValueWarning: A date index has been provided, but it has no associated frequency information and so will be ignored when e.g. forecasting.\n",
      "  self._init_dates(dates, freq)\n",
      "C:\\Users\\preet\\anaconda3\\lib\\site-packages\\statsmodels\\tsa\\base\\tsa_model.py:471: ValueWarning: A date index has been provided, but it has no associated frequency information and so will be ignored when e.g. forecasting.\n",
      "  self._init_dates(dates, freq)\n",
      "C:\\Users\\preet\\anaconda3\\lib\\site-packages\\statsmodels\\tsa\\statespace\\sarimax.py:866: UserWarning: Too few observations to estimate starting parameters for seasonal ARMA. All parameters except for variances will be set to zeros.\n",
      "  warn('Too few observations to estimate starting parameters%s.'\n"
     ]
    },
    {
     "name": "stdout",
     "output_type": "stream",
     "text": [
      "SARIMAX(1, 0, 2)x(0, 1, 0, 12) - AIC:413.0537313692878\n",
      "SARIMAX(1, 0, 2)x(0, 1, 1, 12) - AIC:413.02464827919266\n"
     ]
    },
    {
     "name": "stderr",
     "output_type": "stream",
     "text": [
      "C:\\Users\\preet\\anaconda3\\lib\\site-packages\\statsmodels\\tsa\\base\\tsa_model.py:471: ValueWarning: A date index has been provided, but it has no associated frequency information and so will be ignored when e.g. forecasting.\n",
      "  self._init_dates(dates, freq)\n",
      "C:\\Users\\preet\\anaconda3\\lib\\site-packages\\statsmodels\\tsa\\base\\tsa_model.py:471: ValueWarning: A date index has been provided, but it has no associated frequency information and so will be ignored when e.g. forecasting.\n",
      "  self._init_dates(dates, freq)\n",
      "C:\\Users\\preet\\anaconda3\\lib\\site-packages\\statsmodels\\base\\model.py:604: ConvergenceWarning: Maximum Likelihood optimization failed to converge. Check mle_retvals\n",
      "  warnings.warn(\"Maximum Likelihood optimization failed to \"\n",
      "C:\\Users\\preet\\anaconda3\\lib\\site-packages\\statsmodels\\tsa\\base\\tsa_model.py:471: ValueWarning: A date index has been provided, but it has no associated frequency information and so will be ignored when e.g. forecasting.\n",
      "  self._init_dates(dates, freq)\n",
      "C:\\Users\\preet\\anaconda3\\lib\\site-packages\\statsmodels\\tsa\\base\\tsa_model.py:471: ValueWarning: A date index has been provided, but it has no associated frequency information and so will be ignored when e.g. forecasting.\n",
      "  self._init_dates(dates, freq)\n",
      "C:\\Users\\preet\\anaconda3\\lib\\site-packages\\statsmodels\\tsa\\statespace\\sarimax.py:1009: UserWarning: Non-invertible starting seasonal moving average Using zeros as starting parameters.\n",
      "  warn('Non-invertible starting seasonal moving average'\n"
     ]
    },
    {
     "name": "stdout",
     "output_type": "stream",
     "text": [
      "SARIMAX(1, 0, 2)x(1, 0, 0, 12) - AIC:524.810610229359\n"
     ]
    },
    {
     "name": "stderr",
     "output_type": "stream",
     "text": [
      "C:\\Users\\preet\\anaconda3\\lib\\site-packages\\statsmodels\\base\\model.py:604: ConvergenceWarning: Maximum Likelihood optimization failed to converge. Check mle_retvals\n",
      "  warnings.warn(\"Maximum Likelihood optimization failed to \"\n",
      "C:\\Users\\preet\\anaconda3\\lib\\site-packages\\statsmodels\\tsa\\base\\tsa_model.py:471: ValueWarning: A date index has been provided, but it has no associated frequency information and so will be ignored when e.g. forecasting.\n",
      "  self._init_dates(dates, freq)\n",
      "C:\\Users\\preet\\anaconda3\\lib\\site-packages\\statsmodels\\tsa\\base\\tsa_model.py:471: ValueWarning: A date index has been provided, but it has no associated frequency information and so will be ignored when e.g. forecasting.\n",
      "  self._init_dates(dates, freq)\n"
     ]
    },
    {
     "name": "stdout",
     "output_type": "stream",
     "text": [
      "SARIMAX(1, 0, 2)x(1, 0, 1, 12) - AIC:526.9505337898811\n",
      "SARIMAX(1, 0, 2)x(1, 1, 0, 12) - AIC:413.8558089343801\n"
     ]
    },
    {
     "name": "stderr",
     "output_type": "stream",
     "text": [
      "C:\\Users\\preet\\anaconda3\\lib\\site-packages\\statsmodels\\tsa\\base\\tsa_model.py:471: ValueWarning: A date index has been provided, but it has no associated frequency information and so will be ignored when e.g. forecasting.\n",
      "  self._init_dates(dates, freq)\n",
      "C:\\Users\\preet\\anaconda3\\lib\\site-packages\\statsmodels\\tsa\\base\\tsa_model.py:471: ValueWarning: A date index has been provided, but it has no associated frequency information and so will be ignored when e.g. forecasting.\n",
      "  self._init_dates(dates, freq)\n",
      "C:\\Users\\preet\\anaconda3\\lib\\site-packages\\statsmodels\\tsa\\statespace\\sarimax.py:866: UserWarning: Too few observations to estimate starting parameters for seasonal ARMA. All parameters except for variances will be set to zeros.\n",
      "  warn('Too few observations to estimate starting parameters%s.'\n",
      "C:\\Users\\preet\\anaconda3\\lib\\site-packages\\statsmodels\\base\\model.py:604: ConvergenceWarning: Maximum Likelihood optimization failed to converge. Check mle_retvals\n",
      "  warnings.warn(\"Maximum Likelihood optimization failed to \"\n",
      "C:\\Users\\preet\\anaconda3\\lib\\site-packages\\statsmodels\\tsa\\base\\tsa_model.py:471: ValueWarning: A date index has been provided, but it has no associated frequency information and so will be ignored when e.g. forecasting.\n",
      "  self._init_dates(dates, freq)\n",
      "C:\\Users\\preet\\anaconda3\\lib\\site-packages\\statsmodels\\tsa\\base\\tsa_model.py:471: ValueWarning: A date index has been provided, but it has no associated frequency information and so will be ignored when e.g. forecasting.\n",
      "  self._init_dates(dates, freq)\n"
     ]
    },
    {
     "name": "stdout",
     "output_type": "stream",
     "text": [
      "SARIMAX(1, 0, 2)x(1, 1, 1, 12) - AIC:414.5680931600571\n",
      "SARIMAX(1, 1, 0)x(0, 0, 0, 12) - AIC:514.9721165941351\n"
     ]
    },
    {
     "name": "stderr",
     "output_type": "stream",
     "text": [
      "C:\\Users\\preet\\anaconda3\\lib\\site-packages\\statsmodels\\tsa\\base\\tsa_model.py:471: ValueWarning: A date index has been provided, but it has no associated frequency information and so will be ignored when e.g. forecasting.\n",
      "  self._init_dates(dates, freq)\n",
      "C:\\Users\\preet\\anaconda3\\lib\\site-packages\\statsmodels\\tsa\\base\\tsa_model.py:471: ValueWarning: A date index has been provided, but it has no associated frequency information and so will be ignored when e.g. forecasting.\n",
      "  self._init_dates(dates, freq)\n",
      "C:\\Users\\preet\\anaconda3\\lib\\site-packages\\statsmodels\\tsa\\statespace\\sarimax.py:1009: UserWarning: Non-invertible starting seasonal moving average Using zeros as starting parameters.\n",
      "  warn('Non-invertible starting seasonal moving average'\n"
     ]
    },
    {
     "name": "stdout",
     "output_type": "stream",
     "text": [
      "SARIMAX(1, 1, 0)x(0, 0, 1, 12) - AIC:515.8469772803539\n",
      "SARIMAX(1, 1, 0)x(0, 1, 0, 12) - AIC:408.9754402160028\n"
     ]
    },
    {
     "name": "stderr",
     "output_type": "stream",
     "text": [
      "C:\\Users\\preet\\anaconda3\\lib\\site-packages\\statsmodels\\tsa\\base\\tsa_model.py:471: ValueWarning: A date index has been provided, but it has no associated frequency information and so will be ignored when e.g. forecasting.\n",
      "  self._init_dates(dates, freq)\n",
      "C:\\Users\\preet\\anaconda3\\lib\\site-packages\\statsmodels\\tsa\\base\\tsa_model.py:471: ValueWarning: A date index has been provided, but it has no associated frequency information and so will be ignored when e.g. forecasting.\n",
      "  self._init_dates(dates, freq)\n",
      "C:\\Users\\preet\\anaconda3\\lib\\site-packages\\statsmodels\\tsa\\base\\tsa_model.py:471: ValueWarning: A date index has been provided, but it has no associated frequency information and so will be ignored when e.g. forecasting.\n",
      "  self._init_dates(dates, freq)\n",
      "C:\\Users\\preet\\anaconda3\\lib\\site-packages\\statsmodels\\tsa\\base\\tsa_model.py:471: ValueWarning: A date index has been provided, but it has no associated frequency information and so will be ignored when e.g. forecasting.\n",
      "  self._init_dates(dates, freq)\n",
      "C:\\Users\\preet\\anaconda3\\lib\\site-packages\\statsmodels\\tsa\\statespace\\sarimax.py:866: UserWarning: Too few observations to estimate starting parameters for seasonal ARMA. All parameters except for variances will be set to zeros.\n",
      "  warn('Too few observations to estimate starting parameters%s.'\n"
     ]
    },
    {
     "name": "stdout",
     "output_type": "stream",
     "text": [
      "SARIMAX(1, 1, 0)x(0, 1, 1, 12) - AIC:408.7658532228982\n"
     ]
    },
    {
     "name": "stderr",
     "output_type": "stream",
     "text": [
      "C:\\Users\\preet\\anaconda3\\lib\\site-packages\\statsmodels\\tsa\\base\\tsa_model.py:471: ValueWarning: A date index has been provided, but it has no associated frequency information and so will be ignored when e.g. forecasting.\n",
      "  self._init_dates(dates, freq)\n",
      "C:\\Users\\preet\\anaconda3\\lib\\site-packages\\statsmodels\\tsa\\base\\tsa_model.py:471: ValueWarning: A date index has been provided, but it has no associated frequency information and so will be ignored when e.g. forecasting.\n",
      "  self._init_dates(dates, freq)\n"
     ]
    },
    {
     "name": "stdout",
     "output_type": "stream",
     "text": [
      "SARIMAX(1, 1, 0)x(1, 0, 0, 12) - AIC:516.5229565500354\n"
     ]
    },
    {
     "name": "stderr",
     "output_type": "stream",
     "text": [
      "C:\\Users\\preet\\anaconda3\\lib\\site-packages\\statsmodels\\tsa\\base\\tsa_model.py:471: ValueWarning: A date index has been provided, but it has no associated frequency information and so will be ignored when e.g. forecasting.\n",
      "  self._init_dates(dates, freq)\n",
      "C:\\Users\\preet\\anaconda3\\lib\\site-packages\\statsmodels\\tsa\\base\\tsa_model.py:471: ValueWarning: A date index has been provided, but it has no associated frequency information and so will be ignored when e.g. forecasting.\n",
      "  self._init_dates(dates, freq)\n",
      "C:\\Users\\preet\\anaconda3\\lib\\site-packages\\statsmodels\\tsa\\statespace\\sarimax.py:1009: UserWarning: Non-invertible starting seasonal moving average Using zeros as starting parameters.\n",
      "  warn('Non-invertible starting seasonal moving average'\n"
     ]
    },
    {
     "name": "stdout",
     "output_type": "stream",
     "text": [
      "SARIMAX(1, 1, 0)x(1, 0, 1, 12) - AIC:516.7642697002115\n"
     ]
    },
    {
     "name": "stderr",
     "output_type": "stream",
     "text": [
      "C:\\Users\\preet\\anaconda3\\lib\\site-packages\\statsmodels\\tsa\\base\\tsa_model.py:471: ValueWarning: A date index has been provided, but it has no associated frequency information and so will be ignored when e.g. forecasting.\n",
      "  self._init_dates(dates, freq)\n",
      "C:\\Users\\preet\\anaconda3\\lib\\site-packages\\statsmodels\\tsa\\base\\tsa_model.py:471: ValueWarning: A date index has been provided, but it has no associated frequency information and so will be ignored when e.g. forecasting.\n",
      "  self._init_dates(dates, freq)\n"
     ]
    },
    {
     "name": "stdout",
     "output_type": "stream",
     "text": [
      "SARIMAX(1, 1, 0)x(1, 1, 0, 12) - AIC:410.3416957796391\n"
     ]
    },
    {
     "name": "stderr",
     "output_type": "stream",
     "text": [
      "C:\\Users\\preet\\anaconda3\\lib\\site-packages\\statsmodels\\tsa\\base\\tsa_model.py:471: ValueWarning: A date index has been provided, but it has no associated frequency information and so will be ignored when e.g. forecasting.\n",
      "  self._init_dates(dates, freq)\n",
      "C:\\Users\\preet\\anaconda3\\lib\\site-packages\\statsmodels\\tsa\\base\\tsa_model.py:471: ValueWarning: A date index has been provided, but it has no associated frequency information and so will be ignored when e.g. forecasting.\n",
      "  self._init_dates(dates, freq)\n",
      "C:\\Users\\preet\\anaconda3\\lib\\site-packages\\statsmodels\\tsa\\statespace\\sarimax.py:866: UserWarning: Too few observations to estimate starting parameters for seasonal ARMA. All parameters except for variances will be set to zeros.\n",
      "  warn('Too few observations to estimate starting parameters%s.'\n",
      "C:\\Users\\preet\\anaconda3\\lib\\site-packages\\statsmodels\\base\\model.py:604: ConvergenceWarning: Maximum Likelihood optimization failed to converge. Check mle_retvals\n",
      "  warnings.warn(\"Maximum Likelihood optimization failed to \"\n",
      "C:\\Users\\preet\\anaconda3\\lib\\site-packages\\statsmodels\\tsa\\base\\tsa_model.py:471: ValueWarning: A date index has been provided, but it has no associated frequency information and so will be ignored when e.g. forecasting.\n",
      "  self._init_dates(dates, freq)\n",
      "C:\\Users\\preet\\anaconda3\\lib\\site-packages\\statsmodels\\tsa\\base\\tsa_model.py:471: ValueWarning: A date index has been provided, but it has no associated frequency information and so will be ignored when e.g. forecasting.\n",
      "  self._init_dates(dates, freq)\n"
     ]
    },
    {
     "name": "stdout",
     "output_type": "stream",
     "text": [
      "SARIMAX(1, 1, 0)x(1, 1, 1, 12) - AIC:409.8571157788207\n",
      "SARIMAX(1, 1, 1)x(0, 0, 0, 12) - AIC:507.4745051777785\n"
     ]
    },
    {
     "name": "stderr",
     "output_type": "stream",
     "text": [
      "C:\\Users\\preet\\anaconda3\\lib\\site-packages\\statsmodels\\tsa\\base\\tsa_model.py:471: ValueWarning: A date index has been provided, but it has no associated frequency information and so will be ignored when e.g. forecasting.\n",
      "  self._init_dates(dates, freq)\n",
      "C:\\Users\\preet\\anaconda3\\lib\\site-packages\\statsmodels\\tsa\\base\\tsa_model.py:471: ValueWarning: A date index has been provided, but it has no associated frequency information and so will be ignored when e.g. forecasting.\n",
      "  self._init_dates(dates, freq)\n",
      "C:\\Users\\preet\\anaconda3\\lib\\site-packages\\statsmodels\\tsa\\statespace\\sarimax.py:1009: UserWarning: Non-invertible starting seasonal moving average Using zeros as starting parameters.\n",
      "  warn('Non-invertible starting seasonal moving average'\n"
     ]
    },
    {
     "name": "stdout",
     "output_type": "stream",
     "text": [
      "SARIMAX(1, 1, 1)x(0, 0, 1, 12) - AIC:508.4465151069448\n"
     ]
    },
    {
     "name": "stderr",
     "output_type": "stream",
     "text": [
      "C:\\Users\\preet\\anaconda3\\lib\\site-packages\\statsmodels\\tsa\\base\\tsa_model.py:471: ValueWarning: A date index has been provided, but it has no associated frequency information and so will be ignored when e.g. forecasting.\n",
      "  self._init_dates(dates, freq)\n",
      "C:\\Users\\preet\\anaconda3\\lib\\site-packages\\statsmodels\\tsa\\base\\tsa_model.py:471: ValueWarning: A date index has been provided, but it has no associated frequency information and so will be ignored when e.g. forecasting.\n",
      "  self._init_dates(dates, freq)\n"
     ]
    },
    {
     "name": "stdout",
     "output_type": "stream",
     "text": [
      "SARIMAX(1, 1, 1)x(0, 1, 0, 12) - AIC:406.64047425503014\n"
     ]
    },
    {
     "name": "stderr",
     "output_type": "stream",
     "text": [
      "C:\\Users\\preet\\anaconda3\\lib\\site-packages\\statsmodels\\tsa\\base\\tsa_model.py:471: ValueWarning: A date index has been provided, but it has no associated frequency information and so will be ignored when e.g. forecasting.\n",
      "  self._init_dates(dates, freq)\n",
      "C:\\Users\\preet\\anaconda3\\lib\\site-packages\\statsmodels\\tsa\\base\\tsa_model.py:471: ValueWarning: A date index has been provided, but it has no associated frequency information and so will be ignored when e.g. forecasting.\n",
      "  self._init_dates(dates, freq)\n",
      "C:\\Users\\preet\\anaconda3\\lib\\site-packages\\statsmodels\\tsa\\statespace\\sarimax.py:866: UserWarning: Too few observations to estimate starting parameters for seasonal ARMA. All parameters except for variances will be set to zeros.\n",
      "  warn('Too few observations to estimate starting parameters%s.'\n"
     ]
    },
    {
     "name": "stdout",
     "output_type": "stream",
     "text": [
      "SARIMAX(1, 1, 1)x(0, 1, 1, 12) - AIC:405.4808284004375\n"
     ]
    },
    {
     "name": "stderr",
     "output_type": "stream",
     "text": [
      "C:\\Users\\preet\\anaconda3\\lib\\site-packages\\statsmodels\\tsa\\base\\tsa_model.py:471: ValueWarning: A date index has been provided, but it has no associated frequency information and so will be ignored when e.g. forecasting.\n",
      "  self._init_dates(dates, freq)\n",
      "C:\\Users\\preet\\anaconda3\\lib\\site-packages\\statsmodels\\tsa\\base\\tsa_model.py:471: ValueWarning: A date index has been provided, but it has no associated frequency information and so will be ignored when e.g. forecasting.\n",
      "  self._init_dates(dates, freq)\n"
     ]
    },
    {
     "name": "stdout",
     "output_type": "stream",
     "text": [
      "SARIMAX(1, 1, 1)x(1, 0, 0, 12) - AIC:509.00867063731494\n"
     ]
    },
    {
     "name": "stderr",
     "output_type": "stream",
     "text": [
      "C:\\Users\\preet\\anaconda3\\lib\\site-packages\\statsmodels\\tsa\\base\\tsa_model.py:471: ValueWarning: A date index has been provided, but it has no associated frequency information and so will be ignored when e.g. forecasting.\n",
      "  self._init_dates(dates, freq)\n",
      "C:\\Users\\preet\\anaconda3\\lib\\site-packages\\statsmodels\\tsa\\base\\tsa_model.py:471: ValueWarning: A date index has been provided, but it has no associated frequency information and so will be ignored when e.g. forecasting.\n",
      "  self._init_dates(dates, freq)\n",
      "C:\\Users\\preet\\anaconda3\\lib\\site-packages\\statsmodels\\tsa\\statespace\\sarimax.py:1009: UserWarning: Non-invertible starting seasonal moving average Using zeros as starting parameters.\n",
      "  warn('Non-invertible starting seasonal moving average'\n",
      "C:\\Users\\preet\\anaconda3\\lib\\site-packages\\statsmodels\\base\\model.py:604: ConvergenceWarning: Maximum Likelihood optimization failed to converge. Check mle_retvals\n",
      "  warnings.warn(\"Maximum Likelihood optimization failed to \"\n",
      "C:\\Users\\preet\\anaconda3\\lib\\site-packages\\statsmodels\\tsa\\base\\tsa_model.py:471: ValueWarning: A date index has been provided, but it has no associated frequency information and so will be ignored when e.g. forecasting.\n",
      "  self._init_dates(dates, freq)\n",
      "C:\\Users\\preet\\anaconda3\\lib\\site-packages\\statsmodels\\tsa\\base\\tsa_model.py:471: ValueWarning: A date index has been provided, but it has no associated frequency information and so will be ignored when e.g. forecasting.\n",
      "  self._init_dates(dates, freq)\n"
     ]
    },
    {
     "name": "stdout",
     "output_type": "stream",
     "text": [
      "SARIMAX(1, 1, 1)x(1, 0, 1, 12) - AIC:509.0978920564524\n",
      "SARIMAX(1, 1, 1)x(1, 1, 0, 12) - AIC:407.36544479676576\n"
     ]
    },
    {
     "name": "stderr",
     "output_type": "stream",
     "text": [
      "C:\\Users\\preet\\anaconda3\\lib\\site-packages\\statsmodels\\tsa\\base\\tsa_model.py:471: ValueWarning: A date index has been provided, but it has no associated frequency information and so will be ignored when e.g. forecasting.\n",
      "  self._init_dates(dates, freq)\n",
      "C:\\Users\\preet\\anaconda3\\lib\\site-packages\\statsmodels\\tsa\\base\\tsa_model.py:471: ValueWarning: A date index has been provided, but it has no associated frequency information and so will be ignored when e.g. forecasting.\n",
      "  self._init_dates(dates, freq)\n",
      "C:\\Users\\preet\\anaconda3\\lib\\site-packages\\statsmodels\\tsa\\statespace\\sarimax.py:866: UserWarning: Too few observations to estimate starting parameters for seasonal ARMA. All parameters except for variances will be set to zeros.\n",
      "  warn('Too few observations to estimate starting parameters%s.'\n",
      "C:\\Users\\preet\\anaconda3\\lib\\site-packages\\statsmodels\\base\\model.py:604: ConvergenceWarning: Maximum Likelihood optimization failed to converge. Check mle_retvals\n",
      "  warnings.warn(\"Maximum Likelihood optimization failed to \"\n",
      "C:\\Users\\preet\\anaconda3\\lib\\site-packages\\statsmodels\\tsa\\base\\tsa_model.py:471: ValueWarning: A date index has been provided, but it has no associated frequency information and so will be ignored when e.g. forecasting.\n",
      "  self._init_dates(dates, freq)\n",
      "C:\\Users\\preet\\anaconda3\\lib\\site-packages\\statsmodels\\tsa\\base\\tsa_model.py:471: ValueWarning: A date index has been provided, but it has no associated frequency information and so will be ignored when e.g. forecasting.\n",
      "  self._init_dates(dates, freq)\n"
     ]
    },
    {
     "name": "stdout",
     "output_type": "stream",
     "text": [
      "SARIMAX(1, 1, 1)x(1, 1, 1, 12) - AIC:406.72167937983386\n",
      "SARIMAX(1, 1, 2)x(0, 0, 0, 12) - AIC:509.2942864033497\n"
     ]
    },
    {
     "name": "stderr",
     "output_type": "stream",
     "text": [
      "C:\\Users\\preet\\anaconda3\\lib\\site-packages\\statsmodels\\tsa\\base\\tsa_model.py:471: ValueWarning: A date index has been provided, but it has no associated frequency information and so will be ignored when e.g. forecasting.\n",
      "  self._init_dates(dates, freq)\n",
      "C:\\Users\\preet\\anaconda3\\lib\\site-packages\\statsmodels\\tsa\\base\\tsa_model.py:471: ValueWarning: A date index has been provided, but it has no associated frequency information and so will be ignored when e.g. forecasting.\n",
      "  self._init_dates(dates, freq)\n",
      "C:\\Users\\preet\\anaconda3\\lib\\site-packages\\statsmodels\\tsa\\statespace\\sarimax.py:1009: UserWarning: Non-invertible starting seasonal moving average Using zeros as starting parameters.\n",
      "  warn('Non-invertible starting seasonal moving average'\n"
     ]
    },
    {
     "name": "stdout",
     "output_type": "stream",
     "text": [
      "SARIMAX(1, 1, 2)x(0, 0, 1, 12) - AIC:510.39114844093876\n"
     ]
    },
    {
     "name": "stderr",
     "output_type": "stream",
     "text": [
      "C:\\Users\\preet\\anaconda3\\lib\\site-packages\\statsmodels\\tsa\\base\\tsa_model.py:471: ValueWarning: A date index has been provided, but it has no associated frequency information and so will be ignored when e.g. forecasting.\n",
      "  self._init_dates(dates, freq)\n",
      "C:\\Users\\preet\\anaconda3\\lib\\site-packages\\statsmodels\\tsa\\base\\tsa_model.py:471: ValueWarning: A date index has been provided, but it has no associated frequency information and so will be ignored when e.g. forecasting.\n",
      "  self._init_dates(dates, freq)\n"
     ]
    },
    {
     "name": "stdout",
     "output_type": "stream",
     "text": [
      "SARIMAX(1, 1, 2)x(0, 1, 0, 12) - AIC:406.111485705534\n"
     ]
    },
    {
     "name": "stderr",
     "output_type": "stream",
     "text": [
      "C:\\Users\\preet\\anaconda3\\lib\\site-packages\\statsmodels\\tsa\\base\\tsa_model.py:471: ValueWarning: A date index has been provided, but it has no associated frequency information and so will be ignored when e.g. forecasting.\n",
      "  self._init_dates(dates, freq)\n",
      "C:\\Users\\preet\\anaconda3\\lib\\site-packages\\statsmodels\\tsa\\base\\tsa_model.py:471: ValueWarning: A date index has been provided, but it has no associated frequency information and so will be ignored when e.g. forecasting.\n",
      "  self._init_dates(dates, freq)\n",
      "C:\\Users\\preet\\anaconda3\\lib\\site-packages\\statsmodels\\tsa\\statespace\\sarimax.py:866: UserWarning: Too few observations to estimate starting parameters for seasonal ARMA. All parameters except for variances will be set to zeros.\n",
      "  warn('Too few observations to estimate starting parameters%s.'\n"
     ]
    },
    {
     "name": "stdout",
     "output_type": "stream",
     "text": [
      "SARIMAX(1, 1, 2)x(0, 1, 1, 12) - AIC:406.59254875730664\n"
     ]
    },
    {
     "name": "stderr",
     "output_type": "stream",
     "text": [
      "C:\\Users\\preet\\anaconda3\\lib\\site-packages\\statsmodels\\tsa\\base\\tsa_model.py:471: ValueWarning: A date index has been provided, but it has no associated frequency information and so will be ignored when e.g. forecasting.\n",
      "  self._init_dates(dates, freq)\n",
      "C:\\Users\\preet\\anaconda3\\lib\\site-packages\\statsmodels\\tsa\\base\\tsa_model.py:471: ValueWarning: A date index has been provided, but it has no associated frequency information and so will be ignored when e.g. forecasting.\n",
      "  self._init_dates(dates, freq)\n"
     ]
    },
    {
     "name": "stdout",
     "output_type": "stream",
     "text": [
      "SARIMAX(1, 1, 2)x(1, 0, 0, 12) - AIC:510.8995051994121\n"
     ]
    },
    {
     "name": "stderr",
     "output_type": "stream",
     "text": [
      "C:\\Users\\preet\\anaconda3\\lib\\site-packages\\statsmodels\\tsa\\base\\tsa_model.py:471: ValueWarning: A date index has been provided, but it has no associated frequency information and so will be ignored when e.g. forecasting.\n",
      "  self._init_dates(dates, freq)\n",
      "C:\\Users\\preet\\anaconda3\\lib\\site-packages\\statsmodels\\tsa\\base\\tsa_model.py:471: ValueWarning: A date index has been provided, but it has no associated frequency information and so will be ignored when e.g. forecasting.\n",
      "  self._init_dates(dates, freq)\n",
      "C:\\Users\\preet\\anaconda3\\lib\\site-packages\\statsmodels\\tsa\\statespace\\sarimax.py:1009: UserWarning: Non-invertible starting seasonal moving average Using zeros as starting parameters.\n",
      "  warn('Non-invertible starting seasonal moving average'\n",
      "C:\\Users\\preet\\anaconda3\\lib\\site-packages\\statsmodels\\base\\model.py:604: ConvergenceWarning: Maximum Likelihood optimization failed to converge. Check mle_retvals\n",
      "  warnings.warn(\"Maximum Likelihood optimization failed to \"\n",
      "C:\\Users\\preet\\anaconda3\\lib\\site-packages\\statsmodels\\tsa\\base\\tsa_model.py:471: ValueWarning: A date index has been provided, but it has no associated frequency information and so will be ignored when e.g. forecasting.\n",
      "  self._init_dates(dates, freq)\n",
      "C:\\Users\\preet\\anaconda3\\lib\\site-packages\\statsmodels\\tsa\\base\\tsa_model.py:471: ValueWarning: A date index has been provided, but it has no associated frequency information and so will be ignored when e.g. forecasting.\n",
      "  self._init_dates(dates, freq)\n"
     ]
    },
    {
     "name": "stdout",
     "output_type": "stream",
     "text": [
      "SARIMAX(1, 1, 2)x(1, 0, 1, 12) - AIC:511.01889986267685\n",
      "SARIMAX(1, 1, 2)x(1, 1, 0, 12) - AIC:407.2765317464262\n"
     ]
    },
    {
     "name": "stderr",
     "output_type": "stream",
     "text": [
      "C:\\Users\\preet\\anaconda3\\lib\\site-packages\\statsmodels\\tsa\\base\\tsa_model.py:471: ValueWarning: A date index has been provided, but it has no associated frequency information and so will be ignored when e.g. forecasting.\n",
      "  self._init_dates(dates, freq)\n",
      "C:\\Users\\preet\\anaconda3\\lib\\site-packages\\statsmodels\\tsa\\base\\tsa_model.py:471: ValueWarning: A date index has been provided, but it has no associated frequency information and so will be ignored when e.g. forecasting.\n",
      "  self._init_dates(dates, freq)\n",
      "C:\\Users\\preet\\anaconda3\\lib\\site-packages\\statsmodels\\tsa\\statespace\\sarimax.py:866: UserWarning: Too few observations to estimate starting parameters for seasonal ARMA. All parameters except for variances will be set to zeros.\n",
      "  warn('Too few observations to estimate starting parameters%s.'\n",
      "C:\\Users\\preet\\anaconda3\\lib\\site-packages\\statsmodels\\base\\model.py:604: ConvergenceWarning: Maximum Likelihood optimization failed to converge. Check mle_retvals\n",
      "  warnings.warn(\"Maximum Likelihood optimization failed to \"\n",
      "C:\\Users\\preet\\anaconda3\\lib\\site-packages\\statsmodels\\tsa\\base\\tsa_model.py:471: ValueWarning: A date index has been provided, but it has no associated frequency information and so will be ignored when e.g. forecasting.\n",
      "  self._init_dates(dates, freq)\n",
      "C:\\Users\\preet\\anaconda3\\lib\\site-packages\\statsmodels\\tsa\\base\\tsa_model.py:471: ValueWarning: A date index has been provided, but it has no associated frequency information and so will be ignored when e.g. forecasting.\n",
      "  self._init_dates(dates, freq)\n"
     ]
    },
    {
     "name": "stdout",
     "output_type": "stream",
     "text": [
      "SARIMAX(1, 1, 2)x(1, 1, 1, 12) - AIC:407.83308486808477\n",
      "SARIMAX(1, 2, 0)x(0, 0, 0, 12) - AIC:532.2003269662586\n"
     ]
    },
    {
     "name": "stderr",
     "output_type": "stream",
     "text": [
      "C:\\Users\\preet\\anaconda3\\lib\\site-packages\\statsmodels\\tsa\\base\\tsa_model.py:471: ValueWarning: A date index has been provided, but it has no associated frequency information and so will be ignored when e.g. forecasting.\n",
      "  self._init_dates(dates, freq)\n",
      "C:\\Users\\preet\\anaconda3\\lib\\site-packages\\statsmodels\\tsa\\base\\tsa_model.py:471: ValueWarning: A date index has been provided, but it has no associated frequency information and so will be ignored when e.g. forecasting.\n",
      "  self._init_dates(dates, freq)\n",
      "C:\\Users\\preet\\anaconda3\\lib\\site-packages\\statsmodels\\tsa\\statespace\\sarimax.py:1009: UserWarning: Non-invertible starting seasonal moving average Using zeros as starting parameters.\n",
      "  warn('Non-invertible starting seasonal moving average'\n"
     ]
    },
    {
     "name": "stdout",
     "output_type": "stream",
     "text": [
      "SARIMAX(1, 2, 0)x(0, 0, 1, 12) - AIC:531.716956846966\n",
      "SARIMAX(1, 2, 0)x(0, 1, 0, 12) - AIC:421.36070221061135\n"
     ]
    },
    {
     "name": "stderr",
     "output_type": "stream",
     "text": [
      "C:\\Users\\preet\\anaconda3\\lib\\site-packages\\statsmodels\\tsa\\base\\tsa_model.py:471: ValueWarning: A date index has been provided, but it has no associated frequency information and so will be ignored when e.g. forecasting.\n",
      "  self._init_dates(dates, freq)\n",
      "C:\\Users\\preet\\anaconda3\\lib\\site-packages\\statsmodels\\tsa\\base\\tsa_model.py:471: ValueWarning: A date index has been provided, but it has no associated frequency information and so will be ignored when e.g. forecasting.\n",
      "  self._init_dates(dates, freq)\n",
      "C:\\Users\\preet\\anaconda3\\lib\\site-packages\\statsmodels\\tsa\\base\\tsa_model.py:471: ValueWarning: A date index has been provided, but it has no associated frequency information and so will be ignored when e.g. forecasting.\n",
      "  self._init_dates(dates, freq)\n",
      "C:\\Users\\preet\\anaconda3\\lib\\site-packages\\statsmodels\\tsa\\base\\tsa_model.py:471: ValueWarning: A date index has been provided, but it has no associated frequency information and so will be ignored when e.g. forecasting.\n",
      "  self._init_dates(dates, freq)\n",
      "C:\\Users\\preet\\anaconda3\\lib\\site-packages\\statsmodels\\tsa\\statespace\\sarimax.py:866: UserWarning: Too few observations to estimate starting parameters for seasonal ARMA. All parameters except for variances will be set to zeros.\n",
      "  warn('Too few observations to estimate starting parameters%s.'\n"
     ]
    },
    {
     "name": "stdout",
     "output_type": "stream",
     "text": [
      "SARIMAX(1, 2, 0)x(0, 1, 1, 12) - AIC:417.42993241132643\n"
     ]
    },
    {
     "name": "stderr",
     "output_type": "stream",
     "text": [
      "C:\\Users\\preet\\anaconda3\\lib\\site-packages\\statsmodels\\tsa\\base\\tsa_model.py:471: ValueWarning: A date index has been provided, but it has no associated frequency information and so will be ignored when e.g. forecasting.\n",
      "  self._init_dates(dates, freq)\n",
      "C:\\Users\\preet\\anaconda3\\lib\\site-packages\\statsmodels\\tsa\\base\\tsa_model.py:471: ValueWarning: A date index has been provided, but it has no associated frequency information and so will be ignored when e.g. forecasting.\n",
      "  self._init_dates(dates, freq)\n"
     ]
    },
    {
     "name": "stdout",
     "output_type": "stream",
     "text": [
      "SARIMAX(1, 2, 0)x(1, 0, 0, 12) - AIC:532.5703676479737\n"
     ]
    },
    {
     "name": "stderr",
     "output_type": "stream",
     "text": [
      "C:\\Users\\preet\\anaconda3\\lib\\site-packages\\statsmodels\\tsa\\base\\tsa_model.py:471: ValueWarning: A date index has been provided, but it has no associated frequency information and so will be ignored when e.g. forecasting.\n",
      "  self._init_dates(dates, freq)\n",
      "C:\\Users\\preet\\anaconda3\\lib\\site-packages\\statsmodels\\tsa\\base\\tsa_model.py:471: ValueWarning: A date index has been provided, but it has no associated frequency information and so will be ignored when e.g. forecasting.\n",
      "  self._init_dates(dates, freq)\n",
      "C:\\Users\\preet\\anaconda3\\lib\\site-packages\\statsmodels\\tsa\\statespace\\sarimax.py:1009: UserWarning: Non-invertible starting seasonal moving average Using zeros as starting parameters.\n",
      "  warn('Non-invertible starting seasonal moving average'\n"
     ]
    },
    {
     "name": "stdout",
     "output_type": "stream",
     "text": [
      "SARIMAX(1, 2, 0)x(1, 0, 1, 12) - AIC:533.6312556171127\n"
     ]
    },
    {
     "name": "stderr",
     "output_type": "stream",
     "text": [
      "C:\\Users\\preet\\anaconda3\\lib\\site-packages\\statsmodels\\tsa\\base\\tsa_model.py:471: ValueWarning: A date index has been provided, but it has no associated frequency information and so will be ignored when e.g. forecasting.\n",
      "  self._init_dates(dates, freq)\n",
      "C:\\Users\\preet\\anaconda3\\lib\\site-packages\\statsmodels\\tsa\\base\\tsa_model.py:471: ValueWarning: A date index has been provided, but it has no associated frequency information and so will be ignored when e.g. forecasting.\n",
      "  self._init_dates(dates, freq)\n"
     ]
    },
    {
     "name": "stdout",
     "output_type": "stream",
     "text": [
      "SARIMAX(1, 2, 0)x(1, 1, 0, 12) - AIC:421.2503089007564\n"
     ]
    },
    {
     "name": "stderr",
     "output_type": "stream",
     "text": [
      "C:\\Users\\preet\\anaconda3\\lib\\site-packages\\statsmodels\\tsa\\base\\tsa_model.py:471: ValueWarning: A date index has been provided, but it has no associated frequency information and so will be ignored when e.g. forecasting.\n",
      "  self._init_dates(dates, freq)\n",
      "C:\\Users\\preet\\anaconda3\\lib\\site-packages\\statsmodels\\tsa\\base\\tsa_model.py:471: ValueWarning: A date index has been provided, but it has no associated frequency information and so will be ignored when e.g. forecasting.\n",
      "  self._init_dates(dates, freq)\n",
      "C:\\Users\\preet\\anaconda3\\lib\\site-packages\\statsmodels\\tsa\\statespace\\sarimax.py:866: UserWarning: Too few observations to estimate starting parameters for seasonal ARMA. All parameters except for variances will be set to zeros.\n",
      "  warn('Too few observations to estimate starting parameters%s.'\n",
      "C:\\Users\\preet\\anaconda3\\lib\\site-packages\\statsmodels\\base\\model.py:604: ConvergenceWarning: Maximum Likelihood optimization failed to converge. Check mle_retvals\n",
      "  warnings.warn(\"Maximum Likelihood optimization failed to \"\n",
      "C:\\Users\\preet\\anaconda3\\lib\\site-packages\\statsmodels\\tsa\\base\\tsa_model.py:471: ValueWarning: A date index has been provided, but it has no associated frequency information and so will be ignored when e.g. forecasting.\n",
      "  self._init_dates(dates, freq)\n",
      "C:\\Users\\preet\\anaconda3\\lib\\site-packages\\statsmodels\\tsa\\base\\tsa_model.py:471: ValueWarning: A date index has been provided, but it has no associated frequency information and so will be ignored when e.g. forecasting.\n",
      "  self._init_dates(dates, freq)\n"
     ]
    },
    {
     "name": "stdout",
     "output_type": "stream",
     "text": [
      "SARIMAX(1, 2, 0)x(1, 1, 1, 12) - AIC:419.4122512155048\n",
      "SARIMAX(1, 2, 1)x(0, 0, 0, 12) - AIC:511.54737686710774\n"
     ]
    },
    {
     "name": "stderr",
     "output_type": "stream",
     "text": [
      "C:\\Users\\preet\\anaconda3\\lib\\site-packages\\statsmodels\\tsa\\base\\tsa_model.py:471: ValueWarning: A date index has been provided, but it has no associated frequency information and so will be ignored when e.g. forecasting.\n",
      "  self._init_dates(dates, freq)\n",
      "C:\\Users\\preet\\anaconda3\\lib\\site-packages\\statsmodels\\tsa\\base\\tsa_model.py:471: ValueWarning: A date index has been provided, but it has no associated frequency information and so will be ignored when e.g. forecasting.\n",
      "  self._init_dates(dates, freq)\n",
      "C:\\Users\\preet\\anaconda3\\lib\\site-packages\\statsmodels\\tsa\\statespace\\sarimax.py:1009: UserWarning: Non-invertible starting seasonal moving average Using zeros as starting parameters.\n",
      "  warn('Non-invertible starting seasonal moving average'\n"
     ]
    },
    {
     "name": "stdout",
     "output_type": "stream",
     "text": [
      "SARIMAX(1, 2, 1)x(0, 0, 1, 12) - AIC:512.8898753529093\n"
     ]
    },
    {
     "name": "stderr",
     "output_type": "stream",
     "text": [
      "C:\\Users\\preet\\anaconda3\\lib\\site-packages\\statsmodels\\tsa\\base\\tsa_model.py:471: ValueWarning: A date index has been provided, but it has no associated frequency information and so will be ignored when e.g. forecasting.\n",
      "  self._init_dates(dates, freq)\n",
      "C:\\Users\\preet\\anaconda3\\lib\\site-packages\\statsmodels\\tsa\\base\\tsa_model.py:471: ValueWarning: A date index has been provided, but it has no associated frequency information and so will be ignored when e.g. forecasting.\n",
      "  self._init_dates(dates, freq)\n"
     ]
    },
    {
     "name": "stdout",
     "output_type": "stream",
     "text": [
      "SARIMAX(1, 2, 1)x(0, 1, 0, 12) - AIC:404.227891205021\n"
     ]
    },
    {
     "name": "stderr",
     "output_type": "stream",
     "text": [
      "C:\\Users\\preet\\anaconda3\\lib\\site-packages\\statsmodels\\tsa\\base\\tsa_model.py:471: ValueWarning: A date index has been provided, but it has no associated frequency information and so will be ignored when e.g. forecasting.\n",
      "  self._init_dates(dates, freq)\n",
      "C:\\Users\\preet\\anaconda3\\lib\\site-packages\\statsmodels\\tsa\\base\\tsa_model.py:471: ValueWarning: A date index has been provided, but it has no associated frequency information and so will be ignored when e.g. forecasting.\n",
      "  self._init_dates(dates, freq)\n",
      "C:\\Users\\preet\\anaconda3\\lib\\site-packages\\statsmodels\\tsa\\statespace\\sarimax.py:866: UserWarning: Too few observations to estimate starting parameters for seasonal ARMA. All parameters except for variances will be set to zeros.\n",
      "  warn('Too few observations to estimate starting parameters%s.'\n"
     ]
    },
    {
     "name": "stdout",
     "output_type": "stream",
     "text": [
      "SARIMAX(1, 2, 1)x(0, 1, 1, 12) - AIC:404.6933727585695\n"
     ]
    },
    {
     "name": "stderr",
     "output_type": "stream",
     "text": [
      "C:\\Users\\preet\\anaconda3\\lib\\site-packages\\statsmodels\\tsa\\base\\tsa_model.py:471: ValueWarning: A date index has been provided, but it has no associated frequency information and so will be ignored when e.g. forecasting.\n",
      "  self._init_dates(dates, freq)\n",
      "C:\\Users\\preet\\anaconda3\\lib\\site-packages\\statsmodels\\tsa\\base\\tsa_model.py:471: ValueWarning: A date index has been provided, but it has no associated frequency information and so will be ignored when e.g. forecasting.\n",
      "  self._init_dates(dates, freq)\n"
     ]
    },
    {
     "name": "stdout",
     "output_type": "stream",
     "text": [
      "SARIMAX(1, 2, 1)x(1, 0, 0, 12) - AIC:513.2768401589287\n"
     ]
    },
    {
     "name": "stderr",
     "output_type": "stream",
     "text": [
      "C:\\Users\\preet\\anaconda3\\lib\\site-packages\\statsmodels\\tsa\\base\\tsa_model.py:471: ValueWarning: A date index has been provided, but it has no associated frequency information and so will be ignored when e.g. forecasting.\n",
      "  self._init_dates(dates, freq)\n",
      "C:\\Users\\preet\\anaconda3\\lib\\site-packages\\statsmodels\\tsa\\base\\tsa_model.py:471: ValueWarning: A date index has been provided, but it has no associated frequency information and so will be ignored when e.g. forecasting.\n",
      "  self._init_dates(dates, freq)\n",
      "C:\\Users\\preet\\anaconda3\\lib\\site-packages\\statsmodels\\tsa\\statespace\\sarimax.py:1009: UserWarning: Non-invertible starting seasonal moving average Using zeros as starting parameters.\n",
      "  warn('Non-invertible starting seasonal moving average'\n"
     ]
    },
    {
     "name": "stdout",
     "output_type": "stream",
     "text": [
      "SARIMAX(1, 2, 1)x(1, 0, 1, 12) - AIC:513.9875038355933\n"
     ]
    },
    {
     "name": "stderr",
     "output_type": "stream",
     "text": [
      "C:\\Users\\preet\\anaconda3\\lib\\site-packages\\statsmodels\\tsa\\base\\tsa_model.py:471: ValueWarning: A date index has been provided, but it has no associated frequency information and so will be ignored when e.g. forecasting.\n",
      "  self._init_dates(dates, freq)\n",
      "C:\\Users\\preet\\anaconda3\\lib\\site-packages\\statsmodels\\tsa\\base\\tsa_model.py:471: ValueWarning: A date index has been provided, but it has no associated frequency information and so will be ignored when e.g. forecasting.\n",
      "  self._init_dates(dates, freq)\n"
     ]
    },
    {
     "name": "stdout",
     "output_type": "stream",
     "text": [
      "SARIMAX(1, 2, 1)x(1, 1, 0, 12) - AIC:405.8029970584484\n"
     ]
    },
    {
     "name": "stderr",
     "output_type": "stream",
     "text": [
      "C:\\Users\\preet\\anaconda3\\lib\\site-packages\\statsmodels\\tsa\\base\\tsa_model.py:471: ValueWarning: A date index has been provided, but it has no associated frequency information and so will be ignored when e.g. forecasting.\n",
      "  self._init_dates(dates, freq)\n",
      "C:\\Users\\preet\\anaconda3\\lib\\site-packages\\statsmodels\\tsa\\base\\tsa_model.py:471: ValueWarning: A date index has been provided, but it has no associated frequency information and so will be ignored when e.g. forecasting.\n",
      "  self._init_dates(dates, freq)\n",
      "C:\\Users\\preet\\anaconda3\\lib\\site-packages\\statsmodels\\tsa\\statespace\\sarimax.py:866: UserWarning: Too few observations to estimate starting parameters for seasonal ARMA. All parameters except for variances will be set to zeros.\n",
      "  warn('Too few observations to estimate starting parameters%s.'\n"
     ]
    },
    {
     "name": "stdout",
     "output_type": "stream",
     "text": [
      "SARIMAX(1, 2, 1)x(1, 1, 1, 12) - AIC:405.63212505341403\n"
     ]
    },
    {
     "name": "stderr",
     "output_type": "stream",
     "text": [
      "C:\\Users\\preet\\anaconda3\\lib\\site-packages\\statsmodels\\tsa\\base\\tsa_model.py:471: ValueWarning: A date index has been provided, but it has no associated frequency information and so will be ignored when e.g. forecasting.\n",
      "  self._init_dates(dates, freq)\n",
      "C:\\Users\\preet\\anaconda3\\lib\\site-packages\\statsmodels\\tsa\\base\\tsa_model.py:471: ValueWarning: A date index has been provided, but it has no associated frequency information and so will be ignored when e.g. forecasting.\n",
      "  self._init_dates(dates, freq)\n",
      "C:\\Users\\preet\\anaconda3\\lib\\site-packages\\statsmodels\\base\\model.py:604: ConvergenceWarning: Maximum Likelihood optimization failed to converge. Check mle_retvals\n",
      "  warnings.warn(\"Maximum Likelihood optimization failed to \"\n",
      "C:\\Users\\preet\\anaconda3\\lib\\site-packages\\statsmodels\\tsa\\base\\tsa_model.py:471: ValueWarning: A date index has been provided, but it has no associated frequency information and so will be ignored when e.g. forecasting.\n",
      "  self._init_dates(dates, freq)\n",
      "C:\\Users\\preet\\anaconda3\\lib\\site-packages\\statsmodels\\tsa\\base\\tsa_model.py:471: ValueWarning: A date index has been provided, but it has no associated frequency information and so will be ignored when e.g. forecasting.\n",
      "  self._init_dates(dates, freq)\n",
      "C:\\Users\\preet\\anaconda3\\lib\\site-packages\\statsmodels\\tsa\\statespace\\sarimax.py:1009: UserWarning: Non-invertible starting seasonal moving average Using zeros as starting parameters.\n",
      "  warn('Non-invertible starting seasonal moving average'\n"
     ]
    },
    {
     "name": "stdout",
     "output_type": "stream",
     "text": [
      "SARIMAX(1, 2, 2)x(0, 0, 0, 12) - AIC:507.60854957031836\n"
     ]
    },
    {
     "name": "stderr",
     "output_type": "stream",
     "text": [
      "C:\\Users\\preet\\anaconda3\\lib\\site-packages\\statsmodels\\base\\model.py:604: ConvergenceWarning: Maximum Likelihood optimization failed to converge. Check mle_retvals\n",
      "  warnings.warn(\"Maximum Likelihood optimization failed to \"\n",
      "C:\\Users\\preet\\anaconda3\\lib\\site-packages\\statsmodels\\tsa\\base\\tsa_model.py:471: ValueWarning: A date index has been provided, but it has no associated frequency information and so will be ignored when e.g. forecasting.\n",
      "  self._init_dates(dates, freq)\n",
      "C:\\Users\\preet\\anaconda3\\lib\\site-packages\\statsmodels\\tsa\\base\\tsa_model.py:471: ValueWarning: A date index has been provided, but it has no associated frequency information and so will be ignored when e.g. forecasting.\n",
      "  self._init_dates(dates, freq)\n",
      "C:\\Users\\preet\\anaconda3\\lib\\site-packages\\statsmodels\\tsa\\statespace\\sarimax.py:978: UserWarning: Non-invertible starting MA parameters found. Using zeros as starting parameters.\n",
      "  warn('Non-invertible starting MA parameters found.'\n"
     ]
    },
    {
     "name": "stdout",
     "output_type": "stream",
     "text": [
      "SARIMAX(1, 2, 2)x(0, 0, 1, 12) - AIC:508.5924999636401\n"
     ]
    },
    {
     "name": "stderr",
     "output_type": "stream",
     "text": [
      "C:\\Users\\preet\\anaconda3\\lib\\site-packages\\statsmodels\\base\\model.py:604: ConvergenceWarning: Maximum Likelihood optimization failed to converge. Check mle_retvals\n",
      "  warnings.warn(\"Maximum Likelihood optimization failed to \"\n",
      "C:\\Users\\preet\\anaconda3\\lib\\site-packages\\statsmodels\\tsa\\base\\tsa_model.py:471: ValueWarning: A date index has been provided, but it has no associated frequency information and so will be ignored when e.g. forecasting.\n",
      "  self._init_dates(dates, freq)\n",
      "C:\\Users\\preet\\anaconda3\\lib\\site-packages\\statsmodels\\tsa\\base\\tsa_model.py:471: ValueWarning: A date index has been provided, but it has no associated frequency information and so will be ignored when e.g. forecasting.\n",
      "  self._init_dates(dates, freq)\n",
      "C:\\Users\\preet\\anaconda3\\lib\\site-packages\\statsmodels\\tsa\\statespace\\sarimax.py:978: UserWarning: Non-invertible starting MA parameters found. Using zeros as starting parameters.\n",
      "  warn('Non-invertible starting MA parameters found.'\n",
      "C:\\Users\\preet\\anaconda3\\lib\\site-packages\\statsmodels\\tsa\\statespace\\sarimax.py:866: UserWarning: Too few observations to estimate starting parameters for seasonal ARMA. All parameters except for variances will be set to zeros.\n",
      "  warn('Too few observations to estimate starting parameters%s.'\n"
     ]
    },
    {
     "name": "stdout",
     "output_type": "stream",
     "text": [
      "SARIMAX(1, 2, 2)x(0, 1, 0, 12) - AIC:408.20939938795493\n",
      "SARIMAX(1, 2, 2)x(0, 1, 1, 12) - AIC:408.44183512435603\n"
     ]
    },
    {
     "name": "stderr",
     "output_type": "stream",
     "text": [
      "C:\\Users\\preet\\anaconda3\\lib\\site-packages\\statsmodels\\tsa\\base\\tsa_model.py:471: ValueWarning: A date index has been provided, but it has no associated frequency information and so will be ignored when e.g. forecasting.\n",
      "  self._init_dates(dates, freq)\n",
      "C:\\Users\\preet\\anaconda3\\lib\\site-packages\\statsmodels\\tsa\\base\\tsa_model.py:471: ValueWarning: A date index has been provided, but it has no associated frequency information and so will be ignored when e.g. forecasting.\n",
      "  self._init_dates(dates, freq)\n",
      "C:\\Users\\preet\\anaconda3\\lib\\site-packages\\statsmodels\\base\\model.py:604: ConvergenceWarning: Maximum Likelihood optimization failed to converge. Check mle_retvals\n",
      "  warnings.warn(\"Maximum Likelihood optimization failed to \"\n",
      "C:\\Users\\preet\\anaconda3\\lib\\site-packages\\statsmodels\\tsa\\base\\tsa_model.py:471: ValueWarning: A date index has been provided, but it has no associated frequency information and so will be ignored when e.g. forecasting.\n",
      "  self._init_dates(dates, freq)\n",
      "C:\\Users\\preet\\anaconda3\\lib\\site-packages\\statsmodels\\tsa\\base\\tsa_model.py:471: ValueWarning: A date index has been provided, but it has no associated frequency information and so will be ignored when e.g. forecasting.\n",
      "  self._init_dates(dates, freq)\n",
      "C:\\Users\\preet\\anaconda3\\lib\\site-packages\\statsmodels\\tsa\\statespace\\sarimax.py:1009: UserWarning: Non-invertible starting seasonal moving average Using zeros as starting parameters.\n",
      "  warn('Non-invertible starting seasonal moving average'\n"
     ]
    },
    {
     "name": "stdout",
     "output_type": "stream",
     "text": [
      "SARIMAX(1, 2, 2)x(1, 0, 0, 12) - AIC:509.2835135239473\n"
     ]
    },
    {
     "name": "stderr",
     "output_type": "stream",
     "text": [
      "C:\\Users\\preet\\anaconda3\\lib\\site-packages\\statsmodels\\base\\model.py:604: ConvergenceWarning: Maximum Likelihood optimization failed to converge. Check mle_retvals\n",
      "  warnings.warn(\"Maximum Likelihood optimization failed to \"\n",
      "C:\\Users\\preet\\anaconda3\\lib\\site-packages\\statsmodels\\tsa\\base\\tsa_model.py:471: ValueWarning: A date index has been provided, but it has no associated frequency information and so will be ignored when e.g. forecasting.\n",
      "  self._init_dates(dates, freq)\n",
      "C:\\Users\\preet\\anaconda3\\lib\\site-packages\\statsmodels\\tsa\\base\\tsa_model.py:471: ValueWarning: A date index has been provided, but it has no associated frequency information and so will be ignored when e.g. forecasting.\n",
      "  self._init_dates(dates, freq)\n",
      "C:\\Users\\preet\\anaconda3\\lib\\site-packages\\statsmodels\\tsa\\statespace\\sarimax.py:978: UserWarning: Non-invertible starting MA parameters found. Using zeros as starting parameters.\n",
      "  warn('Non-invertible starting MA parameters found.'\n"
     ]
    },
    {
     "name": "stdout",
     "output_type": "stream",
     "text": [
      "SARIMAX(1, 2, 2)x(1, 0, 1, 12) - AIC:509.35478461097335\n"
     ]
    },
    {
     "name": "stderr",
     "output_type": "stream",
     "text": [
      "C:\\Users\\preet\\anaconda3\\lib\\site-packages\\statsmodels\\base\\model.py:604: ConvergenceWarning: Maximum Likelihood optimization failed to converge. Check mle_retvals\n",
      "  warnings.warn(\"Maximum Likelihood optimization failed to \"\n",
      "C:\\Users\\preet\\anaconda3\\lib\\site-packages\\statsmodels\\tsa\\base\\tsa_model.py:471: ValueWarning: A date index has been provided, but it has no associated frequency information and so will be ignored when e.g. forecasting.\n",
      "  self._init_dates(dates, freq)\n",
      "C:\\Users\\preet\\anaconda3\\lib\\site-packages\\statsmodels\\tsa\\base\\tsa_model.py:471: ValueWarning: A date index has been provided, but it has no associated frequency information and so will be ignored when e.g. forecasting.\n",
      "  self._init_dates(dates, freq)\n",
      "C:\\Users\\preet\\anaconda3\\lib\\site-packages\\statsmodels\\tsa\\statespace\\sarimax.py:978: UserWarning: Non-invertible starting MA parameters found. Using zeros as starting parameters.\n",
      "  warn('Non-invertible starting MA parameters found.'\n",
      "C:\\Users\\preet\\anaconda3\\lib\\site-packages\\statsmodels\\tsa\\statespace\\sarimax.py:866: UserWarning: Too few observations to estimate starting parameters for seasonal ARMA. All parameters except for variances will be set to zeros.\n",
      "  warn('Too few observations to estimate starting parameters%s.'\n"
     ]
    },
    {
     "name": "stdout",
     "output_type": "stream",
     "text": [
      "SARIMAX(1, 2, 2)x(1, 1, 0, 12) - AIC:409.73013503101515\n"
     ]
    },
    {
     "name": "stderr",
     "output_type": "stream",
     "text": [
      "C:\\Users\\preet\\anaconda3\\lib\\site-packages\\statsmodels\\base\\model.py:604: ConvergenceWarning: Maximum Likelihood optimization failed to converge. Check mle_retvals\n",
      "  warnings.warn(\"Maximum Likelihood optimization failed to \"\n",
      "C:\\Users\\preet\\anaconda3\\lib\\site-packages\\statsmodels\\tsa\\base\\tsa_model.py:471: ValueWarning: A date index has been provided, but it has no associated frequency information and so will be ignored when e.g. forecasting.\n",
      "  self._init_dates(dates, freq)\n",
      "C:\\Users\\preet\\anaconda3\\lib\\site-packages\\statsmodels\\tsa\\base\\tsa_model.py:471: ValueWarning: A date index has been provided, but it has no associated frequency information and so will be ignored when e.g. forecasting.\n",
      "  self._init_dates(dates, freq)\n"
     ]
    },
    {
     "name": "stdout",
     "output_type": "stream",
     "text": [
      "SARIMAX(1, 2, 2)x(1, 1, 1, 12) - AIC:409.6692998368628\n",
      "SARIMAX(2, 0, 0)x(0, 0, 0, 12) - AIC:529.4653011493754\n"
     ]
    },
    {
     "name": "stderr",
     "output_type": "stream",
     "text": [
      "C:\\Users\\preet\\anaconda3\\lib\\site-packages\\statsmodels\\tsa\\base\\tsa_model.py:471: ValueWarning: A date index has been provided, but it has no associated frequency information and so will be ignored when e.g. forecasting.\n",
      "  self._init_dates(dates, freq)\n",
      "C:\\Users\\preet\\anaconda3\\lib\\site-packages\\statsmodels\\tsa\\base\\tsa_model.py:471: ValueWarning: A date index has been provided, but it has no associated frequency information and so will be ignored when e.g. forecasting.\n",
      "  self._init_dates(dates, freq)\n",
      "C:\\Users\\preet\\anaconda3\\lib\\site-packages\\statsmodels\\tsa\\statespace\\sarimax.py:1009: UserWarning: Non-invertible starting seasonal moving average Using zeros as starting parameters.\n",
      "  warn('Non-invertible starting seasonal moving average'\n"
     ]
    },
    {
     "name": "stdout",
     "output_type": "stream",
     "text": [
      "SARIMAX(2, 0, 0)x(0, 0, 1, 12) - AIC:530.8048835145316\n",
      "SARIMAX(2, 0, 0)x(0, 1, 0, 12) - AIC:414.3795343273988\n"
     ]
    },
    {
     "name": "stderr",
     "output_type": "stream",
     "text": [
      "C:\\Users\\preet\\anaconda3\\lib\\site-packages\\statsmodels\\tsa\\base\\tsa_model.py:471: ValueWarning: A date index has been provided, but it has no associated frequency information and so will be ignored when e.g. forecasting.\n",
      "  self._init_dates(dates, freq)\n",
      "C:\\Users\\preet\\anaconda3\\lib\\site-packages\\statsmodels\\tsa\\base\\tsa_model.py:471: ValueWarning: A date index has been provided, but it has no associated frequency information and so will be ignored when e.g. forecasting.\n",
      "  self._init_dates(dates, freq)\n",
      "C:\\Users\\preet\\anaconda3\\lib\\site-packages\\statsmodels\\tsa\\base\\tsa_model.py:471: ValueWarning: A date index has been provided, but it has no associated frequency information and so will be ignored when e.g. forecasting.\n",
      "  self._init_dates(dates, freq)\n",
      "C:\\Users\\preet\\anaconda3\\lib\\site-packages\\statsmodels\\tsa\\base\\tsa_model.py:471: ValueWarning: A date index has been provided, but it has no associated frequency information and so will be ignored when e.g. forecasting.\n",
      "  self._init_dates(dates, freq)\n",
      "C:\\Users\\preet\\anaconda3\\lib\\site-packages\\statsmodels\\tsa\\statespace\\sarimax.py:866: UserWarning: Too few observations to estimate starting parameters for seasonal ARMA. All parameters except for variances will be set to zeros.\n",
      "  warn('Too few observations to estimate starting parameters%s.'\n",
      "C:\\Users\\preet\\anaconda3\\lib\\site-packages\\statsmodels\\base\\model.py:604: ConvergenceWarning: Maximum Likelihood optimization failed to converge. Check mle_retvals\n",
      "  warnings.warn(\"Maximum Likelihood optimization failed to \"\n",
      "C:\\Users\\preet\\anaconda3\\lib\\site-packages\\statsmodels\\tsa\\base\\tsa_model.py:471: ValueWarning: A date index has been provided, but it has no associated frequency information and so will be ignored when e.g. forecasting.\n",
      "  self._init_dates(dates, freq)\n",
      "C:\\Users\\preet\\anaconda3\\lib\\site-packages\\statsmodels\\tsa\\base\\tsa_model.py:471: ValueWarning: A date index has been provided, but it has no associated frequency information and so will be ignored when e.g. forecasting.\n",
      "  self._init_dates(dates, freq)\n"
     ]
    },
    {
     "name": "stdout",
     "output_type": "stream",
     "text": [
      "SARIMAX(2, 0, 0)x(0, 1, 1, 12) - AIC:411.9723145143578\n",
      "SARIMAX(2, 0, 0)x(1, 0, 0, 12) - AIC:531.2110250810626\n"
     ]
    },
    {
     "name": "stderr",
     "output_type": "stream",
     "text": [
      "C:\\Users\\preet\\anaconda3\\lib\\site-packages\\statsmodels\\tsa\\base\\tsa_model.py:471: ValueWarning: A date index has been provided, but it has no associated frequency information and so will be ignored when e.g. forecasting.\n",
      "  self._init_dates(dates, freq)\n",
      "C:\\Users\\preet\\anaconda3\\lib\\site-packages\\statsmodels\\tsa\\base\\tsa_model.py:471: ValueWarning: A date index has been provided, but it has no associated frequency information and so will be ignored when e.g. forecasting.\n",
      "  self._init_dates(dates, freq)\n",
      "C:\\Users\\preet\\anaconda3\\lib\\site-packages\\statsmodels\\tsa\\statespace\\sarimax.py:1009: UserWarning: Non-invertible starting seasonal moving average Using zeros as starting parameters.\n",
      "  warn('Non-invertible starting seasonal moving average'\n"
     ]
    },
    {
     "name": "stdout",
     "output_type": "stream",
     "text": [
      "SARIMAX(2, 0, 0)x(1, 0, 1, 12) - AIC:531.9292677202772\n"
     ]
    },
    {
     "name": "stderr",
     "output_type": "stream",
     "text": [
      "C:\\Users\\preet\\anaconda3\\lib\\site-packages\\statsmodels\\tsa\\base\\tsa_model.py:471: ValueWarning: A date index has been provided, but it has no associated frequency information and so will be ignored when e.g. forecasting.\n",
      "  self._init_dates(dates, freq)\n",
      "C:\\Users\\preet\\anaconda3\\lib\\site-packages\\statsmodels\\tsa\\base\\tsa_model.py:471: ValueWarning: A date index has been provided, but it has no associated frequency information and so will be ignored when e.g. forecasting.\n",
      "  self._init_dates(dates, freq)\n"
     ]
    },
    {
     "name": "stdout",
     "output_type": "stream",
     "text": [
      "SARIMAX(2, 0, 0)x(1, 1, 0, 12) - AIC:414.42668944317586\n"
     ]
    },
    {
     "name": "stderr",
     "output_type": "stream",
     "text": [
      "C:\\Users\\preet\\anaconda3\\lib\\site-packages\\statsmodels\\tsa\\base\\tsa_model.py:471: ValueWarning: A date index has been provided, but it has no associated frequency information and so will be ignored when e.g. forecasting.\n",
      "  self._init_dates(dates, freq)\n",
      "C:\\Users\\preet\\anaconda3\\lib\\site-packages\\statsmodels\\tsa\\base\\tsa_model.py:471: ValueWarning: A date index has been provided, but it has no associated frequency information and so will be ignored when e.g. forecasting.\n",
      "  self._init_dates(dates, freq)\n",
      "C:\\Users\\preet\\anaconda3\\lib\\site-packages\\statsmodels\\tsa\\statespace\\sarimax.py:866: UserWarning: Too few observations to estimate starting parameters for seasonal ARMA. All parameters except for variances will be set to zeros.\n",
      "  warn('Too few observations to estimate starting parameters%s.'\n",
      "C:\\Users\\preet\\anaconda3\\lib\\site-packages\\statsmodels\\base\\model.py:604: ConvergenceWarning: Maximum Likelihood optimization failed to converge. Check mle_retvals\n",
      "  warnings.warn(\"Maximum Likelihood optimization failed to \"\n",
      "C:\\Users\\preet\\anaconda3\\lib\\site-packages\\statsmodels\\tsa\\base\\tsa_model.py:471: ValueWarning: A date index has been provided, but it has no associated frequency information and so will be ignored when e.g. forecasting.\n",
      "  self._init_dates(dates, freq)\n",
      "C:\\Users\\preet\\anaconda3\\lib\\site-packages\\statsmodels\\tsa\\base\\tsa_model.py:471: ValueWarning: A date index has been provided, but it has no associated frequency information and so will be ignored when e.g. forecasting.\n",
      "  self._init_dates(dates, freq)\n",
      "C:\\Users\\preet\\anaconda3\\lib\\site-packages\\statsmodels\\tsa\\statespace\\sarimax.py:966: UserWarning: Non-stationary starting autoregressive parameters found. Using zeros as starting parameters.\n",
      "  warn('Non-stationary starting autoregressive parameters'\n",
      "C:\\Users\\preet\\anaconda3\\lib\\site-packages\\statsmodels\\tsa\\statespace\\sarimax.py:978: UserWarning: Non-invertible starting MA parameters found. Using zeros as starting parameters.\n",
      "  warn('Non-invertible starting MA parameters found.'\n"
     ]
    },
    {
     "name": "stdout",
     "output_type": "stream",
     "text": [
      "SARIMAX(2, 0, 0)x(1, 1, 1, 12) - AIC:413.47652612733924\n"
     ]
    },
    {
     "name": "stderr",
     "output_type": "stream",
     "text": [
      "C:\\Users\\preet\\anaconda3\\lib\\site-packages\\statsmodels\\base\\model.py:604: ConvergenceWarning: Maximum Likelihood optimization failed to converge. Check mle_retvals\n",
      "  warnings.warn(\"Maximum Likelihood optimization failed to \"\n",
      "C:\\Users\\preet\\anaconda3\\lib\\site-packages\\statsmodels\\tsa\\base\\tsa_model.py:471: ValueWarning: A date index has been provided, but it has no associated frequency information and so will be ignored when e.g. forecasting.\n",
      "  self._init_dates(dates, freq)\n",
      "C:\\Users\\preet\\anaconda3\\lib\\site-packages\\statsmodels\\tsa\\base\\tsa_model.py:471: ValueWarning: A date index has been provided, but it has no associated frequency information and so will be ignored when e.g. forecasting.\n",
      "  self._init_dates(dates, freq)\n",
      "C:\\Users\\preet\\anaconda3\\lib\\site-packages\\statsmodels\\tsa\\statespace\\sarimax.py:966: UserWarning: Non-stationary starting autoregressive parameters found. Using zeros as starting parameters.\n",
      "  warn('Non-stationary starting autoregressive parameters'\n",
      "C:\\Users\\preet\\anaconda3\\lib\\site-packages\\statsmodels\\tsa\\statespace\\sarimax.py:978: UserWarning: Non-invertible starting MA parameters found. Using zeros as starting parameters.\n",
      "  warn('Non-invertible starting MA parameters found.'\n",
      "C:\\Users\\preet\\anaconda3\\lib\\site-packages\\statsmodels\\tsa\\statespace\\sarimax.py:1009: UserWarning: Non-invertible starting seasonal moving average Using zeros as starting parameters.\n",
      "  warn('Non-invertible starting seasonal moving average'\n"
     ]
    },
    {
     "name": "stdout",
     "output_type": "stream",
     "text": [
      "SARIMAX(2, 0, 1)x(0, 0, 0, 12) - AIC:523.0686460476036\n"
     ]
    },
    {
     "name": "stderr",
     "output_type": "stream",
     "text": [
      "C:\\Users\\preet\\anaconda3\\lib\\site-packages\\statsmodels\\base\\model.py:604: ConvergenceWarning: Maximum Likelihood optimization failed to converge. Check mle_retvals\n",
      "  warnings.warn(\"Maximum Likelihood optimization failed to \"\n",
      "C:\\Users\\preet\\anaconda3\\lib\\site-packages\\statsmodels\\tsa\\base\\tsa_model.py:471: ValueWarning: A date index has been provided, but it has no associated frequency information and so will be ignored when e.g. forecasting.\n",
      "  self._init_dates(dates, freq)\n",
      "C:\\Users\\preet\\anaconda3\\lib\\site-packages\\statsmodels\\tsa\\base\\tsa_model.py:471: ValueWarning: A date index has been provided, but it has no associated frequency information and so will be ignored when e.g. forecasting.\n",
      "  self._init_dates(dates, freq)\n",
      "C:\\Users\\preet\\anaconda3\\lib\\site-packages\\statsmodels\\tsa\\statespace\\sarimax.py:966: UserWarning: Non-stationary starting autoregressive parameters found. Using zeros as starting parameters.\n",
      "  warn('Non-stationary starting autoregressive parameters'\n",
      "C:\\Users\\preet\\anaconda3\\lib\\site-packages\\statsmodels\\tsa\\statespace\\sarimax.py:978: UserWarning: Non-invertible starting MA parameters found. Using zeros as starting parameters.\n",
      "  warn('Non-invertible starting MA parameters found.'\n"
     ]
    },
    {
     "name": "stdout",
     "output_type": "stream",
     "text": [
      "SARIMAX(2, 0, 1)x(0, 0, 1, 12) - AIC:532.389467002316\n",
      "SARIMAX(2, 0, 1)x(0, 1, 0, 12) - AIC:413.7663566606722\n"
     ]
    },
    {
     "name": "stderr",
     "output_type": "stream",
     "text": [
      "C:\\Users\\preet\\anaconda3\\lib\\site-packages\\statsmodels\\tsa\\base\\tsa_model.py:471: ValueWarning: A date index has been provided, but it has no associated frequency information and so will be ignored when e.g. forecasting.\n",
      "  self._init_dates(dates, freq)\n",
      "C:\\Users\\preet\\anaconda3\\lib\\site-packages\\statsmodels\\tsa\\base\\tsa_model.py:471: ValueWarning: A date index has been provided, but it has no associated frequency information and so will be ignored when e.g. forecasting.\n",
      "  self._init_dates(dates, freq)\n",
      "C:\\Users\\preet\\anaconda3\\lib\\site-packages\\statsmodels\\tsa\\statespace\\sarimax.py:966: UserWarning: Non-stationary starting autoregressive parameters found. Using zeros as starting parameters.\n",
      "  warn('Non-stationary starting autoregressive parameters'\n",
      "C:\\Users\\preet\\anaconda3\\lib\\site-packages\\statsmodels\\tsa\\statespace\\sarimax.py:978: UserWarning: Non-invertible starting MA parameters found. Using zeros as starting parameters.\n",
      "  warn('Non-invertible starting MA parameters found.'\n",
      "C:\\Users\\preet\\anaconda3\\lib\\site-packages\\statsmodels\\tsa\\statespace\\sarimax.py:866: UserWarning: Too few observations to estimate starting parameters for seasonal ARMA. All parameters except for variances will be set to zeros.\n",
      "  warn('Too few observations to estimate starting parameters%s.'\n"
     ]
    },
    {
     "name": "stdout",
     "output_type": "stream",
     "text": [
      "SARIMAX(2, 0, 1)x(0, 1, 1, 12) - AIC:413.3103493007919\n"
     ]
    },
    {
     "name": "stderr",
     "output_type": "stream",
     "text": [
      "C:\\Users\\preet\\anaconda3\\lib\\site-packages\\statsmodels\\tsa\\base\\tsa_model.py:471: ValueWarning: A date index has been provided, but it has no associated frequency information and so will be ignored when e.g. forecasting.\n",
      "  self._init_dates(dates, freq)\n",
      "C:\\Users\\preet\\anaconda3\\lib\\site-packages\\statsmodels\\tsa\\base\\tsa_model.py:471: ValueWarning: A date index has been provided, but it has no associated frequency information and so will be ignored when e.g. forecasting.\n",
      "  self._init_dates(dates, freq)\n",
      "C:\\Users\\preet\\anaconda3\\lib\\site-packages\\statsmodels\\tsa\\statespace\\sarimax.py:966: UserWarning: Non-stationary starting autoregressive parameters found. Using zeros as starting parameters.\n",
      "  warn('Non-stationary starting autoregressive parameters'\n",
      "C:\\Users\\preet\\anaconda3\\lib\\site-packages\\statsmodels\\tsa\\statespace\\sarimax.py:978: UserWarning: Non-invertible starting MA parameters found. Using zeros as starting parameters.\n",
      "  warn('Non-invertible starting MA parameters found.'\n",
      "C:\\Users\\preet\\anaconda3\\lib\\site-packages\\statsmodels\\base\\model.py:604: ConvergenceWarning: Maximum Likelihood optimization failed to converge. Check mle_retvals\n",
      "  warnings.warn(\"Maximum Likelihood optimization failed to \"\n",
      "C:\\Users\\preet\\anaconda3\\lib\\site-packages\\statsmodels\\tsa\\base\\tsa_model.py:471: ValueWarning: A date index has been provided, but it has no associated frequency information and so will be ignored when e.g. forecasting.\n",
      "  self._init_dates(dates, freq)\n",
      "C:\\Users\\preet\\anaconda3\\lib\\site-packages\\statsmodels\\tsa\\base\\tsa_model.py:471: ValueWarning: A date index has been provided, but it has no associated frequency information and so will be ignored when e.g. forecasting.\n",
      "  self._init_dates(dates, freq)\n",
      "C:\\Users\\preet\\anaconda3\\lib\\site-packages\\statsmodels\\tsa\\statespace\\sarimax.py:966: UserWarning: Non-stationary starting autoregressive parameters found. Using zeros as starting parameters.\n",
      "  warn('Non-stationary starting autoregressive parameters'\n",
      "C:\\Users\\preet\\anaconda3\\lib\\site-packages\\statsmodels\\tsa\\statespace\\sarimax.py:978: UserWarning: Non-invertible starting MA parameters found. Using zeros as starting parameters.\n",
      "  warn('Non-invertible starting MA parameters found.'\n",
      "C:\\Users\\preet\\anaconda3\\lib\\site-packages\\statsmodels\\tsa\\statespace\\sarimax.py:1009: UserWarning: Non-invertible starting seasonal moving average Using zeros as starting parameters.\n",
      "  warn('Non-invertible starting seasonal moving average'\n"
     ]
    },
    {
     "name": "stdout",
     "output_type": "stream",
     "text": [
      "SARIMAX(2, 0, 1)x(1, 0, 0, 12) - AIC:534.3062394689789\n"
     ]
    },
    {
     "name": "stderr",
     "output_type": "stream",
     "text": [
      "C:\\Users\\preet\\anaconda3\\lib\\site-packages\\statsmodels\\base\\model.py:604: ConvergenceWarning: Maximum Likelihood optimization failed to converge. Check mle_retvals\n",
      "  warnings.warn(\"Maximum Likelihood optimization failed to \"\n",
      "C:\\Users\\preet\\anaconda3\\lib\\site-packages\\statsmodels\\tsa\\base\\tsa_model.py:471: ValueWarning: A date index has been provided, but it has no associated frequency information and so will be ignored when e.g. forecasting.\n",
      "  self._init_dates(dates, freq)\n",
      "C:\\Users\\preet\\anaconda3\\lib\\site-packages\\statsmodels\\tsa\\base\\tsa_model.py:471: ValueWarning: A date index has been provided, but it has no associated frequency information and so will be ignored when e.g. forecasting.\n",
      "  self._init_dates(dates, freq)\n",
      "C:\\Users\\preet\\anaconda3\\lib\\site-packages\\statsmodels\\tsa\\statespace\\sarimax.py:966: UserWarning: Non-stationary starting autoregressive parameters found. Using zeros as starting parameters.\n",
      "  warn('Non-stationary starting autoregressive parameters'\n",
      "C:\\Users\\preet\\anaconda3\\lib\\site-packages\\statsmodels\\tsa\\statespace\\sarimax.py:978: UserWarning: Non-invertible starting MA parameters found. Using zeros as starting parameters.\n",
      "  warn('Non-invertible starting MA parameters found.'\n"
     ]
    },
    {
     "name": "stdout",
     "output_type": "stream",
     "text": [
      "SARIMAX(2, 0, 1)x(1, 0, 1, 12) - AIC:534.5852644123459\n",
      "SARIMAX(2, 0, 1)x(1, 1, 0, 12) - AIC:414.5183898354645\n"
     ]
    },
    {
     "name": "stderr",
     "output_type": "stream",
     "text": [
      "C:\\Users\\preet\\anaconda3\\lib\\site-packages\\statsmodels\\tsa\\base\\tsa_model.py:471: ValueWarning: A date index has been provided, but it has no associated frequency information and so will be ignored when e.g. forecasting.\n",
      "  self._init_dates(dates, freq)\n",
      "C:\\Users\\preet\\anaconda3\\lib\\site-packages\\statsmodels\\tsa\\base\\tsa_model.py:471: ValueWarning: A date index has been provided, but it has no associated frequency information and so will be ignored when e.g. forecasting.\n",
      "  self._init_dates(dates, freq)\n",
      "C:\\Users\\preet\\anaconda3\\lib\\site-packages\\statsmodels\\tsa\\statespace\\sarimax.py:966: UserWarning: Non-stationary starting autoregressive parameters found. Using zeros as starting parameters.\n",
      "  warn('Non-stationary starting autoregressive parameters'\n",
      "C:\\Users\\preet\\anaconda3\\lib\\site-packages\\statsmodels\\tsa\\statespace\\sarimax.py:978: UserWarning: Non-invertible starting MA parameters found. Using zeros as starting parameters.\n",
      "  warn('Non-invertible starting MA parameters found.'\n",
      "C:\\Users\\preet\\anaconda3\\lib\\site-packages\\statsmodels\\tsa\\statespace\\sarimax.py:866: UserWarning: Too few observations to estimate starting parameters for seasonal ARMA. All parameters except for variances will be set to zeros.\n",
      "  warn('Too few observations to estimate starting parameters%s.'\n",
      "C:\\Users\\preet\\anaconda3\\lib\\site-packages\\statsmodels\\base\\model.py:604: ConvergenceWarning: Maximum Likelihood optimization failed to converge. Check mle_retvals\n",
      "  warnings.warn(\"Maximum Likelihood optimization failed to \"\n",
      "C:\\Users\\preet\\anaconda3\\lib\\site-packages\\statsmodels\\tsa\\base\\tsa_model.py:471: ValueWarning: A date index has been provided, but it has no associated frequency information and so will be ignored when e.g. forecasting.\n",
      "  self._init_dates(dates, freq)\n",
      "C:\\Users\\preet\\anaconda3\\lib\\site-packages\\statsmodels\\tsa\\base\\tsa_model.py:471: ValueWarning: A date index has been provided, but it has no associated frequency information and so will be ignored when e.g. forecasting.\n",
      "  self._init_dates(dates, freq)\n"
     ]
    },
    {
     "name": "stdout",
     "output_type": "stream",
     "text": [
      "SARIMAX(2, 0, 1)x(1, 1, 1, 12) - AIC:414.5673961580511\n"
     ]
    },
    {
     "name": "stderr",
     "output_type": "stream",
     "text": [
      "C:\\Users\\preet\\anaconda3\\lib\\site-packages\\statsmodels\\base\\model.py:604: ConvergenceWarning: Maximum Likelihood optimization failed to converge. Check mle_retvals\n",
      "  warnings.warn(\"Maximum Likelihood optimization failed to \"\n",
      "C:\\Users\\preet\\anaconda3\\lib\\site-packages\\statsmodels\\tsa\\base\\tsa_model.py:471: ValueWarning: A date index has been provided, but it has no associated frequency information and so will be ignored when e.g. forecasting.\n",
      "  self._init_dates(dates, freq)\n",
      "C:\\Users\\preet\\anaconda3\\lib\\site-packages\\statsmodels\\tsa\\base\\tsa_model.py:471: ValueWarning: A date index has been provided, but it has no associated frequency information and so will be ignored when e.g. forecasting.\n",
      "  self._init_dates(dates, freq)\n",
      "C:\\Users\\preet\\anaconda3\\lib\\site-packages\\statsmodels\\tsa\\statespace\\sarimax.py:1009: UserWarning: Non-invertible starting seasonal moving average Using zeros as starting parameters.\n",
      "  warn('Non-invertible starting seasonal moving average'\n"
     ]
    },
    {
     "name": "stdout",
     "output_type": "stream",
     "text": [
      "SARIMAX(2, 0, 2)x(0, 0, 0, 12) - AIC:524.7555841374567\n"
     ]
    },
    {
     "name": "stderr",
     "output_type": "stream",
     "text": [
      "C:\\Users\\preet\\anaconda3\\lib\\site-packages\\statsmodels\\base\\model.py:604: ConvergenceWarning: Maximum Likelihood optimization failed to converge. Check mle_retvals\n",
      "  warnings.warn(\"Maximum Likelihood optimization failed to \"\n",
      "C:\\Users\\preet\\anaconda3\\lib\\site-packages\\statsmodels\\tsa\\base\\tsa_model.py:471: ValueWarning: A date index has been provided, but it has no associated frequency information and so will be ignored when e.g. forecasting.\n",
      "  self._init_dates(dates, freq)\n",
      "C:\\Users\\preet\\anaconda3\\lib\\site-packages\\statsmodels\\tsa\\base\\tsa_model.py:471: ValueWarning: A date index has been provided, but it has no associated frequency information and so will be ignored when e.g. forecasting.\n",
      "  self._init_dates(dates, freq)\n"
     ]
    },
    {
     "name": "stdout",
     "output_type": "stream",
     "text": [
      "SARIMAX(2, 0, 2)x(0, 0, 1, 12) - AIC:526.4157387059058\n"
     ]
    },
    {
     "name": "stderr",
     "output_type": "stream",
     "text": [
      "C:\\Users\\preet\\anaconda3\\lib\\site-packages\\statsmodels\\base\\model.py:604: ConvergenceWarning: Maximum Likelihood optimization failed to converge. Check mle_retvals\n",
      "  warnings.warn(\"Maximum Likelihood optimization failed to \"\n",
      "C:\\Users\\preet\\anaconda3\\lib\\site-packages\\statsmodels\\tsa\\base\\tsa_model.py:471: ValueWarning: A date index has been provided, but it has no associated frequency information and so will be ignored when e.g. forecasting.\n",
      "  self._init_dates(dates, freq)\n",
      "C:\\Users\\preet\\anaconda3\\lib\\site-packages\\statsmodels\\tsa\\base\\tsa_model.py:471: ValueWarning: A date index has been provided, but it has no associated frequency information and so will be ignored when e.g. forecasting.\n",
      "  self._init_dates(dates, freq)\n",
      "C:\\Users\\preet\\anaconda3\\lib\\site-packages\\statsmodels\\tsa\\statespace\\sarimax.py:866: UserWarning: Too few observations to estimate starting parameters for seasonal ARMA. All parameters except for variances will be set to zeros.\n",
      "  warn('Too few observations to estimate starting parameters%s.'\n"
     ]
    },
    {
     "name": "stdout",
     "output_type": "stream",
     "text": [
      "SARIMAX(2, 0, 2)x(0, 1, 0, 12) - AIC:415.0142398005029\n"
     ]
    },
    {
     "name": "stderr",
     "output_type": "stream",
     "text": [
      "C:\\Users\\preet\\anaconda3\\lib\\site-packages\\statsmodels\\base\\model.py:604: ConvergenceWarning: Maximum Likelihood optimization failed to converge. Check mle_retvals\n",
      "  warnings.warn(\"Maximum Likelihood optimization failed to \"\n",
      "C:\\Users\\preet\\anaconda3\\lib\\site-packages\\statsmodels\\tsa\\base\\tsa_model.py:471: ValueWarning: A date index has been provided, but it has no associated frequency information and so will be ignored when e.g. forecasting.\n",
      "  self._init_dates(dates, freq)\n",
      "C:\\Users\\preet\\anaconda3\\lib\\site-packages\\statsmodels\\tsa\\base\\tsa_model.py:471: ValueWarning: A date index has been provided, but it has no associated frequency information and so will be ignored when e.g. forecasting.\n",
      "  self._init_dates(dates, freq)\n"
     ]
    },
    {
     "name": "stdout",
     "output_type": "stream",
     "text": [
      "SARIMAX(2, 0, 2)x(0, 1, 1, 12) - AIC:415.02380532804096\n"
     ]
    },
    {
     "name": "stderr",
     "output_type": "stream",
     "text": [
      "C:\\Users\\preet\\anaconda3\\lib\\site-packages\\statsmodels\\base\\model.py:604: ConvergenceWarning: Maximum Likelihood optimization failed to converge. Check mle_retvals\n",
      "  warnings.warn(\"Maximum Likelihood optimization failed to \"\n",
      "C:\\Users\\preet\\anaconda3\\lib\\site-packages\\statsmodels\\tsa\\base\\tsa_model.py:471: ValueWarning: A date index has been provided, but it has no associated frequency information and so will be ignored when e.g. forecasting.\n",
      "  self._init_dates(dates, freq)\n",
      "C:\\Users\\preet\\anaconda3\\lib\\site-packages\\statsmodels\\tsa\\base\\tsa_model.py:471: ValueWarning: A date index has been provided, but it has no associated frequency information and so will be ignored when e.g. forecasting.\n",
      "  self._init_dates(dates, freq)\n",
      "C:\\Users\\preet\\anaconda3\\lib\\site-packages\\statsmodels\\tsa\\statespace\\sarimax.py:1009: UserWarning: Non-invertible starting seasonal moving average Using zeros as starting parameters.\n",
      "  warn('Non-invertible starting seasonal moving average'\n"
     ]
    },
    {
     "name": "stdout",
     "output_type": "stream",
     "text": [
      "SARIMAX(2, 0, 2)x(1, 0, 0, 12) - AIC:527.6755162861091\n"
     ]
    },
    {
     "name": "stderr",
     "output_type": "stream",
     "text": [
      "C:\\Users\\preet\\anaconda3\\lib\\site-packages\\statsmodels\\base\\model.py:604: ConvergenceWarning: Maximum Likelihood optimization failed to converge. Check mle_retvals\n",
      "  warnings.warn(\"Maximum Likelihood optimization failed to \"\n",
      "C:\\Users\\preet\\anaconda3\\lib\\site-packages\\statsmodels\\tsa\\base\\tsa_model.py:471: ValueWarning: A date index has been provided, but it has no associated frequency information and so will be ignored when e.g. forecasting.\n",
      "  self._init_dates(dates, freq)\n",
      "C:\\Users\\preet\\anaconda3\\lib\\site-packages\\statsmodels\\tsa\\base\\tsa_model.py:471: ValueWarning: A date index has been provided, but it has no associated frequency information and so will be ignored when e.g. forecasting.\n",
      "  self._init_dates(dates, freq)\n"
     ]
    },
    {
     "name": "stdout",
     "output_type": "stream",
     "text": [
      "SARIMAX(2, 0, 2)x(1, 0, 1, 12) - AIC:532.4881103621865\n",
      "SARIMAX(2, 0, 2)x(1, 1, 0, 12) - AIC:415.80325937133887\n"
     ]
    },
    {
     "name": "stderr",
     "output_type": "stream",
     "text": [
      "C:\\Users\\preet\\anaconda3\\lib\\site-packages\\statsmodels\\tsa\\base\\tsa_model.py:471: ValueWarning: A date index has been provided, but it has no associated frequency information and so will be ignored when e.g. forecasting.\n",
      "  self._init_dates(dates, freq)\n",
      "C:\\Users\\preet\\anaconda3\\lib\\site-packages\\statsmodels\\tsa\\base\\tsa_model.py:471: ValueWarning: A date index has been provided, but it has no associated frequency information and so will be ignored when e.g. forecasting.\n",
      "  self._init_dates(dates, freq)\n",
      "C:\\Users\\preet\\anaconda3\\lib\\site-packages\\statsmodels\\tsa\\statespace\\sarimax.py:866: UserWarning: Too few observations to estimate starting parameters for seasonal ARMA. All parameters except for variances will be set to zeros.\n",
      "  warn('Too few observations to estimate starting parameters%s.'\n",
      "C:\\Users\\preet\\anaconda3\\lib\\site-packages\\statsmodels\\base\\model.py:604: ConvergenceWarning: Maximum Likelihood optimization failed to converge. Check mle_retvals\n",
      "  warnings.warn(\"Maximum Likelihood optimization failed to \"\n",
      "C:\\Users\\preet\\anaconda3\\lib\\site-packages\\statsmodels\\tsa\\base\\tsa_model.py:471: ValueWarning: A date index has been provided, but it has no associated frequency information and so will be ignored when e.g. forecasting.\n",
      "  self._init_dates(dates, freq)\n",
      "C:\\Users\\preet\\anaconda3\\lib\\site-packages\\statsmodels\\tsa\\base\\tsa_model.py:471: ValueWarning: A date index has been provided, but it has no associated frequency information and so will be ignored when e.g. forecasting.\n",
      "  self._init_dates(dates, freq)\n"
     ]
    },
    {
     "name": "stdout",
     "output_type": "stream",
     "text": [
      "SARIMAX(2, 0, 2)x(1, 1, 1, 12) - AIC:416.4549508257288\n",
      "SARIMAX(2, 1, 0)x(0, 0, 0, 12) - AIC:514.5690101028049\n"
     ]
    },
    {
     "name": "stderr",
     "output_type": "stream",
     "text": [
      "C:\\Users\\preet\\anaconda3\\lib\\site-packages\\statsmodels\\tsa\\base\\tsa_model.py:471: ValueWarning: A date index has been provided, but it has no associated frequency information and so will be ignored when e.g. forecasting.\n",
      "  self._init_dates(dates, freq)\n",
      "C:\\Users\\preet\\anaconda3\\lib\\site-packages\\statsmodels\\tsa\\base\\tsa_model.py:471: ValueWarning: A date index has been provided, but it has no associated frequency information and so will be ignored when e.g. forecasting.\n",
      "  self._init_dates(dates, freq)\n",
      "C:\\Users\\preet\\anaconda3\\lib\\site-packages\\statsmodels\\tsa\\statespace\\sarimax.py:1009: UserWarning: Non-invertible starting seasonal moving average Using zeros as starting parameters.\n",
      "  warn('Non-invertible starting seasonal moving average'\n"
     ]
    },
    {
     "name": "stdout",
     "output_type": "stream",
     "text": [
      "SARIMAX(2, 1, 0)x(0, 0, 1, 12) - AIC:516.4014731722608\n"
     ]
    },
    {
     "name": "stderr",
     "output_type": "stream",
     "text": [
      "C:\\Users\\preet\\anaconda3\\lib\\site-packages\\statsmodels\\tsa\\base\\tsa_model.py:471: ValueWarning: A date index has been provided, but it has no associated frequency information and so will be ignored when e.g. forecasting.\n",
      "  self._init_dates(dates, freq)\n",
      "C:\\Users\\preet\\anaconda3\\lib\\site-packages\\statsmodels\\tsa\\base\\tsa_model.py:471: ValueWarning: A date index has been provided, but it has no associated frequency information and so will be ignored when e.g. forecasting.\n",
      "  self._init_dates(dates, freq)\n"
     ]
    },
    {
     "name": "stdout",
     "output_type": "stream",
     "text": [
      "SARIMAX(2, 1, 0)x(0, 1, 0, 12) - AIC:406.33443185106734\n"
     ]
    },
    {
     "name": "stderr",
     "output_type": "stream",
     "text": [
      "C:\\Users\\preet\\anaconda3\\lib\\site-packages\\statsmodels\\tsa\\base\\tsa_model.py:471: ValueWarning: A date index has been provided, but it has no associated frequency information and so will be ignored when e.g. forecasting.\n",
      "  self._init_dates(dates, freq)\n",
      "C:\\Users\\preet\\anaconda3\\lib\\site-packages\\statsmodels\\tsa\\base\\tsa_model.py:471: ValueWarning: A date index has been provided, but it has no associated frequency information and so will be ignored when e.g. forecasting.\n",
      "  self._init_dates(dates, freq)\n",
      "C:\\Users\\preet\\anaconda3\\lib\\site-packages\\statsmodels\\tsa\\statespace\\sarimax.py:866: UserWarning: Too few observations to estimate starting parameters for seasonal ARMA. All parameters except for variances will be set to zeros.\n",
      "  warn('Too few observations to estimate starting parameters%s.'\n"
     ]
    },
    {
     "name": "stdout",
     "output_type": "stream",
     "text": [
      "SARIMAX(2, 1, 0)x(0, 1, 1, 12) - AIC:408.0102827892696\n"
     ]
    },
    {
     "name": "stderr",
     "output_type": "stream",
     "text": [
      "C:\\Users\\preet\\anaconda3\\lib\\site-packages\\statsmodels\\tsa\\base\\tsa_model.py:471: ValueWarning: A date index has been provided, but it has no associated frequency information and so will be ignored when e.g. forecasting.\n",
      "  self._init_dates(dates, freq)\n",
      "C:\\Users\\preet\\anaconda3\\lib\\site-packages\\statsmodels\\tsa\\base\\tsa_model.py:471: ValueWarning: A date index has been provided, but it has no associated frequency information and so will be ignored when e.g. forecasting.\n",
      "  self._init_dates(dates, freq)\n"
     ]
    },
    {
     "name": "stdout",
     "output_type": "stream",
     "text": [
      "SARIMAX(2, 1, 0)x(1, 0, 0, 12) - AIC:516.526205956463\n"
     ]
    },
    {
     "name": "stderr",
     "output_type": "stream",
     "text": [
      "C:\\Users\\preet\\anaconda3\\lib\\site-packages\\statsmodels\\tsa\\base\\tsa_model.py:471: ValueWarning: A date index has been provided, but it has no associated frequency information and so will be ignored when e.g. forecasting.\n",
      "  self._init_dates(dates, freq)\n",
      "C:\\Users\\preet\\anaconda3\\lib\\site-packages\\statsmodels\\tsa\\base\\tsa_model.py:471: ValueWarning: A date index has been provided, but it has no associated frequency information and so will be ignored when e.g. forecasting.\n",
      "  self._init_dates(dates, freq)\n",
      "C:\\Users\\preet\\anaconda3\\lib\\site-packages\\statsmodels\\tsa\\statespace\\sarimax.py:1009: UserWarning: Non-invertible starting seasonal moving average Using zeros as starting parameters.\n",
      "  warn('Non-invertible starting seasonal moving average'\n",
      "C:\\Users\\preet\\anaconda3\\lib\\site-packages\\statsmodels\\base\\model.py:604: ConvergenceWarning: Maximum Likelihood optimization failed to converge. Check mle_retvals\n",
      "  warnings.warn(\"Maximum Likelihood optimization failed to \"\n",
      "C:\\Users\\preet\\anaconda3\\lib\\site-packages\\statsmodels\\tsa\\base\\tsa_model.py:471: ValueWarning: A date index has been provided, but it has no associated frequency information and so will be ignored when e.g. forecasting.\n",
      "  self._init_dates(dates, freq)\n",
      "C:\\Users\\preet\\anaconda3\\lib\\site-packages\\statsmodels\\tsa\\base\\tsa_model.py:471: ValueWarning: A date index has been provided, but it has no associated frequency information and so will be ignored when e.g. forecasting.\n",
      "  self._init_dates(dates, freq)\n"
     ]
    },
    {
     "name": "stdout",
     "output_type": "stream",
     "text": [
      "SARIMAX(2, 1, 0)x(1, 0, 1, 12) - AIC:516.5424110552885\n",
      "SARIMAX(2, 1, 0)x(1, 1, 0, 12) - AIC:408.20186548685075\n"
     ]
    },
    {
     "name": "stderr",
     "output_type": "stream",
     "text": [
      "C:\\Users\\preet\\anaconda3\\lib\\site-packages\\statsmodels\\tsa\\base\\tsa_model.py:471: ValueWarning: A date index has been provided, but it has no associated frequency information and so will be ignored when e.g. forecasting.\n",
      "  self._init_dates(dates, freq)\n",
      "C:\\Users\\preet\\anaconda3\\lib\\site-packages\\statsmodels\\tsa\\base\\tsa_model.py:471: ValueWarning: A date index has been provided, but it has no associated frequency information and so will be ignored when e.g. forecasting.\n",
      "  self._init_dates(dates, freq)\n",
      "C:\\Users\\preet\\anaconda3\\lib\\site-packages\\statsmodels\\tsa\\statespace\\sarimax.py:866: UserWarning: Too few observations to estimate starting parameters for seasonal ARMA. All parameters except for variances will be set to zeros.\n",
      "  warn('Too few observations to estimate starting parameters%s.'\n",
      "C:\\Users\\preet\\anaconda3\\lib\\site-packages\\statsmodels\\base\\model.py:604: ConvergenceWarning: Maximum Likelihood optimization failed to converge. Check mle_retvals\n",
      "  warnings.warn(\"Maximum Likelihood optimization failed to \"\n",
      "C:\\Users\\preet\\anaconda3\\lib\\site-packages\\statsmodels\\tsa\\base\\tsa_model.py:471: ValueWarning: A date index has been provided, but it has no associated frequency information and so will be ignored when e.g. forecasting.\n",
      "  self._init_dates(dates, freq)\n",
      "C:\\Users\\preet\\anaconda3\\lib\\site-packages\\statsmodels\\tsa\\base\\tsa_model.py:471: ValueWarning: A date index has been provided, but it has no associated frequency information and so will be ignored when e.g. forecasting.\n",
      "  self._init_dates(dates, freq)\n"
     ]
    },
    {
     "name": "stdout",
     "output_type": "stream",
     "text": [
      "SARIMAX(2, 1, 0)x(1, 1, 1, 12) - AIC:409.1860017281691\n",
      "SARIMAX(2, 1, 1)x(0, 0, 0, 12) - AIC:516.4405622252954\n"
     ]
    },
    {
     "name": "stderr",
     "output_type": "stream",
     "text": [
      "C:\\Users\\preet\\anaconda3\\lib\\site-packages\\statsmodels\\tsa\\base\\tsa_model.py:471: ValueWarning: A date index has been provided, but it has no associated frequency information and so will be ignored when e.g. forecasting.\n",
      "  self._init_dates(dates, freq)\n",
      "C:\\Users\\preet\\anaconda3\\lib\\site-packages\\statsmodels\\tsa\\base\\tsa_model.py:471: ValueWarning: A date index has been provided, but it has no associated frequency information and so will be ignored when e.g. forecasting.\n",
      "  self._init_dates(dates, freq)\n",
      "C:\\Users\\preet\\anaconda3\\lib\\site-packages\\statsmodels\\tsa\\statespace\\sarimax.py:1009: UserWarning: Non-invertible starting seasonal moving average Using zeros as starting parameters.\n",
      "  warn('Non-invertible starting seasonal moving average'\n",
      "C:\\Users\\preet\\anaconda3\\lib\\site-packages\\statsmodels\\base\\model.py:604: ConvergenceWarning: Maximum Likelihood optimization failed to converge. Check mle_retvals\n",
      "  warnings.warn(\"Maximum Likelihood optimization failed to \"\n",
      "C:\\Users\\preet\\anaconda3\\lib\\site-packages\\statsmodels\\tsa\\base\\tsa_model.py:471: ValueWarning: A date index has been provided, but it has no associated frequency information and so will be ignored when e.g. forecasting.\n",
      "  self._init_dates(dates, freq)\n",
      "C:\\Users\\preet\\anaconda3\\lib\\site-packages\\statsmodels\\tsa\\base\\tsa_model.py:471: ValueWarning: A date index has been provided, but it has no associated frequency information and so will be ignored when e.g. forecasting.\n",
      "  self._init_dates(dates, freq)\n"
     ]
    },
    {
     "name": "stdout",
     "output_type": "stream",
     "text": [
      "SARIMAX(2, 1, 1)x(0, 0, 1, 12) - AIC:510.37765701546493\n",
      "SARIMAX(2, 1, 1)x(0, 1, 0, 12) - AIC:406.6812883725927\n"
     ]
    },
    {
     "name": "stderr",
     "output_type": "stream",
     "text": [
      "C:\\Users\\preet\\anaconda3\\lib\\site-packages\\statsmodels\\tsa\\base\\tsa_model.py:471: ValueWarning: A date index has been provided, but it has no associated frequency information and so will be ignored when e.g. forecasting.\n",
      "  self._init_dates(dates, freq)\n",
      "C:\\Users\\preet\\anaconda3\\lib\\site-packages\\statsmodels\\tsa\\base\\tsa_model.py:471: ValueWarning: A date index has been provided, but it has no associated frequency information and so will be ignored when e.g. forecasting.\n",
      "  self._init_dates(dates, freq)\n",
      "C:\\Users\\preet\\anaconda3\\lib\\site-packages\\statsmodels\\tsa\\statespace\\sarimax.py:866: UserWarning: Too few observations to estimate starting parameters for seasonal ARMA. All parameters except for variances will be set to zeros.\n",
      "  warn('Too few observations to estimate starting parameters%s.'\n"
     ]
    },
    {
     "name": "stdout",
     "output_type": "stream",
     "text": [
      "SARIMAX(2, 1, 1)x(0, 1, 1, 12) - AIC:408.60078016938894\n"
     ]
    },
    {
     "name": "stderr",
     "output_type": "stream",
     "text": [
      "C:\\Users\\preet\\anaconda3\\lib\\site-packages\\statsmodels\\tsa\\base\\tsa_model.py:471: ValueWarning: A date index has been provided, but it has no associated frequency information and so will be ignored when e.g. forecasting.\n",
      "  self._init_dates(dates, freq)\n",
      "C:\\Users\\preet\\anaconda3\\lib\\site-packages\\statsmodels\\tsa\\base\\tsa_model.py:471: ValueWarning: A date index has been provided, but it has no associated frequency information and so will be ignored when e.g. forecasting.\n",
      "  self._init_dates(dates, freq)\n"
     ]
    },
    {
     "name": "stdout",
     "output_type": "stream",
     "text": [
      "SARIMAX(2, 1, 1)x(1, 0, 0, 12) - AIC:518.4281270074091\n"
     ]
    },
    {
     "name": "stderr",
     "output_type": "stream",
     "text": [
      "C:\\Users\\preet\\anaconda3\\lib\\site-packages\\statsmodels\\tsa\\base\\tsa_model.py:471: ValueWarning: A date index has been provided, but it has no associated frequency information and so will be ignored when e.g. forecasting.\n",
      "  self._init_dates(dates, freq)\n",
      "C:\\Users\\preet\\anaconda3\\lib\\site-packages\\statsmodels\\tsa\\base\\tsa_model.py:471: ValueWarning: A date index has been provided, but it has no associated frequency information and so will be ignored when e.g. forecasting.\n",
      "  self._init_dates(dates, freq)\n",
      "C:\\Users\\preet\\anaconda3\\lib\\site-packages\\statsmodels\\tsa\\statespace\\sarimax.py:1009: UserWarning: Non-invertible starting seasonal moving average Using zeros as starting parameters.\n",
      "  warn('Non-invertible starting seasonal moving average'\n",
      "C:\\Users\\preet\\anaconda3\\lib\\site-packages\\statsmodels\\base\\model.py:604: ConvergenceWarning: Maximum Likelihood optimization failed to converge. Check mle_retvals\n",
      "  warnings.warn(\"Maximum Likelihood optimization failed to \"\n",
      "C:\\Users\\preet\\anaconda3\\lib\\site-packages\\statsmodels\\tsa\\base\\tsa_model.py:471: ValueWarning: A date index has been provided, but it has no associated frequency information and so will be ignored when e.g. forecasting.\n",
      "  self._init_dates(dates, freq)\n",
      "C:\\Users\\preet\\anaconda3\\lib\\site-packages\\statsmodels\\tsa\\base\\tsa_model.py:471: ValueWarning: A date index has been provided, but it has no associated frequency information and so will be ignored when e.g. forecasting.\n",
      "  self._init_dates(dates, freq)\n"
     ]
    },
    {
     "name": "stdout",
     "output_type": "stream",
     "text": [
      "SARIMAX(2, 1, 1)x(1, 0, 1, 12) - AIC:512.9783729645626\n",
      "SARIMAX(2, 1, 1)x(1, 1, 0, 12) - AIC:408.64091821695393\n"
     ]
    },
    {
     "name": "stderr",
     "output_type": "stream",
     "text": [
      "C:\\Users\\preet\\anaconda3\\lib\\site-packages\\statsmodels\\tsa\\base\\tsa_model.py:471: ValueWarning: A date index has been provided, but it has no associated frequency information and so will be ignored when e.g. forecasting.\n",
      "  self._init_dates(dates, freq)\n",
      "C:\\Users\\preet\\anaconda3\\lib\\site-packages\\statsmodels\\tsa\\base\\tsa_model.py:471: ValueWarning: A date index has been provided, but it has no associated frequency information and so will be ignored when e.g. forecasting.\n",
      "  self._init_dates(dates, freq)\n",
      "C:\\Users\\preet\\anaconda3\\lib\\site-packages\\statsmodels\\tsa\\statespace\\sarimax.py:866: UserWarning: Too few observations to estimate starting parameters for seasonal ARMA. All parameters except for variances will be set to zeros.\n",
      "  warn('Too few observations to estimate starting parameters%s.'\n",
      "C:\\Users\\preet\\anaconda3\\lib\\site-packages\\statsmodels\\base\\model.py:604: ConvergenceWarning: Maximum Likelihood optimization failed to converge. Check mle_retvals\n",
      "  warnings.warn(\"Maximum Likelihood optimization failed to \"\n",
      "C:\\Users\\preet\\anaconda3\\lib\\site-packages\\statsmodels\\tsa\\base\\tsa_model.py:471: ValueWarning: A date index has been provided, but it has no associated frequency information and so will be ignored when e.g. forecasting.\n",
      "  self._init_dates(dates, freq)\n",
      "C:\\Users\\preet\\anaconda3\\lib\\site-packages\\statsmodels\\tsa\\base\\tsa_model.py:471: ValueWarning: A date index has been provided, but it has no associated frequency information and so will be ignored when e.g. forecasting.\n",
      "  self._init_dates(dates, freq)\n"
     ]
    },
    {
     "name": "stdout",
     "output_type": "stream",
     "text": [
      "SARIMAX(2, 1, 1)x(1, 1, 1, 12) - AIC:410.07430017039786\n",
      "SARIMAX(2, 1, 2)x(0, 0, 0, 12) - AIC:509.14065379576874\n"
     ]
    },
    {
     "name": "stderr",
     "output_type": "stream",
     "text": [
      "C:\\Users\\preet\\anaconda3\\lib\\site-packages\\statsmodels\\tsa\\base\\tsa_model.py:471: ValueWarning: A date index has been provided, but it has no associated frequency information and so will be ignored when e.g. forecasting.\n",
      "  self._init_dates(dates, freq)\n",
      "C:\\Users\\preet\\anaconda3\\lib\\site-packages\\statsmodels\\tsa\\base\\tsa_model.py:471: ValueWarning: A date index has been provided, but it has no associated frequency information and so will be ignored when e.g. forecasting.\n",
      "  self._init_dates(dates, freq)\n",
      "C:\\Users\\preet\\anaconda3\\lib\\site-packages\\statsmodels\\tsa\\statespace\\sarimax.py:1009: UserWarning: Non-invertible starting seasonal moving average Using zeros as starting parameters.\n",
      "  warn('Non-invertible starting seasonal moving average'\n"
     ]
    },
    {
     "name": "stdout",
     "output_type": "stream",
     "text": [
      "SARIMAX(2, 1, 2)x(0, 0, 1, 12) - AIC:509.5119879290383\n"
     ]
    },
    {
     "name": "stderr",
     "output_type": "stream",
     "text": [
      "C:\\Users\\preet\\anaconda3\\lib\\site-packages\\statsmodels\\tsa\\base\\tsa_model.py:471: ValueWarning: A date index has been provided, but it has no associated frequency information and so will be ignored when e.g. forecasting.\n",
      "  self._init_dates(dates, freq)\n",
      "C:\\Users\\preet\\anaconda3\\lib\\site-packages\\statsmodels\\tsa\\base\\tsa_model.py:471: ValueWarning: A date index has been provided, but it has no associated frequency information and so will be ignored when e.g. forecasting.\n",
      "  self._init_dates(dates, freq)\n"
     ]
    },
    {
     "name": "stdout",
     "output_type": "stream",
     "text": [
      "SARIMAX(2, 1, 2)x(0, 1, 0, 12) - AIC:399.3859508024308\n"
     ]
    },
    {
     "name": "stderr",
     "output_type": "stream",
     "text": [
      "C:\\Users\\preet\\anaconda3\\lib\\site-packages\\statsmodels\\tsa\\base\\tsa_model.py:471: ValueWarning: A date index has been provided, but it has no associated frequency information and so will be ignored when e.g. forecasting.\n",
      "  self._init_dates(dates, freq)\n",
      "C:\\Users\\preet\\anaconda3\\lib\\site-packages\\statsmodels\\tsa\\base\\tsa_model.py:471: ValueWarning: A date index has been provided, but it has no associated frequency information and so will be ignored when e.g. forecasting.\n",
      "  self._init_dates(dates, freq)\n",
      "C:\\Users\\preet\\anaconda3\\lib\\site-packages\\statsmodels\\tsa\\statespace\\sarimax.py:866: UserWarning: Too few observations to estimate starting parameters for seasonal ARMA. All parameters except for variances will be set to zeros.\n",
      "  warn('Too few observations to estimate starting parameters%s.'\n",
      "C:\\Users\\preet\\anaconda3\\lib\\site-packages\\statsmodels\\base\\model.py:604: ConvergenceWarning: Maximum Likelihood optimization failed to converge. Check mle_retvals\n",
      "  warnings.warn(\"Maximum Likelihood optimization failed to \"\n",
      "C:\\Users\\preet\\anaconda3\\lib\\site-packages\\statsmodels\\tsa\\base\\tsa_model.py:471: ValueWarning: A date index has been provided, but it has no associated frequency information and so will be ignored when e.g. forecasting.\n",
      "  self._init_dates(dates, freq)\n",
      "C:\\Users\\preet\\anaconda3\\lib\\site-packages\\statsmodels\\tsa\\base\\tsa_model.py:471: ValueWarning: A date index has been provided, but it has no associated frequency information and so will be ignored when e.g. forecasting.\n",
      "  self._init_dates(dates, freq)\n"
     ]
    },
    {
     "name": "stdout",
     "output_type": "stream",
     "text": [
      "SARIMAX(2, 1, 2)x(0, 1, 1, 12) - AIC:401.3212455884104\n"
     ]
    },
    {
     "name": "stderr",
     "output_type": "stream",
     "text": [
      "C:\\Users\\preet\\anaconda3\\lib\\site-packages\\statsmodels\\base\\model.py:604: ConvergenceWarning: Maximum Likelihood optimization failed to converge. Check mle_retvals\n",
      "  warnings.warn(\"Maximum Likelihood optimization failed to \"\n",
      "C:\\Users\\preet\\anaconda3\\lib\\site-packages\\statsmodels\\tsa\\base\\tsa_model.py:471: ValueWarning: A date index has been provided, but it has no associated frequency information and so will be ignored when e.g. forecasting.\n",
      "  self._init_dates(dates, freq)\n",
      "C:\\Users\\preet\\anaconda3\\lib\\site-packages\\statsmodels\\tsa\\base\\tsa_model.py:471: ValueWarning: A date index has been provided, but it has no associated frequency information and so will be ignored when e.g. forecasting.\n",
      "  self._init_dates(dates, freq)\n",
      "C:\\Users\\preet\\anaconda3\\lib\\site-packages\\statsmodels\\tsa\\statespace\\sarimax.py:1009: UserWarning: Non-invertible starting seasonal moving average Using zeros as starting parameters.\n",
      "  warn('Non-invertible starting seasonal moving average'\n"
     ]
    },
    {
     "name": "stdout",
     "output_type": "stream",
     "text": [
      "SARIMAX(2, 1, 2)x(1, 0, 0, 12) - AIC:510.50128065513036\n"
     ]
    },
    {
     "name": "stderr",
     "output_type": "stream",
     "text": [
      "C:\\Users\\preet\\anaconda3\\lib\\site-packages\\statsmodels\\base\\model.py:604: ConvergenceWarning: Maximum Likelihood optimization failed to converge. Check mle_retvals\n",
      "  warnings.warn(\"Maximum Likelihood optimization failed to \"\n",
      "C:\\Users\\preet\\anaconda3\\lib\\site-packages\\statsmodels\\tsa\\base\\tsa_model.py:471: ValueWarning: A date index has been provided, but it has no associated frequency information and so will be ignored when e.g. forecasting.\n",
      "  self._init_dates(dates, freq)\n",
      "C:\\Users\\preet\\anaconda3\\lib\\site-packages\\statsmodels\\tsa\\base\\tsa_model.py:471: ValueWarning: A date index has been provided, but it has no associated frequency information and so will be ignored when e.g. forecasting.\n",
      "  self._init_dates(dates, freq)\n"
     ]
    },
    {
     "name": "stdout",
     "output_type": "stream",
     "text": [
      "SARIMAX(2, 1, 2)x(1, 0, 1, 12) - AIC:510.9108030129719\n"
     ]
    },
    {
     "name": "stderr",
     "output_type": "stream",
     "text": [
      "C:\\Users\\preet\\anaconda3\\lib\\site-packages\\statsmodels\\base\\model.py:604: ConvergenceWarning: Maximum Likelihood optimization failed to converge. Check mle_retvals\n",
      "  warnings.warn(\"Maximum Likelihood optimization failed to \"\n",
      "C:\\Users\\preet\\anaconda3\\lib\\site-packages\\statsmodels\\tsa\\base\\tsa_model.py:471: ValueWarning: A date index has been provided, but it has no associated frequency information and so will be ignored when e.g. forecasting.\n",
      "  self._init_dates(dates, freq)\n",
      "C:\\Users\\preet\\anaconda3\\lib\\site-packages\\statsmodels\\tsa\\base\\tsa_model.py:471: ValueWarning: A date index has been provided, but it has no associated frequency information and so will be ignored when e.g. forecasting.\n",
      "  self._init_dates(dates, freq)\n",
      "C:\\Users\\preet\\anaconda3\\lib\\site-packages\\statsmodels\\tsa\\statespace\\sarimax.py:866: UserWarning: Too few observations to estimate starting parameters for seasonal ARMA. All parameters except for variances will be set to zeros.\n",
      "  warn('Too few observations to estimate starting parameters%s.'\n"
     ]
    },
    {
     "name": "stdout",
     "output_type": "stream",
     "text": [
      "SARIMAX(2, 1, 2)x(1, 1, 0, 12) - AIC:401.3022333989636\n"
     ]
    },
    {
     "name": "stderr",
     "output_type": "stream",
     "text": [
      "C:\\Users\\preet\\anaconda3\\lib\\site-packages\\statsmodels\\base\\model.py:604: ConvergenceWarning: Maximum Likelihood optimization failed to converge. Check mle_retvals\n",
      "  warnings.warn(\"Maximum Likelihood optimization failed to \"\n",
      "C:\\Users\\preet\\anaconda3\\lib\\site-packages\\statsmodels\\tsa\\base\\tsa_model.py:471: ValueWarning: A date index has been provided, but it has no associated frequency information and so will be ignored when e.g. forecasting.\n",
      "  self._init_dates(dates, freq)\n",
      "C:\\Users\\preet\\anaconda3\\lib\\site-packages\\statsmodels\\tsa\\base\\tsa_model.py:471: ValueWarning: A date index has been provided, but it has no associated frequency information and so will be ignored when e.g. forecasting.\n",
      "  self._init_dates(dates, freq)\n"
     ]
    },
    {
     "name": "stdout",
     "output_type": "stream",
     "text": [
      "SARIMAX(2, 1, 2)x(1, 1, 1, 12) - AIC:402.93660546290636\n",
      "SARIMAX(2, 2, 0)x(0, 0, 0, 12) - AIC:519.776936896312\n"
     ]
    },
    {
     "name": "stderr",
     "output_type": "stream",
     "text": [
      "C:\\Users\\preet\\anaconda3\\lib\\site-packages\\statsmodels\\tsa\\base\\tsa_model.py:471: ValueWarning: A date index has been provided, but it has no associated frequency information and so will be ignored when e.g. forecasting.\n",
      "  self._init_dates(dates, freq)\n",
      "C:\\Users\\preet\\anaconda3\\lib\\site-packages\\statsmodels\\tsa\\base\\tsa_model.py:471: ValueWarning: A date index has been provided, but it has no associated frequency information and so will be ignored when e.g. forecasting.\n",
      "  self._init_dates(dates, freq)\n",
      "C:\\Users\\preet\\anaconda3\\lib\\site-packages\\statsmodels\\tsa\\statespace\\sarimax.py:1009: UserWarning: Non-invertible starting seasonal moving average Using zeros as starting parameters.\n",
      "  warn('Non-invertible starting seasonal moving average'\n"
     ]
    },
    {
     "name": "stdout",
     "output_type": "stream",
     "text": [
      "SARIMAX(2, 2, 0)x(0, 0, 1, 12) - AIC:521.3362669989098\n"
     ]
    },
    {
     "name": "stderr",
     "output_type": "stream",
     "text": [
      "C:\\Users\\preet\\anaconda3\\lib\\site-packages\\statsmodels\\tsa\\base\\tsa_model.py:471: ValueWarning: A date index has been provided, but it has no associated frequency information and so will be ignored when e.g. forecasting.\n",
      "  self._init_dates(dates, freq)\n",
      "C:\\Users\\preet\\anaconda3\\lib\\site-packages\\statsmodels\\tsa\\base\\tsa_model.py:471: ValueWarning: A date index has been provided, but it has no associated frequency information and so will be ignored when e.g. forecasting.\n",
      "  self._init_dates(dates, freq)\n"
     ]
    },
    {
     "name": "stdout",
     "output_type": "stream",
     "text": [
      "SARIMAX(2, 2, 0)x(0, 1, 0, 12) - AIC:403.6466113241884\n"
     ]
    },
    {
     "name": "stderr",
     "output_type": "stream",
     "text": [
      "C:\\Users\\preet\\anaconda3\\lib\\site-packages\\statsmodels\\tsa\\base\\tsa_model.py:471: ValueWarning: A date index has been provided, but it has no associated frequency information and so will be ignored when e.g. forecasting.\n",
      "  self._init_dates(dates, freq)\n",
      "C:\\Users\\preet\\anaconda3\\lib\\site-packages\\statsmodels\\tsa\\base\\tsa_model.py:471: ValueWarning: A date index has been provided, but it has no associated frequency information and so will be ignored when e.g. forecasting.\n",
      "  self._init_dates(dates, freq)\n",
      "C:\\Users\\preet\\anaconda3\\lib\\site-packages\\statsmodels\\tsa\\statespace\\sarimax.py:866: UserWarning: Too few observations to estimate starting parameters for seasonal ARMA. All parameters except for variances will be set to zeros.\n",
      "  warn('Too few observations to estimate starting parameters%s.'\n"
     ]
    },
    {
     "name": "stdout",
     "output_type": "stream",
     "text": [
      "SARIMAX(2, 2, 0)x(0, 1, 1, 12) - AIC:405.1309247678625\n"
     ]
    },
    {
     "name": "stderr",
     "output_type": "stream",
     "text": [
      "C:\\Users\\preet\\anaconda3\\lib\\site-packages\\statsmodels\\tsa\\base\\tsa_model.py:471: ValueWarning: A date index has been provided, but it has no associated frequency information and so will be ignored when e.g. forecasting.\n",
      "  self._init_dates(dates, freq)\n",
      "C:\\Users\\preet\\anaconda3\\lib\\site-packages\\statsmodels\\tsa\\base\\tsa_model.py:471: ValueWarning: A date index has been provided, but it has no associated frequency information and so will be ignored when e.g. forecasting.\n",
      "  self._init_dates(dates, freq)\n"
     ]
    },
    {
     "name": "stdout",
     "output_type": "stream",
     "text": [
      "SARIMAX(2, 2, 0)x(1, 0, 0, 12) - AIC:521.5982646122518\n"
     ]
    },
    {
     "name": "stderr",
     "output_type": "stream",
     "text": [
      "C:\\Users\\preet\\anaconda3\\lib\\site-packages\\statsmodels\\tsa\\base\\tsa_model.py:471: ValueWarning: A date index has been provided, but it has no associated frequency information and so will be ignored when e.g. forecasting.\n",
      "  self._init_dates(dates, freq)\n",
      "C:\\Users\\preet\\anaconda3\\lib\\site-packages\\statsmodels\\tsa\\base\\tsa_model.py:471: ValueWarning: A date index has been provided, but it has no associated frequency information and so will be ignored when e.g. forecasting.\n",
      "  self._init_dates(dates, freq)\n",
      "C:\\Users\\preet\\anaconda3\\lib\\site-packages\\statsmodels\\tsa\\statespace\\sarimax.py:1009: UserWarning: Non-invertible starting seasonal moving average Using zeros as starting parameters.\n",
      "  warn('Non-invertible starting seasonal moving average'\n",
      "C:\\Users\\preet\\anaconda3\\lib\\site-packages\\statsmodels\\base\\model.py:604: ConvergenceWarning: Maximum Likelihood optimization failed to converge. Check mle_retvals\n",
      "  warnings.warn(\"Maximum Likelihood optimization failed to \"\n",
      "C:\\Users\\preet\\anaconda3\\lib\\site-packages\\statsmodels\\tsa\\base\\tsa_model.py:471: ValueWarning: A date index has been provided, but it has no associated frequency information and so will be ignored when e.g. forecasting.\n",
      "  self._init_dates(dates, freq)\n",
      "C:\\Users\\preet\\anaconda3\\lib\\site-packages\\statsmodels\\tsa\\base\\tsa_model.py:471: ValueWarning: A date index has been provided, but it has no associated frequency information and so will be ignored when e.g. forecasting.\n",
      "  self._init_dates(dates, freq)\n"
     ]
    },
    {
     "name": "stdout",
     "output_type": "stream",
     "text": [
      "SARIMAX(2, 2, 0)x(1, 0, 1, 12) - AIC:521.2430640070971\n",
      "SARIMAX(2, 2, 0)x(1, 1, 0, 12) - AIC:405.3349835100121\n"
     ]
    },
    {
     "name": "stderr",
     "output_type": "stream",
     "text": [
      "C:\\Users\\preet\\anaconda3\\lib\\site-packages\\statsmodels\\tsa\\base\\tsa_model.py:471: ValueWarning: A date index has been provided, but it has no associated frequency information and so will be ignored when e.g. forecasting.\n",
      "  self._init_dates(dates, freq)\n",
      "C:\\Users\\preet\\anaconda3\\lib\\site-packages\\statsmodels\\tsa\\base\\tsa_model.py:471: ValueWarning: A date index has been provided, but it has no associated frequency information and so will be ignored when e.g. forecasting.\n",
      "  self._init_dates(dates, freq)\n",
      "C:\\Users\\preet\\anaconda3\\lib\\site-packages\\statsmodels\\tsa\\statespace\\sarimax.py:866: UserWarning: Too few observations to estimate starting parameters for seasonal ARMA. All parameters except for variances will be set to zeros.\n",
      "  warn('Too few observations to estimate starting parameters%s.'\n",
      "C:\\Users\\preet\\anaconda3\\lib\\site-packages\\statsmodels\\base\\model.py:604: ConvergenceWarning: Maximum Likelihood optimization failed to converge. Check mle_retvals\n",
      "  warnings.warn(\"Maximum Likelihood optimization failed to \"\n",
      "C:\\Users\\preet\\anaconda3\\lib\\site-packages\\statsmodels\\tsa\\base\\tsa_model.py:471: ValueWarning: A date index has been provided, but it has no associated frequency information and so will be ignored when e.g. forecasting.\n",
      "  self._init_dates(dates, freq)\n",
      "C:\\Users\\preet\\anaconda3\\lib\\site-packages\\statsmodels\\tsa\\base\\tsa_model.py:471: ValueWarning: A date index has been provided, but it has no associated frequency information and so will be ignored when e.g. forecasting.\n",
      "  self._init_dates(dates, freq)\n"
     ]
    },
    {
     "name": "stdout",
     "output_type": "stream",
     "text": [
      "SARIMAX(2, 2, 0)x(1, 1, 1, 12) - AIC:406.4100542521198\n",
      "SARIMAX(2, 2, 1)x(0, 0, 0, 12) - AIC:511.5862363773387\n"
     ]
    },
    {
     "name": "stderr",
     "output_type": "stream",
     "text": [
      "C:\\Users\\preet\\anaconda3\\lib\\site-packages\\statsmodels\\tsa\\base\\tsa_model.py:471: ValueWarning: A date index has been provided, but it has no associated frequency information and so will be ignored when e.g. forecasting.\n",
      "  self._init_dates(dates, freq)\n",
      "C:\\Users\\preet\\anaconda3\\lib\\site-packages\\statsmodels\\tsa\\base\\tsa_model.py:471: ValueWarning: A date index has been provided, but it has no associated frequency information and so will be ignored when e.g. forecasting.\n",
      "  self._init_dates(dates, freq)\n",
      "C:\\Users\\preet\\anaconda3\\lib\\site-packages\\statsmodels\\tsa\\statespace\\sarimax.py:1009: UserWarning: Non-invertible starting seasonal moving average Using zeros as starting parameters.\n",
      "  warn('Non-invertible starting seasonal moving average'\n"
     ]
    },
    {
     "name": "stdout",
     "output_type": "stream",
     "text": [
      "SARIMAX(2, 2, 1)x(0, 0, 1, 12) - AIC:513.5546686257015\n"
     ]
    },
    {
     "name": "stderr",
     "output_type": "stream",
     "text": [
      "C:\\Users\\preet\\anaconda3\\lib\\site-packages\\statsmodels\\tsa\\base\\tsa_model.py:471: ValueWarning: A date index has been provided, but it has no associated frequency information and so will be ignored when e.g. forecasting.\n",
      "  self._init_dates(dates, freq)\n",
      "C:\\Users\\preet\\anaconda3\\lib\\site-packages\\statsmodels\\tsa\\base\\tsa_model.py:471: ValueWarning: A date index has been provided, but it has no associated frequency information and so will be ignored when e.g. forecasting.\n",
      "  self._init_dates(dates, freq)\n"
     ]
    },
    {
     "name": "stdout",
     "output_type": "stream",
     "text": [
      "SARIMAX(2, 2, 1)x(0, 1, 0, 12) - AIC:402.1460803858689\n"
     ]
    },
    {
     "name": "stderr",
     "output_type": "stream",
     "text": [
      "C:\\Users\\preet\\anaconda3\\lib\\site-packages\\statsmodels\\tsa\\base\\tsa_model.py:471: ValueWarning: A date index has been provided, but it has no associated frequency information and so will be ignored when e.g. forecasting.\n",
      "  self._init_dates(dates, freq)\n",
      "C:\\Users\\preet\\anaconda3\\lib\\site-packages\\statsmodels\\tsa\\base\\tsa_model.py:471: ValueWarning: A date index has been provided, but it has no associated frequency information and so will be ignored when e.g. forecasting.\n",
      "  self._init_dates(dates, freq)\n",
      "C:\\Users\\preet\\anaconda3\\lib\\site-packages\\statsmodels\\tsa\\statespace\\sarimax.py:866: UserWarning: Too few observations to estimate starting parameters for seasonal ARMA. All parameters except for variances will be set to zeros.\n",
      "  warn('Too few observations to estimate starting parameters%s.'\n"
     ]
    },
    {
     "name": "stdout",
     "output_type": "stream",
     "text": [
      "SARIMAX(2, 2, 1)x(0, 1, 1, 12) - AIC:404.0419599428039\n"
     ]
    },
    {
     "name": "stderr",
     "output_type": "stream",
     "text": [
      "C:\\Users\\preet\\anaconda3\\lib\\site-packages\\statsmodels\\tsa\\base\\tsa_model.py:471: ValueWarning: A date index has been provided, but it has no associated frequency information and so will be ignored when e.g. forecasting.\n",
      "  self._init_dates(dates, freq)\n",
      "C:\\Users\\preet\\anaconda3\\lib\\site-packages\\statsmodels\\tsa\\base\\tsa_model.py:471: ValueWarning: A date index has been provided, but it has no associated frequency information and so will be ignored when e.g. forecasting.\n",
      "  self._init_dates(dates, freq)\n"
     ]
    },
    {
     "name": "stdout",
     "output_type": "stream",
     "text": [
      "SARIMAX(2, 2, 1)x(1, 0, 0, 12) - AIC:513.5776480034507\n"
     ]
    },
    {
     "name": "stderr",
     "output_type": "stream",
     "text": [
      "C:\\Users\\preet\\anaconda3\\lib\\site-packages\\statsmodels\\tsa\\base\\tsa_model.py:471: ValueWarning: A date index has been provided, but it has no associated frequency information and so will be ignored when e.g. forecasting.\n",
      "  self._init_dates(dates, freq)\n",
      "C:\\Users\\preet\\anaconda3\\lib\\site-packages\\statsmodels\\tsa\\base\\tsa_model.py:471: ValueWarning: A date index has been provided, but it has no associated frequency information and so will be ignored when e.g. forecasting.\n",
      "  self._init_dates(dates, freq)\n",
      "C:\\Users\\preet\\anaconda3\\lib\\site-packages\\statsmodels\\tsa\\statespace\\sarimax.py:1009: UserWarning: Non-invertible starting seasonal moving average Using zeros as starting parameters.\n",
      "  warn('Non-invertible starting seasonal moving average'\n",
      "C:\\Users\\preet\\anaconda3\\lib\\site-packages\\statsmodels\\base\\model.py:604: ConvergenceWarning: Maximum Likelihood optimization failed to converge. Check mle_retvals\n",
      "  warnings.warn(\"Maximum Likelihood optimization failed to \"\n",
      "C:\\Users\\preet\\anaconda3\\lib\\site-packages\\statsmodels\\tsa\\base\\tsa_model.py:471: ValueWarning: A date index has been provided, but it has no associated frequency information and so will be ignored when e.g. forecasting.\n",
      "  self._init_dates(dates, freq)\n",
      "C:\\Users\\preet\\anaconda3\\lib\\site-packages\\statsmodels\\tsa\\base\\tsa_model.py:471: ValueWarning: A date index has been provided, but it has no associated frequency information and so will be ignored when e.g. forecasting.\n",
      "  self._init_dates(dates, freq)\n"
     ]
    },
    {
     "name": "stdout",
     "output_type": "stream",
     "text": [
      "SARIMAX(2, 2, 1)x(1, 0, 1, 12) - AIC:513.8733880474458\n",
      "SARIMAX(2, 2, 1)x(1, 1, 0, 12) - AIC:404.1059845769243\n"
     ]
    },
    {
     "name": "stderr",
     "output_type": "stream",
     "text": [
      "C:\\Users\\preet\\anaconda3\\lib\\site-packages\\statsmodels\\tsa\\base\\tsa_model.py:471: ValueWarning: A date index has been provided, but it has no associated frequency information and so will be ignored when e.g. forecasting.\n",
      "  self._init_dates(dates, freq)\n",
      "C:\\Users\\preet\\anaconda3\\lib\\site-packages\\statsmodels\\tsa\\base\\tsa_model.py:471: ValueWarning: A date index has been provided, but it has no associated frequency information and so will be ignored when e.g. forecasting.\n",
      "  self._init_dates(dates, freq)\n",
      "C:\\Users\\preet\\anaconda3\\lib\\site-packages\\statsmodels\\tsa\\statespace\\sarimax.py:866: UserWarning: Too few observations to estimate starting parameters for seasonal ARMA. All parameters except for variances will be set to zeros.\n",
      "  warn('Too few observations to estimate starting parameters%s.'\n",
      "C:\\Users\\preet\\anaconda3\\lib\\site-packages\\statsmodels\\base\\model.py:604: ConvergenceWarning: Maximum Likelihood optimization failed to converge. Check mle_retvals\n",
      "  warnings.warn(\"Maximum Likelihood optimization failed to \"\n",
      "C:\\Users\\preet\\anaconda3\\lib\\site-packages\\statsmodels\\tsa\\base\\tsa_model.py:471: ValueWarning: A date index has been provided, but it has no associated frequency information and so will be ignored when e.g. forecasting.\n",
      "  self._init_dates(dates, freq)\n",
      "C:\\Users\\preet\\anaconda3\\lib\\site-packages\\statsmodels\\tsa\\base\\tsa_model.py:471: ValueWarning: A date index has been provided, but it has no associated frequency information and so will be ignored when e.g. forecasting.\n",
      "  self._init_dates(dates, freq)\n"
     ]
    },
    {
     "name": "stdout",
     "output_type": "stream",
     "text": [
      "SARIMAX(2, 2, 1)x(1, 1, 1, 12) - AIC:405.6468542481856\n",
      "SARIMAX(2, 2, 2)x(0, 0, 0, 12) - AIC:513.3905514728077\n"
     ]
    },
    {
     "name": "stderr",
     "output_type": "stream",
     "text": [
      "C:\\Users\\preet\\anaconda3\\lib\\site-packages\\statsmodels\\tsa\\base\\tsa_model.py:471: ValueWarning: A date index has been provided, but it has no associated frequency information and so will be ignored when e.g. forecasting.\n",
      "  self._init_dates(dates, freq)\n",
      "C:\\Users\\preet\\anaconda3\\lib\\site-packages\\statsmodels\\tsa\\base\\tsa_model.py:471: ValueWarning: A date index has been provided, but it has no associated frequency information and so will be ignored when e.g. forecasting.\n",
      "  self._init_dates(dates, freq)\n",
      "C:\\Users\\preet\\anaconda3\\lib\\site-packages\\statsmodels\\tsa\\statespace\\sarimax.py:1009: UserWarning: Non-invertible starting seasonal moving average Using zeros as starting parameters.\n",
      "  warn('Non-invertible starting seasonal moving average'\n"
     ]
    },
    {
     "name": "stdout",
     "output_type": "stream",
     "text": [
      "SARIMAX(2, 2, 2)x(0, 0, 1, 12) - AIC:515.387458807126\n"
     ]
    },
    {
     "name": "stderr",
     "output_type": "stream",
     "text": [
      "C:\\Users\\preet\\anaconda3\\lib\\site-packages\\statsmodels\\tsa\\base\\tsa_model.py:471: ValueWarning: A date index has been provided, but it has no associated frequency information and so will be ignored when e.g. forecasting.\n",
      "  self._init_dates(dates, freq)\n",
      "C:\\Users\\preet\\anaconda3\\lib\\site-packages\\statsmodels\\tsa\\base\\tsa_model.py:471: ValueWarning: A date index has been provided, but it has no associated frequency information and so will be ignored when e.g. forecasting.\n",
      "  self._init_dates(dates, freq)\n"
     ]
    },
    {
     "name": "stdout",
     "output_type": "stream",
     "text": [
      "SARIMAX(2, 2, 2)x(0, 1, 0, 12) - AIC:402.32951639028033\n"
     ]
    },
    {
     "name": "stderr",
     "output_type": "stream",
     "text": [
      "C:\\Users\\preet\\anaconda3\\lib\\site-packages\\statsmodels\\tsa\\base\\tsa_model.py:471: ValueWarning: A date index has been provided, but it has no associated frequency information and so will be ignored when e.g. forecasting.\n",
      "  self._init_dates(dates, freq)\n",
      "C:\\Users\\preet\\anaconda3\\lib\\site-packages\\statsmodels\\tsa\\base\\tsa_model.py:471: ValueWarning: A date index has been provided, but it has no associated frequency information and so will be ignored when e.g. forecasting.\n",
      "  self._init_dates(dates, freq)\n",
      "C:\\Users\\preet\\anaconda3\\lib\\site-packages\\statsmodels\\tsa\\statespace\\sarimax.py:866: UserWarning: Too few observations to estimate starting parameters for seasonal ARMA. All parameters except for variances will be set to zeros.\n",
      "  warn('Too few observations to estimate starting parameters%s.'\n"
     ]
    },
    {
     "name": "stdout",
     "output_type": "stream",
     "text": [
      "SARIMAX(2, 2, 2)x(0, 1, 1, 12) - AIC:404.3277509694768\n"
     ]
    },
    {
     "name": "stderr",
     "output_type": "stream",
     "text": [
      "C:\\Users\\preet\\anaconda3\\lib\\site-packages\\statsmodels\\tsa\\base\\tsa_model.py:471: ValueWarning: A date index has been provided, but it has no associated frequency information and so will be ignored when e.g. forecasting.\n",
      "  self._init_dates(dates, freq)\n",
      "C:\\Users\\preet\\anaconda3\\lib\\site-packages\\statsmodels\\tsa\\base\\tsa_model.py:471: ValueWarning: A date index has been provided, but it has no associated frequency information and so will be ignored when e.g. forecasting.\n",
      "  self._init_dates(dates, freq)\n"
     ]
    },
    {
     "name": "stdout",
     "output_type": "stream",
     "text": [
      "SARIMAX(2, 2, 2)x(1, 0, 0, 12) - AIC:515.3899580578\n"
     ]
    },
    {
     "name": "stderr",
     "output_type": "stream",
     "text": [
      "C:\\Users\\preet\\anaconda3\\lib\\site-packages\\statsmodels\\tsa\\base\\tsa_model.py:471: ValueWarning: A date index has been provided, but it has no associated frequency information and so will be ignored when e.g. forecasting.\n",
      "  self._init_dates(dates, freq)\n",
      "C:\\Users\\preet\\anaconda3\\lib\\site-packages\\statsmodels\\tsa\\base\\tsa_model.py:471: ValueWarning: A date index has been provided, but it has no associated frequency information and so will be ignored when e.g. forecasting.\n",
      "  self._init_dates(dates, freq)\n",
      "C:\\Users\\preet\\anaconda3\\lib\\site-packages\\statsmodels\\tsa\\statespace\\sarimax.py:1009: UserWarning: Non-invertible starting seasonal moving average Using zeros as starting parameters.\n",
      "  warn('Non-invertible starting seasonal moving average'\n",
      "C:\\Users\\preet\\anaconda3\\lib\\site-packages\\statsmodels\\base\\model.py:604: ConvergenceWarning: Maximum Likelihood optimization failed to converge. Check mle_retvals\n",
      "  warnings.warn(\"Maximum Likelihood optimization failed to \"\n",
      "C:\\Users\\preet\\anaconda3\\lib\\site-packages\\statsmodels\\tsa\\base\\tsa_model.py:471: ValueWarning: A date index has been provided, but it has no associated frequency information and so will be ignored when e.g. forecasting.\n",
      "  self._init_dates(dates, freq)\n",
      "C:\\Users\\preet\\anaconda3\\lib\\site-packages\\statsmodels\\tsa\\base\\tsa_model.py:471: ValueWarning: A date index has been provided, but it has no associated frequency information and so will be ignored when e.g. forecasting.\n",
      "  self._init_dates(dates, freq)\n"
     ]
    },
    {
     "name": "stdout",
     "output_type": "stream",
     "text": [
      "SARIMAX(2, 2, 2)x(1, 0, 1, 12) - AIC:515.3808920033828\n",
      "SARIMAX(2, 2, 2)x(1, 1, 0, 12) - AIC:404.3286395421181\n"
     ]
    },
    {
     "name": "stderr",
     "output_type": "stream",
     "text": [
      "C:\\Users\\preet\\anaconda3\\lib\\site-packages\\statsmodels\\tsa\\base\\tsa_model.py:471: ValueWarning: A date index has been provided, but it has no associated frequency information and so will be ignored when e.g. forecasting.\n",
      "  self._init_dates(dates, freq)\n",
      "C:\\Users\\preet\\anaconda3\\lib\\site-packages\\statsmodels\\tsa\\base\\tsa_model.py:471: ValueWarning: A date index has been provided, but it has no associated frequency information and so will be ignored when e.g. forecasting.\n",
      "  self._init_dates(dates, freq)\n",
      "C:\\Users\\preet\\anaconda3\\lib\\site-packages\\statsmodels\\tsa\\statespace\\sarimax.py:866: UserWarning: Too few observations to estimate starting parameters for seasonal ARMA. All parameters except for variances will be set to zeros.\n",
      "  warn('Too few observations to estimate starting parameters%s.'\n",
      "C:\\Users\\preet\\anaconda3\\lib\\site-packages\\statsmodels\\base\\model.py:604: ConvergenceWarning: Maximum Likelihood optimization failed to converge. Check mle_retvals\n",
      "  warnings.warn(\"Maximum Likelihood optimization failed to \"\n",
      "C:\\Users\\preet\\anaconda3\\lib\\site-packages\\statsmodels\\tsa\\base\\tsa_model.py:471: ValueWarning: A date index has been provided, but it has no associated frequency information and so will be ignored when e.g. forecasting.\n",
      "  self._init_dates(dates, freq)\n",
      "C:\\Users\\preet\\anaconda3\\lib\\site-packages\\statsmodels\\tsa\\base\\tsa_model.py:471: ValueWarning: A date index has been provided, but it has no associated frequency information and so will be ignored when e.g. forecasting.\n",
      "  self._init_dates(dates, freq)\n"
     ]
    },
    {
     "name": "stdout",
     "output_type": "stream",
     "text": [
      "SARIMAX(2, 2, 2)x(1, 1, 1, 12) - AIC:405.94963831353965\n",
      "\n",
      "Best SARIMAX(2, 1, 2)x(0, 1, 0, 12) - AIC:399.3859508024308\n"
     ]
    },
    {
     "name": "stderr",
     "output_type": "stream",
     "text": [
      "C:\\Users\\preet\\anaconda3\\lib\\site-packages\\statsmodels\\tsa\\base\\tsa_model.py:834: ValueWarning: No supported index is available. Prediction results will be given with an integer index beginning at `start`.\n",
      "  return get_prediction_index(\n"
     ]
    },
    {
     "ename": "ValueError",
     "evalue": "Provided exogenous values are not of the appropriate shape. Required (13, 3), got (12, 3).",
     "output_type": "error",
     "traceback": [
      "\u001b[1;31m---------------------------------------------------------------------------\u001b[0m",
      "\u001b[1;31mValueError\u001b[0m                                Traceback (most recent call last)",
      "File \u001b[1;32m~\\anaconda3\\lib\\site-packages\\statsmodels\\tsa\\statespace\\mlemodel.py:1775\u001b[0m, in \u001b[0;36mMLEModel._validate_out_of_sample_exog\u001b[1;34m(self, exog, out_of_sample)\u001b[0m\n\u001b[0;32m   1774\u001b[0m \u001b[38;5;28;01mtry\u001b[39;00m:\n\u001b[1;32m-> 1775\u001b[0m     exog \u001b[38;5;241m=\u001b[39m \u001b[43mexog\u001b[49m\u001b[38;5;241;43m.\u001b[39;49m\u001b[43mreshape\u001b[49m\u001b[43m(\u001b[49m\u001b[43mrequired_exog_shape\u001b[49m\u001b[43m)\u001b[49m\n\u001b[0;32m   1776\u001b[0m \u001b[38;5;28;01mexcept\u001b[39;00m \u001b[38;5;167;01mValueError\u001b[39;00m:\n",
      "\u001b[1;31mValueError\u001b[0m: cannot reshape array of size 36 into shape (13,3)",
      "\nDuring handling of the above exception, another exception occurred:\n",
      "\u001b[1;31mValueError\u001b[0m                                Traceback (most recent call last)",
      "Input \u001b[1;32mIn [246]\u001b[0m, in \u001b[0;36m<cell line: 50>\u001b[1;34m()\u001b[0m\n\u001b[0;32m     48\u001b[0m \u001b[38;5;66;03m# Make predictions with the best model\u001b[39;00m\n\u001b[0;32m     49\u001b[0m train_pred \u001b[38;5;241m=\u001b[39m sarimax_best\u001b[38;5;241m.\u001b[39mpredict(start\u001b[38;5;241m=\u001b[39m\u001b[38;5;241m0\u001b[39m, end\u001b[38;5;241m=\u001b[39m\u001b[38;5;28mlen\u001b[39m(y_train)\u001b[38;5;241m-\u001b[39m\u001b[38;5;241m1\u001b[39m, exog\u001b[38;5;241m=\u001b[39mX_train)\n\u001b[1;32m---> 50\u001b[0m test_pred \u001b[38;5;241m=\u001b[39m \u001b[43msarimax_best\u001b[49m\u001b[38;5;241;43m.\u001b[39;49m\u001b[43mpredict\u001b[49m\u001b[43m(\u001b[49m\u001b[43mstart\u001b[49m\u001b[38;5;241;43m=\u001b[39;49m\u001b[38;5;28;43mlen\u001b[39;49m\u001b[43m(\u001b[49m\u001b[43my_train\u001b[49m\u001b[43m)\u001b[49m\u001b[43m,\u001b[49m\u001b[43m \u001b[49m\u001b[43mend\u001b[49m\u001b[38;5;241;43m=\u001b[39;49m\u001b[38;5;28;43mlen\u001b[39;49m\u001b[43m(\u001b[49m\u001b[43my\u001b[49m\u001b[43m)\u001b[49m\u001b[38;5;241;43m-\u001b[39;49m\u001b[38;5;241;43m1\u001b[39;49m\u001b[43m,\u001b[49m\u001b[43m \u001b[49m\u001b[43mexog\u001b[49m\u001b[38;5;241;43m=\u001b[39;49m\u001b[43mX_test\u001b[49m\u001b[43m)\u001b[49m\n\u001b[0;32m     52\u001b[0m \u001b[38;5;66;03m# Evaluate the model on the test set\u001b[39;00m\n\u001b[0;32m     53\u001b[0m train_mse \u001b[38;5;241m=\u001b[39m mean_squared_error(y_train, train_pred)\n",
      "File \u001b[1;32m~\\anaconda3\\lib\\site-packages\\statsmodels\\base\\wrapper.py:113\u001b[0m, in \u001b[0;36mmake_wrapper.<locals>.wrapper\u001b[1;34m(self, *args, **kwargs)\u001b[0m\n\u001b[0;32m    111\u001b[0m     obj \u001b[38;5;241m=\u001b[39m data\u001b[38;5;241m.\u001b[39mwrap_output(func(results, \u001b[38;5;241m*\u001b[39margs, \u001b[38;5;241m*\u001b[39m\u001b[38;5;241m*\u001b[39mkwargs), how[\u001b[38;5;241m0\u001b[39m], how[\u001b[38;5;241m1\u001b[39m:])\n\u001b[0;32m    112\u001b[0m \u001b[38;5;28;01melif\u001b[39;00m how:\n\u001b[1;32m--> 113\u001b[0m     obj \u001b[38;5;241m=\u001b[39m data\u001b[38;5;241m.\u001b[39mwrap_output(func(results, \u001b[38;5;241m*\u001b[39margs, \u001b[38;5;241m*\u001b[39m\u001b[38;5;241m*\u001b[39mkwargs), how)\n\u001b[0;32m    114\u001b[0m \u001b[38;5;28;01mreturn\u001b[39;00m obj\n",
      "File \u001b[1;32m~\\anaconda3\\lib\\site-packages\\statsmodels\\tsa\\statespace\\mlemodel.py:3403\u001b[0m, in \u001b[0;36mMLEResults.predict\u001b[1;34m(self, start, end, dynamic, **kwargs)\u001b[0m\n\u001b[0;32m   3357\u001b[0m \u001b[38;5;124;03m\"\"\"\u001b[39;00m\n\u001b[0;32m   3358\u001b[0m \u001b[38;5;124;03mIn-sample prediction and out-of-sample forecasting\u001b[39;00m\n\u001b[0;32m   3359\u001b[0m \n\u001b[1;32m   (...)\u001b[0m\n\u001b[0;32m   3400\u001b[0m \u001b[38;5;124;03m    including confidence intervals.\u001b[39;00m\n\u001b[0;32m   3401\u001b[0m \u001b[38;5;124;03m\"\"\"\u001b[39;00m\n\u001b[0;32m   3402\u001b[0m \u001b[38;5;66;03m# Perform the prediction\u001b[39;00m\n\u001b[1;32m-> 3403\u001b[0m prediction_results \u001b[38;5;241m=\u001b[39m \u001b[38;5;28mself\u001b[39m\u001b[38;5;241m.\u001b[39mget_prediction(start, end, dynamic, \u001b[38;5;241m*\u001b[39m\u001b[38;5;241m*\u001b[39mkwargs)\n\u001b[0;32m   3404\u001b[0m \u001b[38;5;28;01mreturn\u001b[39;00m prediction_results\u001b[38;5;241m.\u001b[39mpredicted_mean\n",
      "File \u001b[1;32m~\\anaconda3\\lib\\site-packages\\statsmodels\\tsa\\statespace\\mlemodel.py:3302\u001b[0m, in \u001b[0;36mMLEResults.get_prediction\u001b[1;34m(self, start, end, dynamic, index, exog, extend_model, extend_kwargs, **kwargs)\u001b[0m\n\u001b[0;32m   3299\u001b[0m     extend_model \u001b[38;5;241m=\u001b[39m (\u001b[38;5;28mself\u001b[39m\u001b[38;5;241m.\u001b[39mmodel\u001b[38;5;241m.\u001b[39mexog \u001b[38;5;129;01mis\u001b[39;00m \u001b[38;5;129;01mnot\u001b[39;00m \u001b[38;5;28;01mNone\u001b[39;00m \u001b[38;5;129;01mor\u001b[39;00m\n\u001b[0;32m   3300\u001b[0m                     \u001b[38;5;129;01mnot\u001b[39;00m \u001b[38;5;28mself\u001b[39m\u001b[38;5;241m.\u001b[39mfilter_results\u001b[38;5;241m.\u001b[39mtime_invariant)\n\u001b[0;32m   3301\u001b[0m \u001b[38;5;28;01mif\u001b[39;00m out_of_sample \u001b[38;5;129;01mand\u001b[39;00m extend_model:\n\u001b[1;32m-> 3302\u001b[0m     kwargs \u001b[38;5;241m=\u001b[39m \u001b[38;5;28mself\u001b[39m\u001b[38;5;241m.\u001b[39mmodel\u001b[38;5;241m.\u001b[39m_get_extension_time_varying_matrices(\n\u001b[0;32m   3303\u001b[0m         \u001b[38;5;28mself\u001b[39m\u001b[38;5;241m.\u001b[39mparams, exog, out_of_sample, extend_kwargs,\n\u001b[0;32m   3304\u001b[0m         transformed\u001b[38;5;241m=\u001b[39m\u001b[38;5;28;01mTrue\u001b[39;00m, includes_fixed\u001b[38;5;241m=\u001b[39m\u001b[38;5;28;01mTrue\u001b[39;00m, \u001b[38;5;241m*\u001b[39m\u001b[38;5;241m*\u001b[39mkwargs)\n\u001b[0;32m   3306\u001b[0m \u001b[38;5;66;03m# Make sure the model class has the current parameters\u001b[39;00m\n\u001b[0;32m   3307\u001b[0m \u001b[38;5;28mself\u001b[39m\u001b[38;5;241m.\u001b[39mmodel\u001b[38;5;241m.\u001b[39mupdate(\u001b[38;5;28mself\u001b[39m\u001b[38;5;241m.\u001b[39mparams, transformed\u001b[38;5;241m=\u001b[39m\u001b[38;5;28;01mTrue\u001b[39;00m, includes_fixed\u001b[38;5;241m=\u001b[39m\u001b[38;5;28;01mTrue\u001b[39;00m)\n",
      "File \u001b[1;32m~\\anaconda3\\lib\\site-packages\\statsmodels\\tsa\\statespace\\sarimax.py:1718\u001b[0m, in \u001b[0;36mSARIMAX._get_extension_time_varying_matrices\u001b[1;34m(self, params, exog, out_of_sample, extend_kwargs, transformed, includes_fixed, **kwargs)\u001b[0m\n\u001b[0;32m   1708\u001b[0m \u001b[38;5;124;03m\"\"\"\u001b[39;00m\n\u001b[0;32m   1709\u001b[0m \u001b[38;5;124;03mGet time-varying state space system matrices for extended model\u001b[39;00m\n\u001b[0;32m   1710\u001b[0m \n\u001b[1;32m   (...)\u001b[0m\n\u001b[0;32m   1714\u001b[0m \u001b[38;5;124;03mspecial handling in the `simple_differencing=True` case.\u001b[39;00m\n\u001b[0;32m   1715\u001b[0m \u001b[38;5;124;03m\"\"\"\u001b[39;00m\n\u001b[0;32m   1717\u001b[0m \u001b[38;5;66;03m# Get the appropriate exog for the extended sample\u001b[39;00m\n\u001b[1;32m-> 1718\u001b[0m exog \u001b[38;5;241m=\u001b[39m \u001b[38;5;28;43mself\u001b[39;49m\u001b[38;5;241;43m.\u001b[39;49m\u001b[43m_validate_out_of_sample_exog\u001b[49m\u001b[43m(\u001b[49m\u001b[43mexog\u001b[49m\u001b[43m,\u001b[49m\u001b[43m \u001b[49m\u001b[43mout_of_sample\u001b[49m\u001b[43m)\u001b[49m\n\u001b[0;32m   1720\u001b[0m \u001b[38;5;66;03m# Get the tmp endog, exog\u001b[39;00m\n\u001b[0;32m   1721\u001b[0m \u001b[38;5;28;01mif\u001b[39;00m \u001b[38;5;28mself\u001b[39m\u001b[38;5;241m.\u001b[39msimple_differencing:\n",
      "File \u001b[1;32m~\\anaconda3\\lib\\site-packages\\statsmodels\\tsa\\statespace\\mlemodel.py:1777\u001b[0m, in \u001b[0;36mMLEModel._validate_out_of_sample_exog\u001b[1;34m(self, exog, out_of_sample)\u001b[0m\n\u001b[0;32m   1775\u001b[0m         exog \u001b[38;5;241m=\u001b[39m exog\u001b[38;5;241m.\u001b[39mreshape(required_exog_shape)\n\u001b[0;32m   1776\u001b[0m     \u001b[38;5;28;01mexcept\u001b[39;00m \u001b[38;5;167;01mValueError\u001b[39;00m:\n\u001b[1;32m-> 1777\u001b[0m         \u001b[38;5;28;01mraise\u001b[39;00m \u001b[38;5;167;01mValueError\u001b[39;00m(\u001b[38;5;124m'\u001b[39m\u001b[38;5;124mProvided exogenous values are not of the\u001b[39m\u001b[38;5;124m'\u001b[39m\n\u001b[0;32m   1778\u001b[0m                          \u001b[38;5;124m'\u001b[39m\u001b[38;5;124m appropriate shape. Required \u001b[39m\u001b[38;5;132;01m%s\u001b[39;00m\u001b[38;5;124m, got \u001b[39m\u001b[38;5;132;01m%s\u001b[39;00m\u001b[38;5;124m.\u001b[39m\u001b[38;5;124m'\u001b[39m\n\u001b[0;32m   1779\u001b[0m                          \u001b[38;5;241m%\u001b[39m (\u001b[38;5;28mstr\u001b[39m(required_exog_shape),\n\u001b[0;32m   1780\u001b[0m                             \u001b[38;5;28mstr\u001b[39m(exog\u001b[38;5;241m.\u001b[39mshape)))\n\u001b[0;32m   1781\u001b[0m \u001b[38;5;28;01melif\u001b[39;00m \u001b[38;5;28mself\u001b[39m\u001b[38;5;241m.\u001b[39mk_exog \u001b[38;5;241m>\u001b[39m \u001b[38;5;241m0\u001b[39m \u001b[38;5;129;01mand\u001b[39;00m exog \u001b[38;5;129;01mis\u001b[39;00m \u001b[38;5;129;01mnot\u001b[39;00m \u001b[38;5;28;01mNone\u001b[39;00m:\n\u001b[0;32m   1782\u001b[0m     exog \u001b[38;5;241m=\u001b[39m \u001b[38;5;28;01mNone\u001b[39;00m\n",
      "\u001b[1;31mValueError\u001b[0m: Provided exogenous values are not of the appropriate shape. Required (13, 3), got (12, 3)."
     ]
    }
   ],
   "source": [
    "import itertools\n",
    "import pandas as pd\n",
    "from statsmodels.tsa.statespace.sarimax import SARIMAX\n",
    "from sklearn.metrics import mean_squared_error\n",
    "\n",
    "# Define the range of p, d, q, P, D, Q, and s to try\n",
    "p = d = q = range(0, 3)  # You can adjust this range based on what you want to test\n",
    "P = D = Q = range(0, 2)\n",
    "seasonal_period = [12]  # Monthly seasonality for example\n",
    "\n",
    "# Generate all combinations of p, d, q\n",
    "pdq = list(itertools.product(p, d, q))\n",
    "seasonal_pdq = list(itertools.product(P, D, Q, seasonal_period))\n",
    "\n",
    "# Track best model\n",
    "best_aic = float(\"inf\")\n",
    "best_order = None\n",
    "best_seasonal_order = None\n",
    "best_model = None\n",
    "\n",
    "# Perform grid search over the SARIMAX parameter space\n",
    "for param in pdq:\n",
    "    for param_seasonal in seasonal_pdq:\n",
    "        try:\n",
    "            # Fit SARIMAX model\n",
    "            model = SARIMAX(y_train, exog=X_train, order=param, seasonal_order=param_seasonal)\n",
    "            sarimax_model = model.fit(disp=False)\n",
    "            \n",
    "            # Evaluate model using AIC\n",
    "            aic = sarimax_model.aic\n",
    "            print(f\"SARIMAX{param}x{param_seasonal} - AIC:{aic}\")\n",
    "            \n",
    "            # Select model with lowest AIC\n",
    "            if aic < best_aic:\n",
    "                best_aic = aic\n",
    "                best_order = param\n",
    "                best_seasonal_order = param_seasonal\n",
    "                best_model = sarimax_model\n",
    "        except Exception as e:\n",
    "            print(f\"Error fitting SARIMAX{param}x{param_seasonal}: {e}\")\n",
    "            continue\n",
    "\n",
    "print(f\"\\nBest SARIMAX{best_order}x{best_seasonal_order} - AIC:{best_aic}\")\n",
    "\n",
    "# Train the best model found\n",
    "sarimax_best = SARIMAX(y_train, exog=X_train, order=best_order, seasonal_order=best_seasonal_order).fit()\n",
    "\n",
    "# Make predictions with the best model\n",
    "train_pred = sarimax_best.predict(start=0, end=len(y_train)-1, exog=X_train)\n",
    "test_pred = sarimax_best.predict(start=len(y_train), end=len(y)-1, exog=X_test)\n",
    "\n",
    "# Evaluate the model on the test set\n",
    "train_mse = mean_squared_error(y_train, train_pred)\n",
    "test_mse = mean_squared_error(y_test, test_pred)\n",
    "train_r2 = r2_score(y_train, train_pred)\n",
    "test_r2 = r2_score(y_test, test_pred)\n",
    "\n",
    "print(f\"Train MSE: {train_mse}\")\n",
    "print(f\"Test MSE: {test_mse}\")\n",
    "print(f\"Train R^2: {train_r2}\")\n",
    "print(f\"Test R^2: {test_r2}\")\n"
   ]
  },
  {
   "cell_type": "code",
   "execution_count": null,
   "id": "d0b4047f",
   "metadata": {},
   "outputs": [],
   "source": []
  }
 ],
 "metadata": {
  "kernelspec": {
   "display_name": "Python 3 (ipykernel)",
   "language": "python",
   "name": "python3"
  },
  "language_info": {
   "codemirror_mode": {
    "name": "ipython",
    "version": 3
   },
   "file_extension": ".py",
   "mimetype": "text/x-python",
   "name": "python",
   "nbconvert_exporter": "python",
   "pygments_lexer": "ipython3",
   "version": "3.9.12"
  }
 },
 "nbformat": 4,
 "nbformat_minor": 5
}
